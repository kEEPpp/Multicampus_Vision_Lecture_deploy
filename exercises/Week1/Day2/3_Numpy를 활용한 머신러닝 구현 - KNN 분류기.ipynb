{
 "cells": [
  {
   "cell_type": "markdown",
   "metadata": {},
   "source": [
    "<i><b>Public AI</b></i>\n",
    "<br>\n",
    "###  &nbsp;&nbsp; **✎&nbsp;&nbsp;Week 1. Numpy Basis**\n",
    "# Section 7. Numpy를 활용한 머신러닝 구현 - KNN 분류기"
   ]
  },
  {
   "cell_type": "code",
   "execution_count": null,
   "metadata": {},
   "outputs": [],
   "source": [
    "# 우선 실행해주세요\n",
    "%matplotlib inline\n",
    "import numpy as np\n",
    "\n",
    "import matplotlib.pyplot as plt"
   ]
  },
  {
   "cell_type": "markdown",
   "metadata": {},
   "source": [
    "* 다음 표는 여러 식품들의 100g당 kcal, 당도, 각 식품의 분류를 나타낸 표입니다. 현재 데이터 셋에 `멜론`을 추가했을때 knn을 적용하면 분류가 어떻게 될 지를 단계별로 numpy를 사용해 작성해주세요."
   ]
  },
  {
   "cell_type": "markdown",
   "metadata": {},
   "source": [
    "| idx   | 이름       | 칼로리 | 당도 | 분류   |\n",
    "| ----- | ---------- | ------ | ---- | ------ |\n",
    "| 1     | 딸기       | 22     | 9    | 과일   |\n",
    "| 2     | 수박       | 21     | 9    | 과일   |\n",
    "| 3     | 파프리카   | 18     | 1    | 야채   |\n",
    "| 4     | 헤이즐넛   | 586    | 3    | 씨앗   |\n",
    "| 5     | 포도       | 48     | 7    | 과일   |\n",
    "| 6     | 콩         | 400    | 1    | 견과류 |\n",
    "| 7     | 호두       | 650    | 3    | 견과류 |\n",
    "| 8     | 귤         | 47     | 6    | 과일   |\n",
    "| 9     | 참외       | 31     | 8    | 과일   |\n",
    "| 10    | 오이     | 9      | 3    | 야채   |\n",
    "| 11    | 당근       | 34     | 3    | 야채   |\n",
    "| 12    | 상추       | 20     | 2    | 야채   |\n",
    "| 13    | 배         | 48     | 8    | 과일   |\n",
    "| 14    | 케일       | 21     | 2    | 야채   |\n",
    "| 15    | 아몬드     | 596    | 4    | 견과류 |\n",
    "| 16    | 복숭아     | 41     | 9    | 과일   |\n",
    "| 17    | 바나나     | 81     | 10   | 과일   |\n",
    "| 18    | 호박씨     | 569    | 2    | 견과류 |\n",
    "| 19    | 무우       | 13     | 3    | 야채   |\n",
    "| 20    | 잣         | 665    | 2    | 견과류 |\n",
    "| 21    | 땅콩       | 575    | 4    | 견과류 |\n",
    "| 22    | 사과       | 50     | 7    | 과일   |\n",
    "| 23    | 해바라기씨 | 611    | 2    | 견과류 |\n",
    "| Input | 멜론     | 38     | 7    | ???    |\n",
    "\n",
    "\n"
   ]
  },
  {
   "cell_type": "markdown",
   "metadata": {},
   "source": [
    "## 문제 1. 분류하고자 하는 점들과 모든 점의 거리 계산하기\n",
    "\n",
    "* 위의 데이터셋에서 우리는 칼로리는 38, 당도는 7의 값을 가진 `멜론`을 분류하고자 합니다. `멜론`과 알고 있는 점들(dataset) 전부와의 거리를 `유클리드 거리`를 사용해 계산해주세요\n",
    "\n",
    "정답 >>>\n",
    "```python\n",
    "np.array([ 16.1245155 ,  17.11724277,  20.88061302, 548.01459835,\n",
    "        10.        , 362.04972034, 612.01307176,   9.05538514,\n",
    "         7.07106781,  29.27456234,   5.65685425,  18.68154169,\n",
    "        10.04987562,  17.72004515, 558.00806446,   3.60555128,\n",
    "        43.10452412, 531.02353997,  25.3179778 , 627.01993589,\n",
    "       537.00837982,  12.        , 573.02181459])\n",
    "```"
   ]
  },
  {
   "cell_type": "code",
   "execution_count": null,
   "metadata": {},
   "outputs": [],
   "source": [
    "# 우선 실행해주세요\n",
    "calories = np.array([22, 21, 18, 586, 48, 400, 650, 47, \n",
    "                     31, 9, 34, 20, 48, 21, 596, 41, 81, \n",
    "                     569, 13, 665, 575, 50, 611])\n",
    "\n",
    "sweetness = np.array([9, 9, 1, 3, 7, 1, 3, 6, 8, 3, 3,\n",
    "                      2, 8, 2, 4, 9, 10, 2, 3, 2, 4, 7, 2])\n",
    "\n",
    "labels = np.array(['과일', '과일', '야채', '씨앗', '과일', '견과류',\n",
    "                   '견과류', '과일', '과일', '야채', '야채', '야채',\n",
    "                   '과일', '야채', '견과류', '과일', '과일', '견과류',\n",
    "                   '야채', '견과류', '견과류', '과일', '견과류'])"
   ]
  },
  {
   "cell_type": "markdown",
   "metadata": {},
   "source": [
    "#### 답안지 입력란\n",
    "* 아래에 답을 서술하여 주세요\n",
    "* 결과는 `answer1`에 담아주세요"
   ]
  },
  {
   "cell_type": "code",
   "execution_count": null,
   "metadata": {
    "scrolled": true
   },
   "outputs": [],
   "source": []
  },
  {
   "cell_type": "markdown",
   "metadata": {},
   "source": [
    "#### 정답 확인\n",
    "* 정답을 입력한 후, 아래를 실행시키면 정답인지 확인합니다."
   ]
  },
  {
   "cell_type": "code",
   "execution_count": null,
   "metadata": {},
   "outputs": [],
   "source": [
    "from numpy.testing import assert_array_almost_equal\n",
    "\n",
    "assert 'answer1' in globals(), \"결과를 answer1이라는 변수에 담아주세요!, answer1의 값을 보고 평가합니다.\"\n",
    "\n",
    "A = np.array([ 16.1245155 ,  17.11724277,  20.88061302, 548.01459835,\n",
    "        10.        , 362.04972034, 612.01307176,   9.05538514,\n",
    "         7.07106781,  29.27456234,   5.65685425,  18.68154169,\n",
    "        10.04987562,  17.72004515, 558.00806446,   3.60555128,\n",
    "        43.10452412, 531.02353997,  25.3179778 , 627.01993589,\n",
    "       537.00837982,  12.        , 573.02181459])\n",
    "\n",
    "assert_array_almost_equal(A,answer1,decimal=2,\n",
    "                          err_msg=\"\\n\\n정답은 \\n{}\\n입니다. 코드를 다시 확인해주세요\".format(A))\n",
    "\n",
    "print(\"정답입니다!!!\")"
   ]
  },
  {
   "cell_type": "markdown",
   "metadata": {},
   "source": [
    "## 문제 2. 오름 차순으로 거리의 길이 정렬하기\n",
    "\n",
    "* 위에서 계산한 거리 데이터를 오름차순으로 정렬한 후, 그 순서대로 dataset을 정렬해주세요. dataset은 `norm_data`를 사용해주세요\n",
    "\n",
    "정답 >>>\n",
    "```python\n",
    "np.array([[ 41,   9],\n",
    "       [ 34,   3],\n",
    "       [ 31,   8],\n",
    "       [ 47,   6],\n",
    "       [ 48,   7],\n",
    "       [ 48,   8],\n",
    "       [ 50,   7],\n",
    "       [ 22,   9],\n",
    "       [ 21,   9],\n",
    "       [ 21,   2],\n",
    "       [ 20,   2],\n",
    "       [ 18,   1],\n",
    "       [ 13,   3],\n",
    "       [  9,   3],\n",
    "       [ 81,  10],\n",
    "       [400,   1],\n",
    "       [569,   2],\n",
    "       [575,   4],\n",
    "       [586,   3],\n",
    "       [596,   4],\n",
    "       [611,   2],\n",
    "       [650,   3],\n",
    "       [665,   2]])\n",
    "```"
   ]
  },
  {
   "cell_type": "code",
   "execution_count": null,
   "metadata": {},
   "outputs": [],
   "source": [
    "# 우선 실행해주세요\n",
    "norm_data = answer1.copy()"
   ]
  },
  {
   "cell_type": "markdown",
   "metadata": {},
   "source": [
    "#### 답안지 입력란\n",
    "* 아래에 답을 서술하여 주세요\n",
    "* 결과는 `answer2`에 담아주세요"
   ]
  },
  {
   "cell_type": "code",
   "execution_count": null,
   "metadata": {},
   "outputs": [],
   "source": []
  },
  {
   "cell_type": "markdown",
   "metadata": {},
   "source": [
    "#### 정답 확인\n",
    "* 정답을 입력한 후, 아래를 실행시키면 정답인지 확인합니다."
   ]
  },
  {
   "cell_type": "code",
   "execution_count": null,
   "metadata": {
    "scrolled": true
   },
   "outputs": [],
   "source": [
    "from numpy.testing import assert_array_almost_equal\n",
    "\n",
    "assert 'answer2' in globals(), \"결과를 answer2라는 변수에 담아주세요!, answer2의 값을 보고 평가합니다.\"\n",
    "\n",
    "A = np.array([[ 41,   9],\n",
    "       [ 34,   3],\n",
    "       [ 31,   8],\n",
    "       [ 47,   6],\n",
    "       [ 48,   7],\n",
    "       [ 48,   8],\n",
    "       [ 50,   7],\n",
    "       [ 22,   9],\n",
    "       [ 21,   9],\n",
    "       [ 21,   2],\n",
    "       [ 20,   2],\n",
    "       [ 18,   1],\n",
    "       [ 13,   3],\n",
    "       [  9,   3],\n",
    "       [ 81,  10],\n",
    "       [400,   1],\n",
    "       [569,   2],\n",
    "       [575,   4],\n",
    "       [586,   3],\n",
    "       [596,   4],\n",
    "       [611,   2],\n",
    "       [650,   3],\n",
    "       [665,   2]])\n",
    "\n",
    "assert_array_almost_equal(A,answer2,decimal=2,\n",
    "                          err_msg=\"\\n\\n정답은 \\n{}\\n입니다. 코드를 다시 확인해주세요\".format(A))\n",
    "\n",
    "print(\"정답입니다!!!\")"
   ]
  },
  {
   "cell_type": "markdown",
   "metadata": {},
   "source": [
    "## 문제 3. 멜론과 거리가 가장 짧은 K개의 아이템 추출하기\n",
    "\n",
    "* 멜론과 거리가 가장 짧은 10개의 label을 추출해주세요\n",
    "\n",
    "정답 >>>\n",
    "```python\n",
    "np.array(['과일', '야채', '과일', '과일', '과일',\n",
    "          '과일', '과일', '과일', '과일', '야채'],\n",
    "          dtype='<U3')\n",
    "```"
   ]
  },
  {
   "cell_type": "markdown",
   "metadata": {},
   "source": [
    "#### 답안지 입력란\n",
    "* 아래에 답을 서술하여 주세요\n",
    "* 결과는 `answer3`에 담아주세요"
   ]
  },
  {
   "cell_type": "code",
   "execution_count": null,
   "metadata": {
    "scrolled": true
   },
   "outputs": [],
   "source": []
  },
  {
   "cell_type": "markdown",
   "metadata": {},
   "source": [
    "#### 정답 확인\n",
    "* 정답을 입력한 후, 아래를 실행시키면 정답인지 확인합니다."
   ]
  },
  {
   "cell_type": "code",
   "execution_count": null,
   "metadata": {
    "scrolled": false
   },
   "outputs": [],
   "source": [
    "from numpy.testing import assert_array_equal\n",
    "\n",
    "assert 'answer3' in globals(), \"결과를 answer3이라는 변수에 담아주세요!, answer3의 값을 보고 평가합니다.\"\n",
    "\n",
    "A = np.array(['과일', '야채', '과일', '과일', '과일',\n",
    "              '과일', '과일', '과일', '과일', '야채'],\n",
    "              dtype='<U3')\n",
    "\n",
    "assert_array_equal(A,answer3, \n",
    "                   err_msg=\"\\n\\n정답은 \\n{}\\n입니다. 코드를 다시 확인해주세요\".format(A))\n",
    "\n",
    "print(\"정답입니다!!!\")"
   ]
  },
  {
   "cell_type": "markdown",
   "metadata": {},
   "source": [
    "## 문제 4. k개의 아이템에서 가장 많은 분류 항목 찾기\n",
    "\n",
    "* 위에서 추출한 10개의 label중에서 가장 많이 나온 label을 찾아주세요. 10개의 가까운 label들은 `ten_nearest_labels`를 사용해주세요"
   ]
  },
  {
   "cell_type": "code",
   "execution_count": null,
   "metadata": {},
   "outputs": [],
   "source": [
    "# 우선 실행해주세요\n",
    "ten_nearest_labels = answer3.copy()"
   ]
  },
  {
   "cell_type": "markdown",
   "metadata": {},
   "source": [
    "#### 답안지 입력란\n",
    "* 아래에 답을 서술하여 주세요\n",
    "* 결과는 `answer4`에 담아주세요"
   ]
  },
  {
   "cell_type": "code",
   "execution_count": null,
   "metadata": {},
   "outputs": [],
   "source": []
  },
  {
   "cell_type": "markdown",
   "metadata": {},
   "source": [
    "#### 정답 확인\n",
    "* 정답을 입력한 후, 아래를 실행시키면 정답인지 확인합니다."
   ]
  },
  {
   "cell_type": "code",
   "execution_count": null,
   "metadata": {},
   "outputs": [],
   "source": [
    "assert 'answer4' in globals(), \"결과를 answer4라는 변수에 담아주세요!, answer4의 값을 보고 평가합니다.\"\n",
    "if answer4 == '과일':\n",
    "    print(\"정답입니다!!!!\")\n",
    "else:\n",
    "    raise ValueError(\"잘못 분류하셨습니다. 위에서 부터 맞는지 코드를 다시 확인해주세요\")"
   ]
  },
  {
   "cell_type": "markdown",
   "metadata": {},
   "source": [
    "## 문제 5. knn 분류기 함수 만들기\n",
    "\n",
    "* 위에 작성한 코드들을 토대로, knn분류기 함수를 만들어주세요"
   ]
  },
  {
   "cell_type": "markdown",
   "metadata": {},
   "source": [
    "#### 답안지 입력란\n",
    "* 아래에 답을 서술하여 주세요\n",
    "* 메소드 이름은 `classify_knn`으로 해주세요"
   ]
  },
  {
   "cell_type": "code",
   "execution_count": null,
   "metadata": {},
   "outputs": [],
   "source": [
    "def classify_knn(inX, dataset, labels, K):\n",
    "    ############\n",
    "    # CODE HERE!\n",
    "    ############\n",
    "    return "
   ]
  },
  {
   "cell_type": "markdown",
   "metadata": {},
   "source": [
    "#### 정답 확인\n",
    "* 정답을 입력한 후, 아래를 실행시키면 정답인지 확인합니다."
   ]
  },
  {
   "cell_type": "code",
   "execution_count": null,
   "metadata": {},
   "outputs": [],
   "source": [
    "assert 'classify_knn' in globals(), \"메소드 명을 classify_knn으로 해주세요\"\n",
    "f = classify_knn\n",
    "dataset = np.stack((calories, sweetness), axis=1)\n",
    "assert f(np.array([38,7]), dataset, labels, 3) == '과일', \"예제의 dataset에서 input이 np.array([38,7]), k=3 일때, '과일'로 분류되어야 합니다.\"\n",
    "assert f(np.array([38,7]), dataset, labels, 11) == '과일', \"예제의 dataset에서 input이 np.array([38,7]), k=11 일때, '과일'로 분류되어야 합니다.\"\n",
    "assert f(np.array([432,7]), dataset, labels, 5) == '견과류', \"예제의 dataset에서 input이 np.array([432,12]), k=3 일때, '견과류'로 분류되어야 합니다.\"\n",
    "assert f(np.array([15,1]), dataset, labels, 5) == '야채', \"예제의 dataset에서 input이 np.array([15,1]), k=4 일때, '야채'로 분류되어야 합니다.\"\n",
    "\n",
    "print(\"정답입니다!!\")"
   ]
  },
  {
   "cell_type": "markdown",
   "metadata": {},
   "source": [
    "## knn에서 고려해 볼 점\n",
    "\n",
    "위의 `classify_knn`함수에 input data를 칼로리가 32, 당도가 1인 브로콜리라는 데이터로 하고 k=7이라고 설정해 준다면 분류가 어떻게 될까요? 당연히 `'야채'`가 나올거라고 예상되겠지만, 실제로 실행 결과는 `'과잁'`이 나옵니다. 어째서 이런 결과가 나왔을까요?"
   ]
  },
  {
   "cell_type": "markdown",
   "metadata": {},
   "source": [
    "### Data normalization\n",
    "\n",
    "여러가지 이유가 있지만, 이번 시간에 살펴볼 이유로는 데이터 전처리 과정이 없었기 때문입니다. 칼로리의 단위 `(9~665)`와 당도의 단위 `(1~10)`가 맞지 않아 더 큰 값을 가진 칼로리가 당도에 비해 큰 영향을 끼치는 것이죠. 이 때 필요한 것이 2-5의 exercise에 있던 `normalization`입니다. 여기서 2-5의 exercise와 같이 **min-max normalization**을 사용하겠습니다. **min-max normalization**이란 데이터의 최댓값과 최솟값을 알 때, 데이터를 일반적으로 0~1 사이의 값으로 변환시켜주는 기법입니다. 즉, 두 변수의 범위 및 단위를 같게 만들어 동일한 영향력을 끼치게 해주는 것입니다. **min-max normalization**을 수행하는 수식은 다음과 같습니다.\n",
    "\n",
    "$$x_{norm}~=~\\frac{x-x_{min}}{x_{max}-x_{min}}$$\n",
    "\n",
    "\n",
    "아래 이미지는 데이터 전처리 전과 후의 차이입니다.\n",
    "\n",
    "<img src=\"https://i.imgur.com/07crq9V.png\" width=\"1000\" height=\"750\"/>"
   ]
  },
  {
   "cell_type": "markdown",
   "metadata": {},
   "source": [
    "그래프를 보면 알 수 있듯이 `9~665`의 범위를 가졌던 칼로리의 범위와 `1~10`의 범위를 가졌던 당도의 범위를 `0~1`의 범위로 바꾸니 각 라벨들의 분류가 명확해진 것을 확인할 수 있고, 그 덕에 브로콜리가 어디에 속하는지를 확실하게 알 수 있게되었습니다."
   ]
  },
  {
   "cell_type": "markdown",
   "metadata": {},
   "source": [
    "## 문제 6.  데이터 전처리\n",
    "\n",
    "* 기존의 식품 dataset을 min-max normalization을 이용해 정규화된 dataset으로 바꿔주세요\n",
    "\n",
    "\n",
    "* 변화과정\n",
    "\n",
    "<img src=\"https://i.imgur.com/BfeWq4b.png\" width=\"800\" height=\"600\"/>\n",
    "\n",
    "정답 >>>\n",
    "```python\n",
    "np.array([[0.01981707, 0.88888889],\n",
    "       [0.01829268, 0.88888889],\n",
    "       [0.01371951, 0.        ],\n",
    "       [0.87957317, 0.22222222],\n",
    "       [0.05945122, 0.66666667],\n",
    "       [0.59603659, 0.        ],\n",
    "       [0.97713415, 0.22222222],\n",
    "       [0.05792683, 0.55555556],\n",
    "       [0.03353659, 0.77777778],\n",
    "       [0.        , 0.22222222],\n",
    "       [0.03810976, 0.22222222],\n",
    "       [0.01676829, 0.11111111],\n",
    "       [0.05945122, 0.77777778],\n",
    "       [0.01829268, 0.11111111],\n",
    "       [0.89481707, 0.33333333],\n",
    "       [0.04878049, 0.88888889],\n",
    "       [0.1097561 , 1.        ],\n",
    "       [0.85365854, 0.11111111],\n",
    "       [0.00609756, 0.22222222],\n",
    "       [1.        , 0.11111111],\n",
    "       [0.86280488, 0.33333333],\n",
    "       [0.0625    , 0.66666667],\n",
    "       [0.91768293, 0.11111111]])\n",
    "```"
   ]
  },
  {
   "cell_type": "code",
   "execution_count": null,
   "metadata": {},
   "outputs": [],
   "source": [
    "# 우선 실행해주세요\n",
    "calories = np.array([22, 21, 18, 586, 48, 400, 650, 47, \n",
    "                     31, 9, 34, 20, 48, 21, 596, 41, 81, \n",
    "                     569, 13, 665, 575, 50, 611])\n",
    "\n",
    "sweetness = np.array([9, 9, 1, 3, 7, 1, 3, 6, 8, 3, 3,\n",
    "                      2, 8, 2, 4, 9, 10, 2, 3, 2, 4, 7, 2])\n",
    "\n",
    "labels = np.array(['과일', '과일', '야채', '씨앗', '과일', '견과류',\n",
    "                   '견과류', '과일', '과일', '야채', '야채', '야채',\n",
    "                   '과일', '야채', '견과류', '과일', '과일', '견과류',\n",
    "                   '야채', '견과류', '견과류', '과일', '견과류'])\n"
   ]
  },
  {
   "cell_type": "markdown",
   "metadata": {},
   "source": [
    "#### 답안지 입력란\n",
    "* 아래에 답을 서술하여 주세요\n",
    "* 결과는 `answer6`에 담아주세요"
   ]
  },
  {
   "cell_type": "code",
   "execution_count": null,
   "metadata": {
    "scrolled": true
   },
   "outputs": [],
   "source": []
  },
  {
   "cell_type": "markdown",
   "metadata": {},
   "source": [
    "#### 정답 확인\n",
    "* 정답을 입력한 후, 아래를 실행시키면 정답인지 확인합니다."
   ]
  },
  {
   "cell_type": "code",
   "execution_count": null,
   "metadata": {},
   "outputs": [],
   "source": [
    "from numpy.testing import assert_array_almost_equal\n",
    "\n",
    "assert 'answer6' in globals(), \"결과를 answer6이라는 변수에 담아주세요!, answer6의 값을 보고 평가합니다.\"\n",
    "\n",
    "A = np.array([[0.01981707, 0.88888889],\n",
    "       [0.01829268, 0.88888889],\n",
    "       [0.01371951, 0.        ],\n",
    "       [0.87957317, 0.22222222],\n",
    "       [0.05945122, 0.66666667],\n",
    "       [0.59603659, 0.        ],\n",
    "       [0.97713415, 0.22222222],\n",
    "       [0.05792683, 0.55555556],\n",
    "       [0.03353659, 0.77777778],\n",
    "       [0.        , 0.22222222],\n",
    "       [0.03810976, 0.22222222],\n",
    "       [0.01676829, 0.11111111],\n",
    "       [0.05945122, 0.77777778],\n",
    "       [0.01829268, 0.11111111],\n",
    "       [0.89481707, 0.33333333],\n",
    "       [0.04878049, 0.88888889],\n",
    "       [0.1097561 , 1.        ],\n",
    "       [0.85365854, 0.11111111],\n",
    "       [0.00609756, 0.22222222],\n",
    "       [1.        , 0.11111111],\n",
    "       [0.86280488, 0.33333333],\n",
    "       [0.0625    , 0.66666667],\n",
    "       [0.91768293, 0.11111111]])\n",
    "\n",
    "assert_array_almost_equal(A,answer6,decimal=2,\n",
    "                          err_msg=\"\\n\\n정답은 \\n{}\\n입니다. 코드를 다시 확인해주세요\".format(A))\n",
    "\n",
    "print(\"정답입니다!!!\")"
   ]
  },
  {
   "cell_type": "markdown",
   "metadata": {},
   "source": [
    "#  \n",
    "\n",
    "<hr>\n",
    "<div>\n",
    "    Copyright(c) 2019 by Public AI. All rights reserved.<br>\n",
    "    Writen by PAI, DoYeong Kim ( ka2k@publicai.co.kr )  last updated on 2019/07/12\n",
    "</div>\n",
    "<hr>"
   ]
  }
 ],
 "metadata": {
  "kernelspec": {
   "display_name": "Python 3",
   "language": "python",
   "name": "python3"
  },
  "language_info": {
   "codemirror_mode": {
    "name": "ipython",
    "version": 3
   },
   "file_extension": ".py",
   "mimetype": "text/x-python",
   "name": "python",
   "nbconvert_exporter": "python",
   "pygments_lexer": "ipython3",
   "version": "3.6.8"
  }
 },
 "nbformat": 4,
 "nbformat_minor": 2
}
