{
 "cells": [
  {
   "cell_type": "markdown",
   "metadata": {},
   "source": [
    "<i><b>Public AI</b></i>\n",
    "<br>\n",
    "###  &nbsp;&nbsp; **✎&nbsp;&nbsp;Week 1. DNN Basis**\n",
    "# Section 3. Deep Learning Overview\n",
    "\n",
    "이번 주차에는 딥러닝 알고리즘 중 하나인 심층신경망(Deep Neural Network)의 기본에 대해 배웁니다. 본격적인 내용에 들어가기에 앞서, 딥러닝이란 무엇인지, 딥러닝 알고리즘 활용에 사용되는 프레임워크에는 어떤 것이 있는지 살펴보겠습니다.\n",
    "\n",
    "### _Objective_\n",
    "1. **머신러닝과 딥러닝** : 머신러닝 및 딥러닝 프로그래밍의 개념과 발전 역사를 개괄적으로 알아봅니다.<br>\n",
    "2. **딥러닝 프레임워크 맛보기**: 딥러닝 프로그래밍에 활용되는 대표적인 프레임워크(Tensorflow와 Keras)를 이용해 머신러닝 알고리즘을 구현하는 방법을 간략하게 알아봅니다. \n"
   ]
  },
  {
   "cell_type": "code",
   "execution_count": 1,
   "metadata": {},
   "outputs": [],
   "source": [
    "%matplotlib inline\n",
    "\n",
    "import os\n",
    "\n",
    "import pandas as pd\n",
    "import numpy as np\n",
    "\n",
    "import matplotlib.pyplot as plt"
   ]
  },
  {
   "cell_type": "markdown",
   "metadata": {},
   "source": [
    "# \\[ 1. 머신러닝과 딥러닝 \\]\n"
   ]
  },
  {
   "cell_type": "markdown",
   "metadata": {},
   "source": [
    "## 1. 머신러닝 프로그래밍이란?\n",
    "\n",
    "머신러닝 프로그래밍이란 무엇일까요? 머신러닝 프로그래밍이 대두되기 전, 프로그래밍이란 '명시적 프로그래밍'을 뜻했었습니다. 데이터 저장 및 처리기술 발전과 통계학 연구의 축적 등의 여로 요인으로 인해 '머신러닝 프로그래밍'이라는 개념이 등장하게 되었습니다. (1) 명시적 프로그래밍과 (2) 머신러닝 프로그래밍의 개념을 비교하여 알아보고, (3) 머신러닝의 세부 분야가 어떻게 나뉘어 발전해왔는지, 거기서 (4) 딥러닝은 머신러닝과 어떤 관계가 있는지 알아봅시다. "
   ]
  },
  {
   "cell_type": "markdown",
   "metadata": {},
   "source": [
    "### (1) 명시적 프로그래밍\n",
    "명시적 프로그래밍이란 개발자가 입력조건과 프로그램 상태 조건에 따라 프로그램이 동작하는 방식을 모두 구현하는 프로그래밍 방식입니다."
   ]
  },
  {
   "cell_type": "markdown",
   "metadata": {},
   "source": [
    "![](https://i.imgur.com/qSt0aPW.png)"
   ]
  },
  {
   "cell_type": "markdown",
   "metadata": {},
   "source": [
    "### (2) 머신러닝 프로그래밍\n",
    "머신러닝 프로그래밍이란 Arthur Samuel 교수가 제안한 것으로, 개발자가 프로그램의 동작방식을 일일이 구현한 것이 아니라 프로그램이 데이터를 보고 스스로가 학습하여 동작방식을 결정하는 프로그래밍 방식입니다. 프로그램, 즉 기계(machine)가 데이터로부터 스스로 학습(learning)한다는 의미에서 '머신 러닝'이라는 이름이 붙여진 것이죠."
   ]
  },
  {
   "cell_type": "markdown",
   "metadata": {},
   "source": [
    "![](https://i.imgur.com/HWA8Ro2.png)"
   ]
  },
  {
   "cell_type": "markdown",
   "metadata": {},
   "source": [
    "### (3) 머신러닝의 하위 분야\n",
    "머신러닝은 크게 지도학습(supervised learning), 비지도학습(unsupervised learning), 강화학습(reinforcement learning) 등 세 가지의 분야로 나뉘어집니다. 각각의 개념과 하위 분야를 알아봅시다."
   ]
  },
  {
   "cell_type": "markdown",
   "metadata": {},
   "source": [
    "![](https://i.imgur.com/8LDS6Ok.png)"
   ]
  },
  {
   "cell_type": "markdown",
   "metadata": {},
   "source": [
    "지도학습은 데이터셋을 제공하되, 정답셋(labeled data)을 함께 제공하여 기계에게 학습시키고, 학습에 활용한 정답셋과 유사하도록 결과를 예측하게 하는 분야입니다. 지도학습 알고리즘은 크게 분류(Classification) 문제를 푸는 알고리즘과 회귀(Regression) 문제를 푸는 알고리즘으로 나뉩니다. 분류 문제를 푸는 알고리즘에는 로지스틱 회귀, 의사결정 트리, 랜덤포레스트 등이 있으며, 회귀 문제를 푸는 알고리즘에는 다양한 선형 및 비선형 회귀 알고리즘 등이 있습니다. "
   ]
  },
  {
   "cell_type": "markdown",
   "metadata": {},
   "source": [
    "![](https://i.imgur.com/jgfmDAd.png)"
   ]
  },
  {
   "cell_type": "markdown",
   "metadata": {},
   "source": [
    "반면 비지도학습은 정답이 없는 환경에서 이루어집니다. 정답이 주어지지 않은 상태에서 데이터로부터 패턴을 찾게 되며, 대표적으로는 군집화, PCA, t-SNE등의 알고리즘이 있습니다."
   ]
  },
  {
   "cell_type": "markdown",
   "metadata": {},
   "source": [
    "![](https://i.imgur.com/j3YQrhi.png)"
   ]
  },
  {
   "cell_type": "markdown",
   "metadata": {},
   "source": [
    "강화학습은 벌점과 상점을 통해 최적의 행동을 학습하게 합니다. 대표적인 강화학습 알고리즘에는 Q-Learning 등이 있습니다."
   ]
  },
  {
   "cell_type": "markdown",
   "metadata": {},
   "source": [
    "![](https://i.imgur.com/woaZwgL.png)"
   ]
  },
  {
   "cell_type": "markdown",
   "metadata": {},
   "source": [
    "## 2. 딥러닝 프로그래밍"
   ]
  },
  {
   "cell_type": "markdown",
   "metadata": {},
   "source": [
    "그렇다면 흔히 얘기하는 '딥러닝'은 머신러닝과 어떤 관계가 있을까요? 아래 그림은 여러 인공지능 분야의 관계와 각 분야에 대한 간단한 설명이 덧붙여진 이미지입니다. 딥러닝이 머신러닝의 일종이고, 머신러닝이 인공지능 분야에 쓰이긴 하지만 모든 인공지능 분야에 쓰이는 것은 아니라는 것을 알 수 있습니다. 이번에는 (1) 딥러닝과 고전적 머신러닝 알고리즘 간의 차이를 알아보고, (2) 딥러닝의 특징을 알아보겠습니다. 그 후, (3) 딥러닝의 발전 역사와 (4) 최근 딥러닝이 성장하게 된 이유를 알아보겠습니다."
   ]
  },
  {
   "cell_type": "markdown",
   "metadata": {},
   "source": [
    "![](https://i.imgur.com/6ISZNrY.png)"
   ]
  },
  {
   "cell_type": "markdown",
   "metadata": {},
   "source": [
    "### (1) 딥러닝(심층학습)과 고전적 머신러닝 간의 차이\n",
    "\n",
    "앞서 머신러닝은 크게 지도학습, 비지도학습, 강화학습 등으로 분류할 수 있다고 했습니다. 이러한 분류는 고전적인 관점에서 머신러닝 알고리즘을 분류한 것입니다. 고전적인 머신러닝 알고리즘은 사람이 직접 지정한 규칙에서 입력값의 특징을 추출한 후, 추출한 특징에서 머신러닝을 이용해 분류(classification), 군집화(clustering), 회귀(regression)등을 수행하였습니다. 즉, 고전적 머신러닝에서는 특징 추출(feature extraction)에 사람이 개입하게 되는데, 이를 어떻게 하느냐에 따라 결과가 크게 달라지기도 합니다. 반면, 딥러닝은 데이터를 입력하면 컴퓨터가 직접 특징을 추출하고 결과를 도출합니다. (규칙기반시스템은 앞서 살펴본 '명시적 프로그래밍'의 다른 말이기도 합니다.)"
   ]
  },
  {
   "cell_type": "markdown",
   "metadata": {},
   "source": [
    "![](https://i.imgur.com/jWTdAh2.png)"
   ]
  },
  {
   "cell_type": "markdown",
   "metadata": {},
   "source": [
    "### (2) 표현을 스스로 학습하는 딥러닝\n",
    "\n",
    "딥러닝이 가장 많이 쓰이는 대표적인 분야가 바로 이미지 인식 분야입니다. 사람이 이미지를 인식한다는 것은 어떤 의미일까요? 우리는 이미지로부터 이미지를 구성하는 가장 낮은 단계는 선, 점 등을 구별합니다. 그 후 그 정보들을 조합해 턱선, 눈 등을 구별하고, 다시 그 정보들을 조합해 눈 코 입 등을 구별합니다. 딥러닝은 이러한 동물의 시각 인지방법과 매우 유사하게 작동합니다. 마치 사람이 시각을 배우는 것과 유사한 방식으로, 딥러닝도 데이터를 보고 특징 정보를 추출해 객체를 인지하고 구별하는 학습을 하는 것이죠. "
   ]
  },
  {
   "cell_type": "markdown",
   "metadata": {},
   "source": [
    "![](https://i.imgur.com/Ru35dZZ.png)"
   ]
  },
  {
   "cell_type": "markdown",
   "metadata": {},
   "source": [
    "### (3) 딥러닝의 역사\n",
    "\n",
    "딥러닝은 현시대에 가장 빠르게 발전하고 있는 학문 중 하나입니다. 1940년대에 인간의 뉴런을 수학적으로 표기하는 '퍼셉트론'의 개념이 고안되었고, 이후 연구가 지속적으로 축적되어 왔습니다. "
   ]
  },
  {
   "cell_type": "markdown",
   "metadata": {},
   "source": [
    "![](https://i.imgur.com/QeilN3x.png)"
   ]
  },
  {
   "cell_type": "markdown",
   "metadata": {},
   "source": [
    "아래의 이미지는 2006년~2017년 6월 까지의 딥러닝 관련 논문 출판 횟수입니다. 딥러닝에 대한 연구가 꾸준하게 증가하고 있음을 확인할 수 있습니다."
   ]
  },
  {
   "cell_type": "markdown",
   "metadata": {},
   "source": [
    "![](https://i.imgur.com/gibxOn4.png)"
   ]
  },
  {
   "cell_type": "markdown",
   "metadata": {},
   "source": [
    "2015년~2017년 취업에 요구되는 AI기술의 성장추이(위 이미지)와 성장률 추이(아래 이미지)를 나타낸 것입니다. 취업 시장에서 딥러닝 기술에 대한 요구가 늘어나고 있음을 알 수 있습니다."
   ]
  },
  {
   "cell_type": "markdown",
   "metadata": {},
   "source": [
    "![](https://imgur.com/nctX6hh.png)"
   ]
  },
  {
   "cell_type": "markdown",
   "metadata": {},
   "source": [
    "### (4) 딥러닝의 성장 이유\n",
    "\n",
    "이처럼 급격하게 딥러닝이 주목받고 성장하게 된 이유는 무엇일까요? 가장 큰 성장 이유는 데이터셋의 크기 증가입니다. 딥러닝은 많은 데이터셋을 필요로 하는 알고리즘입니다. 1900년대부터 머신러닝 분야에서 사용된 주요 공공데이터의 등장 시점과 해당 데이터셋의 크기를 살펴보면 아래와 같습니다. 최근에 등장한 공공 데이터셋일수록 데이터셋의 크기가 커지고 있음을 알 수 있습니다. 점점 처리해야 하는 데이터셋의 크기가 커지고 있는데, 큰 데이터셋을 처리하기에 효율적인 알고리즘 중 하나가 바로 딥러닝 알고리즘입니다. "
   ]
  },
  {
   "cell_type": "markdown",
   "metadata": {},
   "source": [
    "![](https://i.imgur.com/NOkCzb2.png)"
   ]
  },
  {
   "cell_type": "markdown",
   "metadata": {},
   "source": [
    "두 번째 이유는 연산장치(GPU)가 빠르게 발전함에 따라 컴퓨터가 연산을 하는 속도는 줄어들고 있다는 점입니다. 컴퓨터의 연산 속도가 빨라질수록, 복잡한(뉴런의 수가 많은) 딥러닝 알고리즘을 연산하기가 쉬워집니다. 아래 이미지를 보면, 최근에 고안된 딥러닝 알고리즘 일수록 사용되는 뉴런의 수가 많아짐을 알 수 있습니다. 가령 1번 알고리즘은 Perceptron인데 1958년도에 고안되었고 사용되는 뉴런의 수가 1개였고, 20번 알고리즘은 2014년에 고안된 GoogLeNet 알고리즘은 대략 $10^7$ 개의 뉴런이 사용되었습니다. 알고리즘에 사용되는 뉴런의 수가 지수적으로 증가하고 있는 것을 알 수 있습니다. GPU의 발전에 따라 가능해진 일이죠. 현대 딥러닝의 트렌드 중 하나는 딥러닝 알고리즘에서 사용하는 뉴런수를 인간의 뉴런수 만큼이나 끌어올리는 것입니다. "
   ]
  },
  {
   "cell_type": "markdown",
   "metadata": {},
   "source": [
    "![](https://i.imgur.com/vz8LBNb.png)\n",
    "\n",
    "Reference : http://www.deeplearningbook.org/contents/intro.html"
   ]
  },
  {
   "cell_type": "markdown",
   "metadata": {},
   "source": [
    "# \\[ 2. 딥러닝 프레임워크 맛보기 \\]\n",
    "\n",
    "\n",
    "이러한 딥러닝을 구현하여 프로덕트를 개발하려면 무엇을 알아야 할까요? Tensorflow와 Keras는 머신러닝, 딥러닝 모델을 만들기 위한 딥러닝 프레임워크입니다. 파이썬과 넘파이로도 딥러닝 모델을 구성하고 학습시킬 수 있지만, 이러한 딥러닝 프레임워크를 이용하면 훨씬 더 간결하게 문제를 해결할 수 있습니다. (1) 딥러닝 프레임워크에는 어떤 것들이 있는지 알아보고, (2) 대표적인 딥러닝 프레임워크인 케라스를 이용해 고전적 머신러닝 기법 중 선형 회귀, 로지스틱 회귀를 구현해보겠습니다."
   ]
  },
  {
   "cell_type": "markdown",
   "metadata": {},
   "source": [
    "## 1. 딥러닝 프레임워크란? "
   ]
  },
  {
   "cell_type": "markdown",
   "metadata": {},
   "source": [
    "### (1) 딥러닝 프레임워크의 필요성"
   ]
  },
  {
   "cell_type": "markdown",
   "metadata": {},
   "source": [
    "딥러닝 모델을 만들기 위해서는 복잡한 수식을 코드로 구현해야 합니다. 수식을 직접 구현하지 않고, 이미 잘 구현된 코드들을 이용해 딥러닝 모델을 만든다면 한결 간편할 것입니다. 이러한 딥러닝 모델을 개발하기 위한 도구들의 집합을 **딥러닝 프레임워크라 합니다.**"
   ]
  },
  {
   "cell_type": "markdown",
   "metadata": {},
   "source": [
    "### (2) 다양한 딥러닝 프레임워크\n",
    "\n",
    "딥러닝 프레임워크에는 다양한 것들이 존재합니다. 2018년 기준 가장 인기 있는 딥러닝 프레임워크로는 Tensorflow, Keras, Pytorch가 있습니다. \n",
    "\n",
    "![](https://imgur.com/0tX4EXs.png)\n",
    "\n",
    "상위 세 개의 프레임워크 모두 널리 이용되고 있는 프레임워크입니다. 각 프레임워크 별 핵심 특징은 아래와 같습니다.\n",
    "\n",
    "* Tensorflow(텐서플로우) :\n",
    "    1. 가장 많은 유저 수\n",
    "    2. 다양한 환경(IoT, Web Server, Mobile)등에 유연하게 딥러닝 모델을 이식할 수 있음\n",
    "    3. 초기에 배우기가 어려움\n",
    "    \n",
    "* Keras(케라스) : \n",
    "    1. 다른 프레임워크(Tensorflow, Theano, CNTK)을 기반으로 그 위에서 딥러닝 모델을 구현\n",
    "    2. 쉽고 빠르게 딥러닝 모델을 구현할 수 있음\n",
    "    \n",
    "* Pytorch(파이토치) : \n",
    "    1. \"Define-by-Run\" 스타일로 구현된 딥러닝 프레임워크\n",
    "    2. 디버깅이 용이\n",
    "\n",
    "자신의 목적에 맞게 프레임워크를 선택하여 사용합니다. 이번 수업 시간에서는 Tensorflow 와 Keras를 이용하여 딥러닝 모델을 구현해보겠습니다."
   ]
  },
  {
   "cell_type": "markdown",
   "metadata": {},
   "source": [
    "### (3) Numpy, Tensorflow, Keras의 관계\n",
    "\n",
    "<img src=\"https://imgur.com/bB7YzFA.png\" width=\"800\" height=\"600\"/>"
   ]
  },
  {
   "cell_type": "markdown",
   "metadata": {},
   "source": [
    "Python, Numpy, Tensorflow, Keras는 위 그림과 같은 관계를 가지고 있습니다. Numpy는 Python에서 수치 연산을 보다 편리하게 만들어주기 위해 만들어진 라이브러리입니다. Tensorflow는 여러 수치 연산 중 머신러닝에 특화된 수치 연산을 보다 최적화하여 구현된 프레임워크입니다. 그리고 텐서플로우에서의 딥러닝 모델 개발을 좀 더 쉽게 만들어준 프레임워크가 바로 Keras입니다."
   ]
  },
  {
   "cell_type": "markdown",
   "metadata": {},
   "source": [
    "## 2. Numpy로 선형회귀 문제 풀기 (복습)\n",
    "딥러닝 프레임워크를 맛보기 전에, 앞서 Numpy에서 배웠던 Linear regression을 다시 Numpy로 구현해보며 복습해봅시다. "
   ]
  },
  {
   "cell_type": "markdown",
   "metadata": {},
   "source": [
    "### 예제 데이터 ) 빅데이터로 예측한 '옥자' 관객 수\n",
    "\n",
    "\"이전까지 개봉했던 영화의 보고싶어요 수와 관객 수를 바탕으로, 옥자의 예상 관객 수 예측하기\"\n",
    "\n",
    "reference : [빅데이터로 예측한 옥자 관객 수 727만 명](http://platum.kr/wp-content/uploads/2017/06/unnamed-12.png)\n",
    "<img src=\"http://platum.kr/wp-content/uploads/2017/06/unnamed-12.png\" width=\"500\" height=\"500\"/><br>"
   ]
  },
  {
   "cell_type": "code",
   "execution_count": 2,
   "metadata": {},
   "outputs": [],
   "source": [
    "movie_df = pd.DataFrame([\n",
    "    [8759, 487],\n",
    "    [10132,612],\n",
    "    [12078,866],\n",
    "    [16430,1030]],\n",
    "    columns=[\"nums_want_to_see\",\"nums_audience\"])\n",
    "movie_df.index = [\"마션\",\"킹스맨\",\"캡틴아메리카\",\"인터스텔라\"]\n",
    "# Min-Max 정규화(=> Linear Regression 교육 시 꼭 넣어야 할 것)\n",
    "movie_df = (movie_df - movie_df.min())/(movie_df.max()-movie_df.min())"
   ]
  },
  {
   "cell_type": "code",
   "execution_count": 3,
   "metadata": {},
   "outputs": [
    {
     "data": {
      "image/png": "[encoded data removed]",
      "text/plain": [
       "<Figure size 576x576 with 1 Axes>"
      ]
     },
     "metadata": {
      "needs_background": "light"
     },
     "output_type": "display_data"
    }
   ],
   "source": [
    "fig = plt.figure(figsize=(8,8))\n",
    "ax = fig.add_subplot(1,1,1)\n",
    "\n",
    "movie_df.plot(x='nums_want_to_see',y='nums_audience',\n",
    "              kind='scatter', ax=ax, title=\"Movie\")\n",
    "plt.show()"
   ]
  },
  {
   "cell_type": "markdown",
   "metadata": {},
   "source": [
    "\n",
    "Linear Regression에서 학습한다는 것은 아래의 두 가중치($W_1, W_0$)의 값을 찾는 과정을 의미합니다.\n",
    "\n",
    "$$\n",
    "Y = W_1\\cdot X + W_0\n",
    "$$\n"
   ]
  },
  {
   "cell_type": "markdown",
   "metadata": {},
   "source": [
    "### (1) 손실함수 수식 구성하기\n",
    "\n",
    "우리가 목표로 하는 것은 \n",
    "$$\n",
    "Loss =\\frac{1}{2m}\\sum^{m}_{i=1}(\\hat y^{(i)}-y^{(i)})^2\n",
    "$$\n",
    "를 최소화하는 가중치 조합을 찾는 것입니다.<br>"
   ]
  },
  {
   "cell_type": "code",
   "execution_count": 4,
   "metadata": {},
   "outputs": [],
   "source": [
    "# 손실 함수값 계산하기\n",
    "def calculate_MSE(w0, w1):\n",
    "    X = movie_df.nums_want_to_see # 독립 변수, 보고싶어요 수\n",
    "    y_true = movie_df.nums_audience # 실제값\n",
    "\n",
    "    y_pred = w1*X+w0 # 가중치 조합을 통한 예측값\n",
    "    return ((y_true - y_pred)**2).mean() # MSE"
   ]
  },
  {
   "cell_type": "markdown",
   "metadata": {},
   "source": [
    "### (2) 경사하강법 수식 구성하기\n",
    "\n",
    "\n",
    "가중치의 조합을 찾기 위한 방법으로 대표적인 것으로는 경사하강법이 있습니다\n",
    "\n",
    "$$\n",
    "W_{new} = W_{old} - \\alpha * \\frac{\\partial loss}{\\partial W} \n",
    "$$\n"
   ]
  },
  {
   "cell_type": "code",
   "execution_count": 5,
   "metadata": {},
   "outputs": [],
   "source": [
    "# W0에 대한 미분식\n",
    "def calculate_wo_derivative(w0,w1):\n",
    "    x = movie_df.nums_want_to_see # 독립 변수, 보고싶어요 수\n",
    "    y_true = movie_df.nums_audience # 실제값\n",
    "    return (w1*x + w0 - y_true).mean()\n",
    "\n",
    "# W1에 대한 미분식\n",
    "def calculate_w1_derivative(w0,w1):\n",
    "    x = movie_df.nums_want_to_see # 독립 변수, 보고싶어요 수\n",
    "    y_true = movie_df.nums_audience # 실제값\n",
    "    return ((w1*x + w0 - y_true)*x).mean()"
   ]
  },
  {
   "cell_type": "markdown",
   "metadata": {},
   "source": [
    "### (3) 모델 학습하기\n",
    "\n",
    "우리는 총 100번에 걸쳐 가중치 조합을 갱신하도록 하겠습니다."
   ]
  },
  {
   "cell_type": "code",
   "execution_count": 6,
   "metadata": {},
   "outputs": [],
   "source": [
    "w0 = -0.1\n",
    "w1 = -0.1\n",
    "mse = calculate_MSE(w0,w1)\n",
    "\n",
    "# 갱신된 weight와 mse 저장\n",
    "w0_history = [w0]\n",
    "w1_history = [w1]\n",
    "mse_history = [mse]\n",
    "dw0_history = []\n",
    "dw1_history = []\n",
    "\n",
    "alpha = 2e-1 # 학습률\n",
    "epoch = 100 # 몇 번 학습할지 결정\n",
    "\n",
    "for i in range(epoch):\n",
    "    # 이전 가중치 가져오기\n",
    "    old_w0 = w0_history[-1]\n",
    "    old_w1 = w1_history[-1]\n",
    "    \n",
    "    # 미분값 갱신\n",
    "    dw0 = calculate_wo_derivative(old_w0,old_w1)\n",
    "    dw1 = calculate_w1_derivative(old_w0,old_w1)\n",
    "    \n",
    "    # 경사하강법을 통한 가중치 갱신\n",
    "    new_w0 = old_w0 - alpha * dw0\n",
    "    new_w1 = old_w1 - alpha * dw1\n",
    "    new_mse = calculate_MSE(new_w0,new_w1)\n",
    "    \n",
    "    # 결과 저장\n",
    "    w0_history.append(new_w0)\n",
    "    w1_history.append(new_w1)\n",
    "    dw0_history.append(dw0)\n",
    "    dw1_history.append(dw1)    \n",
    "    mse_history.append(new_mse)"
   ]
  },
  {
   "cell_type": "code",
   "execution_count": 7,
   "metadata": {
    "scrolled": true
   },
   "outputs": [
    {
     "name": "stdout",
     "output_type": "stream",
     "text": [
      "(w0,w1): (0.115,0.921)\n"
     ]
    },
    {
     "data": {
      "image/png": "[encoded data removed]",
      "text/plain": [
       "<Figure size 432x288 with 1 Axes>"
      ]
     },
     "metadata": {
      "needs_background": "light"
     },
     "output_type": "display_data"
    }
   ],
   "source": [
    "w0 = w0_history[-1]\n",
    "w1 = w1_history[-1]\n",
    "\n",
    "print(f\"(w0,w1): ({w0:.3f},{w1:.3f})\")\n",
    "\n",
    "plt.title(\"Mean-Squared-Error through Epoch\")\n",
    "plt.plot(mse_history)\n",
    "plt.show()"
   ]
  },
  {
   "cell_type": "code",
   "execution_count": 8,
   "metadata": {},
   "outputs": [
    {
     "data": {
      "image/png": "[encoded data removed]",
      "text/plain": [
       "<Figure size 432x288 with 1 Axes>"
      ]
     },
     "metadata": {
      "needs_background": "light"
     },
     "output_type": "display_data"
    }
   ],
   "source": [
    "start = (0, 1)\n",
    "end = (0*w1+w0, 1*w1+w0)\n",
    "\n",
    "movie_df.plot(x='nums_want_to_see',y='nums_audience',\n",
    "              kind='scatter', title=\"Movie\")\n",
    "plt.plot(start, end, 'r--')\n",
    "plt.show()"
   ]
  },
  {
   "cell_type": "markdown",
   "metadata": {},
   "source": [
    "## 2. Keras로 선형회귀 문제 풀기\n",
    "\n",
    "딥러닝 프레임워크 중 하나인 Keras에는 딥러닝, 머신러닝 문제를 풀기 위한 많은 요소들이 잘 구현되어 있습니다. 이들의 조합으로도 우리가 원하는 형태의 머신러닝과 딥러닝 모형을 쉽게 구축할 수 있습니다. 이번에는 Keras로 어떻게 Logistic Regression을 구현할 수 있는지를 알아보고, 이후 시간에 딥러닝의 구조와 함께 자세히 다루도록 하겠습니다."
   ]
  },
  {
   "cell_type": "markdown",
   "metadata": {},
   "source": [
    "* **Keras에서 모델의 기본 구성**\n",
    "\n",
    "(1) 네트워크(또는 모델)를 구성하는 층\n",
    "- 층은 하나 이상의 텐서를 입력으로 받아 하나 이상의 텐서를 출력하는 데이터 처리 모듈\n",
    "- 대부분의 층은 학습해야할 대상인 가중치(Weight)를 가짐\n",
    "- 층마다 적절한 텐서 포맷과 데이터 처리 방식이 다름\n",
    "\n",
    "(2) 딥러닝 모델의 형태인 네트워크\n",
    "- 딥러닝 모델은 층을 서로서로 연결하여 구성한 것. \n",
    "- 입력 값이 층을 따라 처리되면서, 우리가 원하는 결과 값으로 변환됨"
   ]
  },
  {
   "cell_type": "markdown",
   "metadata": {},
   "source": [
    "이러한 Keras에서 제공하는 모델의 기본 구성은 딥러닝 모델을 생성하기 위해 만들어졌지만, 기본적인 머신러닝 모델 중 하나인 선형회귀 모델도 만들어볼 수 있습니다. 본격적으로 딥러닝 모델을 만들기에 앞서 Keras를 이용해 선형회귀 모델을 만들어보겠습니다."
   ]
  },
  {
   "cell_type": "markdown",
   "metadata": {},
   "source": [
    "### (1) 선형회귀 모델 구성하기\n",
    "\n",
    "케라스는 머신러닝 모델을 **층의 연결**로 표현합니다. 로지스틱 회귀분석 모델을 Keras로 구현하려면 입력값을 받는 **Input** 층과, 선형 변환을 수행하는 **Dense** 층을 만들어야합니다."
   ]
  },
  {
   "cell_type": "code",
   "execution_count": 9,
   "metadata": {},
   "outputs": [],
   "source": [
    "from tensorflow.keras.layers import Input\n",
    "from tensorflow.keras.layers import Dense\n",
    "from tensorflow.keras.models import Model"
   ]
  },
  {
   "cell_type": "code",
   "execution_count": 10,
   "metadata": {},
   "outputs": [
    {
     "name": "stderr",
     "output_type": "stream",
     "text": [
      "WARNING: Logging before flag parsing goes to stderr.\n",
      "W1220 16:59:52.062300 4500436416 deprecation.py:506] From /Users/kimdoyeong/anaconda3/envs/py3.6/lib/python3.6/site-packages/tensorflow/python/ops/init_ops.py:1251: calling VarianceScaling.__init__ (from tensorflow.python.ops.init_ops) with dtype is deprecated and will be removed in a future version.\n",
      "Instructions for updating:\n",
      "Call initializer instance with the dtype argument instead of passing it to the constructor\n"
     ]
    }
   ],
   "source": [
    "# 입력값의 형태 결정하기\n",
    "inputs = Input(1,name='x')\n",
    "\n",
    "# 레이어를 연결하기\n",
    "dense_layer = Dense(1, name='output')\n",
    "\n",
    "# 출력값의 형태 결정하기\n",
    "output = dense_layer(inputs)\n",
    "\n",
    "# 모델 구성하기\n",
    "model = Model(inputs, output, name='model')"
   ]
  },
  {
   "cell_type": "markdown",
   "metadata": {},
   "source": [
    "### (2) 선형회귀 손실함수 및 경사하강법 구성하기\n",
    "\n",
    "\n",
    "손실(loss)은 훈련하는 동안 최소화되어야 하는 값으로, 손실함수는 손실을 계산하는 함수입니다. 우리는 모델의 목적에 맞게 손실 함수를 구성해야 합니다. 이전 시간에 배웠던 평균제곱오차(Mean-Squared-Error)는 대표적인 손실함수 중 하나입니다. 옵티마이저는 손실함수를 기반으로 네트워크 내 가중치들이 어떻게 변화될지를 결정하는 함수로, 선형 회귀 모델을 학습시켰던 Gradient Descent도 옵티마이저의 하나입니다. \n",
    "\n",
    "\n"
   ]
  },
  {
   "cell_type": "code",
   "execution_count": 11,
   "metadata": {},
   "outputs": [],
   "source": [
    "model.compile(loss='mean_squared_error',\n",
    "              optimizer=\"SGD\")"
   ]
  },
  {
   "cell_type": "markdown",
   "metadata": {},
   "source": [
    "### (3) 선형회귀 모형 학습시키기\n",
    "\n",
    "입력 데이터(x)와 그에 상응하는 타깃 데이터(y)의 쌍을 통해, 모형 내 가중치들이 학습됩니다. 케라스에서는 입력 데이터와 타깃 데이터에 맞춰 가중치들을 갱신해주는 함수가 `model.fit()`으로 구현되어 있습니다."
   ]
  },
  {
   "cell_type": "code",
   "execution_count": 12,
   "metadata": {
    "scrolled": true
   },
   "outputs": [
    {
     "data": {
      "image/png": "[encoded data removed]",
      "text/plain": [
       "<Figure size 432x288 with 1 Axes>"
      ]
     },
     "metadata": {
      "needs_background": "light"
     },
     "output_type": "display_data"
    }
   ],
   "source": [
    "history = model.fit(x=movie_df['nums_want_to_see'], \n",
    "                    y=movie_df['nums_audience'], \n",
    "                    epochs=100, verbose=0)\n",
    "\n",
    "plt.plot(history.history['loss'])\n",
    "plt.show()"
   ]
  },
  {
   "cell_type": "markdown",
   "metadata": {},
   "source": [
    "### (4) 결과 시각화하기"
   ]
  },
  {
   "cell_type": "code",
   "execution_count": 13,
   "metadata": {},
   "outputs": [
    {
     "data": {
      "image/png": "[encoded data removed]",
      "text/plain": [
       "<Figure size 432x288 with 1 Axes>"
      ]
     },
     "metadata": {
      "needs_background": "light"
     },
     "output_type": "display_data"
    }
   ],
   "source": [
    "start = (0, 1)\n",
    "end = (0*w1+w0, 1*w1+w0)\n",
    "\n",
    "movie_df.plot(x='nums_want_to_see',y='nums_audience',\n",
    "              kind='scatter', title=\"Movie\")\n",
    "plt.plot(start, end, 'r--')\n",
    "plt.show()"
   ]
  },
  {
   "cell_type": "markdown",
   "metadata": {},
   "source": [
    "![Imgur](https://i.imgur.com/YcRJkQ5.png)"
   ]
  },
  {
   "cell_type": "markdown",
   "metadata": {},
   "source": [
    "keras를 사용하니 코드의 길이가 압도적으로 짧아졌으며 복잡한 수식을 이용하는 과정도 없는 것을 확인할 수 있습니다. Logistic regression의 경우도 살펴보겠습니다."
   ]
  },
  {
   "cell_type": "markdown",
   "metadata": {},
   "source": [
    "## 3. Keras로 로지스틱 회귀 문제 풀기\n",
    "Linear Regression을 다룰 때와 마찬가지로, Logistic Regression도 Keras를 통해 쉽게 구성해보도록 하겠습니다.\n"
   ]
  },
  {
   "cell_type": "markdown",
   "metadata": {},
   "source": [
    "### 예제 데이터 ) 암 환자 데이터 셋"
   ]
  },
  {
   "cell_type": "code",
   "execution_count": 14,
   "metadata": {},
   "outputs": [],
   "source": [
    "if not os.path.exists(\"./cancer_dataset.csv\"):\n",
    "    !wget https://s3.ap-northeast-2.amazonaws.com/pai-datasets/alai-deeplearning/cancer_dataset.csv\n",
    "cancer_df = pd.read_csv('cancer_dataset.csv')\n",
    "\n",
    "cancer_df = (cancer_df-cancer_df.min())/(cancer_df.max()-cancer_df.min())"
   ]
  },
  {
   "cell_type": "code",
   "execution_count": 15,
   "metadata": {},
   "outputs": [
    {
     "data": {
      "image/png": "[encoded data removed]",
      "text/plain": [
       "<Figure size 504x504 with 1 Axes>"
      ]
     },
     "metadata": {
      "needs_background": "light"
     },
     "output_type": "display_data"
    }
   ],
   "source": [
    "fig = plt.figure(figsize=(7,7))\n",
    "ax = fig.add_subplot(1,1,1)\n",
    "\n",
    "# 0: 정상\n",
    "cancer_df[cancer_df.label==0].plot('age','tumor_size',ax=ax,legend=True,\n",
    "                                   kind='scatter',color='red')\n",
    "# 1: 암환자\n",
    "cancer_df[cancer_df.label==1].plot('age','tumor_size',ax=ax,legend=True,\n",
    "                                   kind='scatter',color='green')\n",
    "plt.legend(['Normal','Cancer'])\n",
    "plt.title(\"Cancer Or Not\")\n",
    "plt.show()"
   ]
  },
  {
   "cell_type": "markdown",
   "metadata": {},
   "source": [
    "### (1) 로지스틱회귀 모델 구성하기"
   ]
  },
  {
   "cell_type": "code",
   "execution_count": 16,
   "metadata": {},
   "outputs": [],
   "source": [
    "inputs = Input(2, name='x')\n",
    "\n",
    "dense = Dense(1,activation='sigmoid', name='y')\n",
    "outputs = dense(inputs)\n",
    "model = Model(inputs, outputs, name='model')"
   ]
  },
  {
   "cell_type": "markdown",
   "metadata": {},
   "source": [
    "### (2) 로지스틱회귀 손실함수 및 경사하강법 구성하기\n"
   ]
  },
  {
   "cell_type": "code",
   "execution_count": 17,
   "metadata": {},
   "outputs": [],
   "source": [
    "from tensorflow.keras.optimizers import SGD"
   ]
  },
  {
   "cell_type": "code",
   "execution_count": 18,
   "metadata": {},
   "outputs": [
    {
     "name": "stderr",
     "output_type": "stream",
     "text": [
      "W1220 16:59:52.788399 4500436416 deprecation.py:323] From /Users/kimdoyeong/anaconda3/envs/py3.6/lib/python3.6/site-packages/tensorflow/python/ops/nn_impl.py:180: add_dispatch_support.<locals>.wrapper (from tensorflow.python.ops.array_ops) is deprecated and will be removed in a future version.\n",
      "Instructions for updating:\n",
      "Use tf.where in 2.0, which has the same broadcast rule as np.where\n"
     ]
    }
   ],
   "source": [
    "model.compile(optimizer=SGD(1.),\n",
    "              loss='binary_crossentropy')"
   ]
  },
  {
   "cell_type": "markdown",
   "metadata": {},
   "source": [
    "### (3) 로지스틱회귀 모델 학습시키기"
   ]
  },
  {
   "cell_type": "code",
   "execution_count": 19,
   "metadata": {},
   "outputs": [
    {
     "data": {
      "image/png": "[encoded data removed]",
      "text/plain": [
       "<Figure size 432x288 with 1 Axes>"
      ]
     },
     "metadata": {
      "needs_background": "light"
     },
     "output_type": "display_data"
    }
   ],
   "source": [
    "model.fit(cancer_df[['age','tumor_size']], \n",
    "          cancer_df[['label']], \n",
    "          epochs=100, verbose=0)\n",
    "\n",
    "plt.plot(model.history.history['loss'])\n",
    "plt.show()"
   ]
  },
  {
   "cell_type": "markdown",
   "metadata": {},
   "source": [
    "### (4) 결과 시각화하기"
   ]
  },
  {
   "cell_type": "code",
   "execution_count": 20,
   "metadata": {},
   "outputs": [
    {
     "data": {
      "image/png": "[encoded data removed]",
      "text/plain": [
       "<Figure size 504x504 with 1 Axes>"
      ]
     },
     "metadata": {
      "needs_background": "light"
     },
     "output_type": "display_data"
    }
   ],
   "source": [
    "w1, w2 = model.get_weights()[0]\n",
    "w0 = model.get_weights()[1]\n",
    "\n",
    "x_0 = [-w0/w1,0] # x_1 절편\n",
    "y_0 = [0,-w0/w2] # x_2 절편\n",
    "\n",
    "fig = plt.figure(figsize=(7,7))\n",
    "ax = fig.add_subplot(1,1,1)\n",
    "ax.plot(x_0,y_0) # Decision boundary 그리기\n",
    "\n",
    "# 0: 정상\n",
    "cancer_df[cancer_df.label==0].plot('age','tumor_size',ax=ax,legend=True,\n",
    "                                   kind='scatter',color='red')\n",
    "# 1: 암환자\n",
    "cancer_df[cancer_df.label==1].plot('age','tumor_size',ax=ax,legend=True,\n",
    "                                   kind='scatter',color='green')\n",
    "plt.legend([\"decision\",'Normal','Cancer'])\n",
    "plt.title(\"Cancer Or Not\")\n",
    "plt.show()"
   ]
  },
  {
   "cell_type": "markdown",
   "metadata": {},
   "source": [
    "![Imgur](https://i.imgur.com/jza8RgW.png)"
   ]
  },
  {
   "cell_type": "markdown",
   "metadata": {},
   "source": [
    "Logistic Regression의 경우에도 keras를 사용하는 것이 더 효율적이고 단순합니다. 후에 배우게 되겠지만, keras코드를 살펴보면 API인터페이스가 직관적인 것을 알 수 있습니다."
   ]
  },
  {
   "cell_type": "markdown",
   "metadata": {},
   "source": [
    "#  \n",
    "\n",
    "---\n",
    "\n",
    "    Copyright(c) 2019 by Public AI. All rights reserved.\n",
    "    Writen by PAI, SangJae Kang ( rocketgrowthsj@publicai.co.kr )  last updated on 2019/09/16\n",
    "\n",
    "\n",
    "---"
   ]
  }
 ],
 "metadata": {
  "kernelspec": {
   "display_name": "Python 3",
   "language": "python",
   "name": "python3"
  },
  "language_info": {
   "codemirror_mode": {
    "name": "ipython",
    "version": 3
   },
   "file_extension": ".py",
   "mimetype": "text/x-python",
   "name": "python",
   "nbconvert_exporter": "python",
   "pygments_lexer": "ipython3",
   "version": "3.6.8"
  }
 },
 "nbformat": 4,
 "nbformat_minor": 4
}
