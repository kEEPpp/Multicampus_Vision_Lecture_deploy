{
 "cells": [
  {
   "cell_type": "markdown",
   "metadata": {
    "colab_type": "text",
    "id": "o_fIYu-76fZg"
   },
   "source": [
    "<i><b>Public AI</b></i>\n",
    "<br>\n",
    "###  &nbsp;&nbsp; **✎&nbsp;&nbsp;Week 1. Numpy Basis**\n",
    "# Section 5. Numpy의 다양한 함수 -원소 단위\n",
    "\n",
    "Section 1에서 간단하게 살펴보았듯이 Numpy를 이용하면 반복문을 쓰지 않고 매우 간단하게 **Array를 구성하는 각각의 원소에 대해 동일한 연산을 적용**할 수 있습니다. 이런 함수를 [Universal Function](https://docs.scipy.org/doc/numpy/reference/ufuncs.html#available-ufuncs)라고 하며, 이는 Numpy의 최대 강점 중 하나입니다. Numpy에서는 수치 연산의 기본이 되는 감가승제( -, +, \\*, / ) 함수를 Universal Function으로 구현하여 제공하고 있습니다. 이번 Section에서는 Numpy에서 Array에 대한 빼기, 더하기, 나누기, 곱하기 등의 원소별 연산 함수가 어떻게 작동하는지 살펴본 후에 Universial Function의 작동 원리 중 핵심 개념인 'Broadcasting'를 알아보겠습니다.\n",
    "\n",
    "### _Objective_\n",
    "1. **Numpy Array의 원소별 연산**<br>\n",
    "2. **Universal Function의 작동 원리**: Numpy Array의 각 원소에 대해 연산을 실행해 주는 universal function의 작동 원리를 배웁니다."
   ]
  },
  {
   "cell_type": "code",
   "execution_count": 1,
   "metadata": {
    "colab": {},
    "colab_type": "code",
    "id": "pa-8gyc06fZi"
   },
   "outputs": [],
   "source": [
    "import numpy as np"
   ]
  },
  {
   "cell_type": "markdown",
   "metadata": {},
   "source": [
    "# \\[ 1. Numpy Array의 원소별 연산 \\] "
   ]
  },
  {
   "cell_type": "markdown",
   "metadata": {},
   "source": [
    "Numpy 패키지는 수학, 공학에서 필요한 주요 연산이 구현되어 있어 **(1) Array를 구성하는 각각의 원소별**로 sin함수, 지수 함수, 로그 함수 등을 적용한 결과를 쉽게 구할 수 있습니다. 또는 Numpy Array를 이용해 두 데이터 간의 사칙연산을 한다면, **(2) 같은 형태의 Array 간 연산**이거나, **(3) 다른 형태의 Array 간의 연산**이거나, **(4) Scalar값과 Array 간의 연산**일 수 있을 것입니다. 각각의 경우에 Numpy의 사칙연산을 비롯한 다양한 원소별 연산 함수를 적용해보며 Numpy에서 원소별 연산이 어떻게 작동하는지 살펴봅시다."
   ]
  },
  {
   "cell_type": "markdown",
   "metadata": {},
   "source": [
    "## 1. 단일 Array의 구성 원소에 대한 원소별 연산\n",
    "+ Array의 구성 원소를 원하는 함수에 따라 변환할 수 있습니다. "
   ]
  },
  {
   "cell_type": "markdown",
   "metadata": {},
   "source": [
    "벡터 형태의 Array를 만들어 sin, 지수, 로그 등의 값으로 변환해봅시다."
   ]
  },
  {
   "cell_type": "code",
   "execution_count": 2,
   "metadata": {
    "colab": {
     "base_uri": "https://localhost:8080/",
     "height": 33
    },
    "colab_type": "code",
    "executionInfo": {
     "elapsed": 549,
     "status": "ok",
     "timestamp": 1551670426787,
     "user": {
      "displayName": "최선열",
      "photoUrl": "",
      "userId": "00663027191814710813"
     },
     "user_tz": -540
    },
    "id": "q0Xh4wP66fbF",
    "outputId": "98f70245-1054-4076-b00b-62d88d120edc"
   },
   "outputs": [
    {
     "data": {
      "text/plain": [
       "array([1. , 1.5, 2. , 2.5, 3. , 3.5, 4. , 4.5])"
      ]
     },
     "execution_count": 2,
     "metadata": {},
     "output_type": "execute_result"
    }
   ],
   "source": [
    "A = np.arange(1,5,0.5)\n",
    "A"
   ]
  },
  {
   "cell_type": "markdown",
   "metadata": {
    "colab_type": "text",
    "id": "FD0Ci35W6fbJ"
   },
   "source": [
    "### (1) sin 함수\n",
    "\n",
    "$y = sin(x)$을 원소 별로 적용하여 결과를 반환합니다."
   ]
  },
  {
   "cell_type": "code",
   "execution_count": 3,
   "metadata": {
    "colab": {},
    "colab_type": "code",
    "id": "Sk17n8XI6fbJ",
    "outputId": "5c2d7229-4321-41c3-c34f-cda1d8331ee2"
   },
   "outputs": [
    {
     "data": {
      "text/plain": [
       "array([ 0.84147098,  0.99749499,  0.90929743,  0.59847214,  0.14112001,\n",
       "       -0.35078323, -0.7568025 , -0.97753012])"
      ]
     },
     "execution_count": 3,
     "metadata": {},
     "output_type": "execute_result"
    }
   ],
   "source": [
    "# fix me! # 원소 별 sin함수 적용\n",
    "# 결과 : array([ 0.84147098,  0.99749499,  0.90929743,  0.59847214,  0.14112001,\n",
    "#       -0.35078323, -0.7568025 , -0.97753012])"
   ]
  },
  {
   "cell_type": "markdown",
   "metadata": {
    "colab_type": "text",
    "id": "rIgrt0Sw6fbN"
   },
   "source": [
    "### (2) 지수 함수\n",
    "\n",
    "$y=e^x$을 원소 별로 적용하여 결과를 반환합니다."
   ]
  },
  {
   "cell_type": "code",
   "execution_count": 4,
   "metadata": {
    "colab": {},
    "colab_type": "code",
    "id": "4k8gSqJc6fbO",
    "outputId": "6d93cdfd-e6aa-47a2-e7ed-f4ba9056b063"
   },
   "outputs": [
    {
     "data": {
      "text/plain": [
       "array([ 2.71828183,  4.48168907,  7.3890561 , 12.18249396, 20.08553692,\n",
       "       33.11545196, 54.59815003, 90.0171313 ])"
      ]
     },
     "execution_count": 4,
     "metadata": {},
     "output_type": "execute_result"
    }
   ],
   "source": [
    "# fix me! # 원소 별 지수함수 적용\n",
    "# 결과 : array([ 2.71828183,  4.48168907,  7.3890561 , 12.18249396, 20.08553692,\n",
    "#       33.11545196, 54.59815003, 90.0171313 ])"
   ]
  },
  {
   "cell_type": "markdown",
   "metadata": {
    "colab_type": "text",
    "id": "0cy_BTx66fbX"
   },
   "source": [
    "### (3) 로그 함수\n",
    "\n",
    "$y = log(x)$을 원소 별로 적용하여 결과를 반환합니다."
   ]
  },
  {
   "cell_type": "code",
   "execution_count": 5,
   "metadata": {
    "colab": {},
    "colab_type": "code",
    "id": "Z4NTD9_k6fbY",
    "outputId": "7ad9ebc4-ce3e-44e0-ee9f-fd9445a16bd8"
   },
   "outputs": [
    {
     "data": {
      "text/plain": [
       "array([0.        , 0.40546511, 0.69314718, 0.91629073, 1.09861229,\n",
       "       1.25276297, 1.38629436, 1.5040774 ])"
      ]
     },
     "execution_count": 5,
     "metadata": {},
     "output_type": "execute_result"
    }
   ],
   "source": [
    "# fix me! # 원소 별 로그함수 적용\n",
    "# 결과 : array([0.        , 0.40546511, 0.69314718, 0.91629073, 1.09861229,\n",
    "#       1.25276297, 1.38629436, 1.5040774 ])"
   ]
  },
  {
   "cell_type": "markdown",
   "metadata": {
    "colab_type": "text",
    "id": "o2VNasgf6faO"
   },
   "source": [
    "## 2. 같은 형태의 Array 간 원소별 연산\n",
    "\n",
    "+ 같은 형태(shape)의 Array 간 사칙연산을 할 때는 같은 위치에 있는 원소값을 묶어 연산을 수행하고 결과를 반환합니다."
   ]
  },
  {
   "cell_type": "markdown",
   "metadata": {
    "colab_type": "text",
    "id": "zvt7nCHK6faP"
   },
   "source": [
    "### (1) 더하기 ( `+` )"
   ]
  },
  {
   "cell_type": "markdown",
   "metadata": {},
   "source": [
    "먼저 `(3,)`형태의 벡터를 2개 만들어봅시다."
   ]
  },
  {
   "cell_type": "code",
   "execution_count": 6,
   "metadata": {
    "colab": {},
    "colab_type": "code",
    "id": "3PNHKA4f6faQ",
    "outputId": "c4a773f4-7569-4793-b355-28ec83d28c18"
   },
   "outputs": [],
   "source": [
    "A = np.arange(0,3)\n",
    "B = np.arange(5,8)"
   ]
  },
  {
   "cell_type": "code",
   "execution_count": 7,
   "metadata": {},
   "outputs": [
    {
     "name": "stdout",
     "output_type": "stream",
     "text": [
      "A:  [0 1 2] A.shape:  (3,)\n",
      "B:  [5 6 7] B.shape:  (3,)\n"
     ]
    }
   ],
   "source": [
    "# fix me! # A의 shape은?\n",
    "# fix me! # B의 shape은?"
   ]
  },
  {
   "cell_type": "markdown",
   "metadata": {},
   "source": [
    "`A`와 `B`는 모두 `(3,)`의 shape을 가집니다. 두 Array를 더하면 어떻게 될까요?"
   ]
  },
  {
   "cell_type": "code",
   "execution_count": 8,
   "metadata": {
    "colab": {},
    "colab_type": "code",
    "id": "PNYhXrQl6faY",
    "outputId": "e6f26fae-50d6-40d9-af52-d30813a30d27"
   },
   "outputs": [
    {
     "data": {
      "text/plain": [
       "array([5, 7, 9])"
      ]
     },
     "execution_count": 8,
     "metadata": {},
     "output_type": "execute_result"
    }
   ],
   "source": [
    "# fix me! # [0+5, 1+6, 2+7]\n",
    "# 결과 : array([5, 7, 9])"
   ]
  },
  {
   "cell_type": "markdown",
   "metadata": {},
   "source": [
    "위와 같이 **같은 자리에 있는 값을 서로 더해준 값**이 나옵니다. 빼기, 나누기, 곱하기 역시 마찬가지입니다."
   ]
  },
  {
   "cell_type": "markdown",
   "metadata": {
    "colab_type": "text",
    "id": "_VcyWRIx6fab"
   },
   "source": [
    "### (2) 빼기 ( `-` )"
   ]
  },
  {
   "cell_type": "code",
   "execution_count": 9,
   "metadata": {
    "colab": {},
    "colab_type": "code",
    "id": "SnPTXKov6fae",
    "outputId": "4882434f-86ac-47be-8657-62b982053cd1"
   },
   "outputs": [
    {
     "data": {
      "text/plain": [
       "array([-5, -5, -5])"
      ]
     },
     "execution_count": 9,
     "metadata": {},
     "output_type": "execute_result"
    }
   ],
   "source": [
    "# fix me! # [0-5, 1-6, 2-7]\n",
    "# 결과 : array([-5, -5, -5])"
   ]
  },
  {
   "cell_type": "markdown",
   "metadata": {
    "colab_type": "text",
    "id": "Ks-hV83Z6fam"
   },
   "source": [
    "### (3) 나누기 ( / )"
   ]
  },
  {
   "cell_type": "code",
   "execution_count": 10,
   "metadata": {
    "colab": {},
    "colab_type": "code",
    "id": "RPEUmAIg6fap",
    "outputId": "2c1100ea-14db-4cda-cbf6-efca88603887",
    "scrolled": true
   },
   "outputs": [
    {
     "data": {
      "text/plain": [
       "array([0.        , 0.16666667, 0.28571429])"
      ]
     },
     "execution_count": 10,
     "metadata": {},
     "output_type": "execute_result"
    }
   ],
   "source": [
    "# fix me! # [0/5, 1/6, 2/7]\n",
    "# 결과 : array([0.        , 0.16666667, 0.28571429])"
   ]
  },
  {
   "cell_type": "markdown",
   "metadata": {
    "colab_type": "text",
    "id": "BqcYHBNU6fah"
   },
   "source": [
    "### (4) 곱하기( * )"
   ]
  },
  {
   "cell_type": "code",
   "execution_count": 11,
   "metadata": {
    "colab": {},
    "colab_type": "code",
    "id": "bQZfUAH-6fak",
    "outputId": "8aff5d16-9051-4734-f597-b49885d9e690"
   },
   "outputs": [
    {
     "data": {
      "text/plain": [
       "array([ 0,  6, 14])"
      ]
     },
     "execution_count": 11,
     "metadata": {},
     "output_type": "execute_result"
    }
   ],
   "source": [
    "# fix me! # [0*5, 1*6, 2*7]\n",
    "# 결과 : array([ 0,  6, 14])"
   ]
  },
  {
   "cell_type": "markdown",
   "metadata": {},
   "source": [
    "2차원의 행렬도 같은 위치에 있는 값을 곱합니다. (참고: 행렬곱은 `matmul` 함수를 사용합니다.)"
   ]
  },
  {
   "cell_type": "code",
   "execution_count": 12,
   "metadata": {},
   "outputs": [],
   "source": [
    "A = np.array([[1,2,3], [4,5,6]])\n",
    "B = np.array([[2,3,4], [5,6,7]])"
   ]
  },
  {
   "cell_type": "code",
   "execution_count": 13,
   "metadata": {},
   "outputs": [
    {
     "name": "stdout",
     "output_type": "stream",
     "text": [
      "[[1 2 3]\n",
      " [4 5 6]]\n",
      "[[2 3 4]\n",
      " [5 6 7]]\n"
     ]
    }
   ],
   "source": [
    "print(A)\n",
    "print(B)"
   ]
  },
  {
   "cell_type": "code",
   "execution_count": 14,
   "metadata": {},
   "outputs": [
    {
     "data": {
      "text/plain": [
       "array([[ 2,  6, 12],\n",
       "       [20, 30, 42]])"
      ]
     },
     "execution_count": 14,
     "metadata": {},
     "output_type": "execute_result"
    }
   ],
   "source": [
    "# fix me! # [[1*2, 2*3, 3*4], [4*5, 5*6, 6*7]]\n",
    "# 결과 : array([[ 2,  6, 12],\n",
    "#       [20, 30, 42]])"
   ]
  },
  {
   "cell_type": "markdown",
   "metadata": {
    "colab_type": "text",
    "id": "uzUThR6D6fZm"
   },
   "source": [
    "## 3. Array 와 Scalar 간 원소별 연산\n",
    "\n",
    "+ Array와 Scalar(하나의 값)을 연산할 때에는 Array의 모든 원소에 Scalar 값을 확장하여 연산이 적용됩니다(**Broadcasting의 법칙**)."
   ]
  },
  {
   "cell_type": "markdown",
   "metadata": {
    "colab_type": "text",
    "id": "XzOYIly96fZn"
   },
   "source": [
    "### (1) 더하기 ( `+` )\n",
    "우선 0부터 2까지 3개의 원소로 구성된 numpy array를 구성해보고, Numpy Array 의 모든 원소에 5씩 더해보겠습니다. "
   ]
  },
  {
   "cell_type": "code",
   "execution_count": 15,
   "metadata": {
    "colab": {
     "base_uri": "https://localhost:8080/",
     "height": 33
    },
    "colab_type": "code",
    "executionInfo": {
     "elapsed": 362,
     "status": "ok",
     "timestamp": 1551661335384,
     "user": {
      "displayName": "최선열",
      "photoUrl": "",
      "userId": "00663027191814710813"
     },
     "user_tz": -540
    },
    "id": "njnD8c4i6fZo",
    "outputId": "fed6449b-89f1-4a75-91ff-a97405c5c8a0"
   },
   "outputs": [
    {
     "data": {
      "text/plain": [
       "array([0, 1, 2])"
      ]
     },
     "execution_count": 15,
     "metadata": {},
     "output_type": "execute_result"
    }
   ],
   "source": [
    "A = np.arange(0,3) # 0 ~ 2 까지의 Numpy Array를 생성\n",
    "A"
   ]
  },
  {
   "cell_type": "code",
   "execution_count": 16,
   "metadata": {
    "colab": {},
    "colab_type": "code",
    "id": "bIVMq-kK6fZs",
    "outputId": "47de864e-a0ef-4b34-9f85-e60b323a9955"
   },
   "outputs": [
    {
     "data": {
      "text/plain": [
       "array([5, 6, 7])"
      ]
     },
     "execution_count": 16,
     "metadata": {},
     "output_type": "execute_result"
    }
   ],
   "source": [
    "# fix me! # [0+5, 1+5, 2+5]\n",
    "# 결과 : array([5, 6, 7])"
   ]
  },
  {
   "cell_type": "markdown",
   "metadata": {},
   "source": [
    "위와 같이 `+ 5`라고만 입력해도 `A` Array의 각 원소에 대해 5가 더해진 결과가 나옵니다. "
   ]
  },
  {
   "cell_type": "markdown",
   "metadata": {
    "colab_type": "text",
    "id": "9wctZntw6fZx"
   },
   "source": [
    "Array 값 중 일부분에만 scalar 값을 더하고 싶다면, 인덱싱으로 범위 혹은 값을 지정합니다. 예를 들어, 아래와 같이 `[:2]`라는 인덱스를 걸어 데이터를 가져와 5를 더한 후 다시 `[:2]`로 인덱스를 걸어 데이터를 입력하면 0번과 1번 인덱스를 가지는 값에 대해서만 `+ 5`가 적용됩니다."
   ]
  },
  {
   "cell_type": "code",
   "execution_count": 17,
   "metadata": {
    "colab": {
     "base_uri": "https://localhost:8080/",
     "height": 33
    },
    "colab_type": "code",
    "executionInfo": {
     "elapsed": 746,
     "status": "ok",
     "timestamp": 1551663437388,
     "user": {
      "displayName": "최선열",
      "photoUrl": "",
      "userId": "00663027191814710813"
     },
     "user_tz": -540
    },
    "id": "kzMY5h5Y6fZy",
    "outputId": "968d574f-e1c7-4b3a-a6d4-97c84a6ed214"
   },
   "outputs": [
    {
     "data": {
      "text/plain": [
       "array([5., 6., 2.])"
      ]
     },
     "execution_count": 17,
     "metadata": {},
     "output_type": "execute_result"
    }
   ],
   "source": [
    "A = np.arange(0,3,dtype=np.float)\n",
    "A[:2] = A[:2] + 5 # A의 0번째, 1번쨰 원소에만 5를 더함\n",
    "A"
   ]
  },
  {
   "cell_type": "markdown",
   "metadata": {},
   "source": [
    "연속하는 범위의 원소가 아니라면 인덱싱을 배울 때 배웠던 `list로 인덱싱하기`를 활용하면 됩니다."
   ]
  },
  {
   "cell_type": "code",
   "execution_count": 18,
   "metadata": {
    "colab": {
     "base_uri": "https://localhost:8080/",
     "height": 33
    },
    "colab_type": "code",
    "executionInfo": {
     "elapsed": 566,
     "status": "ok",
     "timestamp": 1551663456760,
     "user": {
      "displayName": "최선열",
      "photoUrl": "",
      "userId": "00663027191814710813"
     },
     "user_tz": -540
    },
    "id": "qPN4Ee-P6fZ1",
    "outputId": "74b88895-556c-4b71-c2be-ff6becf79b21"
   },
   "outputs": [
    {
     "data": {
      "text/plain": [
       "array([5., 1., 7.])"
      ]
     },
     "execution_count": 18,
     "metadata": {},
     "output_type": "execute_result"
    }
   ],
   "source": [
    "A = np.arange(0,3,dtype=np.float)\n",
    "A[[0,2]] = A[[0,2]] + 5 # A의 0번째, 2번째 원소에만 5를 더함\n",
    "A"
   ]
  },
  {
   "cell_type": "markdown",
   "metadata": {
    "colab_type": "text",
    "id": "1Lb6sq6L6fZ4"
   },
   "source": [
    "### (2) 빼기 ( `-` )"
   ]
  },
  {
   "cell_type": "code",
   "execution_count": 19,
   "metadata": {
    "colab": {},
    "colab_type": "code",
    "id": "iRPEAqBw6fZ4",
    "outputId": "8c96d0fe-a036-447b-8a20-f4c0377a0cd0"
   },
   "outputs": [
    {
     "data": {
      "text/plain": [
       "array([0, 1, 2])"
      ]
     },
     "execution_count": 19,
     "metadata": {},
     "output_type": "execute_result"
    }
   ],
   "source": [
    "A = np.arange(0,3)\n",
    "A"
   ]
  },
  {
   "cell_type": "code",
   "execution_count": 1,
   "metadata": {
    "colab": {},
    "colab_type": "code",
    "id": "If0lPqP96fZ8",
    "outputId": "18a6bf21-f3a7-4462-c980-627eb7b04fb1"
   },
   "outputs": [],
   "source": [
    "# fix me! # [0-2, 1-2, 2-2]\n",
    "# 결과 : array([-2, -1,  0])"
   ]
  },
  {
   "cell_type": "markdown",
   "metadata": {
    "colab_type": "text",
    "id": "Hxnh5Yvg6faG"
   },
   "source": [
    "### (3) 나누기 ( `/` )"
   ]
  },
  {
   "cell_type": "code",
   "execution_count": 21,
   "metadata": {
    "colab": {
     "base_uri": "https://localhost:8080/",
     "height": 33
    },
    "colab_type": "code",
    "executionInfo": {
     "elapsed": 683,
     "status": "ok",
     "timestamp": 1551663140501,
     "user": {
      "displayName": "최선열",
      "photoUrl": "",
      "userId": "00663027191814710813"
     },
     "user_tz": -540
    },
    "id": "qsqxTMUv6faK",
    "outputId": "a2c7da42-32fb-42d5-f4c4-8f7e6eb8d4ef"
   },
   "outputs": [
    {
     "data": {
      "text/plain": [
       "array([0.        , 0.33333333, 0.66666667])"
      ]
     },
     "execution_count": 21,
     "metadata": {},
     "output_type": "execute_result"
    }
   ],
   "source": [
    "# fix me! # [0/3, 1/3, 2/3]\n",
    "# 결과 : array([0.        , 0.33333333, 0.66666667])"
   ]
  },
  {
   "cell_type": "markdown",
   "metadata": {
    "colab_type": "text",
    "id": "7Qowol7x6faA"
   },
   "source": [
    "### (4) 곱하기 ( `*` )"
   ]
  },
  {
   "cell_type": "code",
   "execution_count": 22,
   "metadata": {
    "colab": {},
    "colab_type": "code",
    "id": "Zig-OWgr6faE",
    "outputId": "04d56c31-f0c5-4e08-9227-1029d751194c"
   },
   "outputs": [
    {
     "data": {
      "text/plain": [
       "array([0, 3, 6])"
      ]
     },
     "execution_count": 22,
     "metadata": {},
     "output_type": "execute_result"
    }
   ],
   "source": [
    "# fix me! # [0*3, 1*3, 3*3]\n",
    "# 결과 : array([0, 3, 6])"
   ]
  },
  {
   "cell_type": "markdown",
   "metadata": {
    "colab_type": "text",
    "id": "PSaLWqQN6fat"
   },
   "source": [
    "## 4. 다른 형태의 Array 간 원소별 연산\n",
    "\n",
    "+ 서로 다른 형태(shape)의 Array 간 연산을 할 때에는 연산이 가능해지도록 작은 크기(size)의 Array 형태를 자동으로 변형합니다(**Broadcasting의 법칙**)."
   ]
  },
  {
   "cell_type": "markdown",
   "metadata": {
    "colab_type": "text",
    "id": "-oroqwidwX5I"
   },
   "source": [
    "### (1) 더하기 ( `+` )"
   ]
  },
  {
   "cell_type": "markdown",
   "metadata": {},
   "source": [
    "아래와 같이 서로 다른 형태의 Array가 있다고 합시다."
   ]
  },
  {
   "cell_type": "code",
   "execution_count": 23,
   "metadata": {
    "colab": {
     "base_uri": "https://localhost:8080/",
     "height": 115
    },
    "colab_type": "code",
    "executionInfo": {
     "elapsed": 581,
     "status": "ok",
     "timestamp": 1551663935000,
     "user": {
      "displayName": "최선열",
      "photoUrl": "",
      "userId": "00663027191814710813"
     },
     "user_tz": -540
    },
    "id": "PGChatc66fau",
    "outputId": "21157110-cb81-4600-cb81-cf1087f896ee"
   },
   "outputs": [
    {
     "name": "stdout",
     "output_type": "stream",
     "text": [
      "A : \n",
      " [[1. 1. 1.]\n",
      " [1. 1. 1.]\n",
      " [1. 1. 1.]]\n",
      "B : \n",
      " [0 1 2]\n"
     ]
    }
   ],
   "source": [
    "A = np.ones((3,3))\n",
    "B = np.arange(3)\n",
    "print(\"A : \\n\", A)\n",
    "print(\"B : \\n\", B)"
   ]
  },
  {
   "cell_type": "markdown",
   "metadata": {},
   "source": [
    "B가 더 작은 사이즈인데, 두 Array를 더하는 연산을 하게 되면 아래와 같은 결과가 나옵니다."
   ]
  },
  {
   "cell_type": "code",
   "execution_count": 2,
   "metadata": {
    "colab": {
     "base_uri": "https://localhost:8080/",
     "height": 66
    },
    "colab_type": "code",
    "executionInfo": {
     "elapsed": 642,
     "status": "ok",
     "timestamp": 1551664059741,
     "user": {
      "displayName": "최선열",
      "photoUrl": "",
      "userId": "00663027191814710813"
     },
     "user_tz": -540
    },
    "id": "NYXZXbbC6fav",
    "outputId": "aee9a0db-17ce-4a26-84e6-f2b6a9993889"
   },
   "outputs": [],
   "source": [
    "# fix me! #  [[1+0, 1+1, 1+2], [1+0, 1+1, 1+2], [1+0, 1+1, 1+2]] \n",
    "# 결과 : array([[1., 2., 3.],\n",
    "#       [1., 2., 3.],\n",
    "#       [1., 2., 3.]])"
   ]
  },
  {
   "cell_type": "markdown",
   "metadata": {},
   "source": [
    "`(3,)` 형태의 B를 `(3,3)` 형태로 확장하여 `[[0,1,2], [0,1,2], [0,1,2]]` 인 상태에서 더해주는 것이죠. 이러한 작동 원리를 **Broadcasting**이라고 하는데, `[2. Numpy 원소별 연산의 작동 원리]`에서 보다 자세히 알아보겠습니다."
   ]
  },
  {
   "cell_type": "markdown",
   "metadata": {
    "colab_type": "text",
    "id": "ieQ2RBV06fbb"
   },
   "source": [
    "### (2) 행렬 곱 함수\n",
    "\n",
    "행렬을 서로 곱하는 행렬곱(matrix multiplication)은 딥러닝에서 가장 중요한 연산 중 하나입니다. Numpy에서는 행렬곱 연산도 `matmul` 메소드로 아래처럼 간단히 구현할 수 있습니다."
   ]
  },
  {
   "cell_type": "code",
   "execution_count": 25,
   "metadata": {
    "colab": {},
    "colab_type": "code",
    "id": "hIyHeafz6fbc"
   },
   "outputs": [],
   "source": [
    "W = np.array([\n",
    "    [1,2,3],\n",
    "    [2,3,4],\n",
    "    [3,4,5]\n",
    "])\n",
    "\n",
    "X = np.array([\n",
    "    [1],\n",
    "    [2],\n",
    "    [3],\n",
    "])"
   ]
  },
  {
   "cell_type": "code",
   "execution_count": 26,
   "metadata": {
    "colab": {},
    "colab_type": "code",
    "id": "RnrJOMJQ6fbg",
    "outputId": "b1d9831f-91f3-49de-9006-4cc070bec1b3"
   },
   "outputs": [
    {
     "data": {
      "text/plain": [
       "array([[14],\n",
       "       [20],\n",
       "       [26]])"
      ]
     },
     "execution_count": 26,
     "metadata": {},
     "output_type": "execute_result"
    }
   ],
   "source": [
    "# fix me!\n",
    "# 결과 : array([[14],\n",
    "#       [20],\n",
    "#       [26]])"
   ]
  },
  {
   "cell_type": "markdown",
   "metadata": {
    "colab_type": "text",
    "id": "5ZmWw6dG6fZl"
   },
   "source": [
    "# \\[ 2. Numpy 원소별 연산의 작동 원리\\] \n",
    "\n",
    "지금까지 Numpy에서 Array의 원소별로 적용되는 연산 함수가 어떻게 작동하는지 살펴보았습니다. 이러한 함수를 Universal Function이라고 한다고 하였는데, 한국어로는 '범용 함수'라는 이름으로 번역되기도 합니다. '범용'이라는 단어 때문에 '널리 쓰이는 함수', '어디에나 쓰이는 함수'라는 애매한 뜻으로 오해할 수 있을 것 같습니다. 여기서 **universal**의 의미는 함수가 Array를 구성하는 **각각의 원소를 대상으로(원소별, element-by-element) 작동한다**는 의미입니다. \n",
    "\n",
    "앞서 Universal Function의 어떻게 작동하는지 간략하게 살펴보았습니다. 서로 다른 크기의 Array나 Scalar와 Array간의 연산은 어떤 원리로 작동하는 걸까요? Numpy의 Universal Function은 Broadcasting이라는 기능을 이용해 이 문제를 해결합니다. **Broadcasting이란 모양이 서로 다른 Array 혹은 Array와 Scalar 간 연산이 가능해지도록 Array를 자동 변환해주는 기능**입니다. Numpy의 Broadcasting 덕분에 불필요한 For 구문을 피하며, 직관적으로 코드를 구현할 수 있게 됩니다.\n",
    " [Broadcasting 참고자료](https://jakevdp.github.io/PythonDataScienceHandbook/02.05-computation-on-arrays-broadcasting.html)"
   ]
  },
  {
   "cell_type": "markdown",
   "metadata": {},
   "source": [
    "## 1. Broadcasting 원칙"
   ]
  },
  {
   "cell_type": "markdown",
   "metadata": {},
   "source": [
    "첫 번째 예시는 `[0, 1, 2]`로 구성된 Numpy Array와 Scalar값 5와의 연산을 보여줍니다. scalar값 `5`를 마치 `[5, 5, 5]`인 것처럼 변환하여 연산 결과를 반환하는 것이죠. \n",
    "\n",
    "두 번째 예시는 `[0, 1, 2]`를 크기가 더 큰 `[[1, 1, 1], [1, 1, 1], [1, 1, 1]]`의 형태에 맞춰 `[[0, 1, 2], [0, 1, 2], [0, 1, 2]]`로 변환하여 연산 결과를 반환합니다. 모두 앞서 살펴본 예시였습니다. 사실은 이렇게 크기가 작은 쪽의 Array를 확장하는 Broadcasting 법칙이 적용되어 더해졌던 것이죠."
   ]
  },
  {
   "cell_type": "markdown",
   "metadata": {},
   "source": [
    "![](http://www.astroml.org/_images/fig_broadcast_visual_1.png)"
   ]
  },
  {
   "cell_type": "markdown",
   "metadata": {},
   "source": [
    "세 번째 예시는 `[[0], [1], [2]]`에 `[0,1,2]`를 더하는 경우입니다. 각각을 Numpy Array로 만들면 아래와 같습니다. "
   ]
  },
  {
   "cell_type": "code",
   "execution_count": 27,
   "metadata": {},
   "outputs": [],
   "source": [
    "A = np.arange(3).reshape((3,1))\n",
    "B = np.arange(3)"
   ]
  },
  {
   "cell_type": "code",
   "execution_count": 28,
   "metadata": {},
   "outputs": [
    {
     "name": "stdout",
     "output_type": "stream",
     "text": [
      "A.ndim 2\n",
      "B.ndim 1\n"
     ]
    }
   ],
   "source": [
    "print('A.ndim', A.ndim)\n",
    "print('B.ndim', B.ndim)"
   ]
  },
  {
   "cell_type": "markdown",
   "metadata": {},
   "source": [
    "`A`의 shape은 `(3,1)`이고, `B`의 shape은 `(3,)`입니다. 먼저 결과물의 형태를 생각해봅시다. `A`와 `B` 같이 차원이 다른 경우, 결과는 차원이 더 큰 쪽에 맞춰지게 됩니다. 여기서는 A의 차원이 2차원으로 더 높으므로 A에 맞춰서 B의 차원을 늘립니다. 그럼 B의 shape은 `(3,)`에서 무엇으로 변환될가요? 차원을 늘려야 하는 Array는 shape의 축 별 요소 수를 오른쪽으로 하나씩 밀어내고, 축을 추가합니다. 즉 `(3,)`에서 옆으로 한 칸 밀려 `(1,3)`형태로 확장됩니다. \n",
    "\n",
    "이제 각 축의 요소 수를 비교하여 큰 값으로 최종 결과물의 shape이 결정됩니다. A는 `(3, 1)`이고 B는 `(1,3)`의 형태가 되었으므로, 결과는 `(3,3)`의 형태가 될 것입니다. 확인해보겠습니다. "
   ]
  },
  {
   "cell_type": "code",
   "execution_count": 29,
   "metadata": {},
   "outputs": [
    {
     "data": {
      "text/plain": [
       "array([[0, 1, 2],\n",
       "       [1, 2, 3],\n",
       "       [2, 3, 4]])"
      ]
     },
     "execution_count": 29,
     "metadata": {},
     "output_type": "execute_result"
    }
   ],
   "source": [
    "# fix me! # A와 B를 더해주세요\n",
    "# 결과 : array([[0, 1, 2],\n",
    "#        [1, 2, 3],\n",
    "#        [2, 3, 4]])"
   ]
  },
  {
   "cell_type": "code",
   "execution_count": 30,
   "metadata": {},
   "outputs": [
    {
     "data": {
      "text/plain": [
       "(3, 3)"
      ]
     },
     "execution_count": 30,
     "metadata": {},
     "output_type": "execute_result"
    }
   ],
   "source": [
    "# fix me! # 결과의 shape은?"
   ]
  },
  {
   "cell_type": "markdown",
   "metadata": {},
   "source": [
    "이처럼 Numpy는 입력하는 데이터의 크기나 차원이 서로 달라도 정해진 규칙에 따라 Array를 확장하여 연산을 실행합니다. Numpy의 Broadcasting 원칙을 정리하면 아래와 같습니다. \n",
    "\n",
    "#### **[Rules of Broadcasting](https://jakevdp.github.io/PythonDataScienceHandbook/02.05-computation-on-arrays-broadcasting.html#Rules-of-Broadcasting)**\n",
    "\n",
    "- 원칙 1. 두 Array의 차원이 다르면, 차원이 낮은 쪽의 shape을 오른쪽으로 밀어 왼쪽에 축을 추가한다. \n",
    ">  예: `(3,)`인 B의 shape을 `(1,3)`으로 변환\n",
    "- 원칙 2. 어떤 축에서도 두 Array의 요소수가 맞지 않으면, 차원의 요소 수가 1인 Array의 shape을 확장한다. \n",
    ">  예: `(3,1)`인 A와 `(1,3)`인 B는 어떤 축에서도 요소 수가 같지 않음. A와 B 각각 요소 수가 1인 축의 요소 수를 확장하여 `(3,3)`로 확장한 후 결과를 반환. \n",
    "- 원칙 3. 어떤 축에서도 요소 수가 맞지 않고 1도 아니라면 오류를 반환한다. \n",
    "> 예: `(2,3)`과 `(3,2)`의 Array를 합치고자 하면 오류를 반환한다. "
   ]
  },
  {
   "cell_type": "markdown",
   "metadata": {},
   "source": [
    "원칙1과 원칙2는 앞서 살펴본 예시가 있었으니, 끝으로 원칙3이 적용되는 예시를 살펴봅시다. "
   ]
  },
  {
   "cell_type": "code",
   "execution_count": 31,
   "metadata": {},
   "outputs": [],
   "source": [
    "A = np.arange(6)"
   ]
  },
  {
   "cell_type": "code",
   "execution_count": 32,
   "metadata": {},
   "outputs": [
    {
     "ename": "ValueError",
     "evalue": "operands could not be broadcast together with shapes (2,3) (3,2) ",
     "output_type": "error",
     "traceback": [
      "\u001b[0;31m---------------------------------------------------------------------------\u001b[0m",
      "\u001b[0;31mValueError\u001b[0m                                Traceback (most recent call last)",
      "\u001b[0;32m<ipython-input-32-90438c08293f>\u001b[0m in \u001b[0;36m<module>\u001b[0;34m\u001b[0m\n\u001b[0;32m----> 1\u001b[0;31m \u001b[0mA\u001b[0m\u001b[0;34m.\u001b[0m\u001b[0mreshape\u001b[0m\u001b[0;34m(\u001b[0m\u001b[0;36m2\u001b[0m\u001b[0;34m,\u001b[0m\u001b[0;36m3\u001b[0m\u001b[0;34m)\u001b[0m \u001b[0;34m+\u001b[0m \u001b[0mA\u001b[0m\u001b[0;34m.\u001b[0m\u001b[0mreshape\u001b[0m\u001b[0;34m(\u001b[0m\u001b[0;36m3\u001b[0m\u001b[0;34m,\u001b[0m\u001b[0;36m2\u001b[0m\u001b[0;34m)\u001b[0m\u001b[0;34m\u001b[0m\u001b[0;34m\u001b[0m\u001b[0m\n\u001b[0m",
      "\u001b[0;31mValueError\u001b[0m: operands could not be broadcast together with shapes (2,3) (3,2) "
     ]
    }
   ],
   "source": [
    "A.reshape(2,3) + A.reshape(3,2)"
   ]
  },
  {
   "cell_type": "markdown",
   "metadata": {},
   "source": [
    "위와 같이 어떤 축에서도 요소 수가 같지 않고, 1도 아니라면 오류를 반환합니다. "
   ]
  },
  {
   "cell_type": "markdown",
   "metadata": {},
   "source": [
    "## 2. Numpy Universal Function 활용 예제"
   ]
  },
  {
   "cell_type": "markdown",
   "metadata": {},
   "source": [
    "이제 Broadcasting의 개념은 이해하셨을 겁니다. 하지만 이 부분이 왜 그렇게 중요한지는 와닿지 않을 수 있습니다. 좀 더 실질적인 예제 데이터를 보며 Broadcasting의 힘을 알아봅시다. \n",
    "\n",
    "#### 예제 ) 칼로리가 낮은 생과일 주스 재료 조합 찾기\n",
    "    1. 생과일쥬스를 만들기 위해 과일 두개를 조합합니다.\n",
    "    2. 과일들의 100g당 칼로리 정보와 과일을 몇 대 몇으로 섞을지에 대한 비율에 대한 정보가 있습니다.\n",
    "    3. 어떤 과일을 선택하여 어떤 비율로 조합했을 때 기대 칼로리가 가장 낮은지 조합을 찾고 싶습니다. \n"
   ]
  },
  {
   "cell_type": "markdown",
   "metadata": {},
   "source": [
    "데이터를 살펴봅시다. "
   ]
  },
  {
   "cell_type": "markdown",
   "metadata": {},
   "source": [
    "<img src=\"https://i.imgur.com/686TK7I.png\" width=\"800\" height=\"600\"/><br>"
   ]
  },
  {
   "cell_type": "markdown",
   "metadata": {},
   "source": [
    "이 데이터를 Numpy Array로 표현하면 아래와 같습니다. "
   ]
  },
  {
   "cell_type": "code",
   "execution_count": 33,
   "metadata": {},
   "outputs": [],
   "source": [
    "fruits = np.array(['포도', '딸기', '수박', '바나나'])\n",
    "calories = np.array([59, 22, 21, 81])\n",
    "calories_comb = np.array([[59, 22], [59, 21], [59, 81], [22, 21], [22, 81], [21, 81]]) # 칼로리 조합\n",
    "proportion_comb = np.array([[0.2, 0.8], [0.3, 0.7], [0.4, 0.6], [0.5, 0.5]]) #비율 조합"
   ]
  },
  {
   "cell_type": "code",
   "execution_count": 34,
   "metadata": {
    "scrolled": false
   },
   "outputs": [
    {
     "name": "stdout",
     "output_type": "stream",
     "text": [
      "과일 칼로리 조합의 shape: (6, 2)\n",
      "비율 조합의 shape: (4, 2)\n"
     ]
    }
   ],
   "source": [
    "print(\"과일 칼로리 조합의 shape: {}\\n비율 조합의 shape: {}\".format(calories_comb.shape, proportion_comb.shape))"
   ]
  },
  {
   "cell_type": "markdown",
   "metadata": {},
   "source": [
    "먼저 칼로리 조합마다 몇 칼로리인지 알아보겠습니다. 일단 코드를 보기 전에 결과는 어떤 형태가 되어야 할지 예상해봅시다. 과일 칼로리 조합은 6가지이고 비율 조합은 4가지이므로 가능한 최종 조합은 **6x4 = 24가지** 일 것입니다. 원하는 결과(기대칼로리)를 얻기 위한 수식은 다음과 같습니다.\n",
    "\n",
    ">  기대칼로리 = (A과일의 100g당 칼로리 X A과일의 비율) + (B과일의 100g당 칼로리 X B과일의 비율)\n",
    "\n",
    "`(A과일의 100g당 칼로리 X A과일의 비율)`과 `(B과일의 100g당 칼로리 X B과일의 비율)`를 구한 후 더하면 될 것 같습니다.  그렇다면 위의 `calories_comb`와 `proportion_comb`를 곱하면 될까요? "
   ]
  },
  {
   "cell_type": "code",
   "execution_count": 35,
   "metadata": {},
   "outputs": [
    {
     "ename": "ValueError",
     "evalue": "operands could not be broadcast together with shapes (6,2) (4,2) ",
     "output_type": "error",
     "traceback": [
      "\u001b[0;31m---------------------------------------------------------------------------\u001b[0m",
      "\u001b[0;31mValueError\u001b[0m                                Traceback (most recent call last)",
      "\u001b[0;32m<ipython-input-35-0c84f29c063c>\u001b[0m in \u001b[0;36m<module>\u001b[0;34m\u001b[0m\n\u001b[1;32m      1\u001b[0m \u001b[0;31m# 과일들의 기대 칼로리 계산\u001b[0m\u001b[0;34m\u001b[0m\u001b[0;34m\u001b[0m\u001b[0;34m\u001b[0m\u001b[0m\n\u001b[0;32m----> 2\u001b[0;31m \u001b[0mcalories_proportion\u001b[0m \u001b[0;34m=\u001b[0m \u001b[0mcalories_comb\u001b[0m \u001b[0;34m*\u001b[0m \u001b[0mproportion_comb\u001b[0m\u001b[0;34m\u001b[0m\u001b[0;34m\u001b[0m\u001b[0m\n\u001b[0m",
      "\u001b[0;31mValueError\u001b[0m: operands could not be broadcast together with shapes (6,2) (4,2) "
     ]
    }
   ],
   "source": [
    "# 과일들의 기대 칼로리 계산\n",
    "calories_proportion = calories_comb * proportion_comb"
   ]
  },
  {
   "cell_type": "markdown",
   "metadata": {},
   "source": [
    "앞서 살펴본 Broadcasting 원칙3에 따라 오류를 반환합니다. 그럼 어떻게 해야 할까요? 요소가 1인 축 하나를 추가하여 broadcasting이 가능하도록 만들어야 합니다. "
   ]
  },
  {
   "cell_type": "code",
   "execution_count": 36,
   "metadata": {},
   "outputs": [],
   "source": [
    "# 브로드캐스팅을 위한 reshape\n",
    "# fix me!"
   ]
  },
  {
   "cell_type": "markdown",
   "metadata": {},
   "source": [
    "이제 칼로리 조합의 shape이 `(6,1,2)`가 되었습니다. 그럼 비율 조합의 `(4, 2)`이 차원이 더 낮으므로 shape이 오른쪽으로 한칸씩 밀려 `(1, 4, 2)`가 됩니다(**Broadcasting 원칙 1**). 그럼 결과는 어떤 shape을 가질까요? 아마 `(6,4,2)`가 될 것입니다(**Broadcasting 원칙 2**). "
   ]
  },
  {
   "cell_type": "code",
   "execution_count": 37,
   "metadata": {},
   "outputs": [
    {
     "data": {
      "text/plain": [
       "array([[[59, 22]],\n",
       "\n",
       "       [[59, 21]],\n",
       "\n",
       "       [[59, 81]],\n",
       "\n",
       "       [[22, 21]],\n",
       "\n",
       "       [[22, 81]],\n",
       "\n",
       "       [[21, 81]]])"
      ]
     },
     "execution_count": 37,
     "metadata": {},
     "output_type": "execute_result"
    }
   ],
   "source": [
    "# fix me! # reshape 결과값을 확인해주세요\n",
    "# fix me! # reshape 결과값의 shape은?"
   ]
  },
  {
   "cell_type": "markdown",
   "metadata": {},
   "source": [
    "이제 과일 조합별 기대 칼로리를 계산해봅시다. "
   ]
  },
  {
   "cell_type": "code",
   "execution_count": 38,
   "metadata": {},
   "outputs": [],
   "source": [
    "# 과일들의 기대 칼로리 계산\n",
    "# fix me!"
   ]
  },
  {
   "cell_type": "code",
   "execution_count": 39,
   "metadata": {},
   "outputs": [
    {
     "data": {
      "text/plain": [
       "(6, 4, 2)"
      ]
     },
     "execution_count": 39,
     "metadata": {},
     "output_type": "execute_result"
    }
   ],
   "source": [
    "# fix me! # 기대 칼로리의 shape"
   ]
  },
  {
   "cell_type": "markdown",
   "metadata": {},
   "source": [
    "결과를 살펴봅시다. 과일 조합에서 0번째 요소였던 `포도 x 딸기` 의 비율 조합 별 칼로리 계산 결과입니다. 비율 조합은 4가지이고 각 조합을 구성하는 과일은 2가지이므로 결과의 shape은 `(4,2)`입니다. "
   ]
  },
  {
   "cell_type": "code",
   "execution_count": 40,
   "metadata": {},
   "outputs": [
    {
     "data": {
      "text/plain": [
       "array([[11.8, 17.6],\n",
       "       [17.7, 15.4],\n",
       "       [23.6, 13.2],\n",
       "       [29.5, 11. ]])"
      ]
     },
     "execution_count": 40,
     "metadata": {},
     "output_type": "execute_result"
    }
   ],
   "source": [
    "calories_proportion[0, :, :] # (포도의 100g당 칼로리 X 포도의 비율) + (딸기의 100g당 칼로리 X 딸기의 비율)"
   ]
  },
  {
   "cell_type": "code",
   "execution_count": 41,
   "metadata": {},
   "outputs": [
    {
     "data": {
      "text/plain": [
       "(4, 2)"
      ]
     },
     "execution_count": 41,
     "metadata": {},
     "output_type": "execute_result"
    }
   ],
   "source": [
    "calories_proportion[0, :, :].shape "
   ]
  },
  {
   "cell_type": "markdown",
   "metadata": {},
   "source": [
    "결과를 좀 더 보기 좋게 시각화하면 아래와 같습니다. "
   ]
  },
  {
   "cell_type": "markdown",
   "metadata": {},
   "source": [
    "| **Broadcasting** | **[0.2, 0.8]** | **[0.3, 0.7]** | **[0.4, 0.6]** | **[0.5, 0.5]** |\n",
    "| -------------------------------- | -------------- | -------------- | -------------- | -------------- |\n",
    "| **[포도 59, 딸기 22]**                     | [11.8, 17.6]   | [17.7, 15.4]   | [23.6, 13.2]   | [29.5, 11.]    |\n",
    "| **[포도 59, 수박 21]**                     | [11.8, 16.8]   | [17.7, 14.7]   | [23.6, 12.6]   | [29.5, 10.5]   |\n",
    "| **[포도 59, 바나나 81]**                     | [11.8, 64.8]   | [17.7, 56.7]   | [23.6, 48.6]   | [29.5, 40.5]   |\n",
    "| **[딸기 22, 수박 21]**                     | [4.4, 16.8]    | [6.6, 14.7]    | [8.8, 12.6]    | [11., 10.5]    |\n",
    "| **[딸기 22, 바나나 81]**                     | [4.4, 64.8]    | [6.6, 56.7]    | [8.8, 48.6]    | [11., 40.5]    |\n",
    "| **[수박 21, 바나나 81]**                     | [4.2, 64.8]    | [6.3, 56.7]    | [8.4, 48.6]    | [10.5, 40.5]   |"
   ]
  },
  {
   "cell_type": "markdown",
   "metadata": {},
   "source": [
    "위 결과에서 A과일과 B과일의 값을 합쳐야 하므로, 과일에 해당하는 마지막 축으로 `axis`를 파라미터를 설정하여 `sum`연산을 합니다. 축 기준 연산의 자세한 내용은 Section 6에서 다룰 예정입니다. "
   ]
  },
  {
   "cell_type": "code",
   "execution_count": 42,
   "metadata": {},
   "outputs": [],
   "source": [
    "total_expected_calories = calories_proportion.sum(axis=-1)"
   ]
  },
  {
   "cell_type": "code",
   "execution_count": 43,
   "metadata": {
    "scrolled": true
   },
   "outputs": [
    {
     "data": {
      "text/plain": [
       "array([[29.4, 33.1, 36.8, 40.5],\n",
       "       [28.6, 32.4, 36.2, 40. ],\n",
       "       [76.6, 74.4, 72.2, 70. ],\n",
       "       [21.2, 21.3, 21.4, 21.5],\n",
       "       [69.2, 63.3, 57.4, 51.5],\n",
       "       [69. , 63. , 57. , 51. ]])"
      ]
     },
     "execution_count": 43,
     "metadata": {},
     "output_type": "execute_result"
    }
   ],
   "source": [
    "total_expected_calories"
   ]
  },
  {
   "cell_type": "markdown",
   "metadata": {},
   "source": [
    "위 결과를 정리하면 아래와 같습니다. "
   ]
  },
  {
   "cell_type": "markdown",
   "metadata": {},
   "source": [
    "| 기대칼로리 | 20%:80% | 30%:70% | 40%:60% |\t50%:50% |\n",
    "| --- | --- | --- | --- | --- |\n",
    "| **포도X딸기**\t| 29.4 | 33.1 | 36.8 | 40.5 |\n",
    "| **포도X수박** | 28.6 | 32.4 | 36.2 | 40.0 |\n",
    "| **포도X바나나** | 76.6 | 74.4 | 72.2 | 70.0 |\n",
    "| **딸기X수박** | 21.2 | 21.3 | 21.4 | 21.5 |\n",
    "| **딸기X바나나** | 69.2 | 63.3 | 57.4 | 51.5 |\n",
    "| **수박X바나나** | 69.0 | 63.0 | 57.0 | 51.0 |"
   ]
  },
  {
   "cell_type": "markdown",
   "metadata": {},
   "source": [
    "## 3. Boradcasting vs. For 반복문 비교하기"
   ]
  },
  {
   "cell_type": "markdown",
   "metadata": {},
   "source": [
    "이번에는 성적표 예제 데이터를 살펴보며 의 broadcasting이 작동한 경우와 For 반복문을 사용하는 경우 어떤 차이가 있는지 살펴봅시다."
   ]
  },
  {
   "cell_type": "markdown",
   "metadata": {
    "colab_type": "text",
    "id": "O7etXWmWc7m6"
   },
   "source": [
    "#### 데이터) 중간고사, 학생들의 국영수사과 성적표"
   ]
  },
  {
   "cell_type": "markdown",
   "metadata": {
    "colab_type": "text",
    "id": "fkdX5W7EbpQs"
   },
   "source": [
    "| 학생 번호 | 국어 | 영어 | 수학 | 사회 | 과학 |\n",
    "|  ----   | --- |---| --- | --- | --- |\n",
    "|0 |80 |92 |70 | 65 | 92 |\n",
    "|1 |91 |75 |90 | 68 | 85 | \n",
    "|2 |86 |76 |42 | 72 | 88 |\n",
    "|3 |77 |92 |52 | 60 | 80 |\n",
    "|4 |75 |85 |85 | 92 | 95 |\n",
    "|5 |96 |90 |95 | 81 | 72 |"
   ]
  },
  {
   "cell_type": "code",
   "execution_count": 44,
   "metadata": {
    "colab": {},
    "colab_type": "code",
    "id": "XLrjuVpo6fa4",
    "outputId": "55430c5a-6d47-47ee-8149-46c5e54445ed"
   },
   "outputs": [
    {
     "data": {
      "text/plain": [
       "array([[80, 92, 70, 65, 92],\n",
       "       [91, 75, 90, 68, 85],\n",
       "       [86, 76, 42, 72, 88],\n",
       "       [77, 92, 52, 60, 80],\n",
       "       [75, 85, 85, 92, 95],\n",
       "       [96, 90, 95, 81, 72]])"
      ]
     },
     "execution_count": 44,
     "metadata": {},
     "output_type": "execute_result"
    }
   ],
   "source": [
    "scores = np.array([\n",
    "    [80,92,70,65,92],\n",
    "    [91,75,90,68,85],\n",
    "    [86,76,42,72,88],\n",
    "    [77,92,52,60,80],\n",
    "    [75,85,85,92,95],\n",
    "    [96,90,95,81,72]\n",
    "])\n",
    "scores"
   ]
  },
  {
   "cell_type": "markdown",
   "metadata": {
    "colab_type": "text",
    "id": "GLagKLvM6fa7"
   },
   "source": [
    "### 예시) 1번 학생 성적과 다른 학생들의 성적 비교하기\n",
    "\n",
    "번호가 1번인 학생이 자신의 성적 대비 친구들과의 과목 별 성적 차이가 어떻게 나는지 계산하고자 합니다."
   ]
  },
  {
   "cell_type": "markdown",
   "metadata": {
    "colab_type": "text",
    "id": "p5lAsUmy6fa8"
   },
   "source": [
    "#### (1) for 반복문을 이용할 떄"
   ]
  },
  {
   "cell_type": "code",
   "execution_count": 45,
   "metadata": {
    "colab": {},
    "colab_type": "code",
    "id": "B6Hayqcw6fa9",
    "outputId": "95a90ec4-5e08-4c82-b468-83c2b647ee71"
   },
   "outputs": [
    {
     "data": {
      "text/plain": [
       "array([[-11,  17, -20,  -3,   7],\n",
       "       [  0,   0,   0,   0,   0],\n",
       "       [ -5,   1, -48,   4,   3],\n",
       "       [-14,  17, -38,  -8,  -5],\n",
       "       [-16,  10,  -5,  24,  10],\n",
       "       [  5,  15,   5,  13, -13]])"
      ]
     },
     "execution_count": 45,
     "metadata": {},
     "output_type": "execute_result"
    }
   ],
   "source": [
    "my_score = scores[1] # 학생 1번의 성적\n",
    "\n",
    "# fix me!"
   ]
  },
  {
   "cell_type": "markdown",
   "metadata": {
    "colab_type": "text",
    "id": "G_udISnL6fbA"
   },
   "source": [
    "#### (2) Numpy의 broadcasting이 작동했을 때"
   ]
  },
  {
   "cell_type": "code",
   "execution_count": 46,
   "metadata": {
    "colab": {},
    "colab_type": "code",
    "id": "LjnYrdSU6fbA",
    "outputId": "0b72ec98-b79f-465d-a5ae-7dc1a26870c1"
   },
   "outputs": [
    {
     "data": {
      "text/plain": [
       "array([[-11,  17, -20,  -3,   7],\n",
       "       [  0,   0,   0,   0,   0],\n",
       "       [ -5,   1, -48,   4,   3],\n",
       "       [-14,  17, -38,  -8,  -5],\n",
       "       [-16,  10,  -5,  24,  10],\n",
       "       [  5,  15,   5,  13, -13]])"
      ]
     },
     "execution_count": 46,
     "metadata": {},
     "output_type": "execute_result"
    }
   ],
   "source": [
    "my_score = scores[1] # 학생 1번의 성적\n",
    "\n",
    "# fix me! # 자동으로 아래까지 전부 연산이 돌아감"
   ]
  },
  {
   "cell_type": "markdown",
   "metadata": {
    "colab_type": "text",
    "id": "PTR3SVfz6fbi"
   },
   "source": [
    "#  \n",
    "\n",
    "---\n",
    "\n",
    "    Copyright(c) 2019 by Public AI. All rights reserved.<br>\n",
    "    Writen by PAI, SangJae Kang ( rocketgrowthsj@publicai.co.kr )  last updated on 2019/03/04\n",
    "\n",
    "---"
   ]
  }
 ],
 "metadata": {
  "colab": {
   "collapsed_sections": [
    "XzOYIly96fZn",
    "1Lb6sq6L6fZ4",
    "7Qowol7x6faA",
    "Hxnh5Yvg6faG",
    "zvt7nCHK6faP",
    "_VcyWRIx6fab",
    "BqcYHBNU6fah",
    "Ks-hV83Z6fam",
    "-oroqwidwX5I",
    "QG7lgJ7E6fa4",
    "O7etXWmWc7m6",
    "p5lAsUmy6fa8",
    "G_udISnL6fbA",
    "FD0Ci35W6fbJ",
    "rIgrt0Sw6fbN",
    "0cy_BTx66fbX",
    "ieQ2RBV06fbb"
   ],
   "name": "4_Numpy의 주요함수들(1).ipynb",
   "provenance": [],
   "toc_visible": true,
   "version": "0.3.2"
  },
  "kernelspec": {
   "display_name": "Python 3",
   "language": "python",
   "name": "python3"
  },
  "language_info": {
   "codemirror_mode": {
    "name": "ipython",
    "version": 3
   },
   "file_extension": ".py",
   "mimetype": "text/x-python",
   "name": "python",
   "nbconvert_exporter": "python",
   "pygments_lexer": "ipython3",
   "version": "3.6.8"
  }
 },
 "nbformat": 4,
 "nbformat_minor": 2
}
