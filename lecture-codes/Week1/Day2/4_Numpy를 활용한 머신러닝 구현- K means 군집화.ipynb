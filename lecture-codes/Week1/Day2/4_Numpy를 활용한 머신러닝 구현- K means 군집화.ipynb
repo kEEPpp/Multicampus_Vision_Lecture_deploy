{
 "cells": [
  {
   "cell_type": "markdown",
   "metadata": {
    "colab_type": "text",
    "id": "JwXVP87OO6RW"
   },
   "source": [
    "<i><b>Public AI</b></i>\n",
    "<br>\n",
    "###  &nbsp;&nbsp; **✎&nbsp;&nbsp;Week 1. Numpy Basis**\n",
    "# Section 8. Numpy을 활용하여 머신러닝 구현하기 - K-Means 군집화\n",
    "\n",
    "### _Objective_\n",
    "1. **K-Means 알고리즘 개괄** : 대표적인 군집화 방법론 중 하나인 K-Means 알고리즘을 이해합니다.<br>\n",
    "2. **K-Means 알고리즘 구현** : K-Means 알고리즘을 Numpy로 구현해봅니다. <br>"
   ]
  },
  {
   "cell_type": "code",
   "execution_count": 1,
   "metadata": {
    "colab": {},
    "colab_type": "code",
    "id": "k-o8zDSkO6RZ"
   },
   "outputs": [],
   "source": [
    "%matplotlib inline\n",
    "import numpy as np\n",
    "import os\n",
    "\n",
    "import matplotlib.pyplot as plt"
   ]
  },
  {
   "cell_type": "markdown",
   "metadata": {
    "colab_type": "text",
    "id": "-xLXSgg4O6Rd"
   },
   "source": [
    "# \\[ 1. K-Means 알고리즘 개괄 \\]\n",
    "\n",
    "K-Means 알고리즘은 주어진 데이터를 K개의 클러스터로 묶는 '군집화 알고리즘' 중 하나로, 각 클러스터의 중심과 각 데이터 간의 거리 차이의 분산을 최소화하는 방식으로 데이터가 속할 군집을 묶어나갑니다.\n",
    "\n",
    "우선 예제 데이터를 준비합시다. "
   ]
  },
  {
   "cell_type": "code",
   "execution_count": 2,
   "metadata": {},
   "outputs": [],
   "source": [
    "# 예제 데이터셋 준비하기\n",
    "if not os.path.exists(\"./kmeans_dataset.txt\"):\n",
    "    !wget https://s3.ap-northeast-2.amazonaws.com/pai-datasets/alai-deeplearning/kmeans_dataset.txt\n",
    "dataset = np.loadtxt(\"./kmeans_dataset.txt\")"
   ]
  },
  {
   "cell_type": "markdown",
   "metadata": {},
   "source": [
    "예제 데이터를 시각화해봅시다. "
   ]
  },
  {
   "cell_type": "code",
   "execution_count": 3,
   "metadata": {
    "scrolled": true
   },
   "outputs": [
    {
     "data": {
      "text/plain": [
       "array([[ 1.658985,  4.285136],\n",
       "       [-3.453687,  3.424321],\n",
       "       [ 4.838138, -1.151539],\n",
       "       [-5.379713, -3.362104],\n",
       "       [ 0.972564,  2.924086],\n",
       "       [-3.567919,  1.531611],\n",
       "       [ 0.450614, -3.302219],\n",
       "       [-3.487105, -1.724432],\n",
       "       [ 2.668759,  1.594842],\n",
       "       [-3.156485,  3.191137],\n",
       "       [ 3.165506, -3.999838],\n",
       "       [-2.786837, -3.099354],\n",
       "       [ 4.208187,  2.984927],\n",
       "       [-2.123337,  2.943366],\n",
       "       [ 0.704199, -0.479481],\n",
       "       [-0.39237 , -3.963704],\n",
       "       [ 2.831667,  1.574018],\n",
       "       [-0.790153,  3.343144],\n",
       "       [ 2.943496, -3.357075],\n",
       "       [-3.195883, -2.283926],\n",
       "       [ 2.336445,  2.875106],\n",
       "       [-1.786345,  2.554248],\n",
       "       [ 2.190101, -1.90602 ],\n",
       "       [-3.403367, -2.778288],\n",
       "       [ 1.778124,  3.880832],\n",
       "       [-1.688346,  2.230267],\n",
       "       [ 2.592976, -2.054368],\n",
       "       [-4.007257, -3.207066],\n",
       "       [ 2.257734,  3.387564],\n",
       "       [-2.679011,  0.785119],\n",
       "       [ 0.939512, -4.023563],\n",
       "       [-3.674424, -2.261084],\n",
       "       [ 2.046259,  2.735279],\n",
       "       [-3.18947 ,  1.780269],\n",
       "       [ 4.372646, -0.822248],\n",
       "       [-2.579316, -3.497576],\n",
       "       [ 1.889034,  5.1904  ],\n",
       "       [-0.798747,  2.185588],\n",
       "       [ 2.83652 , -2.658556],\n",
       "       [-3.837877, -3.253815],\n",
       "       [ 2.096701,  3.886007],\n",
       "       [-2.709034,  2.923887],\n",
       "       [ 3.367037, -3.184789],\n",
       "       [-2.121479, -4.232586],\n",
       "       [ 2.329546,  3.179764],\n",
       "       [-3.284816,  3.273099],\n",
       "       [ 3.091414, -3.815232],\n",
       "       [-3.762093, -2.432191],\n",
       "       [ 3.542056,  2.778832],\n",
       "       [-1.736822,  4.241041],\n",
       "       [ 2.127073, -2.98368 ],\n",
       "       [-4.323818, -3.938116],\n",
       "       [ 3.792121,  5.135768],\n",
       "       [-4.786473,  3.358547],\n",
       "       [ 2.624081, -3.260715],\n",
       "       [-4.009299, -2.978115],\n",
       "       [ 2.493525,  1.96371 ],\n",
       "       [-2.513661,  2.642162],\n",
       "       [ 1.864375, -3.176309],\n",
       "       [-3.171184, -3.572452],\n",
       "       [ 2.89422 ,  2.489128],\n",
       "       [-2.562539,  2.884438],\n",
       "       [ 3.491078, -3.947487],\n",
       "       [-2.565729, -2.012114],\n",
       "       [ 3.332948,  3.983102],\n",
       "       [-1.616805,  3.573188],\n",
       "       [ 2.280615, -2.559444],\n",
       "       [-2.651229, -3.103198],\n",
       "       [ 2.321395,  3.154987],\n",
       "       [-1.685703,  2.939697],\n",
       "       [ 3.031012, -3.620252],\n",
       "       [-4.599622, -2.185829],\n",
       "       [ 4.196223,  1.126677],\n",
       "       [-2.133863,  3.093686],\n",
       "       [ 4.668892, -2.562705],\n",
       "       [-2.793241, -2.149706],\n",
       "       [ 2.884105,  3.043438],\n",
       "       [-2.967647,  2.848696],\n",
       "       [ 4.479332, -1.764772],\n",
       "       [-4.905566, -2.91107 ]])"
      ]
     },
     "execution_count": 3,
     "metadata": {},
     "output_type": "execute_result"
    }
   ],
   "source": [
    "dataset"
   ]
  },
  {
   "cell_type": "code",
   "execution_count": 4,
   "metadata": {
    "colab": {
     "base_uri": "https://localhost:8080/",
     "height": 33
    },
    "colab_type": "code",
    "executionInfo": {
     "elapsed": 570,
     "status": "ok",
     "timestamp": 1551671305980,
     "user": {
      "displayName": "최선열",
      "photoUrl": "",
      "userId": "00663027191814710813"
     },
     "user_tz": -540
    },
    "id": "kNGnWsIb0RBW",
    "outputId": "6a41bb2f-3c32-4c5c-f0ab-f83b7936fc19"
   },
   "outputs": [
    {
     "data": {
      "image/png": "[encoded data removed]",
      "text/plain": [
       "<Figure size 432x288 with 1 Axes>"
      ]
     },
     "metadata": {
      "needs_background": "light"
     },
     "output_type": "display_data"
    }
   ],
   "source": [
    "# 예제 데이터셋 시각화\n",
    "plt.title(\"The Distribution of Point\")\n",
    "plt.scatter(dataset[:,0],dataset[:,1])\n",
    "plt.show()"
   ]
  },
  {
   "cell_type": "markdown",
   "metadata": {},
   "source": [
    "위 산점도를 보면, 예제 데이터에는 크게 4개의 군집이 있음을 직관적으로 파악할 수 있습니다. 각 군집의 대략적인 중심을 잡아보면 아래와 같을 것입니다. "
   ]
  },
  {
   "cell_type": "code",
   "execution_count": 5,
   "metadata": {
    "scrolled": true
   },
   "outputs": [
    {
     "data": {
      "image/png": "[encoded data removed]",
      "text/plain": [
       "<Figure size 432x288 with 1 Axes>"
      ]
     },
     "metadata": {
      "needs_background": "light"
     },
     "output_type": "display_data"
    }
   ],
   "source": [
    "# 예제 데이터셋 시각화\n",
    "plt.title(\"The Distribution of Point\")\n",
    "plt.scatter(dataset[:,0],dataset[:,1],label='dataset')\n",
    "plt.scatter([-3.5,-2,2.5,2.5],[-2.3,3.5,3.8,-2],\n",
    "            s=200, label=\"centroid\", marker='+')\n",
    "plt.legend()\n",
    "plt.show()"
   ]
  },
  {
   "cell_type": "markdown",
   "metadata": {},
   "source": [
    "<div class=\"alert alert-success\" role=\"alert\">\n",
    "  여기서 군집이 안정화 되었다는 말은 샘플들의 군집 소속이 더이상 바뀌지 않았을 때를 말합니다.\n",
    "</div>"
   ]
  },
  {
   "cell_type": "markdown",
   "metadata": {},
   "source": [
    "위와 같이 군집을 묶어 주기 위해서는 4개의 중심을 잘 잡을 필요가 있습니다. K-Means 군집화 알고리즘에서는 **중심점과 데이터 간의 거리**를 구하고, 그 거리가 가장 작아지는 중심점을 찾도록, 중심점을 반복적으로 옮겨가는 과정을 반복합니다. 현재 군집에 속한 실제 요소를 고려해 중심점을 반복적으로 계산하다가 중심이 안정화되면 알고리즘을 중단합니다.\n",
    "\n",
    "---"
   ]
  },
  {
   "cell_type": "markdown",
   "metadata": {
    "colab_type": "text",
    "id": "M1nhRjsbO6Rl"
   },
   "source": [
    "# \\[ 2. Numpy로  K-Means 구현하기 \\]\n",
    "\n",
    "K-means의 알고리즘의 순서는 다음과 같습니다: \n",
    "\n",
    "1. 초기 중심점을 설정하기 위해 K개의 점 임의 생성\n",
    "2. K개의 중심점과 각 데이터 사이의 거리 계산\n",
    "3. 각 데이터를 거리가 가장 가까운 군집으로 할당\n",
    "4. 각 군집 별 점들의 평균을 계산 후, 군집의 중심점을 다시 계산\n",
    "5. 2~4의 과정을 통해 각 데이터 별 군집이 바뀌지 않았으면, 이 과정을 끝냄\n",
    "\n",
    "각 단계를 Numpy로 구현하는 코드를 작성해본 후, 전체 코드를 합쳐보겠습니다. "
   ]
  },
  {
   "cell_type": "markdown",
   "metadata": {
    "colab_type": "text",
    "id": "ZCgp3cyUO6TD"
   },
   "source": [
    "## 1. 각 단계별로 Numpy Code 작성하기"
   ]
  },
  {
   "cell_type": "markdown",
   "metadata": {
    "colab": {},
    "colab_type": "code",
    "id": "VsLP4DiJO6TE",
    "outputId": "4ed8a800-ccc2-4f19-ae8a-222e91fc50a0"
   },
   "source": [
    "### (1) 초기 중심점을 설정하기 위해 K개의 점 임의 생성\n",
    "\n",
    "예제 데이터는 두 개의 축으로 표현할 수 있는 데이터입니다. K-means 알고리즘은 데이터 공간에서 임의의 점 K개(여기선 4개)를 랜덤하게 산출하는 데서 시작됩니다. 임의로 산출한다고 하지만, 임의의 중심점 4개는 데이터 셋 부근에 있어야 합니다. 따라서 데이터셋의 범위를 파악하고 그 안에서 임의의 값을 뽑아 점 4개를 생성해보겠습니다."
   ]
  },
  {
   "cell_type": "markdown",
   "metadata": {},
   "source": [
    "Numpy의 `np.random`을 이용하면 데이터의 최소 최대값 범위 안에서 지정한 확률 분포에 따라 임의의 값을 추출할 수 있습니다. 예를 들어 위 데이터셋에서 x축 데이터의 범위 안의 수를 동일한 확률로 뽑고 싶다면, 확률 분포를 연속균등분포(`uniform`)으로 설정하고 샘플링을 하면 됩니다. "
   ]
  },
  {
   "cell_type": "code",
   "execution_count": 6,
   "metadata": {},
   "outputs": [
    {
     "data": {
      "text/plain": [
       "0.38417403656085725"
      ]
     },
     "execution_count": 6,
     "metadata": {},
     "output_type": "execute_result"
    }
   ],
   "source": [
    "# fix me! # x축의 최소값\n",
    "# fix me! # x축의 최대값\n",
    "# fix me! # 연속 균등 분포로 임의의 x축 값 추출하기 "
   ]
  },
  {
   "cell_type": "markdown",
   "metadata": {},
   "source": [
    "위와 같은 방법으로 x축과 y축 각각 범위 내 랜덤한 값 K개를 산출한다면, <br>\n",
    "> 원활한 시각화를 위해 중심 좌표들의 변수명은 **centroids**로 설정해주세요!"
   ]
  },
  {
   "cell_type": "code",
   "execution_count": 7,
   "metadata": {},
   "outputs": [],
   "source": [
    "# fix me! # K점의 수 설정\n",
    "\n",
    "# x축과 y축의 최소 최대값을 추출\n",
    "# fix me!\n",
    "\n",
    "# k개의 랜덤 x값과 랜덤 y값을 추출하여 짝을 만든 후, centroids 리스트에 추가\n",
    "# fix me! # with python for 구문"
   ]
  },
  {
   "cell_type": "markdown",
   "metadata": {},
   "source": [
    "위의 코드를 좀 더 numpy답게 작성하면 아래처럼 작성할 수 있습니다."
   ]
  },
  {
   "cell_type": "code",
   "execution_count": 8,
   "metadata": {},
   "outputs": [],
   "source": [
    "# fix me! # Numpy를 사용해 코드 작성하기"
   ]
  },
  {
   "cell_type": "markdown",
   "metadata": {},
   "source": [
    "위와 같이 랜덤으로 산출한 중심점은 아래와 같이 산재해 있습니다."
   ]
  },
  {
   "cell_type": "code",
   "execution_count": 9,
   "metadata": {},
   "outputs": [
    {
     "data": {
      "image/png": "[encoded data removed]",
      "text/plain": [
       "<Figure size 432x288 with 1 Axes>"
      ]
     },
     "metadata": {
      "needs_background": "light"
     },
     "output_type": "display_data"
    }
   ],
   "source": [
    "# 예제 데이터셋 시각화\n",
    "plt.title(\"The Distribution of Point\")\n",
    "plt.scatter(dataset[:,0],dataset[:,1],label='dataset')\n",
    "plt.scatter(centroids[:,0],centroids[:,1],\n",
    "            s=200, label=\"centroid\", marker='+')\n",
    "plt.legend()\n",
    "plt.show()"
   ]
  },
  {
   "cell_type": "markdown",
   "metadata": {},
   "source": [
    "### (2) 중심점과 각 데이터 사이의 거리를 계산\n",
    "\n",
    "거리 공식은 KNN 때와 마찬가지로, 아래와 같습니다. 우리는 모든 중심점과 각 데이터 간 거리를 구해야 합니다.\n",
    "\n",
    "$$\n",
    "point1 = (x_1,y_1), point2 = (x_2,y_2)\\mbox{일 때}\\\\\n",
    "distance\\_between\\_point1\\_and\\_point2 = \\sqrt{(x_1-x_2)^2 + (y_1-y_2)^2}\n",
    "$$"
   ]
  },
  {
   "cell_type": "code",
   "execution_count": 10,
   "metadata": {
    "scrolled": true
   },
   "outputs": [
    {
     "data": {
      "text/plain": [
       "array([[ 6.84659299,  8.85966923,  2.0100346 ,  8.67970639,  5.76577015,\n",
       "         7.85266918,  2.94284286,  6.76226368,  4.01178337,  8.48237012,\n",
       "         1.62619761,  6.07386234,  5.44652038,  7.55619695,  3.16926666,\n",
       "         3.96782333,  3.97098002,  6.99824684,  1.02644567,  6.44027557,\n",
       "         5.32844211,  7.04304002,  1.15351247,  6.65929923,  6.42573081,\n",
       "         6.74824339,  0.72569696,  7.29852296,  5.84682704,  6.71331911,\n",
       "         2.8329325 ,  6.91911162,  5.24921562,  7.65877381,  1.92017983,\n",
       "         5.93017679,  7.6862493 ,  6.09470653,  0.49591988,  7.13587499,\n",
       "         6.36572572,  7.96989853,  0.81860411,  5.67752313,  5.63000629,\n",
       "         8.63301764,  1.4477446 ,  7.00606334,  5.16298085,  8.28160212,\n",
       "         1.27153539,  7.72720178,  7.53128268,  9.86731487,  1.08052899,\n",
       "         7.27802914,  4.40360883,  7.63707053,  1.59496351,  6.52563429,\n",
       "         4.87719163,  7.83454422,  1.59130295,  5.82082554,  6.35925112,\n",
       "         7.6819318 ,  0.98052985,  5.93971241,  5.60689465,  7.24920599,\n",
       "         1.26277591,  7.84565674,  3.62941169,  7.67012894,  1.43739065,\n",
       "         6.04120411,  5.43088213,  8.1162683 ,  1.37829677,  8.16688541],\n",
       "       [ 8.53294702, 10.7983843 ,  2.55819902, 10.04359482,  7.58330568,\n",
       "         9.75050548,  4.22654986,  8.38214483,  5.65939082, 10.42122841,\n",
       "         1.52172957,  7.46938252,  6.70343475,  9.4956332 ,  5.10164671,\n",
       "         5.0571555 ,  5.58451995,  8.90712923,  1.74921124,  7.98120583,\n",
       "         6.97614886,  8.98268953,  3.05310982,  8.11435593,  8.11262184,\n",
       "         8.68823745,  2.64271567,  8.67954102,  7.4862105 ,  8.60114362,\n",
       "         3.73232736,  8.45641205,  6.94824593,  9.57364193,  2.89525014,\n",
       "         7.24032343,  9.31489069,  8.02851676,  2.09994568,  8.5078453 ,\n",
       "         8.00997325,  9.90935108,  1.39131111,  6.80018272,  7.26635645,\n",
       "        10.57171081,  1.57065428,  8.51559126,  6.57759543, 10.19847203,\n",
       "         2.63134788,  8.98496595,  8.88147878, 11.79282047,  2.08161532,\n",
       "         8.69767288,  6.06641311,  9.57600993,  2.84299387,  7.83036039,\n",
       "         6.43882995,  9.77429718,  1.19225783,  7.41915525,  7.79988419,\n",
       "         9.60847752,  2.63836457,  7.33391128,  7.24551504,  9.18554595,\n",
       "         1.62919233,  9.38126197,  4.85210215,  9.60889177,  1.14073982,\n",
       "         7.61158013,  6.97615433, 10.0539352 ,  1.9468449 ,  9.59641235],\n",
       "       [ 5.05961633,  0.43015991,  9.11021053,  6.75483371,  4.22119931,\n",
       "         1.54918456,  7.34749997,  4.77763482,  6.09126768,  0.16998303,\n",
       "         9.52776675,  6.1637009 ,  7.45528755,  1.12828788,  5.29602641,\n",
       "         7.56968853,  6.25447022,  2.47445408,  8.9069897 ,  5.33132717,\n",
       "         5.58593612,  1.54143049,  7.35488307,  5.82754814,  5.09365138,\n",
       "         1.75960689,  7.7542907 ,  6.30028142,  5.51509025,  2.33221986,\n",
       "         8.21709439,  5.32543488,  5.30228007,  1.26818698,  8.54569361,\n",
       "         6.57868739,  5.56513234,  2.59527755,  8.34041048,  6.32863176,\n",
       "         5.40898396,  0.55175341,  9.08738349,  7.36621386,  5.57796328,\n",
       "         0.22911049,  9.34162008,  5.50352126,  6.79419743,  1.92497125,\n",
       "         8.07774426,  7.06780925,  7.3422937 ,  1.57080571,  8.61724899,\n",
       "         6.07332304,  5.84171709,  0.83760021,  8.05332628,  6.62004197,\n",
       "         6.16636238,  0.7033823 ,  9.71208544,  5.10491359,  6.64602233,\n",
       "         1.71281193,  7.87316644,  6.17912841,  5.56927978,  1.56483196,\n",
       "         9.15782656,  5.40501305,  7.68683582,  1.11394996,  9.70202993,\n",
       "         5.21662194,  6.13094695,  0.34254373,  9.10211037,  6.18480766],\n",
       "       [ 1.80548032,  5.83408172,  4.52183999,  9.74407337,  1.38710972,\n",
       "         5.98784265,  6.19781574,  7.24621298,  1.06881004,  5.51036205,\n",
       "         6.65946957,  7.65896597,  1.9231388 ,  4.45884255,  3.48430556,\n",
       "         7.10872333,  1.15073255,  3.19895259,  5.99538726,  7.37342137,\n",
       "         0.2693668 ,  4.10940302,  4.51405739,  7.86000694,  1.38620623,\n",
       "         4.02864502,  4.66828527,  8.59427216,  0.78417379,  5.32290834,\n",
       "         6.77241273,  7.72368026,  0.30516709,  5.5737185 ,  3.9944515 ,\n",
       "         7.82845998,  2.62045013,  3.14967391,  5.28965605,  8.50244438,\n",
       "         1.29972338,  5.04179086,  5.88428734,  8.15588573,  0.57371595,\n",
       "         5.6470777 ,  6.4671656 ,  7.89995848,  1.2315006 ,  4.37641866,\n",
       "         5.59319178,  9.32755202,  2.92547178,  7.14891429,  5.87453789,\n",
       "         8.44262597,  0.66469599,  4.83652655,  5.80053544,  8.26785736,\n",
       "         0.58333474,  4.89319339,  6.6569052 ,  6.72494133,  1.70783619,\n",
       "         4.05650409,  5.16570422,  7.57206913,  0.5489001 ,  4.02229262,\n",
       "         6.26649649,  8.41911188,  2.38718049,  4.48318877,  5.67634547,\n",
       "         6.98503767,  0.71162863,  5.29593787,  4.87394599,  9.09325662]])"
      ]
     },
     "execution_count": 10,
     "metadata": {},
     "output_type": "execute_result"
    }
   ],
   "source": [
    "# 각 중심점을 기준으로 각 데이터 간 거리 계산하기\n",
    "# fix me! # with python for 구문"
   ]
  },
  {
   "cell_type": "code",
   "execution_count": 11,
   "metadata": {},
   "outputs": [
    {
     "data": {
      "text/plain": [
       "(4, 80)"
      ]
     },
     "execution_count": 11,
     "metadata": {},
     "output_type": "execute_result"
    }
   ],
   "source": [
    "# fix me! # 결과 행렬의 shape은?"
   ]
  },
  {
   "cell_type": "code",
   "execution_count": 12,
   "metadata": {},
   "outputs": [
    {
     "data": {
      "text/plain": [
       "6.948245932288003"
      ]
     },
     "execution_count": 12,
     "metadata": {},
     "output_type": "execute_result"
    }
   ],
   "source": [
    "# fix me! # 1번째 중심점과 32번째 데이터 간 거리"
   ]
  },
  {
   "cell_type": "markdown",
   "metadata": {},
   "source": [
    "* Numpy Code의 reshape와 broadcasting을 활용하면 간결하게 나타낼 수 있습니다."
   ]
  },
  {
   "cell_type": "code",
   "execution_count": 13,
   "metadata": {},
   "outputs": [
    {
     "data": {
      "text/plain": [
       "(4, 80)"
      ]
     },
     "execution_count": 13,
     "metadata": {},
     "output_type": "execute_result"
    }
   ],
   "source": [
    "# fix me! # Numpy의 reshape과 broadcasting을 활용하기"
   ]
  },
  {
   "cell_type": "markdown",
   "metadata": {},
   "source": [
    "### (3) 각 데이터를 거리가 가장 가까운 군집으로 할당\n",
    "\n",
    "각 데이터를 거리가 가장 가까운 군집으로 할당 하기 위해서는, `argmin`을 통해 간단히 구할 수 있습니다."
   ]
  },
  {
   "cell_type": "code",
   "execution_count": 14,
   "metadata": {},
   "outputs": [
    {
     "data": {
      "text/plain": [
       "array([3, 2, 0, 2, 3, 2, 0, 2, 3, 2, 1, 0, 3, 2, 0, 0, 3, 2, 0, 2, 3, 2,\n",
       "       0, 2, 3, 2, 0, 2, 3, 2, 0, 2, 3, 2, 0, 0, 3, 2, 0, 2, 3, 2, 0, 0,\n",
       "       3, 2, 0, 2, 3, 2, 0, 2, 3, 2, 0, 2, 3, 2, 0, 0, 3, 2, 1, 2, 3, 2,\n",
       "       0, 0, 3, 2, 0, 2, 3, 2, 1, 2, 3, 2, 0, 2])"
      ]
     },
     "execution_count": 14,
     "metadata": {},
     "output_type": "execute_result"
    }
   ],
   "source": [
    "# fix me! # 각 데이터를 가장 가까운 군집으로 할당하기"
   ]
  },
  {
   "cell_type": "markdown",
   "metadata": {},
   "source": [
    "각 점에서 가장 가까운 중심점의 index를 위와 같은 방식으로 산출할 수 있습니다."
   ]
  },
  {
   "cell_type": "markdown",
   "metadata": {},
   "source": [
    "### (4) 각 군집 별 점들의 평균을 계산 후, 군집의 중심점을 다시 계산"
   ]
  },
  {
   "cell_type": "code",
   "execution_count": 15,
   "metadata": {},
   "outputs": [],
   "source": [
    "# for 구문을 사용해 k개의 군집을 순회하며 각 군집의 평균을 군집의 중심점으로 다시 할당하기\n",
    "# fix me! "
   ]
  },
  {
   "cell_type": "markdown",
   "metadata": {},
   "source": [
    "### (5) 2~4의 과정을 통해 각 데이터 별 군집이 바뀌지 않았으면, 이 과정을 끝냄"
   ]
  },
  {
   "cell_type": "code",
   "execution_count": 16,
   "metadata": {
    "scrolled": false
   },
   "outputs": [
    {
     "data": {
      "image/png": "[encoded data removed]",
      "text/plain": [
       "<Figure size 432x288 with 1 Axes>"
      ]
     },
     "metadata": {
      "needs_background": "light"
     },
     "output_type": "display_data"
    },
    {
     "data": {
      "image/png": "[encoded data removed]",
      "text/plain": [
       "<Figure size 432x288 with 1 Axes>"
      ]
     },
     "metadata": {
      "needs_background": "light"
     },
     "output_type": "display_data"
    },
    {
     "data": {
      "image/png": "[encoded data removed]",
      "text/plain": [
       "<Figure size 432x288 with 1 Axes>"
      ]
     },
     "metadata": {
      "needs_background": "light"
     },
     "output_type": "display_data"
    },
    {
     "data": {
      "image/png": "[encoded data removed]",
      "text/plain": [
       "<Figure size 432x288 with 1 Axes>"
      ]
     },
     "metadata": {
      "needs_background": "light"
     },
     "output_type": "display_data"
    },
    {
     "data": {
      "image/png": "[encoded data removed]",
      "text/plain": [
       "<Figure size 432x288 with 1 Axes>"
      ]
     },
     "metadata": {
      "needs_background": "light"
     },
     "output_type": "display_data"
    }
   ],
   "source": [
    "num_data = dataset.shape[0]\n",
    "\n",
    "cluster_per_point = np.ones((num_data))\n",
    "\n",
    "counter = 0\n",
    "while True:\n",
    "    prev_cluster_per_point = cluster_per_point\n",
    "    \n",
    "    diff_mat = (centroids.reshape(-1,1,2) - dataset.reshape(1,-1,2))\n",
    "    dists = np.sqrt((diff_mat**2).sum(axis=-1))\n",
    "    cluster_per_point = dists.argmin(axis=0)\n",
    "\n",
    "    for i in range(k):\n",
    "        centroids[i] = dataset[cluster_per_point==i].mean(axis=0)\n",
    "        \n",
    "    if np.all(prev_cluster_per_point == cluster_per_point):\n",
    "        break\n",
    "        \n",
    "    counter += 1\n",
    "    plt.title(\"{}th Distribution of Dataset\".format(counter))\n",
    "    for idx, color in enumerate(['r','g','b','y']):\n",
    "        mask = (cluster_per_point==idx)\n",
    "        plt.scatter(dataset[mask,0],dataset[mask,1],\n",
    "                    label='dataset', c=color)\n",
    "        plt.scatter(centroids[:,0],centroids[:,1],\n",
    "                    s=200, label=\"centroid\", marker='+')\n",
    "    plt.show()"
   ]
  },
  {
   "cell_type": "markdown",
   "metadata": {},
   "source": [
    "## 2. 전체 Numpy Code 작성하기"
   ]
  },
  {
   "cell_type": "code",
   "execution_count": 17,
   "metadata": {},
   "outputs": [],
   "source": [
    "def cluster_kmeans(dataset, k):    \n",
    "    # (1) 중심점 초기화\n",
    "    min_x = dataset[:,0].min()\n",
    "    max_x = dataset[:,0].max() \n",
    "    min_y = dataset[:,1].min()\n",
    "    max_y = dataset[:,1].max() \n",
    "\n",
    "    center_x = np.random.uniform(low=min_x, high=max_x, size=k)\n",
    "    center_y = np.random.uniform(low=min_y, high=max_y, size=k)\n",
    "    centroids = np.stack([center_x,center_y],axis=-1)\n",
    "    \n",
    "    # (2) ~ (5) 순회\n",
    "    num_data = dataset.shape[0]\n",
    "    cluster_per_point = np.zeros((num_data)) # 각 점 별 군집\n",
    "\n",
    "    counter = 0\n",
    "    while True:\n",
    "        prev_cluster_per_point = cluster_per_point\n",
    "        \n",
    "        # (2) 거리 계산\n",
    "        diff_mat = (centroids.reshape(-1,1,2) - dataset.reshape(1,-1,2))\n",
    "        dists = np.sqrt((diff_mat**2).sum(axis=-1))\n",
    "        # (3) 각 데이터를 거리가 가장 가까운 군집으로 할당\n",
    "        cluster_per_point = dists.argmin(axis=0)\n",
    "        \n",
    "        # (4) 각 군집 별 점들의 평균을 계산 후, 군집의 중심점을 다시 계산\n",
    "        for i in range(k):\n",
    "            centroids[i] = dataset[cluster_per_point==i].mean(axis=0)\n",
    "\n",
    "        if np.all(prev_cluster_per_point == cluster_per_point):\n",
    "            break\n",
    "\n",
    "        counter += 1\n",
    "        plt.title(\"{}th Distribution of Dataset\".format(counter))\n",
    "        for idx, color in enumerate(['r','g','b','y']):\n",
    "            mask = (cluster_per_point==idx)\n",
    "            plt.scatter(dataset[mask,0],dataset[mask,1],\n",
    "                        label='dataset', c=color)\n",
    "            plt.scatter(centroids[:,0],centroids[:,1],\n",
    "                        s=200, label=\"centroid\", marker='+')\n",
    "        plt.show()\n",
    "    \n",
    "    return centroids"
   ]
  },
  {
   "cell_type": "code",
   "execution_count": 18,
   "metadata": {
    "scrolled": false
   },
   "outputs": [
    {
     "data": {
      "image/png": "[encoded data removed]",
      "text/plain": [
       "<Figure size 432x288 with 1 Axes>"
      ]
     },
     "metadata": {
      "needs_background": "light"
     },
     "output_type": "display_data"
    },
    {
     "data": {
      "image/png": "[encoded data removed]",
      "text/plain": [
       "<Figure size 432x288 with 1 Axes>"
      ]
     },
     "metadata": {
      "needs_background": "light"
     },
     "output_type": "display_data"
    },
    {
     "data": {
      "image/png": "[encoded data removed]",
      "text/plain": [
       "<Figure size 432x288 with 1 Axes>"
      ]
     },
     "metadata": {
      "needs_background": "light"
     },
     "output_type": "display_data"
    },
    {
     "data": {
      "text/plain": [
       "array([[ 2.65077367, -2.79019029],\n",
       "       [-3.53973889, -2.89384326],\n",
       "       [ 2.6265299 ,  3.10868015],\n",
       "       [-2.46154315,  2.78737555]])"
      ]
     },
     "execution_count": 18,
     "metadata": {},
     "output_type": "execute_result"
    }
   ],
   "source": [
    "cluster_kmeans(dataset,4)"
   ]
  },
  {
   "cell_type": "markdown",
   "metadata": {},
   "source": [
    "<div class=\"alert alert-success\" role=\"alert\">\n",
    "  1. \"군집은 각 데이터 포인트가 레이블을 가진다는 면에서 classification 문제와 조금 비슷해 보입니다. 그러나 정답을 모르고 있으며 레이블 자체에 어떤 의미가 있지는 않습니다.\" 로 마무리 <br>\n",
    "  2. sklearn을 사용해 원형이 아닌 클러스터를 구분하지 못하는것, 복잡한 모양의 클러스터를 구분하지 못하는 것을 보여주기\n",
    "</div>"
   ]
  },
  {
   "cell_type": "markdown",
   "metadata": {
    "colab_type": "text",
    "id": "sqE9TAC1O6UF"
   },
   "source": [
    "#  \n",
    "\n",
    "---\n",
    "\n",
    "    Copyright(c) 2019 by Public AI. All rights reserved.<br>\n",
    "    Writen by PAI, SangJae Kang ( rocketgrowthsj@publicai.co.kr )  last updated on 2019/03/04\n",
    "\n",
    "---"
   ]
  }
 ],
 "metadata": {
  "colab": {
   "collapsed_sections": [
    "34r66vr2O6Re",
    "UvPQnmcgyKzr",
    "F_ac_F0QO6Rm",
    "KVPGifrHO6Rs",
    "w0DhJX6fO6Rw",
    "GR30sa9BO6R1",
    "h3-sxdSFO6R-",
    "l2xZeidfO6SM",
    "_cqP61PsO6Sf",
    "Jji3drmvO6Sw",
    "ZCgp3cyUO6TD",
    "4swWHPVWO6Tm"
   ],
   "name": "5_Numpy의 주요함수들(2).ipynb",
   "provenance": [],
   "toc_visible": true,
   "version": "0.3.2"
  },
  "kernelspec": {
   "display_name": "Python 3",
   "language": "python",
   "name": "python3"
  },
  "language_info": {
   "codemirror_mode": {
    "name": "ipython",
    "version": 3
   },
   "file_extension": ".py",
   "mimetype": "text/x-python",
   "name": "python",
   "nbconvert_exporter": "python",
   "pygments_lexer": "ipython3",
   "version": "3.6.8"
  }
 },
 "nbformat": 4,
 "nbformat_minor": 2
}
