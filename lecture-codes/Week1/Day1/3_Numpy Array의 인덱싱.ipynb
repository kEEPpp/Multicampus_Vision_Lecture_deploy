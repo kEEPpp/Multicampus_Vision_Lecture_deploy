{
 "cells": [
  {
   "cell_type": "markdown",
   "metadata": {},
   "source": [
    "<i><b>Public AI</b></i>\n",
    "<br>\n",
    "###  &nbsp;&nbsp; **✎&nbsp;&nbsp;Week 1. Numpy Basis**\n",
    "# Section 3. Numpy Array 의 인덱싱\n",
    "\n",
    "이제 Array를 생성하는 방법을 배웠으니 원하는 값을 가져오는 방법을 배울 차례입니다. 앞서 Section 2에서 2차원 행렬에서 `A[0,0]`과 같은 식으로 원하는 행렬에서 원하는 값을 가져왔었습니다. Section 2에서는 작동 방식에 대한 구체적인 설명 없이 지나갔었죠. \n",
    "\n",
    "이번 Section 3에서는 Numpy Array에서 원하는 값을 가져오는 인덱싱 기능의 그 구체적인 작동방식과 다양한 인덱싱 방식을 배워보겠습니다. 인덱싱 방법을 이해하면 컴퓨터가 데이터를 처리하는 기본 기능인 CRUD, 생성(Create), 읽기(Read), 갱신(Update), 삭제(Delete) 중 읽기, 갱신, 삭제 등을 자유롭게 할 수 있습니다. \n",
    "\n",
    "### _Objective_\n",
    "1. **원하는 위치의 원소 또는 축 가져오기** : Numpy Array에서 원하는 위치의 값을 가져오는 방법을 배웁니다.\n",
    "2. **조건에 맞는 값 가져오기** : Numpy Array에서 조건식을 이용하여 조건에 맞는 값을 가져오는 방법을 배웁니다. "
   ]
  },
  {
   "cell_type": "code",
   "execution_count": 1,
   "metadata": {},
   "outputs": [],
   "source": [
    "import numpy as np"
   ]
  },
  {
   "cell_type": "markdown",
   "metadata": {
    "colab_type": "text",
    "id": "Rg9TEPR8jS5o"
   },
   "source": [
    "# \\[ 1. 원하는 위치의 원소 또는 축 가져오기 \\]\n",
    " \n",
    "Python의 `string`, `list` 등의 값을 가져올 때 썼던 인덱싱(indexing) 방법과 유사한 방법으로 `np.array`에서 원하는 값을 가져올 수 있습니다. Numpy Array도 `string`, `list` 등과 마찬가지로 **구성하는 요소에 순서**가 있기 때문입니다. 아래 데이터를 예제로 이용하여 Numpy Array에서 원하는 위치에 있는 값을 가져오는 방법을 배워봅시다."
   ]
  },
  {
   "cell_type": "markdown",
   "metadata": {
    "colab_type": "text",
    "id": "Z8GYFD3WlnSN"
   },
   "source": [
    "#### ** 예제 데이터 ) 학생들의 국영수사과 성적표**"
   ]
  },
  {
   "cell_type": "markdown",
   "metadata": {
    "colab_type": "text",
    "id": "vjgIhpLlmukD"
   },
   "source": [
    "| 학생 번호 | 국어 | 영어 | 수학 | 사회 | 과학 |\n",
    "|  ----   | --- |---| --- | --- | --- |\n",
    "|0 |80 |92 |70 | 65 | 92 |\n",
    "|1 |91 |75 |90 | 68 | 85 | \n",
    "|2 |86 |76 |42 | 72 | 88 |\n",
    "|3 |77 |92 |52 | 60 | 80 |\n",
    "|4 |75 |85 |85 | 92 | 95 |\n",
    "|5 |96 |90 |95 | 81 | 72 |\n",
    "\n"
   ]
  },
  {
   "cell_type": "code",
   "execution_count": 32,
   "metadata": {},
   "outputs": [
    {
     "data": {
      "text/plain": [
       "array([[80, 92, 70, 65, 92],\n",
       "       [91, 75, 90, 68, 85],\n",
       "       [86, 76, 42, 72, 88],\n",
       "       [77, 92, 52, 60, 80],\n",
       "       [75, 85, 85, 92, 95],\n",
       "       [96, 90, 95, 81, 72]])"
      ]
     },
     "execution_count": 32,
     "metadata": {},
     "output_type": "execute_result"
    }
   ],
   "source": [
    "scores = np.array([\n",
    "    [80,92,70,65,92],\n",
    "    [91,75,90,68,85],\n",
    "    [86,76,42,72,88],\n",
    "    [77,92,52,60,80],\n",
    "    [75,85,85,92,95],\n",
    "    [96,90,95,81,72]\n",
    "])\n",
    "scores"
   ]
  },
  {
   "cell_type": "markdown",
   "metadata": {
    "colab_type": "text",
    "id": "Arf8vqDqjS5x"
   },
   "source": [
    "## 1. 특정 위치의 단일 원소 가져오기\n",
    "\n",
    "+ Numpy Array를 인덱싱 할 때에도 list나 string 인덱싱에서 사용했던 대괄호 형식 `[인덱스 값]`을 사용합니다. \n",
    "+ N차원 행렬의 경우 각각의 축에 대해 위치를 특정하면, 원하는 위치의 원소를 가져올 수 있습니다."
   ]
  },
  {
   "cell_type": "markdown",
   "metadata": {
    "colab_type": "text",
    "id": "7o6fruwGjS5y"
   },
   "source": [
    "### (1) 원소 1개 가져오기 \n",
    "2차원 행렬에는 축이 2개 있으므로 단일 원소를 가져오려면 각 축에 대한 인덱스 값이 필요하며, 이는 `[a, b]`로 표현할 수 있습니다. 첫번째 값 `a`는 \"0번 축에서 가져올 요소의 인덱스 값\"이며 두번째 값 `b`는 \"1번 축에서 가져올 요소의 인덱스 값\"을 의미합니다. 2차원 행렬에서는 axis = 0이 행, axis = 1이 열을 뜻하므로, `[행의 인덱스, 열의 인덱스]`라고 생각하면 됩니다. 각 축에서 가져오고자 하는 값의 인덱스를 을 특정하면 해당하는 값에 바로 접근할 수 있습니다. "
   ]
  },
  {
   "cell_type": "markdown",
   "metadata": {},
   "source": [
    "#### 1) 학생 번호 2번의 국어 성적을 가져오기"
   ]
  },
  {
   "cell_type": "code",
   "execution_count": 3,
   "metadata": {
    "cellView": "both",
    "colab": {
     "base_uri": "https://localhost:8080/",
     "height": 33
    },
    "colab_type": "code",
    "executionInfo": {
     "elapsed": 684,
     "status": "ok",
     "timestamp": 1551674329123,
     "user": {
      "displayName": "최선열",
      "photoUrl": "",
      "userId": "00663027191814710813"
     },
     "user_tz": -540
    },
    "id": "4VDSeR7jjS50",
    "outputId": "ec26255a-793f-4295-9617-79c62d490c10"
   },
   "outputs": [
    {
     "data": {
      "text/plain": [
       "86"
      ]
     },
     "execution_count": 3,
     "metadata": {},
     "output_type": "execute_result"
    }
   ],
   "source": [
    "# fix me! # 국어의 열 index = 0"
   ]
  },
  {
   "cell_type": "markdown",
   "metadata": {
    "colab_type": "text",
    "id": "0VK3VBffjS56"
   },
   "source": [
    "#### 2) 학생 번호 3번의 수학 성적을 가져오기"
   ]
  },
  {
   "cell_type": "code",
   "execution_count": 4,
   "metadata": {
    "colab": {
     "base_uri": "https://localhost:8080/",
     "height": 33
    },
    "colab_type": "code",
    "executionInfo": {
     "elapsed": 513,
     "status": "ok",
     "timestamp": 1551674329403,
     "user": {
      "displayName": "최선열",
      "photoUrl": "",
      "userId": "00663027191814710813"
     },
     "user_tz": -540
    },
    "id": "O513g6Q9jS57",
    "outputId": "1bbcdadd-b9ca-4f25-d170-28e80f496056"
   },
   "outputs": [
    {
     "data": {
      "text/plain": [
       "52"
      ]
     },
     "execution_count": 4,
     "metadata": {},
     "output_type": "execute_result"
    }
   ],
   "source": [
    "# fix me! # 수학의 열 index = 2"
   ]
  },
  {
   "cell_type": "markdown",
   "metadata": {
    "colab_type": "text",
    "id": "Arf8vqDqjS5x"
   },
   "source": [
    "## 2. 축을 기준으로 원하는 값 가져오기\n",
    " \n",
    "+ Numpy Array에서는 원하는 축을 기준으로 값을 선택하여 한 번에 가져올 수 있습니다.\n",
    "+ `[ ]` 안에 인덱스 값은 0번 축부터 순서대로 인덱싱하는 방식이며, 해당 축의 값을 전부 가져온다면 `:`를 사용할 수 있습니다.\n",
    "+ 0번 축부터 순차적으로 인덱싱을 시작해나가다가 더 이상 인덱싱 값을 특정 하지 않으면 그 이상의 축에 대해서는 값을 전부 가져오는 것으로 이해하고 작동합니다. \n",
    "+ 2차원 행렬에서는 원하는 행 또는 1번 축(열)을 특정하여 원하는 축에 있는 원소를 전부 가져올 수 있습니다."
   ]
  },
  {
   "cell_type": "markdown",
   "metadata": {
    "colab_type": "text",
    "id": "t6X3h8PMjS6B"
   },
   "source": [
    "### (1) 특정 행 전체 가져오기 \n",
    "\n",
    "Numpy에서 인덱스는 축 순서대로 입력해야 합니다. n차원의 Array라면 0번 축부터 순서대로 인덱스 값을 입력하면 됩니다. 가령 2차원 행렬에서는 0번 축(행)에서 하나를 선택하고 1번 축(열)은 전부 가져오려면 `[0번 축에서 선택한 요소의 인덱스, :]`로 설정합니다. 여기서 `:` 는 파이썬의 리스트에서와 같이 \"전부\"를 의미합니다. 열을 `:`로 표시하지 않고 비워 두면 자동으로 전체 열을 가져옵니다. `:`은 전체를 의미하므로, 선택한 행에 해당하는 데이터를 전부 가져오게 됩니다. "
   ]
  },
  {
   "cell_type": "markdown",
   "metadata": {
    "colab_type": "text",
    "id": "-kaIThtMjS6C"
   },
   "source": [
    "\n",
    "#### 1) 학생 번호 1번의 전체 성적 가져오기"
   ]
  },
  {
   "cell_type": "code",
   "execution_count": 5,
   "metadata": {
    "colab": {
     "base_uri": "https://localhost:8080/",
     "height": 33
    },
    "colab_type": "code",
    "executionInfo": {
     "elapsed": 524,
     "status": "ok",
     "timestamp": 1551674330274,
     "user": {
      "displayName": "최선열",
      "photoUrl": "",
      "userId": "00663027191814710813"
     },
     "user_tz": -540
    },
    "id": "5OKss3pVjS6H",
    "outputId": "f7ad2277-99a3-4f06-91ce-56cfcac0aa33"
   },
   "outputs": [
    {
     "data": {
      "text/plain": [
       "array([91, 75, 90, 68, 85])"
      ]
     },
     "execution_count": 5,
     "metadata": {},
     "output_type": "execute_result"
    }
   ],
   "source": [
    "# fix me! # 0번 축(학생)은 1번, 1번 축(과목)은 전체 "
   ]
  },
  {
   "cell_type": "markdown",
   "metadata": {},
   "source": [
    "0번 축부터 값을 특정하여 인덱싱 하다가 더 이상 인덱싱 값을 특정하지 않으면 **\"자동으로 나머지 축은 전부 가져온다\"로 설정**됩니다. 위 예제에서 가져왔던 1번 학생의 성적은 다음과 같이 `scores[1]`로 하여도 가져올 수 있습니다."
   ]
  },
  {
   "cell_type": "code",
   "execution_count": 6,
   "metadata": {
    "colab": {
     "base_uri": "https://localhost:8080/",
     "height": 33
    },
    "colab_type": "code",
    "executionInfo": {
     "elapsed": 679,
     "status": "ok",
     "timestamp": 1551674330273,
     "user": {
      "displayName": "최선열",
      "photoUrl": "",
      "userId": "00663027191814710813"
     },
     "user_tz": -540
    },
    "id": "Vzf0EHEAjS6D",
    "outputId": "9762763b-f37f-4426-a497-06a52bf3b9ac"
   },
   "outputs": [
    {
     "data": {
      "text/plain": [
       "array([91, 75, 90, 68, 85])"
      ]
     },
     "execution_count": 6,
     "metadata": {},
     "output_type": "execute_result"
    }
   ],
   "source": [
    "# fix me! # 0번 축에서 1번 요소(1번 학생)의 전체 성적 데이터"
   ]
  },
  {
   "cell_type": "markdown",
   "metadata": {
    "colab_type": "text",
    "id": "SDHNSIFjjS6M"
   },
   "source": [
    "### (2) 특정 열 가져오기 \n",
    "\n",
    "열만 특정하고 행의 인덱스를 제시해야 할 자리에 `:`를 설정하게 되면, 열에 해당하는 데이터를 전부 가져오게 됩니다. 여기서도 `:` 는 \"전부\"를 의미합니다."
   ]
  },
  {
   "cell_type": "markdown",
   "metadata": {
    "colab_type": "text",
    "id": "8bhgrD5kjS6N"
   },
   "source": [
    "#### 1) 전체 국어 성적 가져오기"
   ]
  },
  {
   "cell_type": "code",
   "execution_count": 7,
   "metadata": {
    "colab": {
     "base_uri": "https://localhost:8080/",
     "height": 33
    },
    "colab_type": "code",
    "executionInfo": {
     "elapsed": 894,
     "status": "ok",
     "timestamp": 1551674331439,
     "user": {
      "displayName": "최선열",
      "photoUrl": "",
      "userId": "00663027191814710813"
     },
     "user_tz": -540
    },
    "id": "RaUVY69ijS6O",
    "outputId": "a7e33813-12f9-495f-a500-82d0eb9c8f60"
   },
   "outputs": [
    {
     "data": {
      "text/plain": [
       "array([80, 91, 86, 77, 75, 96])"
      ]
     },
     "execution_count": 7,
     "metadata": {},
     "output_type": "execute_result"
    }
   ],
   "source": [
    "# fix me! # 전체 국어 성적"
   ]
  },
  {
   "cell_type": "markdown",
   "metadata": {},
   "source": [
    "하지만 1번 이상의 축(1번 축, 2번 축, 3번 축 등)은 `:`로 표시하지 않고 비워 둘 수는 없습니다. 앞서 0번 축만은 단독으로 인덱싱이 가능하다고 하였는데, 여기서 특정하여 가져오려고 하는 축은 0번 축이 아닌 1번 축이기 때문에 \"나머지 축은 전부 가져온다\"는 설정이 자동으로 작동하지 않습니다. 반드시 위와 같이 해당 축의 인덱스를 입력하는 자리에 축에서 원하는 요소를 특정하거나 혹은 `:` 표시를 해야 합니다."
   ]
  },
  {
   "cell_type": "code",
   "execution_count": 8,
   "metadata": {},
   "outputs": [
    {
     "data": {
      "text/plain": [
       "array([80, 92, 70, 65, 92])"
      ]
     },
     "execution_count": 8,
     "metadata": {},
     "output_type": "execute_result"
    }
   ],
   "source": [
    "# fix me! # 0번째 축인 행 기준 0번 요소 (= 학생번호 0번)의 성적을 반환함"
   ]
  },
  {
   "cell_type": "markdown",
   "metadata": {
    "colab_type": "text",
    "id": "YUTyJ6ijjS6S"
   },
   "source": [
    "## 3. 특정 범위만 가져오기\n",
    "\n",
    "+ Numpy Array에서는 하나의 요소만 선택할 수 있는건 아닙니다. 특정 부분을 **범위로 지정해서 가져올 수 있습니다**.\n",
    "+ 범위는 list나 string을 인덱싱할 때 사용했던 `:`로 설정할 수도 있고(slice 방식), 가져오고자 하는 범위의 인덱스 값을 list로 만들어 설정할 수도 있습니다(list 방식). "
   ]
  },
  {
   "cell_type": "markdown",
   "metadata": {
    "colab_type": "text",
    "id": "FRd1gBC_jS6T"
   },
   "source": [
    "### (1) slice 방식으로 가져오기"
   ]
  },
  {
   "cell_type": "markdown",
   "metadata": {},
   "source": [
    "인덱스를 입력하는 자리에 `[시작:끝]` 식으로 인덱스를 입력하면 시작 인덱스는 포함하고 끝 인덱스는 포함하지 않는 범위로 데이터를 가져올 수 있습니다. \n",
    "학생은 0번 축이므로 1번 축을 따로 특정하지 않으면 자동으로 '전부' 가져오게 됩니다."
   ]
  },
  {
   "cell_type": "markdown",
   "metadata": {
    "colab_type": "text",
    "id": "MbW28JW2jS6U"
   },
   "source": [
    "#### 1) 학생 번호 1번부터 n번까지의 전 과목 성적 가져오기"
   ]
  },
  {
   "cell_type": "code",
   "execution_count": 9,
   "metadata": {
    "colab": {
     "base_uri": "https://localhost:8080/",
     "height": 82
    },
    "colab_type": "code",
    "executionInfo": {
     "elapsed": 410,
     "status": "ok",
     "timestamp": 1551674331733,
     "user": {
      "displayName": "최선열",
      "photoUrl": "",
      "userId": "00663027191814710813"
     },
     "user_tz": -540
    },
    "id": "G5z85owojS6U",
    "outputId": "6881718f-6080-4979-b10f-e8d1e35d0c64",
    "scrolled": true
   },
   "outputs": [
    {
     "data": {
      "text/plain": [
       "array([[91, 75, 90, 68, 85],\n",
       "       [86, 76, 42, 72, 88],\n",
       "       [77, 92, 52, 60, 80],\n",
       "       [75, 85, 85, 92, 95]])"
      ]
     },
     "execution_count": 9,
     "metadata": {},
     "output_type": "execute_result"
    }
   ],
   "source": [
    "# fix me! # 1<=학생번호<5 까지의 값을 가져올 수 있음. 즉, [시작:끝]에서 끝에 해당하는 값은 가져오지 않음."
   ]
  },
  {
   "cell_type": "code",
   "execution_count": 10,
   "metadata": {
    "colab": {
     "base_uri": "https://localhost:8080/",
     "height": 66
    },
    "colab_type": "code",
    "executionInfo": {
     "elapsed": 469,
     "status": "ok",
     "timestamp": 1551674332381,
     "user": {
      "displayName": "최선열",
      "photoUrl": "",
      "userId": "00663027191814710813"
     },
     "user_tz": -540
    },
    "id": "u5Azd6bjjS6d",
    "outputId": "5a657cc2-89cc-4ac9-8d3d-41b11f5f5312"
   },
   "outputs": [
    {
     "data": {
      "text/plain": [
       "array([[91, 75, 90, 68, 85],\n",
       "       [86, 76, 42, 72, 88],\n",
       "       [77, 92, 52, 60, 80],\n",
       "       [75, 85, 85, 92, 95],\n",
       "       [96, 90, 95, 81, 72]])"
      ]
     },
     "execution_count": 10,
     "metadata": {},
     "output_type": "execute_result"
    }
   ],
   "source": [
    "# fix me! # 끝까지 지칭하는 경우, 끝값(6)은 생략 가능"
   ]
  },
  {
   "cell_type": "markdown",
   "metadata": {
    "colab_type": "text",
    "id": "n_vEBYiKjS6Y"
   },
   "source": [
    "#### 2)  홀수 번째 학생의 전 과목 성적 가져오기"
   ]
  },
  {
   "cell_type": "code",
   "execution_count": 11,
   "metadata": {
    "colab": {
     "base_uri": "https://localhost:8080/",
     "height": 66
    },
    "colab_type": "code",
    "executionInfo": {
     "elapsed": 434,
     "status": "ok",
     "timestamp": 1551674332126,
     "user": {
      "displayName": "최선열",
      "photoUrl": "",
      "userId": "00663027191814710813"
     },
     "user_tz": -540
    },
    "id": "Ewj3J2awjS6a",
    "outputId": "905244b3-f5dd-4f7b-bf7f-be5c7c23aeac"
   },
   "outputs": [
    {
     "data": {
      "text/plain": [
       "array([[91, 75, 90, 68, 85],\n",
       "       [77, 92, 52, 60, 80],\n",
       "       [96, 90, 95, 81, 72]])"
      ]
     },
     "execution_count": 11,
     "metadata": {},
     "output_type": "execute_result"
    }
   ],
   "source": [
    "# fix me! # scores[1:6] 에서 인덱스값 2씩 증가하며 가져오기. 즉 [[1, 1+2, 1+2+2]]에 해당하는 값"
   ]
  },
  {
   "cell_type": "code",
   "execution_count": 12,
   "metadata": {},
   "outputs": [
    {
     "data": {
      "text/plain": [
       "array([[91, 75, 90, 68, 85],\n",
       "       [77, 92, 52, 60, 80],\n",
       "       [96, 90, 95, 81, 72]])"
      ]
     },
     "execution_count": 12,
     "metadata": {},
     "output_type": "execute_result"
    }
   ],
   "source": [
    "# fix me!"
   ]
  },
  {
   "cell_type": "markdown",
   "metadata": {
    "colab_type": "text",
    "id": "Y0HRVpFVjS6l"
   },
   "source": [
    "#### 3) 전체 학생의 국영수 성적만 가져오기"
   ]
  },
  {
   "cell_type": "markdown",
   "metadata": {},
   "source": [
    "열도 마찬가지로 `[시작:끝]`을 이용하면 범위로 데이터를 가져올 수 있습니다. 역시나 1번 축인 과목을 특정하고, 0번 축인 학생은 전부 가져오고 싶다면 반드시`:` 표시를 해주어야 합니다. "
   ]
  },
  {
   "cell_type": "code",
   "execution_count": 13,
   "metadata": {
    "colab": {
     "base_uri": "https://localhost:8080/",
     "height": 115
    },
    "colab_type": "code",
    "executionInfo": {
     "elapsed": 383,
     "status": "ok",
     "timestamp": 1551674332681,
     "user": {
      "displayName": "최선열",
      "photoUrl": "",
      "userId": "00663027191814710813"
     },
     "user_tz": -540
    },
    "id": "8dv_f1RtjS6m",
    "outputId": "fbfbc8cf-c383-49d7-d84d-cad564a16b40"
   },
   "outputs": [
    {
     "data": {
      "text/plain": [
       "array([[80, 92, 70],\n",
       "       [91, 75, 90],\n",
       "       [86, 76, 42],\n",
       "       [77, 92, 52],\n",
       "       [75, 85, 85],\n",
       "       [96, 90, 95]])"
      ]
     },
     "execution_count": 13,
     "metadata": {},
     "output_type": "execute_result"
    }
   ],
   "source": [
    "# fix me! # 열 방향도 동일한 방식으로 지정할 수 있음"
   ]
  },
  {
   "cell_type": "code",
   "execution_count": 14,
   "metadata": {
    "colab": {
     "base_uri": "https://localhost:8080/",
     "height": 115
    },
    "colab_type": "code",
    "executionInfo": {
     "elapsed": 478,
     "status": "ok",
     "timestamp": 1551674332982,
     "user": {
      "displayName": "최선열",
      "photoUrl": "",
      "userId": "00663027191814710813"
     },
     "user_tz": -540
    },
    "id": "UP5WE7F4jS6q",
    "outputId": "42d89c3f-b1d0-4b5d-9801-71a35b620a51"
   },
   "outputs": [
    {
     "data": {
      "text/plain": [
       "array([[80, 92, 70],\n",
       "       [91, 75, 90],\n",
       "       [86, 76, 42],\n",
       "       [77, 92, 52],\n",
       "       [75, 85, 85],\n",
       "       [96, 90, 95]])"
      ]
     },
     "execution_count": 14,
     "metadata": {},
     "output_type": "execute_result"
    }
   ],
   "source": [
    "# fix me! # 시작이 0인 경우 생략 가능"
   ]
  },
  {
   "cell_type": "markdown",
   "metadata": {
    "colab_type": "text",
    "id": "3lmxcJ9pjS6s"
   },
   "source": [
    "### (2) list 방식으로 가져오기"
   ]
  },
  {
   "cell_type": "markdown",
   "metadata": {
    "colab_type": "text",
    "id": "Y7wgx6aLjS6t"
   },
   "source": [
    "#### 1) 학생 번호 1번, 3번, 4번의  전 과목 성적 가져오기"
   ]
  },
  {
   "cell_type": "code",
   "execution_count": 15,
   "metadata": {
    "colab": {
     "base_uri": "https://localhost:8080/",
     "height": 66
    },
    "colab_type": "code",
    "executionInfo": {
     "elapsed": 541,
     "status": "ok",
     "timestamp": 1551674333851,
     "user": {
      "displayName": "최선열",
      "photoUrl": "",
      "userId": "00663027191814710813"
     },
     "user_tz": -540
    },
    "id": "0Z_E7n5vjS6u",
    "outputId": "d0349dd5-59a5-4d19-b7b8-8b4c6f4b274e"
   },
   "outputs": [
    {
     "data": {
      "text/plain": [
       "array([[91, 75, 90, 68, 85],\n",
       "       [77, 92, 52, 60, 80],\n",
       "       [75, 85, 85, 92, 95]])"
      ]
     },
     "execution_count": 15,
     "metadata": {},
     "output_type": "execute_result"
    }
   ],
   "source": [
    "# fix me! # 직접 학생 번호들을 list에 담아서 지칭할 수 있음"
   ]
  },
  {
   "cell_type": "markdown",
   "metadata": {
    "colab_type": "text",
    "id": "dEUKlFVUjS6z"
   },
   "source": [
    "#### 2) 수학과 과학의 전 과목 성적 가져오기"
   ]
  },
  {
   "cell_type": "code",
   "execution_count": 16,
   "metadata": {
    "colab": {
     "base_uri": "https://localhost:8080/",
     "height": 115
    },
    "colab_type": "code",
    "executionInfo": {
     "elapsed": 480,
     "status": "ok",
     "timestamp": 1551674334228,
     "user": {
      "displayName": "최선열",
      "photoUrl": "",
      "userId": "00663027191814710813"
     },
     "user_tz": -540
    },
    "id": "xMC6oEQ8jS60",
    "outputId": "38832aa9-e567-448b-b8d2-94f383f662dc"
   },
   "outputs": [
    {
     "data": {
      "text/plain": [
       "array([[70, 92],\n",
       "       [90, 85],\n",
       "       [42, 88],\n",
       "       [52, 80],\n",
       "       [85, 95],\n",
       "       [95, 72]])"
      ]
     },
     "execution_count": 16,
     "metadata": {},
     "output_type": "execute_result"
    }
   ],
   "source": [
    "# fix me!"
   ]
  },
  {
   "cell_type": "code",
   "execution_count": 17,
   "metadata": {
    "colab": {
     "base_uri": "https://localhost:8080/",
     "height": 115
    },
    "colab_type": "code",
    "executionInfo": {
     "elapsed": 507,
     "status": "ok",
     "timestamp": 1551674334464,
     "user": {
      "displayName": "최선열",
      "photoUrl": "",
      "userId": "00663027191814710813"
     },
     "user_tz": -540
    },
    "id": "O1MS_8FzjS63",
    "outputId": "d36a1383-0134-4033-9cd3-239d06d795cb"
   },
   "outputs": [
    {
     "data": {
      "text/plain": [
       "array([[92, 70],\n",
       "       [85, 90],\n",
       "       [88, 42],\n",
       "       [80, 52],\n",
       "       [95, 85],\n",
       "       [72, 95]])"
      ]
     },
     "execution_count": 17,
     "metadata": {},
     "output_type": "execute_result"
    }
   ],
   "source": [
    "# fix me! # 꼭 오름차순으로 가져올 필요 없이, 순서를 바꿀 수 있음"
   ]
  },
  {
   "cell_type": "markdown",
   "metadata": {
    "colab_type": "text",
    "id": "ndOiTdLQjS65"
   },
   "source": [
    "# \\[ 2. 조건에 맞는 값 가져오기 \\]\n",
    "\n",
    "Numpy Array 에서는 가져오고자 하는 값을 True와 False로 구성된 Boolean Mask를 만들거나 `where` 메소드를 이용하여 원하는 값만 가져올 수 있습니다. Boolean Mask는 직접 True와 False로 구성된 리스트를 만들거나 비교 연산자(`<`, `>`, `=`)를 이용하여 만들 수 있습니다. 한편 `.where()` 메소드의 파라미터로 비교 연산자를 이용한 조건문을 활용하여 해당하는 값의 Index Array를 만들어 원하는 값만 가져올 수 있습니다. 각 방법을 구체적으로 살펴봅시다. "
   ]
  },
  {
   "cell_type": "markdown",
   "metadata": {},
   "source": [
    "<div class=\"alert alert-success\" role=\"alert\">\n",
    "    컴퓨터 과학에서 불리언(boolean) 자료형은 논리 자료형이라고도 하며, 참과 거짓을 나타내는 데 쓰인다. 주로 참은 1, 거짓은 0에 대응한다. <br> 불리언(Boolean)이라는 말은 영국의 수학자 겸 논리학자인 조지 불(George Boole)의 이름에서 따온 것이다.\n",
    "</div>"
   ]
  },
  {
   "cell_type": "markdown",
   "metadata": {},
   "source": [
    "## 1. 직접 Boolean Mask 만들어 가져오기\n",
    "+ Boolean Mask는 True / False 값으로 구성된 Array를 뜻하며, Numpy Array에서 원하는 값을 가져올 때 인덱스로 활용할 수 있습니다.\n",
    "+ Boolean Mask 또는 Index Array를 `[`와`]`에 넣으면 해당 조건에 맞는 값만 가져올 수 있습니다.\n",
    "+ Boolean Mask는 인덱스하고자 하는 Array와 차원이 같을 필요는 없지만, 0번 축이 동일한 요소 수를 가지도록 만들어야 합니다. "
   ]
  },
  {
   "cell_type": "markdown",
   "metadata": {},
   "source": [
    "\n",
    "### (1) 2차원 행렬을 Boolean Mask로 인덱싱하기\n",
    "2차원 행렬의 Boolean Mask는 1차원 벡터로 만들 수도 있고, 2차원 행렬로 만들 수도 있습니다. Boolean Mask를 이용하려면 **인덱스 하려는 Array와 Boolean Mask에서 0번 축의 요소 수가 같아야 한다**는 조건만 충족하면 됩니다.\n",
    "\n",
    "예를 들어, 아래와 같이 `(2,3)`의 shape을 가지는 Numpy Array를 인덱스한다고 생각해봅시다. "
   ]
  },
  {
   "cell_type": "code",
   "execution_count": 18,
   "metadata": {
    "scrolled": true
   },
   "outputs": [
    {
     "data": {
      "text/plain": [
       "array([[0, 1, 2],\n",
       "       [3, 4, 5]])"
      ]
     },
     "execution_count": 18,
     "metadata": {},
     "output_type": "execute_result"
    }
   ],
   "source": [
    "x = np.arange(0,6).reshape(2,3)\n",
    "x"
   ]
  },
  {
   "cell_type": "code",
   "execution_count": 19,
   "metadata": {
    "scrolled": true
   },
   "outputs": [
    {
     "data": {
      "text/plain": [
       "array([[0, 1, 2]])"
      ]
     },
     "execution_count": 19,
     "metadata": {},
     "output_type": "execute_result"
    }
   ],
   "source": [
    "x[np.array([True,False])]"
   ]
  },
  {
   "cell_type": "markdown",
   "metadata": {},
   "source": [
    "#### 1) 1차원 벡터 형태인 Boolean Mask"
   ]
  },
  {
   "cell_type": "markdown",
   "metadata": {},
   "source": [
    "Boolean Mask를 이용하려면 인덱스 하려는 Array와 Boolean Mask에서 0번 축의 요소 수가 같아야 한다고 했습니다. 위 Array의 경우, 0번 축은 2개의 요소로 구성되어 있습니다. 따라서 Boolean Mask 역시 0번째 축은 반드시 2개의 요소로 구성되어야 합니다. 0번 축의 요소가 2개인 1차원 형태의 Boolean Mask를 만들어봅시다. "
   ]
  },
  {
   "cell_type": "code",
   "execution_count": 20,
   "metadata": {},
   "outputs": [],
   "source": [
    "bool_mask_1D = np.array([True, False])"
   ]
  },
  {
   "cell_type": "code",
   "execution_count": 21,
   "metadata": {
    "scrolled": true
   },
   "outputs": [
    {
     "data": {
      "text/plain": [
       "(1, 3)"
      ]
     },
     "execution_count": 21,
     "metadata": {},
     "output_type": "execute_result"
    }
   ],
   "source": [
    "x[bool_mask_1D].shape"
   ]
  },
  {
   "cell_type": "markdown",
   "metadata": {},
   "source": [
    "앞서 생성한 `x`는 2차원 행렬이어서 괄호가 두 레벨로 구성되어 있습니다. 한편 `bool_mask_1D`는 한 레벨로 구성되어 있어 1차원 벡터라는 것을 알 수 있습니다. "
   ]
  },
  {
   "cell_type": "code",
   "execution_count": 22,
   "metadata": {
    "scrolled": true
   },
   "outputs": [
    {
     "name": "stdout",
     "output_type": "stream",
     "text": [
      "x는 몇 차원?  2\n",
      "bool_mask_1D는 몇 차원?  1\n"
     ]
    }
   ],
   "source": [
    "print('x는 몇 차원? ', x.ndim) \n",
    "print('bool_mask_1D는 몇 차원? ', bool_mask_1D.ndim)"
   ]
  },
  {
   "cell_type": "code",
   "execution_count": 23,
   "metadata": {},
   "outputs": [
    {
     "name": "stdout",
     "output_type": "stream",
     "text": [
      "x의 shape은? (2, 3)\n",
      "bool_mask_1D의 shape은? (2,)\n"
     ]
    }
   ],
   "source": [
    "print('x의 shape은?', x.shape) # 0번째 축이 2개로 구성\n",
    "print('bool_mask_1D의 shape은?', bool_mask_1D.shape) # 0번째 축이 2개로 구성"
   ]
  },
  {
   "cell_type": "markdown",
   "metadata": {},
   "source": [
    "이처럼 인덱스하고자 하는 Array와 Boolean Mask의 차원 수가 동일할 필요는 없지만 0번 축의 요소 수는 동일해야 합니다. **`bool_mask_1D`에서 `[True, False]`는 x의 0번째 축의 0번 요소는 가져오고(True) 1번 요소는 가져오지 않는다(False)는 뜻**입니다. Boolean Mask를 이용해 인덱싱 한 결과를 살펴봅시다. "
   ]
  },
  {
   "cell_type": "markdown",
   "metadata": {},
   "source": [
    "만일 Boolean Mask를 원소 1개로 구성된 `(1,)` 형태로 만든다면 어떻게 될까요? 아래와 같이 **0번째 축의 요소 수가 2개여야 하는데 1개여서 오류를 반환합니다.**"
   ]
  },
  {
   "cell_type": "code",
   "execution_count": 24,
   "metadata": {},
   "outputs": [
    {
     "data": {
      "text/plain": [
       "(1,)"
      ]
     },
     "execution_count": 24,
     "metadata": {},
     "output_type": "execute_result"
    }
   ],
   "source": [
    "bool_mask = np.array([True])\n",
    "bool_mask.shape"
   ]
  },
  {
   "cell_type": "code",
   "execution_count": 25,
   "metadata": {},
   "outputs": [
    {
     "ename": "IndexError",
     "evalue": "boolean index did not match indexed array along dimension 0; dimension is 2 but corresponding boolean dimension is 1",
     "output_type": "error",
     "traceback": [
      "\u001b[0;31m---------------------------------------------------------------------------\u001b[0m",
      "\u001b[0;31mIndexError\u001b[0m                                Traceback (most recent call last)",
      "\u001b[0;32m<ipython-input-25-47bc09574ee9>\u001b[0m in \u001b[0;36m<module>\u001b[0;34m\u001b[0m\n\u001b[0;32m----> 1\u001b[0;31m \u001b[0mx\u001b[0m\u001b[0;34m[\u001b[0m\u001b[0mbool_mask\u001b[0m\u001b[0;34m]\u001b[0m\u001b[0;34m\u001b[0m\u001b[0m\n\u001b[0m",
      "\u001b[0;31mIndexError\u001b[0m: boolean index did not match indexed array along dimension 0; dimension is 2 but corresponding boolean dimension is 1"
     ]
    }
   ],
   "source": [
    "x[bool_mask]"
   ]
  },
  {
   "cell_type": "markdown",
   "metadata": {},
   "source": [
    "#### 2) 2차원 행렬 형태인 Boolean Mask"
   ]
  },
  {
   "cell_type": "markdown",
   "metadata": {},
   "source": [
    "그럼 0번 축과 함께 1번 축에 대해서도 `True`와 `False` 값으로 인덱싱을 하고 싶다면 어떻게 해야 할까요? 2차원으로 Boolean Mask를 만들어야 합니다. **0번째 축을 구성하는 요소의 수가 동일해야 한다**는 최소한의 조건을 충족한 상태에서 하나의 조건이 더 추가됩니다. 인덱스 하고자 하는 Array의 N번째 차원에 대해서도 조건을 걸어 값을 가져오고 싶다면, **1번 축 이상의 축에 대해서는 인덱스하고자 하는 Array와 동일한 요소 수를 가지도록 Boolean Mask**를 만들어야 합니다. "
   ]
  },
  {
   "cell_type": "code",
   "execution_count": 26,
   "metadata": {},
   "outputs": [
    {
     "data": {
      "text/plain": [
       "(2, 3)"
      ]
     },
     "execution_count": 26,
     "metadata": {},
     "output_type": "execute_result"
    }
   ],
   "source": [
    "bool_mask = np.array([\n",
    "    [True,False, True],\n",
    "    [False,False, True]])\n",
    "bool_mask.shape # 인덱스 하고자 하는 Array의 shape = (2,3)"
   ]
  },
  {
   "cell_type": "code",
   "execution_count": 27,
   "metadata": {},
   "outputs": [
    {
     "data": {
      "text/plain": [
       "array([0, 2, 5])"
      ]
     },
     "execution_count": 27,
     "metadata": {},
     "output_type": "execute_result"
    }
   ],
   "source": [
    "x[bool_mask]"
   ]
  },
  {
   "cell_type": "markdown",
   "metadata": {},
   "source": [
    "N번째 차원의 값이 다르면 아래와 같이 오류를 반환하게 됩니다. "
   ]
  },
  {
   "cell_type": "code",
   "execution_count": 28,
   "metadata": {},
   "outputs": [
    {
     "data": {
      "text/plain": [
       "(2, 1)"
      ]
     },
     "execution_count": 28,
     "metadata": {},
     "output_type": "execute_result"
    }
   ],
   "source": [
    "bool_mask = np.array([\n",
    "    [True],\n",
    "    [False]])\n",
    "bool_mask.shape # 인덱스 하고자 하는 Array의 shape = (2,3)"
   ]
  },
  {
   "cell_type": "code",
   "execution_count": 29,
   "metadata": {},
   "outputs": [
    {
     "ename": "IndexError",
     "evalue": "boolean index did not match indexed array along dimension 1; dimension is 3 but corresponding boolean dimension is 1",
     "output_type": "error",
     "traceback": [
      "\u001b[0;31m---------------------------------------------------------------------------\u001b[0m",
      "\u001b[0;31mIndexError\u001b[0m                                Traceback (most recent call last)",
      "\u001b[0;32m<ipython-input-29-47bc09574ee9>\u001b[0m in \u001b[0;36m<module>\u001b[0;34m\u001b[0m\n\u001b[0;32m----> 1\u001b[0;31m \u001b[0mx\u001b[0m\u001b[0;34m[\u001b[0m\u001b[0mbool_mask\u001b[0m\u001b[0;34m]\u001b[0m\u001b[0;34m\u001b[0m\u001b[0m\n\u001b[0m",
      "\u001b[0;31mIndexError\u001b[0m: boolean index did not match indexed array along dimension 1; dimension is 3 but corresponding boolean dimension is 1"
     ]
    }
   ],
   "source": [
    "x[bool_mask]"
   ]
  },
  {
   "cell_type": "markdown",
   "metadata": {},
   "source": [
    "### (2) 3차원 행렬을 Boolean Mask로 인덱싱하기\n",
    "3차원 Array를 Boolean Mask로 인덱싱 할 때는 어떻게 해야 할까요? 이때는 1차원 벡터, 2차원 행렬, 3차원 행렬 형태로 Boolean Mask를 만들 수 있습니다. 먼저 3차원 행렬을 만들어봅시다."
   ]
  },
  {
   "cell_type": "code",
   "execution_count": 30,
   "metadata": {
    "scrolled": true
   },
   "outputs": [
    {
     "data": {
      "text/plain": [
       "array([[[ 0,  1,  2],\n",
       "        [ 3,  4,  5],\n",
       "        [ 6,  7,  8]],\n",
       "\n",
       "       [[ 9, 10, 11],\n",
       "        [12, 13, 14],\n",
       "        [15, 16, 17]],\n",
       "\n",
       "       [[18, 19, 20],\n",
       "        [21, 22, 23],\n",
       "        [24, 25, 26]]])"
      ]
     },
     "execution_count": 30,
     "metadata": {},
     "output_type": "execute_result"
    }
   ],
   "source": [
    "x = np.arange(0,27,1).reshape(3,3,3)\n",
    "x"
   ]
  },
  {
   "cell_type": "markdown",
   "metadata": {},
   "source": [
    "#### 1) 1차원 벡터 형태인 Boolean Mask"
   ]
  },
  {
   "cell_type": "markdown",
   "metadata": {},
   "source": [
    "앞서 살펴본 2차원 행렬의 예시와 마찬가지로 1차원 벡터 형태의 Boolean Mask는 0번 축의 요소를 가져올지 여부를 반영할 수 있다고 생각하면 됩니다. 아래와 같이 `[True,False,False]`가 있다면, 0번 축에서 0번 요소는 가져오고, 1번 요소와 2번 요소는 가져오지 않는다는 뜻의 인덱싱입니다. "
   ]
  },
  {
   "cell_type": "code",
   "execution_count": 31,
   "metadata": {},
   "outputs": [
    {
     "data": {
      "text/plain": [
       "array([ True, False, False])"
      ]
     },
     "execution_count": 31,
     "metadata": {},
     "output_type": "execute_result"
    }
   ],
   "source": [
    "mask = np.array([True,False,False])\n",
    "mask"
   ]
  },
  {
   "cell_type": "code",
   "execution_count": 32,
   "metadata": {},
   "outputs": [
    {
     "data": {
      "text/plain": [
       "array([[[0, 1, 2],\n",
       "        [3, 4, 5],\n",
       "        [6, 7, 8]]])"
      ]
     },
     "execution_count": 32,
     "metadata": {},
     "output_type": "execute_result"
    }
   ],
   "source": [
    "x[mask] # 0번 축의 0번 요소만 가져옴"
   ]
  },
  {
   "cell_type": "markdown",
   "metadata": {},
   "source": [
    "#### 2) 2차원 행렬 형태인 Boolean Mask\n",
    "\n",
    "shape이 `(3, 3, 3)`인 3차원 행렬 `x`를 2차원 행렬 형태의 Boolean Mask로 인덱싱 하려면 반드시 `(3, 3)` 형태여야 합니다. **0번 축을 구성하는 요소의 수가 동일해야 하고 1번 축 이상의 축에 대해서는 인덱스하고자 하는 Array와 동일한 요소 수를 가지도록 Boolean Mask**를 만들어야 하기 때문입니다. `(3,3)` 형태의 Boolean Mask를 만들어봅시다."
   ]
  },
  {
   "cell_type": "code",
   "execution_count": 33,
   "metadata": {},
   "outputs": [
    {
     "data": {
      "text/plain": [
       "array([[ True,  True, False],\n",
       "       [ True, False,  True],\n",
       "       [ True, False, False]])"
      ]
     },
     "execution_count": 33,
     "metadata": {},
     "output_type": "execute_result"
    }
   ],
   "source": [
    "mask = np.array(\n",
    "    [[True,True,False],\n",
    "     [True,False,True],\n",
    "     [True,False,False]])\n",
    "mask"
   ]
  },
  {
   "cell_type": "code",
   "execution_count": 34,
   "metadata": {},
   "outputs": [
    {
     "data": {
      "text/plain": [
       "(3, 3)"
      ]
     },
     "execution_count": 34,
     "metadata": {},
     "output_type": "execute_result"
    }
   ],
   "source": [
    "mask.shape"
   ]
  },
  {
   "cell_type": "markdown",
   "metadata": {},
   "source": [
    "위와 같은 형태의 `mask`로 인덱싱하면 어떤 결과를 반환할까요? \n",
    "\n",
    "먼저 `mask`의 0번 축의 0번 요소를 보며 어떤 의미인지 생각해봅시다."
   ]
  },
  {
   "cell_type": "code",
   "execution_count": 35,
   "metadata": {},
   "outputs": [
    {
     "data": {
      "text/plain": [
       "array([ True,  True, False])"
      ]
     },
     "execution_count": 35,
     "metadata": {},
     "output_type": "execute_result"
    }
   ],
   "source": [
    "mask[0, :]"
   ]
  },
  {
   "cell_type": "markdown",
   "metadata": {},
   "source": [
    "`x`의 0번 축 0번 요소는 아래와 같이 생겼습니다. "
   ]
  },
  {
   "cell_type": "code",
   "execution_count": 36,
   "metadata": {},
   "outputs": [
    {
     "data": {
      "text/plain": [
       "array([[0, 1, 2],\n",
       "       [3, 4, 5],\n",
       "       [6, 7, 8]])"
      ]
     },
     "execution_count": 36,
     "metadata": {},
     "output_type": "execute_result"
    }
   ],
   "source": [
    "x[0, :, :]"
   ]
  },
  {
   "cell_type": "markdown",
   "metadata": {},
   "source": [
    "`mask[0, :]`가 `array([ True,  True, False])`와 같다는 뜻은 `x`의 0번 축 0번 요소 안에서 1번 축의 0번 요소와 1번 요소를 가져오고(True) 2번 요소는 가져오지 않는다(False)는 뜻입니다. "
   ]
  },
  {
   "cell_type": "code",
   "execution_count": 37,
   "metadata": {},
   "outputs": [
    {
     "data": {
      "text/plain": [
       "array([[0, 1, 2],\n",
       "       [3, 4, 5]])"
      ]
     },
     "execution_count": 37,
     "metadata": {},
     "output_type": "execute_result"
    }
   ],
   "source": [
    "x[0, [0,1], :]"
   ]
  },
  {
   "cell_type": "markdown",
   "metadata": {},
   "source": [
    "다시 앞서 만들었던 `(3,3)` 형태의 mask를 살펴봅시다. 어떤 결과가 나올지 예상해보면 다음과 같을 것입니다. "
   ]
  },
  {
   "cell_type": "code",
   "execution_count": 38,
   "metadata": {},
   "outputs": [
    {
     "data": {
      "text/plain": [
       "array([[ True,  True, False],\n",
       "       [ True, False,  True],\n",
       "       [ True, False, False]])"
      ]
     },
     "execution_count": 38,
     "metadata": {},
     "output_type": "execute_result"
    }
   ],
   "source": [
    "mask"
   ]
  },
  {
   "cell_type": "markdown",
   "metadata": {},
   "source": [
    "0번 축의 0번 요소 중 \n",
    "- 1번 축의 0번 요소**(True)**\n",
    "- 1번 축의 1번 요소**(True)**\n",
    "- 1번 축의 2번 요소(False)\n",
    "<br>\n",
    "<br>\n",
    "\n",
    "0번 축의 1번 요소 중 \n",
    "- 1번 축의 0번 요소**(True)**\n",
    "- 1번 축의 1번 요소(False)\n",
    "- 1번 축의 2번 요소**(True)**\n",
    "<br>\n",
    "<br>\n",
    "\n",
    "0번 축의 2번 요소 중 \n",
    "- 1번 축의 0번 요소**(True)**\n",
    "- 1번 축의 1번 요소(False)\n",
    "- 1번 축의 2번 요소(False)"
   ]
  },
  {
   "cell_type": "markdown",
   "metadata": {},
   "source": [
    "`mask`를 `x` 의 인덱스로 사용하게 되면, `x`중 위에서 True에 해당하는 값만 반환합니다. "
   ]
  },
  {
   "cell_type": "code",
   "execution_count": 39,
   "metadata": {},
   "outputs": [
    {
     "data": {
      "text/plain": [
       "array([[ 0,  1,  2],\n",
       "       [ 3,  4,  5],\n",
       "       [ 9, 10, 11],\n",
       "       [15, 16, 17],\n",
       "       [18, 19, 20]])"
      ]
     },
     "execution_count": 39,
     "metadata": {},
     "output_type": "execute_result"
    }
   ],
   "source": [
    "x[mask] "
   ]
  },
  {
   "cell_type": "markdown",
   "metadata": {},
   "source": [
    "## 2. 비교 연산자로 Boolean Mask 만들어 가져오기\n",
    "\n",
    "+ 비교 연산자를 이용하여 Boolean Mask를 생성할 수도 있습니다. \n",
    "+ 비교문은 단독으로 구성할 수도 있고 여러 비교문을 `and`나 `or`로 합쳐서 복합적인 비교문을 만들 수도 있습니다. "
   ]
  },
  {
   "cell_type": "markdown",
   "metadata": {},
   "source": [
    "### (1) 단독 비교문으로 Booelan Mask 만들기\n",
    "앞서 살펴본 것처럼 True, False로 구성된 Boolean Mask를 직접 만들 수도 있지만, 생성해둔 np.array에 대해 비교 연산자를 지정하면 각 원소 별로 조건문 결과가 True, False 인지 반환합니다. 즉, 자동으로 Boolean Mask가 생성되는 것이죠. 마찬가지로 비교문을 인덱스값으로 `[`와`]`에 넣으면 True에 해당하는 값만 반환합니다. "
   ]
  },
  {
   "cell_type": "code",
   "execution_count": 40,
   "metadata": {},
   "outputs": [
    {
     "data": {
      "text/plain": [
       "array([80, 91, 86, 77, 75, 96])"
      ]
     },
     "execution_count": 40,
     "metadata": {},
     "output_type": "execute_result"
    }
   ],
   "source": [
    "language_score = scores[:,0]\n",
    "language_score"
   ]
  },
  {
   "cell_type": "code",
   "execution_count": 41,
   "metadata": {},
   "outputs": [
    {
     "data": {
      "text/plain": [
       "array([False,  True,  True, False, False,  True])"
      ]
     },
     "execution_count": 41,
     "metadata": {},
     "output_type": "execute_result"
    }
   ],
   "source": [
    "# fix me! # 각 원소별로 80보다 큰지 비교"
   ]
  },
  {
   "cell_type": "code",
   "execution_count": 42,
   "metadata": {},
   "outputs": [
    {
     "data": {
      "text/plain": [
       "array([[80, 92, 70, 65, 92],\n",
       "       [91, 75, 90, 68, 85],\n",
       "       [86, 76, 42, 72, 88],\n",
       "       [77, 92, 52, 60, 80],\n",
       "       [75, 85, 85, 92, 95],\n",
       "       [96, 90, 95, 81, 72]])"
      ]
     },
     "execution_count": 42,
     "metadata": {},
     "output_type": "execute_result"
    }
   ],
   "source": [
    "scores"
   ]
  },
  {
   "cell_type": "code",
   "execution_count": 43,
   "metadata": {},
   "outputs": [
    {
     "data": {
      "text/plain": [
       "array([[91, 75, 90, 68, 85],\n",
       "       [86, 76, 42, 72, 88],\n",
       "       [96, 90, 95, 81, 72]])"
      ]
     },
     "execution_count": 43,
     "metadata": {},
     "output_type": "execute_result"
    }
   ],
   "source": [
    "# fix me! # 국어 점수가 80점 이상인 학생들의 성적을 가져오기"
   ]
  },
  {
   "cell_type": "code",
   "execution_count": 44,
   "metadata": {},
   "outputs": [
    {
     "data": {
      "text/plain": [
       "array([ True,  True,  True,  True,  True, False])"
      ]
     },
     "execution_count": 44,
     "metadata": {},
     "output_type": "execute_result"
    }
   ],
   "source": [
    "# fix me! # 각 원소별로 95보다 작은지 비교"
   ]
  },
  {
   "cell_type": "markdown",
   "metadata": {},
   "source": [
    "### (2) 2개 이상의 비교문으로 Booelan Mask 만들기\n",
    "조건문이 2개 이상이 필요한 경우, `(조건문1) & (조건문2)` 또는 `(조건문1) | (조건문2)`으로 표현하여 두 개 이상의 조건문을 결합한 결과를 `True`와 `False`로 반환받을 수 있습니다."
   ]
  },
  {
   "cell_type": "code",
   "execution_count": 45,
   "metadata": {},
   "outputs": [
    {
     "name": "stdout",
     "output_type": "stream",
     "text": [
      "[False  True  True False False False]\n",
      "[91 86]\n"
     ]
    }
   ],
   "source": [
    "# 두 조건문을 둘다 만족하는 경우는 & 연산자로 표현\n",
    "# fix me! # 국어점수가 80점 이상, 95점 이하인 학생들에 대한 Boolean Mask"
   ]
  },
  {
   "cell_type": "code",
   "execution_count": 46,
   "metadata": {},
   "outputs": [
    {
     "data": {
      "text/plain": [
       "array([ True,  True,  True,  True,  True,  True])"
      ]
     },
     "execution_count": 46,
     "metadata": {},
     "output_type": "execute_result"
    }
   ],
   "source": [
    "# 두 조건문 중 하나라도 만족하는 경우는 | 연산자로 표현\n",
    "# fix me! # 국어점수가 80점 이상이거나 95점 이하인 학생들에 대한 Boolean Mask"
   ]
  },
  {
   "cell_type": "markdown",
   "metadata": {},
   "source": [
    "이러한 논리형 데이터로 구성된 Array를 인덱스로 직접 사용하여 `[ ]`에 넣게 되면, `True`에 해당하는 값만 반환받게 됩니다."
   ]
  },
  {
   "cell_type": "code",
   "execution_count": 47,
   "metadata": {},
   "outputs": [
    {
     "name": "stdout",
     "output_type": "stream",
     "text": [
      "[False  True  True False False  True]\n",
      "[91 86 96]\n"
     ]
    }
   ],
   "source": [
    "# fix me! # 국어 점수가 80점 이상인 학생들의 국어점수"
   ]
  },
  {
   "cell_type": "code",
   "execution_count": 48,
   "metadata": {},
   "outputs": [
    {
     "name": "stdout",
     "output_type": "stream",
     "text": [
      "[False  True  True False False False]\n",
      "[91 86]\n"
     ]
    }
   ],
   "source": [
    "# 두 조건문을 둘다 만족하는 경우는 & 연산자로 표현\n",
    "# fix me! # 국어점수가 80점 이상, 95점 이하인 학생들의 국어점수"
   ]
  },
  {
   "cell_type": "markdown",
   "metadata": {},
   "source": [
    "\n",
    "#### 1) 국어 성적이 80점이 넘는 학생들의 성적을 가져오기"
   ]
  },
  {
   "cell_type": "code",
   "execution_count": 50,
   "metadata": {},
   "outputs": [
    {
     "data": {
      "text/plain": [
       "array([[91, 75, 90, 68, 85],\n",
       "       [86, 76, 42, 72, 88],\n",
       "       [96, 90, 95, 81, 72]])"
      ]
     },
     "execution_count": 50,
     "metadata": {},
     "output_type": "execute_result"
    }
   ],
   "source": [
    "# fix me! # 국어 성적이 80점이 넘는 학생의 성적 데이터"
   ]
  },
  {
   "cell_type": "markdown",
   "metadata": {
    "colab_type": "text",
    "id": "x0Cs-yyAjS7A"
   },
   "source": [
    "#### 2) 수학 및 과학 성적 모두 80점이 넘는 학생들의 성적 가져오기"
   ]
  },
  {
   "cell_type": "code",
   "execution_count": 51,
   "metadata": {
    "colab": {},
    "colab_type": "code",
    "id": "AoZ0QOJCjS7B"
   },
   "outputs": [
    {
     "name": "stdout",
     "output_type": "stream",
     "text": [
      "[False  True False False  True False]\n"
     ]
    }
   ],
   "source": [
    "# fix me! # 모든 학생의 수학 성적 데이터\n",
    "# fix me! # 모든 학생의 과학 성적 데이터\n",
    "# fix me! # 각 학생의 수학과 과학 성적이 모두 80점이 넘는가? True / False 로 구성된 Boolean Mask"
   ]
  },
  {
   "cell_type": "code",
   "execution_count": 52,
   "metadata": {
    "colab": {
     "base_uri": "https://localhost:8080/",
     "height": 50
    },
    "colab_type": "code",
    "executionInfo": {
     "elapsed": 473,
     "status": "ok",
     "timestamp": 1551674336075,
     "user": {
      "displayName": "최선열",
      "photoUrl": "",
      "userId": "00663027191814710813"
     },
     "user_tz": -540
    },
    "id": "eNItC10ZjS7E",
    "outputId": "d064c0ff-0787-4fa3-b4fe-52edaef9f34b",
    "scrolled": true
   },
   "outputs": [
    {
     "data": {
      "text/plain": [
       "array([[91, 75, 90, 68, 85],\n",
       "       [75, 85, 85, 92, 95]])"
      ]
     },
     "execution_count": 52,
     "metadata": {},
     "output_type": "execute_result"
    }
   ],
   "source": [
    "# fix me! # 수학과 과학 성적이 모두 80점이 넘는 학생의 성적 데이터"
   ]
  },
  {
   "cell_type": "markdown",
   "metadata": {},
   "source": [
    "## 3. `np.where`로 조건을 충족하는 값의 Index Array 만들어 가져오기\n",
    "\n",
    "+ 비교 연산자를 `np.where()` 메소드에서 사용하면 조건을 충족하는 값의 인덱스로 구성된 Array를 반환합니다. \n",
    "+ Index Array로 인덱싱 하게 되면 앞서 리스트로 된 인덱싱 방법과 동일하게 작동합니다. \n",
    "+ `np.where()` 메소드는 조건에 해당하는 값을 원하는 값으로 바꾸는 기능도 제공합니다. \n",
    "\n",
    "### (1) `np.where`과 비교문으로 원하는 값 가져오기\n",
    "np.array에서 **조건에 맞는 원소의 위치를 알고 싶으면 `np.where`를 이용**합니다. `np.where`는 조건의 결과가 True에 해당하는 값의 위치(인덱스 값)를 반환합니다. 앞서 인덱스를 설정하여 원하는 위치의 값만 특정하여 가져올 수 있다고 배웠습니다. 따라서 `.where()` 메소드로 반환받은 원소의 위치를 인덱스로 사용하면 조건에 맞는 원하는 값을 가져올 수 있습니다. "
   ]
  },
  {
   "cell_type": "markdown",
   "metadata": {},
   "source": [
    "#### 1) 국어 성적이 80점이 넘는 학생들의 성적을 가져오기"
   ]
  },
  {
   "cell_type": "code",
   "execution_count": 53,
   "metadata": {},
   "outputs": [
    {
     "data": {
      "text/plain": [
       "(array([1, 2, 5]),)"
      ]
     },
     "execution_count": 53,
     "metadata": {},
     "output_type": "execute_result"
    }
   ],
   "source": [
    "# fix me! # 모든 학생의 국어 성적 데이터\n",
    "# fix me! # 국어성적이 80 점이 넘는 학생의 인덱스 "
   ]
  },
  {
   "cell_type": "code",
   "execution_count": 54,
   "metadata": {},
   "outputs": [
    {
     "data": {
      "text/plain": [
       "array([[91, 75, 90, 68, 85],\n",
       "       [86, 76, 42, 72, 88],\n",
       "       [96, 90, 95, 81, 72]])"
      ]
     },
     "execution_count": 54,
     "metadata": {},
     "output_type": "execute_result"
    }
   ],
   "source": [
    "# fix me! # 국어 성적이 80점이 넘는 학생의 성적 데이터"
   ]
  },
  {
   "cell_type": "markdown",
   "metadata": {
    "colab_type": "text",
    "id": "x0Cs-yyAjS7A"
   },
   "source": [
    "#### 2) 수학 및 과학 성적 모두 80점이 넘는 학생들의 성적 가져오기"
   ]
  },
  {
   "cell_type": "code",
   "execution_count": 55,
   "metadata": {
    "colab": {},
    "colab_type": "code",
    "id": "AoZ0QOJCjS7B"
   },
   "outputs": [
    {
     "data": {
      "text/plain": [
       "(array([1, 4]),)"
      ]
     },
     "execution_count": 55,
     "metadata": {},
     "output_type": "execute_result"
    }
   ],
   "source": [
    "# fix me! # 모든 학생의 수학 성적 데이터\n",
    "# fix me! # 모든 학생의 과학 성적 데이터\n",
    "# fix me! # 수학 및 과학 성적 모두 80점이 넘는 학생들의 인덱스"
   ]
  },
  {
   "cell_type": "code",
   "execution_count": 56,
   "metadata": {
    "colab": {
     "base_uri": "https://localhost:8080/",
     "height": 50
    },
    "colab_type": "code",
    "executionInfo": {
     "elapsed": 473,
     "status": "ok",
     "timestamp": 1551674336075,
     "user": {
      "displayName": "최선열",
      "photoUrl": "",
      "userId": "00663027191814710813"
     },
     "user_tz": -540
    },
    "id": "eNItC10ZjS7E",
    "outputId": "d064c0ff-0787-4fa3-b4fe-52edaef9f34b",
    "scrolled": true
   },
   "outputs": [
    {
     "data": {
      "text/plain": [
       "array([[91, 75, 90, 68, 85],\n",
       "       [75, 85, 85, 92, 95]])"
      ]
     },
     "execution_count": 56,
     "metadata": {},
     "output_type": "execute_result"
    }
   ],
   "source": [
    "# fix me! # 수학 및 과학 성적 모두 80점이 넘는 학생들의 성적 가져오기"
   ]
  },
  {
   "cell_type": "markdown",
   "metadata": {},
   "source": [
    "### (2) `np.where`과 비교문으로 조건에 맞는 값 수정하기"
   ]
  },
  {
   "cell_type": "markdown",
   "metadata": {},
   "source": [
    "`np.where` 메소드는 조건에 따라 값을 치환할 수 있습니다. `np.where(condition, x, y)`로, 2번째 인자와 3번째 인자에 값이 입력되면, 조건에 맞는 경우 2번째 인자의 값으로, 조건에 안맞으면 3번째 인자의 값으로 대체됩니다."
   ]
  },
  {
   "cell_type": "code",
   "execution_count": 57,
   "metadata": {},
   "outputs": [
    {
     "name": "stdout",
     "output_type": "stream",
     "text": [
      "(array([1, 2, 5]),)\n",
      "['불합격' '합격' '합격' '불합격' '불합격' '합격']\n"
     ]
    }
   ],
   "source": [
    "# fix me! # 국어 성적이 80점이 넘으면 '합격', 80점 이하면 '불합격'"
   ]
  },
  {
   "cell_type": "markdown",
   "metadata": {},
   "source": [
    "#  \n",
    "\n",
    "---\n",
    "\n",
    "    Copyright(c) 2019 by Public AI. All rights reserved.\n",
    "    Writen by PAI, SangJae Kang ( rocketgrowthsj@publicai.co.kr )  last updated on 2019/08/25\n",
    "\n",
    "\n",
    "---"
   ]
  }
 ],
 "metadata": {
  "kernelspec": {
   "display_name": "Python 3",
   "language": "python",
   "name": "python3"
  },
  "language_info": {
   "codemirror_mode": {
    "name": "ipython",
    "version": 3
   },
   "file_extension": ".py",
   "mimetype": "text/x-python",
   "name": "python",
   "nbconvert_exporter": "python",
   "pygments_lexer": "ipython3",
   "version": "3.6.8"
  }
 },
 "nbformat": 4,
 "nbformat_minor": 2
}
