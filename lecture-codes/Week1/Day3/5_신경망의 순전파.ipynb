{
 "cells": [
  {
   "cell_type": "markdown",
   "metadata": {},
   "source": [
    "<i><b>Public AI</b></i>\n",
    "<br>\n",
    "###  &nbsp;&nbsp; **✎&nbsp;&nbsp;Week 1. DNN Basis**\n",
    "# Section 5. 신경망의 순전파\n",
    "\n",
    "### _Objective_\n",
    "1. **Feedforward Network**: Feedforward Network가 무엇인지 알아봅니다.<br>\n",
    "2. **Feedforward with Keras**: Keras를 사용해 feedforward 모델을 모델링해봅니다.<br>\n",
    "3. **Feedforward with Numpy**: Numpy를 사용해 간단하게 순전파 수식을 구현해 봅니다.<br>"
   ]
  },
  {
   "cell_type": "code",
   "execution_count": 2,
   "metadata": {},
   "outputs": [],
   "source": [
    "%matplotlib inline\n",
    "\n",
    "import os\n",
    "import numpy as np\n",
    "import pandas as pd\n",
    "\n",
    "import matplotlib.pyplot as plt"
   ]
  },
  {
   "cell_type": "markdown",
   "metadata": {},
   "source": [
    "# \\[ 1. Feedforward Network \\]\n",
    "\n",
    "순전파(Feedforward)란 신경망에서 입력층부터 출력층까지 각 층을 거쳐가며 신호가 타고넘어가는 일련의 과정을 뜻합니다. 입력층부터 출력층까지 앞에서 뒤로 신호가 타고 넘어가 '순전파'라는 이름이 붙었습니다. Keras와 Numpy를 이용해 구현해보겠습니다."
   ]
  },
  {
   "cell_type": "markdown",
   "metadata": {},
   "source": [
    "## 1. 유닛 단위의 순전파 연산\n",
    "\n",
    "순전파에서 유닛의 연산은 기본적으로 앞서 다룬 로지스틱 회귀 모델과 매우 닮아 있습니다. 로지스틱 회귀 모델은 아래의 두 단계로 이루어져 있습니다.<br>\n",
    "\n",
    "1. 로짓(z)를 계산하는 부분 : <br>\n",
    "$\n",
    "z = w_0 + w_1x_1 + w_2x_2 + w_3x_3\\\\\n",
    "$\n",
    "\n",
    "2. 활성화 함수($\\sigma$)를 거치는 부분 : <br>\n",
    "$a = \\sigma(z) = \\frac{1}{1+e^{-z}}$\n",
    "\n",
    "순전파에서 유닛의 연산도 로지스틱 회귀와 동일하게 두단계로 이루어집니다.\n",
    "\n",
    "1. 로짓(z)를 계산하는 왼쪽 부분\n",
    "2. 활성화함수($\\sigma$)를 거치는 오른쪽 부분\n",
    "\n",
    "![](https://i.imgur.com/26G8oSL.png)\n",
    "\n"
   ]
  },
  {
   "cell_type": "markdown",
   "metadata": {},
   "source": [
    "## 2. 층 단위의 순전파 연산"
   ]
  },
  {
   "cell_type": "markdown",
   "metadata": {},
   "source": [
    "입력층과 은닉층(유닛 수, 활성화 함수 등)을 설정하는 방법을 살펴보았습니다. 그럼 이제 아래와 같이 생긴 2층 신경망을 처음부터 끝까지 구현하는 코드를 살펴봅시다.  \n",
    "\n",
    "<img src=\"https://i.imgur.com/T9jkFuv.png\" width=\"600\" height=\"450\"/><br>\n",
    "\n",
    "$$\n",
    "z1 = X\\cdot W1 + b1 \\\\\n",
    "a1 = \\sigma(z1) \\\\\n",
    "z2 = a1 \\cdot W2 + b2 \\\\\n",
    "\\hat y = \\sigma(z2)\n",
    "$$"
   ]
  },
  {
   "cell_type": "markdown",
   "metadata": {},
   "source": [
    "# \\[ 2. Keras로 Feedforward Network 구현하기 \\]"
   ]
  },
  {
   "cell_type": "markdown",
   "metadata": {},
   "source": [
    "### 예제 데이터 ) 암 환자 데이터 셋\n",
    "\n",
    "나이와 종양크기를 바탕으로 암 환자의 종양이 양성인지 음성인지를 분류하는 데이터셋입니다."
   ]
  },
  {
   "cell_type": "code",
   "execution_count": 2,
   "metadata": {
    "scrolled": false
   },
   "outputs": [
    {
     "data": {
      "image/png": "[encoded data removed]",
      "text/plain": [
       "<Figure size 504x504 with 1 Axes>"
      ]
     },
     "metadata": {
      "needs_background": "light"
     },
     "output_type": "display_data"
    }
   ],
   "source": [
    "if not os.path.exists(\"./cancer_dataset.csv\"):\n",
    "    !wget https://s3.ap-northeast-2.amazonaws.com/pai-datasets/alai-deeplearning/cancer_dataset.csv\n",
    "cancer_df = pd.read_csv('cancer_dataset.csv')\n",
    "\n",
    "X = cancer_df[['age','tumor_size']]\n",
    "y = cancer_df[\"label\"]\n",
    "\n",
    "X = (X - X.min()) / (X.max() - X.min())\n",
    "\n",
    "### 데이터 시각화\n",
    "fig = plt.figure(figsize=(7,7))\n",
    "ax = fig.add_subplot(1,1,1)\n",
    "\n",
    "# 0: 정상\n",
    "X[y==0].plot('age','tumor_size',ax=ax,legend=True,\n",
    "                           kind='scatter',color='red')\n",
    "# 1: 암환자\n",
    "X[y==1].plot('age','tumor_size',ax=ax,legend=True,\n",
    "                           kind='scatter',color='green')\n",
    "plt.legend(['Normal','Cancer'])\n",
    "plt.title(\"Cancer Or Not\")\n",
    "plt.show()"
   ]
  },
  {
   "cell_type": "markdown",
   "metadata": {},
   "source": [
    "### (1) Input 설정하기\n",
    "\n",
    "신경망의 Input Layer에 넣을 입력 신호를 설정하기 위해 keras에서는 `keras.layers.Input` API를 지원합니다."
   ]
  },
  {
   "cell_type": "code",
   "execution_count": null,
   "metadata": {},
   "outputs": [],
   "source": [
    "from tensorflow.keras.layers import Input\n",
    "from tensorflow.keras import backend as K"
   ]
  },
  {
   "cell_type": "markdown",
   "metadata": {},
   "source": [
    "위 예제 데이터에서 입력 데이터 `X`는 나이(age)와 종양의 크기(tumor_size)로 구성됩니다. X가 2 가지이므로, 입력층의 shape은 `(2,)`으로 설정하여 `Input(shape=(2,), name='x')`로 입력층을 생성합니다."
   ]
  },
  {
   "cell_type": "code",
   "execution_count": 3,
   "metadata": {
    "scrolled": true
   },
   "outputs": [
    {
     "data": {
      "text/plain": [
       "<tf.Tensor 'x:0' shape=(None, 2) dtype=float32>"
      ]
     },
     "metadata": {},
     "output_type": "display_data"
    }
   ],
   "source": [
    "K.clear_session() # Session을 초기화, 이전에 만들어놓았던 딥러닝 모델들을 삭제\n",
    "inputs = Input(shape=(2,), name='x')\n",
    "display(inputs)"
   ]
  },
  {
   "cell_type": "markdown",
   "metadata": {},
   "source": [
    "그런데 `display(inputs)`로 입력층의 내용을 출력해보면 `shape=(None, 2)`라고 확인됩니다. 여기서 None은 무슨 의미일까요? "
   ]
  },
  {
   "cell_type": "markdown",
   "metadata": {},
   "source": [
    "이전 Section에서 말했듯이 keras에서는 첫번째 축이 Batch 축으로 세팅되어 있으며, 따로 설정해 주지 않으면 None을 반환합니다. 위 예제에서 Batch 축을 따로 세팅하지 않았으므로, 입력층의 shape이 `(None,2)`가 됨을 볼 수 있습니다. \n",
    "\n",
    "데이터를 하나로 묶은 입력 데이터를 **배치(Batch)**라고 하는데, None은 입력한 데이터 전체를 하나로 묶어 처리한다는 뜻입니다. 위 예제에서는 batch를 따로 설정하지 않았기 때문에 100명 분의 데이터가 전부 한 번에 처리가 될 것입니다. batch를 10, 50 등으로 설정하면 10명, 50명 분의 데이터가 하나의 batch로 묶여서 돌아가게 됩니다.\n",
    "\n",
    "배치 처리를 수행함으로써 컴퓨터는 큰 배열로 이루어진 계산을 하게 되는데, 컴퓨터에서는 큰 배열을 한꺼번에 계산하는 것이 분할된 작은 배열을 여러 번 계산하는 것보다 빠릅니다. 덕분에 배치 처리를 하게 되면, 환자 한 명의 정보를 처리하는 것보다, 환자 한 명당 처리 시간이 대폭 줄어드는 이득을 얻을 수 있습니다."
   ]
  },
  {
   "cell_type": "markdown",
   "metadata": {},
   "source": [
    "### (2) 가중치(weight)와 편향(bias) 생성하기\n",
    "\n",
    "입력층이 설정되었습니다. 앞서 예로 든 것처럼 10개 유닛으로 구성된 1번 층을 만들어 2층 신경망을 구성하게 되면, 학습해야 하는 가중치와 편향에는 ($w_1$,$b_1$,$w_2$,$b_2$) 등이 있습니다. keras에서는 가중치를 계산하며 층을 쌓을 때는 `keras.layers.Dense` API를 이용합니다."
   ]
  },
  {
   "cell_type": "code",
   "execution_count": 4,
   "metadata": {},
   "outputs": [
    {
     "data": {
      "text/plain": [
       "<tensorflow.python.keras.layers.core.Dense at 0x11858e518>"
      ]
     },
     "execution_count": 4,
     "metadata": {},
     "output_type": "execute_result"
    }
   ],
   "source": [
    "from tensorflow.keras.layers import Dense\n",
    "dense1 = Dense(units=10)\n",
    "dense1"
   ]
  },
  {
   "cell_type": "markdown",
   "metadata": {},
   "source": [
    "dense1의 가중치 $w_1$와 편향$b_1$가 어떤 형태인지 확인해봅시다. "
   ]
  },
  {
   "cell_type": "code",
   "execution_count": 6,
   "metadata": {},
   "outputs": [
    {
     "name": "stdout",
     "output_type": "stream",
     "text": [
      "W >>> shape  : (2, 10)\n"
     ]
    },
    {
     "data": {
      "text/plain": [
       "array([[-0.6975839 ,  0.70031995,  0.0055123 ,  0.66063267,  0.3882441 ,\n",
       "         0.22833592, -0.2478818 ,  0.3452087 , -0.6294907 ,  0.19528222],\n",
       "       [ 0.3761738 , -0.5837534 , -0.41400343,  0.5414948 ,  0.40495974,\n",
       "         0.5462629 ,  0.15777993, -0.25281432,  0.07908285, -0.5508554 ]],\n",
       "      dtype=float32)"
      ]
     },
     "metadata": {},
     "output_type": "display_data"
    },
    {
     "name": "stdout",
     "output_type": "stream",
     "text": [
      "b >>> shape  : (10,)\n"
     ]
    },
    {
     "data": {
      "text/plain": [
       "array([0., 0., 0., 0., 0., 0., 0., 0., 0., 0.], dtype=float32)"
      ]
     },
     "metadata": {},
     "output_type": "display_data"
    }
   ],
   "source": [
    "W, b = dense1.get_weights()\n",
    "print(f\"W >>> shape  : {W.shape}\")\n",
    "display(W)\n",
    "\n",
    "print(f\"b >>> shape  : {b.shape}\")\n",
    "display(b)"
   ]
  },
  {
   "cell_type": "markdown",
   "metadata": {},
   "source": [
    "위 내용을 보면, 입력 데이터의 크기에 맞게 자동으로 가중치(`W`와 `b`)가 생성되어 있음을 알 수 있습니다. 입력 데이터에 피쳐가 2가지이고 유닛은 10개이므로, $w_1$는 (2, 10) 형태를 가지게 되었으며, $b_1$은 (10,)의 형태를 가지게 되었습니다. \n",
    "\n",
    "신경망 학습에서 처음 가중치를 생성할 때, 아무 값이나 넣어 만들면 될까요? 그렇지 않습니다. 가중치의 초기 구성은 신경망을 설계할 때 고려해야하는 중요 요소 중 하나입니다. 가중치의 초기 구성, 즉 가중치의 초기화에 대해서는 Exercise에서 자세하게 알아 볼 것입니다."
   ]
  },
  {
   "cell_type": "markdown",
   "metadata": {},
   "source": [
    "10개의 유닛으로 구성된 1번째 층이 생성되었으니, 입력신호를 `dense1`층에 통과시켜 보겠습니다."
   ]
  },
  {
   "cell_type": "code",
   "execution_count": 5,
   "metadata": {},
   "outputs": [
    {
     "data": {
      "text/plain": [
       "<tf.Tensor 'dense/Identity:0' shape=(None, 10) dtype=float32>"
      ]
     },
     "execution_count": 5,
     "metadata": {},
     "output_type": "execute_result"
    }
   ],
   "source": [
    "dense1_out = dense1(inputs)\n",
    "dense1_out"
   ]
  },
  {
   "cell_type": "markdown",
   "metadata": {},
   "source": [
    "이렇게 1번째 층을 통과하여 얻어진`dense1_out1`은 활성화 함수의 입력값이 될 것입니다. "
   ]
  },
  {
   "cell_type": "markdown",
   "metadata": {},
   "source": [
    "### (3) 활성화 함수 적용하기"
   ]
  },
  {
   "cell_type": "markdown",
   "metadata": {},
   "source": [
    "활성화 함수로 딥러닝에서 가장 많이 쓰이는 `relu`함수를 이용해 입력 신호의 총합을 출력 신호로 변환하겠습니다. ReLU 함수란 아래와 같습니다.\n",
    "\n",
    "$$\n",
    "RELU(x) = \\begin{cases} \n",
    "x && \\mbox{if x } \\ge 0 \\\\\n",
    "0 && \\mbox{if x } < 0 \\\\\n",
    "\\end{cases}\n",
    "$$\n"
   ]
  },
  {
   "cell_type": "markdown",
   "metadata": {},
   "source": [
    "0보다 작은 값을 받으면 0을 반환하고, 0보다 크거나 같은 값을 받으면 입력 값을 그대로 반환하는 형태입니다."
   ]
  },
  {
   "cell_type": "markdown",
   "metadata": {},
   "source": [
    "앞서 `dense1`을 통과하여 얻은 `dense1_out`을 `relu`에 입력하면 0 또는`x`로 변환된 `relu_out`을 얻을 수 있습니다."
   ]
  },
  {
   "cell_type": "code",
   "execution_count": 7,
   "metadata": {},
   "outputs": [
    {
     "data": {
      "text/plain": [
       "<tf.Tensor 'Relu:0' shape=(None, 10) dtype=float32>"
      ]
     },
     "execution_count": 7,
     "metadata": {},
     "output_type": "execute_result"
    }
   ],
   "source": [
    "from tensorflow.keras.activations import relu, sigmoid\n",
    "relu1_out = relu(dense1_out)\n",
    "relu1_out"
   ]
  },
  {
   "cell_type": "markdown",
   "metadata": {},
   "source": [
    "실제 신경망을 구성할 때는 층을 구성할 때 `activation`이라는 인자를 이용해 활성화 함수를 설정할 수 있습니다. 가령 1번째 층에서 유닛을 10개로 설정하고, 활성화 함수는 `relu`로 설정하려면 아래와 같이 설정하면 됩니다."
   ]
  },
  {
   "cell_type": "code",
   "execution_count": null,
   "metadata": {},
   "outputs": [],
   "source": [
    "dense1 = Dense(10,activation='relu', name='hidden')\n",
    "dense1_output = dense1(inputs)"
   ]
  },
  {
   "cell_type": "markdown",
   "metadata": {},
   "source": [
    "### (4) 2층 신경망 구현하기\n",
    "\n",
    "입력층과 은닉층(유닛 수, 활성화 함수 등)을 설정하는 방법을 살펴보았습니다. 그럼 이제 아래와 같이 생긴 2층 신경망을 처음부터 끝까지 구현하는 코드를 살펴봅시다.  \n",
    "\n",
    "<img src=\"https://i.imgur.com/T9jkFuv.png\" width=\"600\" height=\"450\"/><br>\n",
    "\n",
    "$$\n",
    "z1 = X\\cdot W1 + b1 \\\\\n",
    "a1 = \\sigma(z1) \\\\\n",
    "z2 = a1 \\cdot W2 + b2 \\\\\n",
    "\\hat y = \\sigma(z2)\n",
    "$$\n",
    "\n",
    "keras에서는 keras의 함수형 API를 사용할 때, input과 output을 지정해주면 신경망의 흐름대로 모델을 생성하는 `keras.models.Model` API를 지원합니다. `Model`에 입력층과 출력층을 인자로 입력하면 신경망 모델이 생성됩니다."
   ]
  },
  {
   "cell_type": "code",
   "execution_count": 8,
   "metadata": {},
   "outputs": [],
   "source": [
    "from tensorflow.keras.models import Model\n",
    "\n",
    "K.clear_session()\n",
    "# 신경망 구현\n",
    "inputs = Input(2,name='x')\n",
    "\n",
    "dense1 = Dense(10,activation='relu', name='hidden')\n",
    "dense1_output = dense1(inputs)\n",
    "\n",
    "dense2 = Dense(1,activation='sigmoid', name='output')\n",
    "output = dense2(dense1_output)\n",
    "\n",
    "# 신경망 모델 생성\n",
    "model = Model(inputs, output, name='train')"
   ]
  },
  {
   "cell_type": "markdown",
   "metadata": {},
   "source": [
    "### (5) 신경망에 대한 정보 확인하기"
   ]
  },
  {
   "cell_type": "markdown",
   "metadata": {},
   "source": [
    "keras에서는 `summary()`함수를 활용해 현재 생성된 모델에 대한 정보를 확인할 수 있습니다."
   ]
  },
  {
   "cell_type": "code",
   "execution_count": 9,
   "metadata": {
    "scrolled": true
   },
   "outputs": [
    {
     "name": "stdout",
     "output_type": "stream",
     "text": [
      "Model: \"train\"\n",
      "_________________________________________________________________\n",
      "Layer (type)                 Output Shape              Param #   \n",
      "=================================================================\n",
      "x (InputLayer)               [(None, 2)]               0         \n",
      "_________________________________________________________________\n",
      "hidden (Dense)               (None, 10)                30        \n",
      "_________________________________________________________________\n",
      "output (Dense)               (None, 1)                 11        \n",
      "=================================================================\n",
      "Total params: 41\n",
      "Trainable params: 41\n",
      "Non-trainable params: 0\n",
      "_________________________________________________________________\n"
     ]
    }
   ],
   "source": [
    "model.summary()"
   ]
  },
  {
   "cell_type": "markdown",
   "metadata": {},
   "source": [
    "### (6) 모델 사용하기"
   ]
  },
  {
   "cell_type": "markdown",
   "metadata": {},
   "source": [
    "keras에서는 `model.predict(input_sample)`를 통해 입력값(input_sample)`X`가 model을 통과했을 때의 예측값(ouput prediction)을 얻을 수 있습니다. 여기서 얻은 예측값은 아직 최선의 가중치를 찾지 않은 초기 가중치 값을 통해 얻은 값이므로 오차율은 높을 수 있습니다."
   ]
  },
  {
   "cell_type": "code",
   "execution_count": 10,
   "metadata": {
    "scrolled": true
   },
   "outputs": [
    {
     "data": {
      "text/plain": [
       "array([[0.5585776 ],\n",
       "       [0.6908071 ],\n",
       "       [0.6480156 ],\n",
       "       [0.5965535 ],\n",
       "       [0.5664458 ],\n",
       "       [0.6255826 ],\n",
       "       [0.565993  ],\n",
       "       [0.66793525],\n",
       "       [0.5346353 ],\n",
       "       [0.6081463 ],\n",
       "       [0.5941525 ],\n",
       "       [0.6504946 ],\n",
       "       [0.6499337 ],\n",
       "       [0.64807534],\n",
       "       [0.5602145 ],\n",
       "       [0.638588  ],\n",
       "       [0.6557142 ],\n",
       "       [0.7148951 ],\n",
       "       [0.55024666],\n",
       "       [0.6164753 ],\n",
       "       [0.569026  ],\n",
       "       [0.5896269 ],\n",
       "       [0.69344634],\n",
       "       [0.61592865],\n",
       "       [0.6768296 ],\n",
       "       [0.56802034],\n",
       "       [0.6053409 ],\n",
       "       [0.554737  ],\n",
       "       [0.6923923 ],\n",
       "       [0.7365077 ],\n",
       "       [0.62553763],\n",
       "       [0.5645749 ],\n",
       "       [0.55128086],\n",
       "       [0.645374  ],\n",
       "       [0.5530805 ],\n",
       "       [0.6021622 ],\n",
       "       [0.62858725],\n",
       "       [0.65778077],\n",
       "       [0.71413916],\n",
       "       [0.5751011 ],\n",
       "       [0.57307523],\n",
       "       [0.5698237 ],\n",
       "       [0.5577308 ],\n",
       "       [0.67244315],\n",
       "       [0.62035275],\n",
       "       [0.6865191 ],\n",
       "       [0.6004398 ],\n",
       "       [0.5206915 ],\n",
       "       [0.6465526 ],\n",
       "       [0.6008604 ],\n",
       "       [0.5976371 ],\n",
       "       [0.58991206],\n",
       "       [0.5452507 ],\n",
       "       [0.5935175 ],\n",
       "       [0.5933352 ],\n",
       "       [0.7084034 ],\n",
       "       [0.6297586 ],\n",
       "       [0.6207194 ],\n",
       "       [0.680911  ],\n",
       "       [0.681762  ],\n",
       "       [0.6559448 ],\n",
       "       [0.57838655],\n",
       "       [0.5909464 ],\n",
       "       [0.63608533],\n",
       "       [0.58162254],\n",
       "       [0.65763795],\n",
       "       [0.72010875],\n",
       "       [0.6537543 ],\n",
       "       [0.6000292 ],\n",
       "       [0.5975245 ],\n",
       "       [0.68822706],\n",
       "       [0.60394156],\n",
       "       [0.54504514],\n",
       "       [0.5681809 ],\n",
       "       [0.6801484 ],\n",
       "       [0.6932894 ],\n",
       "       [0.6093526 ],\n",
       "       [0.68094367],\n",
       "       [0.57599664],\n",
       "       [0.59723604],\n",
       "       [0.5516932 ],\n",
       "       [0.54109436],\n",
       "       [0.62199867],\n",
       "       [0.5627947 ],\n",
       "       [0.6463499 ],\n",
       "       [0.57474476],\n",
       "       [0.58748275],\n",
       "       [0.56797814],\n",
       "       [0.5585055 ],\n",
       "       [0.6045841 ],\n",
       "       [0.6078321 ],\n",
       "       [0.5931426 ],\n",
       "       [0.5723378 ],\n",
       "       [0.54972184],\n",
       "       [0.54620546],\n",
       "       [0.5930393 ],\n",
       "       [0.52557003],\n",
       "       [0.6566907 ],\n",
       "       [0.5774303 ],\n",
       "       [0.56574094]], dtype=float32)"
      ]
     },
     "execution_count": 10,
     "metadata": {},
     "output_type": "execute_result"
    }
   ],
   "source": [
    "model.predict(X)"
   ]
  },
  {
   "cell_type": "markdown",
   "metadata": {},
   "source": [
    "# \\[ 3. Numpy를 이용해 순전파 과정 진행하기 \\]\n",
    "\n",
    "Keras로 구현한 순전파 네트워크가 잘 돌아가는지, Keras에서 얻은 가중치 값을 가져와 Numpy 코드로 직접 수식을 구현하여 단계별로 얻어지는 값을 확인하고, 예측 결과 값을 비교해보겠습니다. 앞서 사용한 암환자 데이터셋을 이용해보겠습니다."
   ]
  },
  {
   "cell_type": "markdown",
   "metadata": {},
   "source": [
    "### (1) 가중치 가져오기"
   ]
  },
  {
   "cell_type": "markdown",
   "metadata": {},
   "source": [
    "keras에서는 `model.get_layer('layer_name').get_weights()`을 통해 모델 내 원하는 층의 가중치 값을 가져올 수 있습니다. 이는 class 또는 instance의 이동으로 다른 구조에서 가중치 값을 간단하게 공유할 수 있다는 점은 keras의 장점 중 하나입니다."
   ]
  },
  {
   "cell_type": "code",
   "execution_count": 11,
   "metadata": {
    "scrolled": true
   },
   "outputs": [
    {
     "name": "stdout",
     "output_type": "stream",
     "text": [
      "W1 >>>\n"
     ]
    },
    {
     "data": {
      "text/plain": [
       "array([[-0.707,  0.356, -0.063, -0.215,  0.197,  0.27 ,  0.657, -0.477,\n",
       "        -0.308,  0.555],\n",
       "       [-0.668, -0.551, -0.293,  0.611, -0.565, -0.002,  0.04 , -0.687,\n",
       "         0.178,  0.096]], dtype=float32)"
      ]
     },
     "metadata": {},
     "output_type": "display_data"
    },
    {
     "name": "stdout",
     "output_type": "stream",
     "text": [
      "B1 >>>\n"
     ]
    },
    {
     "data": {
      "text/plain": [
       "array([0., 0., 0., 0., 0., 0., 0., 0., 0., 0.], dtype=float32)"
      ]
     },
     "metadata": {},
     "output_type": "display_data"
    },
    {
     "name": "stdout",
     "output_type": "stream",
     "text": [
      "W2 >>>\n"
     ]
    },
    {
     "data": {
      "text/plain": [
       "array([[ 0.329],\n",
       "       [-0.738],\n",
       "       [ 0.333],\n",
       "       [ 0.433],\n",
       "       [ 0.061],\n",
       "       [ 0.633],\n",
       "       [ 0.558],\n",
       "       [-0.275],\n",
       "       [ 0.631],\n",
       "       [ 0.713]], dtype=float32)"
      ]
     },
     "metadata": {},
     "output_type": "display_data"
    },
    {
     "name": "stdout",
     "output_type": "stream",
     "text": [
      "B2 >>>\n"
     ]
    },
    {
     "data": {
      "text/plain": [
       "array([0.], dtype=float32)"
      ]
     },
     "metadata": {},
     "output_type": "display_data"
    }
   ],
   "source": [
    "W1, B1 = model.get_layer('hidden').get_weights()\n",
    "W2, B2 = model.get_layer('output').get_weights()\n",
    "\n",
    "np.set_printoptions(3)\n",
    "print(\"W1 >>>\")\n",
    "display(W1)\n",
    "print(\"B1 >>>\")\n",
    "display(B1)\n",
    "print(\"W2 >>>\")\n",
    "display(W2)\n",
    "print(\"B2 >>>\")\n",
    "display(B2)"
   ]
  },
  {
   "cell_type": "markdown",
   "metadata": {},
   "source": [
    "### (2) 순전파 수식 구현\n",
    "첫번째 층을 통과하는 과정을 살펴봅시다.\n",
    "\n",
    "<img src=\"https://i.imgur.com/o1SgBJZ.png\" width=\"600\" height=\"450\"/><br>"
   ]
  },
  {
   "cell_type": "markdown",
   "metadata": {},
   "source": [
    "위에 도식에서 입력 데이터 X가 가중치와 곱해진 결과값을 얻는 과정을 수식으로 나타내면 다음과 같습니다.\n",
    "\n",
    "$\n",
    "Z_1 = X \\cdot W_1 + B_1\n",
    "$\n",
    "\n",
    "이를 numpy 식으로 구현하면 아래와 같이 됩니다. "
   ]
  },
  {
   "cell_type": "code",
   "execution_count": 4,
   "metadata": {},
   "outputs": [],
   "source": [
    "X = cancer_df[['age','tumor_size']].values\n",
    "hidden1 = np.dot(X, W1) + B1\n",
    "# hidden1"
   ]
  },
  {
   "cell_type": "markdown",
   "metadata": {},
   "source": [
    "### (3) 활성화 함수 적용\n",
    "이렇게 입력값에 가중치를 곱해 얻은 $Z_1$, 즉`hidden1`에 `relu`활성화 함수를 적용해 보겠습니다.\n",
    "\n",
    "<img src=\"https://i.imgur.com/QVfBn7d.png\" width=\"600\" height=\"450\"/><br>"
   ]
  },
  {
   "cell_type": "markdown",
   "metadata": {},
   "source": [
    "$a_1 = RELU(z_1)$\n",
    "\n",
    "\n",
    "이를 numpy 식으로 구현하면 아래와 같이 됩니다. "
   ]
  },
  {
   "cell_type": "code",
   "execution_count": 5,
   "metadata": {},
   "outputs": [],
   "source": [
    "hidden1_np_output = np.maximum(hidden1,0)\n",
    "# hidden1_np_output"
   ]
  },
  {
   "cell_type": "markdown",
   "metadata": {},
   "source": [
    "### (4) 순전파 수식 구현\n",
    "두번째 layer를 통과하는 과정입니다.\n",
    "\n",
    "<img src=\"https://i.imgur.com/WKOjOg6.png\" width=\"600\" height=\"450\"/><br>"
   ]
  },
  {
   "cell_type": "markdown",
   "metadata": {},
   "source": [
    "첫 번째 층을 통과한 결과 값을 입력 값으로 받아 가중치 $W_2$와 곱하고, 편향 $b_2$를 더합니다. "
   ]
  },
  {
   "cell_type": "code",
   "execution_count": 6,
   "metadata": {
    "scrolled": true
   },
   "outputs": [],
   "source": [
    "output_z = np.dot(hidden1_np_output, W2) + B2\n",
    "# output_z"
   ]
  },
  {
   "cell_type": "markdown",
   "metadata": {},
   "source": [
    "### (5) 활성화 함수 적용\n",
    "최종적으로 두 번째 층의 결과값을 내기 위해 `output_z`에 `sigmoid`활성화 함수를 적용해 보겠습니다.\n",
    "<img src=\"https://i.imgur.com/9AceY76.png\" width=\"600\" height=\"450\"/><br>"
   ]
  },
  {
   "cell_type": "code",
   "execution_count": 15,
   "metadata": {
    "scrolled": true
   },
   "outputs": [
    {
     "data": {
      "text/plain": [
       "array([[0.949],\n",
       "       [1.   ],\n",
       "       [0.998],\n",
       "       [0.988],\n",
       "       [0.962],\n",
       "       [0.996],\n",
       "       [0.96 ],\n",
       "       [0.999],\n",
       "       [0.885],\n",
       "       [0.993],\n",
       "       [0.986],\n",
       "       [0.999],\n",
       "       [0.999],\n",
       "       [0.999],\n",
       "       [0.959],\n",
       "       [0.997],\n",
       "       [0.999],\n",
       "       [1.   ],\n",
       "       [0.939],\n",
       "       [0.994],\n",
       "       [0.965],\n",
       "       [0.984],\n",
       "       [1.   ],\n",
       "       [0.996],\n",
       "       [1.   ],\n",
       "       [0.959],\n",
       "       [0.991],\n",
       "       [0.943],\n",
       "       [1.   ],\n",
       "       [1.   ],\n",
       "       [0.996],\n",
       "       [0.957],\n",
       "       [0.932],\n",
       "       [0.998],\n",
       "       [0.935],\n",
       "       [0.989],\n",
       "       [0.997],\n",
       "       [0.999],\n",
       "       [1.   ],\n",
       "       [0.976],\n",
       "       [0.967],\n",
       "       [0.965],\n",
       "       [0.949],\n",
       "       [0.999],\n",
       "       [0.996],\n",
       "       [1.   ],\n",
       "       [0.99 ],\n",
       "       [0.823],\n",
       "       [0.999],\n",
       "       [0.991],\n",
       "       [0.988],\n",
       "       [0.984],\n",
       "       [0.911],\n",
       "       [0.986],\n",
       "       [0.988],\n",
       "       [1.   ],\n",
       "       [0.997],\n",
       "       [0.996],\n",
       "       [1.   ],\n",
       "       [1.   ],\n",
       "       [0.999],\n",
       "       [0.972],\n",
       "       [0.985],\n",
       "       [0.997],\n",
       "       [0.978],\n",
       "       [0.999],\n",
       "       [1.   ],\n",
       "       [0.999],\n",
       "       [0.989],\n",
       "       [0.989],\n",
       "       [1.   ],\n",
       "       [0.991],\n",
       "       [0.915],\n",
       "       [0.967],\n",
       "       [1.   ],\n",
       "       [1.   ],\n",
       "       [0.993],\n",
       "       [1.   ],\n",
       "       [0.976],\n",
       "       [0.988],\n",
       "       [0.934],\n",
       "       [0.909],\n",
       "       [0.996],\n",
       "       [0.956],\n",
       "       [0.998],\n",
       "       [0.976],\n",
       "       [0.984],\n",
       "       [0.967],\n",
       "       [0.954],\n",
       "       [0.991],\n",
       "       [0.992],\n",
       "       [0.986],\n",
       "       [0.971],\n",
       "       [0.929],\n",
       "       [0.929],\n",
       "       [0.988],\n",
       "       [0.847],\n",
       "       [0.999],\n",
       "       [0.975],\n",
       "       [0.961]])"
      ]
     },
     "execution_count": 15,
     "metadata": {},
     "output_type": "execute_result"
    }
   ],
   "source": [
    "np_output = 1/(1+np.exp(-output_z))\n",
    "np_output"
   ]
  },
  {
   "cell_type": "markdown",
   "metadata": {},
   "source": [
    "### (6) keras 결과와 비교하기"
   ]
  },
  {
   "cell_type": "markdown",
   "metadata": {},
   "source": [
    "numpy에서 제공하는 testing 모듈을 통해 keras와 numpy를 이용해 만든 각각의 결과를 비교해보도록 하겠습니다. 아래 코드를 동작했을 때 아무 문제없이 작동하면 두 결과가 거의 일치하는 것이고, 그렇지 않다면 오류 메시지를 반환할 것입니다."
   ]
  },
  {
   "cell_type": "code",
   "execution_count": 16,
   "metadata": {},
   "outputs": [],
   "source": [
    "keras_output = model.predict(cancer_df[['age','tumor_size']])\n",
    "np.testing.assert_array_almost_equal(np_output, keras_output)"
   ]
  },
  {
   "cell_type": "markdown",
   "metadata": {},
   "source": [
    "#  \n",
    "\n",
    "---\n",
    "\n",
    "    Copyright(c) 2019 by Public AI. All rights reserved.\n",
    "    Writen by PAI, SangJae Kang ( rocketgrowthsj@publicai.co.kr )  last updated on 2019/09/16\n",
    "\n",
    "\n",
    "---"
   ]
  }
 ],
 "metadata": {
  "kernelspec": {
   "display_name": "Python 3",
   "language": "python",
   "name": "python3"
  },
  "language_info": {
   "codemirror_mode": {
    "name": "ipython",
    "version": 3
   },
   "file_extension": ".py",
   "mimetype": "text/x-python",
   "name": "python",
   "nbconvert_exporter": "python",
   "pygments_lexer": "ipython3",
   "version": "3.6.8"
  }
 },
 "nbformat": 4,
 "nbformat_minor": 4
}
