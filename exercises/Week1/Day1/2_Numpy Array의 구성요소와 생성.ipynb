{
 "cells": [
  {
   "cell_type": "markdown",
   "metadata": {},
   "source": [
    "<i><b>Public AI</b></i>\n",
    "<br>\n",
    "###  &nbsp;&nbsp; **✎&nbsp;&nbsp;Week 1. Numpy Basis**\n",
    "# Section 2. Numpy Array의 구성요소와 생성"
   ]
  },
  {
   "cell_type": "code",
   "execution_count": null,
   "metadata": {},
   "outputs": [],
   "source": [
    "# 우선 실행해주세요\n",
    "import numpy as np"
   ]
  },
  {
   "cell_type": "markdown",
   "metadata": {},
   "source": [
    "## 문제 1. 배열 생성\n",
    "* shape이 (2,3)이고, datatype이 `np.float`이고, 모든 값이 1인 `numpy array`를 만들어주세요"
   ]
  },
  {
   "cell_type": "markdown",
   "metadata": {},
   "source": [
    "#### 답안지 입력란\n",
    "* 아래에 답을 서술하여 주세요\n",
    "* 결과는 `answer1`에 담아주세요"
   ]
  },
  {
   "cell_type": "code",
   "execution_count": null,
   "metadata": {},
   "outputs": [],
   "source": []
  },
  {
   "cell_type": "markdown",
   "metadata": {},
   "source": [
    "#### 정답 확인\n",
    "* 정답을 입력한 후, 아래를 실행시키면 정답인지 확인합니다."
   ]
  },
  {
   "cell_type": "code",
   "execution_count": null,
   "metadata": {},
   "outputs": [],
   "source": [
    "from numpy.testing import assert_array_equal\n",
    "\n",
    "assert 'answer1' in globals(), \"결과를 answer1 변수에 담아주세요!, answer1 값을 보고 평가합니다.\"\n",
    "assert isinstance(answer1, np.ndarray), \"결과값들을 'numpy array'형식으로 담아주세요\"\n",
    "\n",
    "A = np.array([\n",
    "    [1,1,1],\n",
    "    [1,1,1]\n",
    "],dtype=np.float)\n",
    "\n",
    "assert_array_equal(A, answer1, \n",
    "               err_msg=\"\\n정답은 \\n{}\\n입니다. 코드를 다시 확인해주세요\\n\".format(A))\n",
    "\n",
    "print(\"정답입니다!!!\")"
   ]
  },
  {
   "cell_type": "markdown",
   "metadata": {},
   "source": [
    "## 문제 2. 행렬의 data type 바꾸기\n",
    "* 아래의 행렬, `arr`의 data type이 `np.float`이 되도록 바꾸어 주세요\n"
   ]
  },
  {
   "cell_type": "code",
   "execution_count": null,
   "metadata": {},
   "outputs": [],
   "source": [
    "# 우선 실행해주세요\n",
    "arr = np.ones([5,3], dtype=np.int64)\n",
    "arr"
   ]
  },
  {
   "cell_type": "markdown",
   "metadata": {},
   "source": [
    "#### 답안지 입력란\n",
    "* 아래에 답을 서술하여 주세요\n",
    "* 결과는 `answer2`에 담아주세요"
   ]
  },
  {
   "cell_type": "code",
   "execution_count": null,
   "metadata": {},
   "outputs": [],
   "source": []
  },
  {
   "cell_type": "markdown",
   "metadata": {},
   "source": [
    "#### 정답 확인\n",
    "* 정답을 입력한 후, 아래를 실행시키면 정답인지 확인합니다."
   ]
  },
  {
   "cell_type": "code",
   "execution_count": null,
   "metadata": {},
   "outputs": [],
   "source": [
    "from numpy.testing import assert_array_equal\n",
    "\n",
    "assert 'answer2' in globals(), \"결과를 answer2 변수에 담아주세요!, answer2 값을 보고 평가합니다.\"\n",
    "assert isinstance(answer2, np.ndarray), \"결과값들을 'numpy array'형식으로 담아주세요\"\n",
    "\n",
    "A = np.ones([5,3], dtype=np.float)\n",
    "\n",
    "assert_array_equal(A,answer2,\n",
    "                   err_msg=\"\\n\\n정답은 \\n{}\\n입니다. 코드를 다시 확인해주세요\".format(A))\n",
    "\n",
    "print(\"정답입니다!!!\")"
   ]
  },
  {
   "cell_type": "markdown",
   "metadata": {},
   "source": [
    "## 문제 3. 같은 간격의 행렬 만들기(1)\n",
    "* 아래와 같은 행렬을 `np.arange`를 이용해 만들어 주세요\n",
    "\n",
    "정답 >>>\n",
    "```python\n",
    "np.array([ 1.5,  4.5,  7.5, 10.5, 13.5])\n",
    "```"
   ]
  },
  {
   "cell_type": "markdown",
   "metadata": {},
   "source": [
    "#### 답안지 입력란\n",
    "* 아래에 답을 서술하여 주세요\n",
    "* 결과는 `answer3`에 담아주세요"
   ]
  },
  {
   "cell_type": "code",
   "execution_count": null,
   "metadata": {},
   "outputs": [],
   "source": []
  },
  {
   "cell_type": "markdown",
   "metadata": {},
   "source": [
    "#### 정답 확인\n",
    "* 정답을 입력한 후, 아래를 실행시키면 정답인지 확인합니다."
   ]
  },
  {
   "cell_type": "code",
   "execution_count": null,
   "metadata": {},
   "outputs": [],
   "source": [
    "from numpy.testing import assert_array_almost_equal\n",
    "\n",
    "assert 'answer3' in globals(), \"결과를 answer3이라는 변수에 담아주세요!, answer3의 값을 보고 평가합니다.\"\n",
    "assert isinstance(answer3, np.ndarray), \"결과값들을 'numpy array'형식으로 담아주세요\"\n",
    "\n",
    "A = np.array([ 1.5,  4.5,  7.5, 10.5, 13.5])\n",
    "\n",
    "assert_array_almost_equal(A,answer3,decimal=2,\n",
    "                          err_msg=\"\\n\\n정답은 \\n{}\\n입니다. 코드를 다시 확인해주세요\".format(A))\n",
    "\n",
    "print(\"정답입니다!!!\")"
   ]
  },
  {
   "cell_type": "markdown",
   "metadata": {},
   "source": [
    "## 문제 4. 같은 간격의 행렬 만들기(2)\n",
    "* 아래와 같은 행렬을 `np.linspace`를 이용해 만들어 주세요\n",
    "\n",
    "정답 >>>\n",
    "```python\n",
    "np.array([ 1.5,  4.5,  7.5, 10.5, 13.5])\n",
    "```"
   ]
  },
  {
   "cell_type": "markdown",
   "metadata": {},
   "source": [
    "#### 답안지 입력란\n",
    "* 아래에 답을 서술하여 주세요\n",
    "* 결과는 `answer4`에 담아주세요"
   ]
  },
  {
   "cell_type": "code",
   "execution_count": null,
   "metadata": {
    "scrolled": false
   },
   "outputs": [],
   "source": []
  },
  {
   "cell_type": "markdown",
   "metadata": {},
   "source": [
    "#### 정답 확인\n",
    "* 정답을 입력한 후, 아래를 실행시키면 정답인지 확인합니다."
   ]
  },
  {
   "cell_type": "code",
   "execution_count": null,
   "metadata": {},
   "outputs": [],
   "source": [
    "from numpy.testing import assert_array_almost_equal\n",
    "\n",
    "assert 'answer4' in globals(), \"결과를 answer4라는 변수에 담아주세요!, answer4의 값을 보고 평가합니다.\"\n",
    "assert isinstance(answer4, np.ndarray), \"결과값들을 'numpy array'형식으로 담아주세요\"\n",
    "\n",
    "A = np.array([ 1.5,  4.5,  7.5, 10.5, 13.5])\n",
    "\n",
    "assert_array_almost_equal(A,answer4,decimal=2,\n",
    "                          err_msg=\"\\n\\n정답은 \\n{}\\n입니다. 코드를 다시 확인해주세요\".format(A))\n",
    "\n",
    "print(\"정답입니다!!!\")"
   ]
  },
  {
   "cell_type": "markdown",
   "metadata": {},
   "source": [
    "#  \n",
    "\n",
    "<hr>\n",
    "<div>\n",
    "    Copyright(c) 2019 by Public AI. All rights reserved.<br>\n",
    "    Writen by PAI, DoYeong Kim ( ka2k@publicai.co.kr )  last updated on 2019/07/12\n",
    "</div>\n",
    "<hr>"
   ]
  }
 ],
 "metadata": {
  "kernelspec": {
   "display_name": "Python 3",
   "language": "python",
   "name": "python3"
  },
  "language_info": {
   "codemirror_mode": {
    "name": "ipython",
    "version": 3
   },
   "file_extension": ".py",
   "mimetype": "text/x-python",
   "name": "python",
   "nbconvert_exporter": "python",
   "pygments_lexer": "ipython3",
   "version": "3.6.8"
  }
 },
 "nbformat": 4,
 "nbformat_minor": 2
}
