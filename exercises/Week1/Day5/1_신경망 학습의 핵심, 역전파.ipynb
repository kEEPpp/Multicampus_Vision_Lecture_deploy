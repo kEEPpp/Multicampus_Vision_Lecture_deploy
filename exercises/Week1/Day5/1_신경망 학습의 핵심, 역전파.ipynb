{
 "cells": [
  {
   "cell_type": "markdown",
   "metadata": {},
   "source": [
    "<i><b>Public AI</b></i>\n",
    "<br>\n",
    "###  &nbsp;&nbsp; **✎&nbsp;&nbsp;Week 1. DNN Basis**\n",
    "# Section 6. 신경망 학습의 핵심, 역전파\n",
    "\n",
    "### _Objective_\n",
    "+ 함수의 미분에 대한 훈련을 합니다."
   ]
  },
  {
   "cell_type": "code",
   "execution_count": null,
   "metadata": {},
   "outputs": [],
   "source": [
    "import numpy as np"
   ]
  },
  {
   "cell_type": "markdown",
   "metadata": {},
   "source": [
    "## 문제 1. $log$ 함수 , $e^x$ 함수 미분하기 \n",
    "\n",
    "아래 공식을 이용해 ln 함수및 지수 함수를  미분하는 문제를 해결해 봅니다.<br>\n",
    "numpy 을 이용해 문제를 해결합니다<br>\n",
    "\n",
    "<img src=\"https://i.imgur.com/tpqgsae.png\" width=\"600\" height=\"450\"/>"
   ]
  },
  {
   "cell_type": "markdown",
   "metadata": {},
   "source": [
    "### (1) $f(x) = log_2x$일 때 $f'(3)$을 구해주세요. <br>"
   ]
  },
  {
   "cell_type": "markdown",
   "metadata": {},
   "source": [
    "#### 답안지 입력란\n",
    "* 아래에 답을 서술하여 주세요\n",
    "* 정답은 `answer1_1`에 넣어주세요."
   ]
  },
  {
   "cell_type": "code",
   "execution_count": null,
   "metadata": {},
   "outputs": [],
   "source": []
  },
  {
   "cell_type": "markdown",
   "metadata": {},
   "source": [
    "#### 정답 확인\n",
    "* 정답을 입력한 후, 아래를 실행시키면 정답인지 확인합니다."
   ]
  },
  {
   "cell_type": "code",
   "execution_count": null,
   "metadata": {},
   "outputs": [],
   "source": [
    "from numpy.testing import assert_almost_equal\n",
    "assert 'answer1_1' in globals(), \"answer1_1에 값을 담았는지 확인해주세요\"\n",
    "\n",
    "A = 0.48089834696298783\n",
    "assert_almost_equal(answer1_1,A,decimal=5,\n",
    "                    err_msg=\"정답이 {} 인지 확인해 주세요\".format(A))\n",
    "\n",
    "print(\"정답입니다!!!!\")"
   ]
  },
  {
   "cell_type": "markdown",
   "metadata": {},
   "source": [
    "### (2) $g(x) = 2lnx$일 때, $g'(3)$을 구해주세요.  <br>"
   ]
  },
  {
   "cell_type": "markdown",
   "metadata": {},
   "source": [
    "#### 답안지 입력란\n",
    "* 아래에 답을 서술하여 주세요\n",
    "* 정답은 `answer1_2`에 넣어주세요."
   ]
  },
  {
   "cell_type": "code",
   "execution_count": null,
   "metadata": {},
   "outputs": [],
   "source": []
  },
  {
   "cell_type": "markdown",
   "metadata": {},
   "source": [
    "#### 정답 확인\n",
    "* 정답을 입력한 후, 아래를 실행시키면 정답인지 확인합니다."
   ]
  },
  {
   "cell_type": "code",
   "execution_count": null,
   "metadata": {},
   "outputs": [],
   "source": [
    "from numpy.testing import assert_almost_equal\n",
    "assert 'answer1_2' in globals(), \"answer1_2에 값을 담았는지 확인해주세요\"\n",
    "\n",
    "A = 0.6666666666666666\n",
    "assert_almost_equal(answer1_2,A,decimal=5,\n",
    "                    err_msg=\"정답이 {} 인지 확인해 주세요\".format(A))\n",
    "\n",
    "print(\"정답입니다!!!!\")"
   ]
  },
  {
   "cell_type": "markdown",
   "metadata": {},
   "source": [
    "### (3) $h(x) = -3e^x$일 때, $h'(2)$을 구해주세요. <br>"
   ]
  },
  {
   "cell_type": "markdown",
   "metadata": {},
   "source": [
    "#### 답안지 입력란\n",
    "* 아래에 답을 서술하여 주세요\n",
    "* 정답은 `answer1_3`에 넣어주세요."
   ]
  },
  {
   "cell_type": "code",
   "execution_count": null,
   "metadata": {},
   "outputs": [],
   "source": []
  },
  {
   "cell_type": "markdown",
   "metadata": {},
   "source": [
    "#### 정답 확인\n",
    "* 정답을 입력한 후, 아래를 실행시키면 정답인지 확인합니다."
   ]
  },
  {
   "cell_type": "code",
   "execution_count": null,
   "metadata": {},
   "outputs": [],
   "source": [
    "from numpy.testing import assert_almost_equal\n",
    "assert 'answer1_3' in globals(), \"answer1_3에 값을 담았는지 확인해주세요\"\n",
    "\n",
    "A = -22.16716829679195\n",
    "assert_almost_equal(answer1_3,A,decimal=5,\n",
    "                    err_msg=\"정답이 {} 인지 확인해 주세요\".format(A))\n",
    "\n",
    "print(\"정답입니다!!!!\")"
   ]
  },
  {
   "cell_type": "markdown",
   "metadata": {},
   "source": [
    "## 문제 2. Booth function 미분 하기 \n",
    "\n",
    "그리고 아래 Booth Function 수식을 변수 별($x$,$y$)로 편미분한 값을 구해주세요.\n",
    "\n",
    "Booth function <br>\n",
    "$f(x,y)=\\left(x+2y-7\\right)^{2}+\\left(2x+y-5\\right)^{2}$<br><br>\n",
    "$answer2\\_1 =\\frac{\\partial f(2 ,-3 )}{\\partial x }$ <br>\n",
    "$answer2\\_2 =\\frac{\\partial f(2, -3 )}{\\partial y }$ <br>\n",
    "\n",
    "* 참고 : Booth Function\n",
    "<img src=\"https://i.imgur.com/91ieZ2x.png\" width=\"400\" height=\"400\"/>"
   ]
  },
  {
   "cell_type": "markdown",
   "metadata": {},
   "source": [
    "#### 답안지 입력란\n",
    "* 아래에 답을 서술하여 주세요\n",
    "* x에 대한 편미분 값은 `answer2_1`에 넣어주세요.\n",
    "* y에 대한 편미분 값은 `answer2_2`에 넣어주세요."
   ]
  },
  {
   "cell_type": "code",
   "execution_count": null,
   "metadata": {},
   "outputs": [],
   "source": []
  },
  {
   "cell_type": "markdown",
   "metadata": {},
   "source": [
    "#### 정답 확인\n",
    "* 정답을 입력한 후, 아래를 실행시키면 정답인지 확인합니다."
   ]
  },
  {
   "cell_type": "code",
   "execution_count": null,
   "metadata": {},
   "outputs": [],
   "source": [
    "from numpy.testing import assert_almost_equal\n",
    "assert 'answer2_1' in globals(), \"answer2_1 에 값을 담았는지 확인해주세요\"\n",
    "assert 'answer2_2' in globals(), \"answer2_2 에 값을 담았는지 확인해주세요\"\n",
    "\n",
    "if answer2_1 == -int(ord('&')) and answer2_2 == -int(ord('4')):\n",
    "    print(\"정답입니다!!!!\")\n",
    "else:\n",
    "    raise ValueError(\"answer2_1이 -38 이고 answer2_2 가 -52 인지 확인해주세요\")"
   ]
  },
  {
   "cell_type": "markdown",
   "metadata": {},
   "source": [
    "## 문제 3. ChainRule 을 이용해 미분 하기 \n",
    "\n",
    "\n",
    "아래 함수에 대한 편미분 함수를 구해 주세요. ($\\frac{\\partial f(x,y )}{\\partial x }$ , $\\frac{\\partial f(x,y )}{\\partial y }$)<br>\n",
    "\n",
    "$g(x) = e^x$ <br>\n",
    "$h(y) = 3lny$<br>\n",
    "$f\\left(g(x), h(y)\\right)=\\left(1+h(y)\\right)\\exp \\left(-{\\frac {g(x)}{1+h(y)}}\\right)$\n",
    "\n",
    "그리고 문제를 풀어 (x,y)=(2,3)일 때의, 편미분 값을 구해주세요.\n",
    "\n",
    "$answer3\\_1 =\\frac{\\partial f(2 ,3 )}{\\partial x }$ <br>\n",
    "$answer3\\_2 =\\frac{\\partial f(2, 3 )}{\\partial y }$ <br>\n",
    "\n"
   ]
  },
  {
   "cell_type": "markdown",
   "metadata": {},
   "source": [
    "#### 답안지 입력란\n",
    "* 아래에 답을 서술하여 주세요\n",
    "* x에 대한 편미분 값은 `answer3_1`에 넣어주세요.\n",
    "* y에 대한 편미분 값은 `answer3_2`에 넣어주세요."
   ]
  },
  {
   "cell_type": "code",
   "execution_count": null,
   "metadata": {},
   "outputs": [],
   "source": []
  },
  {
   "cell_type": "markdown",
   "metadata": {},
   "source": [
    "#### 정답 확인\n",
    "* 정답을 입력한 후, 아래를 실행시키면 정답인지 확인합니다."
   ]
  },
  {
   "cell_type": "code",
   "execution_count": null,
   "metadata": {},
   "outputs": [],
   "source": [
    "from numpy.testing import assert_almost_equal\n",
    "assert 'answer3_1' in globals(), \"answer3_1에 값을 담았는지 확인해주세요\"\n",
    "assert 'answer3_2' in globals(), \"answer3_2에 값을 담았는지 확인해주세요\"\n",
    "\n",
    "A_1 = 1.3230630730762794\n",
    "A_2 = 0.4870443867473479\n",
    "\n",
    "assert_almost_equal(answer3_1,A_1,decimal=5,\n",
    "                    err_msg=\"정답이 {} 인지 확인해 주세요\".format(A_1))\n",
    "assert_almost_equal(answer3_2,A_2,decimal=5,\n",
    "                    err_msg=\"정답이 {} 인지 확인해 주세요\".format(A_2))\n",
    "print(\"정답입니다!!!\")"
   ]
  },
  {
   "cell_type": "markdown",
   "metadata": {},
   "source": [
    "## 문제 4. 가중치의 Gradient\n",
    "\n",
    "아래와 같은 신경망에서 가중치의 Gradient의 식이 올바른 것의 번호를 모두 골라 list에 담아주세요.<br>\n",
    "* 답안예시 : answer4 = [1,2,3,4]\n",
    "\n",
    "<img src=\"https://i.imgur.com/CgcnoPV.png\" width=\"800\" height=\"600\"/><br><br>\n",
    "\n",
    "<div>\n",
    "    <img src=\"https://i.imgur.com/FTEY8uH.png\" width=\"450\" height=\"600\" align=\"left\"/>\n",
    "    <img src=\"https://i.imgur.com/06If9s7.png\" width=\"400\" height=\"300\"/>\n",
    "</div>\n",
    "\n",
    "\n"
   ]
  },
  {
   "cell_type": "markdown",
   "metadata": {},
   "source": [
    "#### 답안지 입력란\n",
    "* 아래에 답을 서술하여 주세요\n",
    "* 결과 값은 `answer4`에 담아주세요"
   ]
  },
  {
   "cell_type": "code",
   "execution_count": null,
   "metadata": {},
   "outputs": [],
   "source": []
  },
  {
   "cell_type": "markdown",
   "metadata": {},
   "source": [
    "#### 정답 확인\n",
    "* 정답을 입력한 후, 아래를 실행시키면 정답인지 확인합니다."
   ]
  },
  {
   "cell_type": "code",
   "execution_count": null,
   "metadata": {},
   "outputs": [],
   "source": [
    "assert 'answer4' in globals(), \"결과를 answer4라는 변수에 담아주세요!, answer4의 값을 보고 평가합니다.\"\n",
    "\n",
    "A = [int(ord('['))-int(ord('Z')),int(ord('A'))-int(ord('?')),int(ord('>'))-int(ord(':'))]\n",
    "\n",
    "assert set(A) == set(answer4), \"정답이 아닙니다. 미분의 흐름을 잘 따라가보세요.\"\n",
    "\n",
    "print(\"정답입니다!\")"
   ]
  },
  {
   "cell_type": "markdown",
   "metadata": {},
   "source": [
    "#  \n",
    "\n",
    "<hr>\n",
    "<div>\n",
    "    Copyright(c) 2019 by Public AI. All rights reserved.<br>\n",
    "    Writen by PAI, DoYeong Kim ( ka2k@publicai.co.kr )  last updated on 2019/10/07\n",
    "</div>\n",
    "<hr>"
   ]
  }
 ],
 "metadata": {
  "kernelspec": {
   "display_name": "Python 3",
   "language": "python",
   "name": "python3"
  },
  "language_info": {
   "codemirror_mode": {
    "name": "ipython",
    "version": 3
   },
   "file_extension": ".py",
   "mimetype": "text/x-python",
   "name": "python",
   "nbconvert_exporter": "python",
   "pygments_lexer": "ipython3",
   "version": "3.6.8"
  }
 },
 "nbformat": 4,
 "nbformat_minor": 2
}
