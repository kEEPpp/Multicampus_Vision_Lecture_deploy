{
 "cells": [
  {
   "cell_type": "markdown",
   "metadata": {},
   "source": [
    "<i><b>Public AI</b></i>\n",
    "<br>\n",
    "###  &nbsp;&nbsp; **✎&nbsp;&nbsp;Week 1. DNN Basis**\n",
    "# Section 7. 역전파 구현하기\n",
    "\n",
    "### _Objective_\n",
    "+ Computational Graph(계산 그래프)로 BackPropagation을 구현해보도록 하겠습니다."
   ]
  },
  {
   "cell_type": "code",
   "execution_count": null,
   "metadata": {},
   "outputs": [],
   "source": [
    "# 우선 실행해주세요\n",
    "\n",
    "import numpy as np "
   ]
  },
  {
   "cell_type": "markdown",
   "metadata": {},
   "source": [
    "## 문제 1. 덧셈 노드 역전파\n",
    "\n",
    "* 아래 계산그래프에서 $x = 1$, $y = 2$, $z = 3$ 일 때, $\\frac{\\partial z}{\\partial x }$의 값을 구해주세요.\n",
    "\n",
    "<img src=\"https://i.imgur.com/v3jZZFx.png\" width=\"400\" height=\"400\"/><br>"
   ]
  },
  {
   "cell_type": "markdown",
   "metadata": {},
   "source": [
    "#### 답안지 입력란\n",
    "* 아래에 답을 서술하여 주세요\n",
    "* 정답은 `answer1`에 담아주세요."
   ]
  },
  {
   "cell_type": "code",
   "execution_count": null,
   "metadata": {},
   "outputs": [],
   "source": []
  },
  {
   "cell_type": "markdown",
   "metadata": {},
   "source": [
    "#### 정답 확인\n",
    "* 정답을 입력한 후, 아래를 실행시키면 정답인지 확인합니다."
   ]
  },
  {
   "cell_type": "code",
   "execution_count": null,
   "metadata": {},
   "outputs": [],
   "source": [
    "assert 'answer1' in globals(), \"answer1에 값을 담았는지 확인해주세요\"\n",
    "\n",
    "if answer1 == 1:\n",
    "    print(\"정답입니다!!!!\")\n",
    "else:\n",
    "    raise ValueError(\"틀렸습니다.\")"
   ]
  },
  {
   "cell_type": "markdown",
   "metadata": {},
   "source": [
    "## 문제 2. 곱셈 노드 역전파\n",
    "\n",
    "* 아래 계산그래프에서 $x = 5$, $y = 2$, $z = 3$ 일 때, $\\frac{\\partial z}{\\partial x }$의 값을 구해주세요.\n",
    "\n",
    "<img src=\"https://i.imgur.com/ybSPmk1.png\" width=\"400\" height=\"400\"/><br>"
   ]
  },
  {
   "cell_type": "markdown",
   "metadata": {},
   "source": [
    "#### 답안지 입력란\n",
    "* 아래에 답을 서술하여 주세요\n",
    "* 정답은 `answer2`에 담아주세요."
   ]
  },
  {
   "cell_type": "code",
   "execution_count": null,
   "metadata": {},
   "outputs": [],
   "source": []
  },
  {
   "cell_type": "markdown",
   "metadata": {},
   "source": [
    "#### 정답 확인\n",
    "* 정답을 입력한 후, 아래를 실행시키면 정답인지 확인합니다."
   ]
  },
  {
   "cell_type": "code",
   "execution_count": null,
   "metadata": {},
   "outputs": [],
   "source": [
    "assert 'answer2' in globals(), \"answer2에 값을 담았는지 확인해주세요\"\n",
    "\n",
    "if answer2 == 2:\n",
    "    print(\"정답입니다!!!!\")\n",
    "else:\n",
    "    raise ValueError(\"틀렸습니다.\")"
   ]
  },
  {
   "cell_type": "markdown",
   "metadata": {},
   "source": [
    "## 문제 3. 시그모이드 역전파\n",
    "\n",
    "* 아래 계산그래프에서 x = 3 일때, $\\frac{\\partial L}{\\partial x}$의 값을 구해주세요.\n",
    "\n",
    "<img src=\"https://i.imgur.com/hUdRUXS.png\" width=\"800\" height=\"600\"/><br>"
   ]
  },
  {
   "cell_type": "markdown",
   "metadata": {},
   "source": [
    "#### 답안지 입력란\n",
    "* 아래에 답을 서술하여 주세요\n",
    "* 정답은 `answer3`에 담아주세요."
   ]
  },
  {
   "cell_type": "code",
   "execution_count": null,
   "metadata": {},
   "outputs": [],
   "source": []
  },
  {
   "cell_type": "markdown",
   "metadata": {},
   "source": [
    "#### 정답 확인\n",
    "* 정답을 입력한 후, 아래를 실행시키면 정답인지 확인합니다."
   ]
  },
  {
   "cell_type": "code",
   "execution_count": null,
   "metadata": {},
   "outputs": [],
   "source": [
    "from numpy.testing import assert_almost_equal\n",
    "assert 'answer3' in globals(), \"answer3에 값을 담았는지 확인해주세요\"\n",
    "\n",
    "A = 0.045176659730912\n",
    "assert_almost_equal(answer3, A, decimal=5,\n",
    "                    err_msg=\"정답이 {} 인지 확인해 주세요\".format(A))\n",
    "print(\"정답입니다!!!!\")"
   ]
  },
  {
   "cell_type": "markdown",
   "metadata": {},
   "source": [
    "## 문제 4. 신경망에서의 역전파 (1)\n",
    "\n",
    "* 아래 계산그래프에서 $x=3$, $y=1$, $Loss=2.6$일 때,$\\frac{\\partial loss}{\\partial W^1_{11}}$의 값을 구해주세요.\n",
    "\n",
    "<img src=\"https://i.imgur.com/BuBJWX7.png\" width=\"800\" height=\"600\"/><br>"
   ]
  },
  {
   "cell_type": "markdown",
   "metadata": {},
   "source": [
    "#### 답안지 입력란\n",
    "* 아래에 답을 서술하여 주세요\n",
    "* 정답은 `answer4`에 담아주세요."
   ]
  },
  {
   "cell_type": "code",
   "execution_count": null,
   "metadata": {},
   "outputs": [],
   "source": []
  },
  {
   "cell_type": "markdown",
   "metadata": {},
   "source": [
    "#### 정답 확인\n",
    "* 정답을 입력한 후, 아래를 실행시키면 정답인지 확인합니다."
   ]
  },
  {
   "cell_type": "code",
   "execution_count": null,
   "metadata": {},
   "outputs": [],
   "source": [
    "from numpy.testing import assert_almost_equal\n",
    "assert 'answer4' in globals(), \"answer4에 값을 담았는지 확인해주세요\"\n",
    "\n",
    "A = -0.024893594805934935\n",
    "assert_almost_equal(answer4, A, decimal=5,\n",
    "                    err_msg=\"정답이 {} 인지 확인해 주세요\".format(A))\n",
    "print(\"정답입니다!!!!\")"
   ]
  },
  {
   "cell_type": "markdown",
   "metadata": {},
   "source": [
    "## 문제 5. 신경망에서의 역전파 (2)\n",
    "\n",
    "* 아래 계산그래프에서 $x=-3$, $y=1$, $Loss=2.6$일 때,$\\frac{\\partial loss}{\\partial W^1_{11}}$의 값을 구해주세요.\n",
    "\n",
    "<img src=\"https://i.imgur.com/GzKAiaj.png\" width=\"800\" height=\"600\"/><br>"
   ]
  },
  {
   "cell_type": "markdown",
   "metadata": {},
   "source": [
    "#### 답안지 입력란\n",
    "* 아래에 답을 서술하여 주세요\n",
    "* 정답은 `answer5`에 담아주세요."
   ]
  },
  {
   "cell_type": "code",
   "execution_count": null,
   "metadata": {},
   "outputs": [],
   "source": []
  },
  {
   "cell_type": "markdown",
   "metadata": {},
   "source": [
    "#### 정답 확인\n",
    "* 정답을 입력한 후, 아래를 실행시키면 정답인지 확인합니다."
   ]
  },
  {
   "cell_type": "code",
   "execution_count": null,
   "metadata": {},
   "outputs": [],
   "source": [
    "from numpy.testing import assert_almost_equal\n",
    "assert 'answer5' in globals(), \"answer5에 값을 담았는지 확인해주세요\"\n",
    "\n",
    "A = 0.0\n",
    "assert_almost_equal(answer5, A, decimal=5,\n",
    "                    err_msg=\"정답이 {} 인지 확인해 주세요\".format(A))\n",
    "print(\"정답입니다!!!!\")"
   ]
  },
  {
   "cell_type": "markdown",
   "metadata": {},
   "source": [
    "## 문제 6. 신경망에서의 역전파 (3)\n",
    "\n",
    "* 아래 계산그래프에서 $x=3$, $y=1$, $Loss=2.6$일 때,$\\frac{\\partial loss}{\\partial X}$의 값을 구해주세요.\n",
    "\n",
    "<img src=\"https://i.imgur.com/8sG5UXF.png\" width=\"800\" height=\"600\"/><br>"
   ]
  },
  {
   "cell_type": "markdown",
   "metadata": {},
   "source": [
    "#### 답안지 입력란\n",
    "* 아래에 답을 서술하여 주세요\n",
    "* 정답은 `answer6`에 담아주세요."
   ]
  },
  {
   "cell_type": "code",
   "execution_count": null,
   "metadata": {},
   "outputs": [],
   "source": []
  },
  {
   "cell_type": "markdown",
   "metadata": {},
   "source": [
    "#### 정답 확인\n",
    "* 정답을 입력한 후, 아래를 실행시키면 정답인지 확인합니다."
   ]
  },
  {
   "cell_type": "code",
   "execution_count": null,
   "metadata": {},
   "outputs": [],
   "source": [
    "from numpy.testing import assert_almost_equal\n",
    "assert 'answer6' in globals(), \"answer6에 값을 담았는지 확인해주세요\"\n",
    "\n",
    "A = 0.0029309415423474532\n",
    "assert_almost_equal(answer6, A, decimal=5,\n",
    "                    err_msg=\"정답이 {} 인지 확인해 주세요\".format(A))\n",
    "print(\"정답입니다!!!!\")"
   ]
  },
  {
   "cell_type": "markdown",
   "metadata": {},
   "source": [
    "## 문제 7. 벡터에서의 역전파\n",
    "\n",
    "* 아래 계산그래프에서 $\\frac{\\partial loss}{\\partial W}$의 값을 구해주세요.\n",
    "\n",
    "<img src=\"https://i.imgur.com/mEtgJu0.png\" width=\"800\" height=\"600\"/><br>"
   ]
  },
  {
   "cell_type": "code",
   "execution_count": null,
   "metadata": {},
   "outputs": [],
   "source": [
    "# 우선 실행해주세요\n",
    "X = np.array([[9., 3.],\n",
    "             [3., 7.],\n",
    "             [8., 4.],\n",
    "             [2., 3.]])\n",
    "\n",
    "Y = np.array([[1.],\n",
    "             [0.],\n",
    "             [1.],\n",
    "             [0.]])\n",
    "\n",
    "\n",
    "W1 = np.array([[0.3, -0.7],\n",
    "               [0.6, 0.4]])\n",
    "\n",
    "B1 = np.array([[0., 0.1]])\n",
    "\n",
    "\n",
    "\n",
    "W2 = np.array([[0.4] ,[0.6]])\n",
    "\n",
    "B2 = np.array([[0.7]])"
   ]
  },
  {
   "cell_type": "markdown",
   "metadata": {},
   "source": [
    "#### 답안지 입력란\n",
    "* 아래에 답을 서술하여 주세요\n",
    "* 정답은 `answer7`에 담아주세요."
   ]
  },
  {
   "cell_type": "markdown",
   "metadata": {},
   "source": [
    "<img src=\"https://i.imgur.com/mEtgJu0.png\" width=\"800\" height=\"600\"/><br>"
   ]
  },
  {
   "cell_type": "code",
   "execution_count": null,
   "metadata": {},
   "outputs": [],
   "source": []
  },
  {
   "cell_type": "markdown",
   "metadata": {},
   "source": [
    "#### 정답 확인\n",
    "* 정답을 입력한 후, 아래를 실행시키면 정답인지 확인합니다."
   ]
  },
  {
   "cell_type": "code",
   "execution_count": null,
   "metadata": {},
   "outputs": [],
   "source": [
    "from numpy.testing import assert_array_almost_equal\n",
    "assert 'answer7' in globals(), \"answer7 값을 담았는지 확인해주세요\"\n",
    "\n",
    "A = np.array([[1.33583763, 2.00375645],\n",
    "       [3.50110016, 5.25165024]])\n",
    "\n",
    "assert_array_almost_equal(answer7, A, decimal=5,\n",
    "                          err_msg=\"정답이 {} 인지 확인해 주세요\".format(A))\n",
    "print(\"정답입니다!!!!\")"
   ]
  },
  {
   "cell_type": "markdown",
   "metadata": {},
   "source": [
    "#  \n",
    "\n",
    "<hr>\n",
    "<div>\n",
    "    Copyright(c) 2019 by Public AI. All rights reserved.<br>\n",
    "    Writen by PAI, DoYeong Kim ( ka2k@publicai.co.kr )  last updated on 2019/10/07\n",
    "</div>\n",
    "<hr>"
   ]
  }
 ],
 "metadata": {
  "kernelspec": {
   "display_name": "Python 3",
   "language": "python",
   "name": "python3"
  },
  "language_info": {
   "codemirror_mode": {
    "name": "ipython",
    "version": 3
   },
   "file_extension": ".py",
   "mimetype": "text/x-python",
   "name": "python",
   "nbconvert_exporter": "python",
   "pygments_lexer": "ipython3",
   "version": "3.6.8"
  }
 },
 "nbformat": 4,
 "nbformat_minor": 2
}
