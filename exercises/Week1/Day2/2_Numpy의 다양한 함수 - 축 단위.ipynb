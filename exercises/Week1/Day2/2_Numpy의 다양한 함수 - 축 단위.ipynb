{
 "cells": [
  {
   "cell_type": "markdown",
   "metadata": {},
   "source": [
    "<i><b>Public AI</b></i>\n",
    "<br>\n",
    "###  &nbsp;&nbsp; **✎&nbsp;&nbsp;Week 1. Numpy Basis**\n",
    "# Section 6. Numpy의 다양한 함수 - 원소 단위"
   ]
  },
  {
   "cell_type": "code",
   "execution_count": null,
   "metadata": {},
   "outputs": [],
   "source": [
    "# 우선 실행해주세요\n",
    "import numpy as np"
   ]
  },
  {
   "cell_type": "markdown",
   "metadata": {},
   "source": [
    "\n",
    "### 예제 데이터) 학생들의 중간고사, 기말고사 성적표 \n",
    "\n",
    "* 중간고사, 학생들의 국영수사과 성적표\n",
    "\n",
    "| 학생 번호 | 국어 | 영어 | 수학 | 사회 | 과학 |\n",
    "|  ----   | --- |---| --- | --- | --- |\n",
    "|0 |80 |92 |70 | 65 | 92 |\n",
    "|1 |91 |75 |90 | 68 | 85 | \n",
    "|2 |86 |76 |42 | 72 | 88 |\n",
    "|3 |77 |92 |52 | 60 | 80 |\n",
    "|4 |75 |85 |85 | 92 | 95 |\n",
    "|5 |96 |90 |95 | 81 | 72 |\n",
    "\n",
    "\n",
    "* 기말고사, 학생들의 국영수사과 성적표\n",
    "\n",
    "| 학생 번호 | 국어 | 영어 | 수학 | 사회 | 과학 |\n",
    "|  ----   | --- |---| --- | --- | --- |\n",
    "|0 |85 |95 |90 | 66 | 93 |\n",
    "|1 |93 |70 |80 | 60 | 81 | \n",
    "|2 |89 |78 |55 | 75 | 80 |\n",
    "|3 |80 |94 |59 | 72 | 90 |\n",
    "|4 |70 |82 |81 | 95 | 72 |\n",
    "|5 |90 |76 |93 | 82 | 89 |"
   ]
  },
  {
   "cell_type": "code",
   "execution_count": null,
   "metadata": {},
   "outputs": [],
   "source": [
    "middle_scores = np.array([\n",
    "    [80,92,70,65,92],\n",
    "    [91,75,90,68,85],\n",
    "    [86,76,42,72,88],\n",
    "    [77,92,52,60,80],\n",
    "    [75,85,85,92,95],\n",
    "    [96,90,95,81,72]\n",
    "])\n",
    "\n",
    "final_scores = np.array([\n",
    "    [85,95,90,66,93],\n",
    "    [93,70,80,60,81],\n",
    "    [89,78,55,75,80],\n",
    "    [80,94,59,72,90],\n",
    "    [70,82,81,95,72],\n",
    "    [90,76,93,82,89]\n",
    "])\n",
    "\n",
    "scores = np.stack([middle_scores,final_scores])\n",
    "\n",
    "scores"
   ]
  },
  {
   "cell_type": "markdown",
   "metadata": {},
   "source": [
    "## 문제 1. 평균 구하기\n",
    "* **중간고사** 때, **국어, 영어, 수학** 의 학생 평균 성적을 계산해주세요.\n",
    "\n",
    "정답 >>> \n",
    "```python\n",
    "[84.16666667, 85.        , 72.33333333] # [국어, 영어, 수학]\n",
    "```"
   ]
  },
  {
   "cell_type": "code",
   "execution_count": null,
   "metadata": {},
   "outputs": [],
   "source": [
    "# 우선 실행해주세요\n",
    "scores = np.stack([middle_scores, final_scores])\n",
    "scores"
   ]
  },
  {
   "cell_type": "markdown",
   "metadata": {},
   "source": [
    "#### 답안지 입력란\n",
    "* 아래에 답을 서술하여 주세요\n",
    "* 결과는 `answer1`에 담아주세요"
   ]
  },
  {
   "cell_type": "code",
   "execution_count": null,
   "metadata": {},
   "outputs": [],
   "source": []
  },
  {
   "cell_type": "markdown",
   "metadata": {},
   "source": [
    "#### 정답 확인\n",
    "* 정답을 입력한 후, 아래를 실행시키면 정답인지 확인합니다."
   ]
  },
  {
   "cell_type": "code",
   "execution_count": null,
   "metadata": {},
   "outputs": [],
   "source": [
    "from numpy.testing import assert_almost_equal\n",
    "\n",
    "assert 'answer1' in globals(), \"결과를 answer1이라는 변수에 담아주세요!, answer1의 값을 보고 평가합니다.\"\n",
    "assert isinstance(answer1, np.ndarray), \"결과값들을 'numpy array'형식으로 담아주세요\"\n",
    "\n",
    "A = np.array([84.16666667, 85. , 72.33333333])\n",
    "\n",
    "assert_almost_equal(A, answer1,decimal=3,\n",
    "               err_msg=\"\\n정답은 \\n{}\\n입니다. 코드를 다시 확인해주세요\\n\".format(A))\n",
    "\n",
    "print(\"정답입니다!!!\")"
   ]
  },
  {
   "cell_type": "markdown",
   "metadata": {},
   "source": [
    "## 문제 2. 표준 점수 구하기\n",
    "* 표준 점수는 아래와 같은 수식을 따릅니다. **중간고사** 때의 성적을 표준점수로 환산해주세요\n",
    "\n",
    "$$\n",
    "z = \\frac{x-\\mu}{\\sigma}\n",
    "$$\n",
    "\n",
    "\n",
    "주의사항 \n",
    "* 과목 별로 평균과 표준편차를 따로 구해 적용해야 합니다.\n",
    "\n",
    "\n",
    "정답 >>>\n",
    "\n",
    "```python\n",
    "# 표준점수로 환산한 결과는 아래처럼 나옵니다\n",
    "[[-0.55121733,  0.9834151 , -0.11852496, -0.74926865,  0.87121368],\n",
    "       [ 0.90399642, -1.40487872,  0.89740324, -0.46829291, -0.04356068],\n",
    "       [ 0.24253563, -1.26439085, -1.54082442, -0.09365858,  0.34848547],\n",
    "       [-0.94809381,  0.9834151 , -1.03286033, -1.21756156, -0.69697095],\n",
    "       [-1.21267813,  0.        ,  0.64342119,  1.77951304,  1.26325984],\n",
    "       [ 1.56545722,  0.70243936,  1.15138528,  0.74926865, -1.74242737]]\n",
    "```"
   ]
  },
  {
   "cell_type": "code",
   "execution_count": null,
   "metadata": {},
   "outputs": [],
   "source": [
    "# 우선 실행해주세요\n",
    "middle_scores"
   ]
  },
  {
   "cell_type": "markdown",
   "metadata": {},
   "source": [
    "#### 답안지 입력란\n",
    "* 아래에 답을 서술하여 주세요\n",
    "* 결과는 `answer2`에 담아주세요"
   ]
  },
  {
   "cell_type": "code",
   "execution_count": null,
   "metadata": {},
   "outputs": [],
   "source": []
  },
  {
   "cell_type": "markdown",
   "metadata": {},
   "source": [
    "#### 정답 확인\n",
    "* 정답을 입력한 후, 아래를 실행시키면 정답인지 확인합니다."
   ]
  },
  {
   "cell_type": "code",
   "execution_count": null,
   "metadata": {
    "scrolled": true
   },
   "outputs": [],
   "source": [
    "from numpy.testing import assert_almost_equal\n",
    "\n",
    "assert 'answer2' in globals(), \"결과를 answer2라는 변수에 담아주세요!, answer2의 값을 보고 평가합니다.\"\n",
    "assert isinstance(answer2, np.ndarray), \"결과값들을 'numpy array'형식으로 담아주세요\"\n",
    "\n",
    "A = ([[-0.55121733,  0.9834151 , -0.11852496, -0.74926865,  0.87121368],\n",
    "       [ 0.90399642, -1.40487872,  0.89740324, -0.46829291, -0.04356068],\n",
    "       [ 0.24253563, -1.26439085, -1.54082442, -0.09365858,  0.34848547],\n",
    "       [-0.94809381,  0.9834151 , -1.03286033, -1.21756156, -0.69697095],\n",
    "       [-1.21267813,  0.        ,  0.64342119,  1.77951304,  1.26325984],\n",
    "       [ 1.56545722,  0.70243936,  1.15138528,  0.74926865, -1.74242737]])\n",
    "\n",
    "assert_almost_equal(A, answer2,decimal=3,err_msg=\"\\n\\n정답은 \\n{}\\n입니다. 코드를 다시 확인해주세요\".format(A))\n",
    "print(\"정답입니다!!!\")"
   ]
  },
  {
   "cell_type": "markdown",
   "metadata": {},
   "source": [
    "## 문제 3. 중간고사의 평균이 높은 순서대로 기말고사 정렬하기\n",
    "\n",
    "* 중간고사의 평균이 높을 수록 기말고사 성젹표에서 학생이 위에 오도록 정렬된 기말고사 표를 만들어주세요\n",
    "\n",
    "| 학생 번호 | 국어 | 영어 | 수학 | 사회 | 과학 |\n",
    "|  ----   | --- |---| --- | --- | --- |\n",
    "|5 |90 |76 |93 | 82 | 89 |\n",
    "|4 |70 |82 |81 | 95 | 72 |\n",
    "|1 |93 |70 |80 | 60 | 81 |\n",
    "|0 |85 |95 |90 | 66 | 93 |\n",
    "|2 |89 |78 |55 | 75 | 80 |\n",
    "|3 |80 |94 |59 | 72 | 90 |\n",
    "\n",
    "\n",
    "* 변경 과정\n",
    "\n",
    "![Imgur](https://i.imgur.com/xWmdvCzl.png)\n",
    "\n",
    "정답 >>>\n",
    "```python\n",
    "np.array([[90, 76, 93, 82, 89],\n",
    "       [70, 82, 81, 95, 72],\n",
    "       [93, 70, 80, 60, 81],\n",
    "       [85, 95, 90, 66, 93],\n",
    "       [89, 78, 55, 75, 80],\n",
    "       [80, 94, 59, 72, 90]])\n",
    "```"
   ]
  },
  {
   "cell_type": "code",
   "execution_count": null,
   "metadata": {},
   "outputs": [],
   "source": [
    "# 우선 실행해주세요\n",
    "middle_scores = np.array([\n",
    "    [80,92,70,65,92],\n",
    "    [91,75,90,68,85],\n",
    "    [86,76,42,72,88],\n",
    "    [77,92,52,60,80],\n",
    "    [75,85,85,92,95],\n",
    "    [96,90,95,81,72]\n",
    "])\n",
    "\n",
    "final_scores = np.array([\n",
    "    [85,95,90,66,93],\n",
    "    [93,70,80,60,81],\n",
    "    [89,78,55,75,80],\n",
    "    [80,94,59,72,90],\n",
    "    [70,82,81,95,72],\n",
    "    [90,76,93,82,89]\n",
    "])\n",
    "\n",
    "scores = np.stack([middle_scores,final_scores])\n",
    "\n",
    "scores"
   ]
  },
  {
   "cell_type": "markdown",
   "metadata": {},
   "source": [
    "#### 답안지 입력란\n",
    "* 아래에 답을 서술하여 주세요\n",
    "* 결과는 `answer3`에 담아주세요"
   ]
  },
  {
   "cell_type": "code",
   "execution_count": null,
   "metadata": {},
   "outputs": [],
   "source": []
  },
  {
   "cell_type": "markdown",
   "metadata": {},
   "source": [
    "#### 정답 확인\n",
    "* 정답을 입력한 후, 아래를 실행시키면 정답인지 확인합니다."
   ]
  },
  {
   "cell_type": "code",
   "execution_count": null,
   "metadata": {},
   "outputs": [],
   "source": [
    "from numpy.testing import assert_array_almost_equal\n",
    "\n",
    "assert 'answer3' in globals(), \"결과를 answer3이라는 변수에 담아주세요!, answer3의 값을 보고 평가합니다.\"\n",
    "assert isinstance(answer3, np.ndarray), \"결과값들을 'numpy array'형식으로 담아주세요\"\n",
    "\n",
    "A = np.array([[90, 76, 93, 82, 89],\n",
    "       [70, 82, 81, 95, 72],\n",
    "       [93, 70, 80, 60, 81],\n",
    "       [85, 95, 90, 66, 93],\n",
    "       [89, 78, 55, 75, 80],\n",
    "       [80, 94, 59, 72, 90]])\n",
    "\n",
    "assert_array_almost_equal(A,answer3,decimal=2,\n",
    "                          err_msg=\"\\n\\n정답은 \\n{}\\n입니다. 코드를 다시 확인해주세요\".format(A))\n",
    "\n",
    "print(\"정답입니다!!!\")"
   ]
  },
  {
   "cell_type": "markdown",
   "metadata": {},
   "source": [
    "> 문제 4번, 5번은 지난 exercise1에 있던 예제들입니다. list가 아닌 numpy로 풀어보세요!"
   ]
  },
  {
   "cell_type": "markdown",
   "metadata": {},
   "source": [
    "### 예제 데이터) 2012년~2018년 삼성전자 분기별 매출\n",
    "\n",
    "| (단위:조원) | 1분기 | 2분기 | 3분기 | 4분기 |\n",
    "| ------ | ----- | ----- | ----- | ----- |\n",
    "| 2012년 | 45.27 | 47.60 | 52.18 | 56.06 |\n",
    "| 2013년 | 52.87 | 57.46 | 59.08 | 59.28 |\n",
    "| 2014년 | 53.68 | 52.35 | 47.45 | 52.73 |\n",
    "| 2015년 | 47.12 | 48.54 | 51.68 | 53.32 |\n",
    "| 2016년 | 49.78 | 50.94 | 47.82 | 53.33 |\n",
    "| 2017년 | 50.55 | 61.99 | 62.05 | 65.98 |\n",
    "| 2018년 | 60.56 | 58.48 | 65.46 | 59.27 |"
   ]
  },
  {
   "cell_type": "markdown",
   "metadata": {},
   "source": [
    "## 문제 4. 모든 매출의 평균\n",
    "* 삼성전자의 **모든 매출의 평균**을 가져와주세요.\n",
    "\n",
    "정답 >>> \n",
    "```python\n",
    "54.38857142857143\n",
    "```"
   ]
  },
  {
   "cell_type": "code",
   "execution_count": null,
   "metadata": {},
   "outputs": [],
   "source": [
    "# 우선 실행해주세요\n",
    "sales = np.array([\n",
    "    [45.27, 47.60, 52.18, 56.06],\n",
    "    [52.87, 57.46, 59.08, 59.28],\n",
    "    [53.68, 52.35, 47.45, 52.73],\n",
    "    [47.12, 48.54, 51.68, 53.32],\n",
    "    [49.78, 50.94, 47.82, 53.33],\n",
    "    [50.55, 61.99, 62.05, 65.98],\n",
    "    [60.56, 58.48, 65.46, 59.27]\n",
    "])"
   ]
  },
  {
   "cell_type": "markdown",
   "metadata": {},
   "source": [
    "#### 답안지 입력란\n",
    "* 아래에 답을 서술하여 주세요\n",
    "* 결과는 `answer4`에 담아주세요"
   ]
  },
  {
   "cell_type": "code",
   "execution_count": null,
   "metadata": {},
   "outputs": [],
   "source": []
  },
  {
   "cell_type": "markdown",
   "metadata": {},
   "source": [
    "#### 정답 확인\n",
    "* 정답을 입력한 후, 아래를 실행시키면 정답인지 확인합니다."
   ]
  },
  {
   "cell_type": "code",
   "execution_count": null,
   "metadata": {},
   "outputs": [],
   "source": [
    "assert 'answer4' in globals(), \"결과를 answer4라는 변수에 담아주세요!, answer4의 값을 보고 평가합니다.\"\n",
    "\n",
    "if (round(answer4, 5) == round(54.38857142857143, 5)):\n",
    "    print(\"정답입니다!!!!\")\n",
    "else:\n",
    "    raise ValueError(\"정답은 54.38857142857143가 나와야 합니다. 코드를 다시 확인해주세요!\")"
   ]
  },
  {
   "cell_type": "markdown",
   "metadata": {},
   "source": [
    "## 문제 5. 연도별 최대 매출\n",
    "* 각 연도별로 최대 매출이 얼마인지 표로 만들어주세요\n",
    "\n",
    "정답 >>> \n",
    "```python\n",
    "np.array([56.06, 59.28, 53.68, 53.32, 53.33, 65.98, 65.46])\n",
    "```"
   ]
  },
  {
   "cell_type": "code",
   "execution_count": null,
   "metadata": {},
   "outputs": [],
   "source": [
    "# 우선 실행해주세요\n",
    "sales = np.array([\n",
    "    [45.27, 47.60, 52.18, 56.06],\n",
    "    [52.87, 57.46, 59.08, 59.28],\n",
    "    [53.68, 52.35, 47.45, 52.73],\n",
    "    [47.12, 48.54, 51.68, 53.32],\n",
    "    [49.78, 50.94, 47.82, 53.33],\n",
    "    [50.55, 61.99, 62.05, 65.98],\n",
    "    [60.56, 58.48, 65.46, 59.27]\n",
    "])"
   ]
  },
  {
   "cell_type": "markdown",
   "metadata": {},
   "source": [
    "#### 답안지 입력란\n",
    "* 아래에 답을 서술하여 주세요\n",
    "* 결과는 `answer5`에 담아주세요"
   ]
  },
  {
   "cell_type": "code",
   "execution_count": null,
   "metadata": {},
   "outputs": [],
   "source": []
  },
  {
   "cell_type": "markdown",
   "metadata": {},
   "source": [
    "#### 정답 확인\n",
    "* 정답을 입력한 후, 아래를 실행시키면 정답인지 확인합니다."
   ]
  },
  {
   "cell_type": "code",
   "execution_count": null,
   "metadata": {},
   "outputs": [],
   "source": [
    "from numpy.testing import assert_array_almost_equal\n",
    "\n",
    "assert 'answer5' in globals(), \"결과를 answer5라는 변수에 담아주세요!, answer5의 값을 보고 평가합니다.\"\n",
    "assert isinstance(answer5, np.ndarray), \"결과값들을 'numpy array'형식으로 담아주세요\"\n",
    "\n",
    "A = np.array([56.06, 59.28, 53.68, 53.32, 53.33, 65.98, 65.46])\n",
    "\n",
    "assert_array_almost_equal(A,answer5,decimal=2,\n",
    "                          err_msg=\"\\n\\n정답은 \\n{}\\n입니다. 코드를 다시 확인해주세요\".format(A))\n",
    "\n",
    "print(\"정답입니다!!!\")"
   ]
  },
  {
   "cell_type": "markdown",
   "metadata": {},
   "source": [
    "## 문제 6. 분기별 평균\n",
    "\n",
    "* 각 분기별 평균을 표로 만들어주세요\n",
    "\n",
    "정답 >>>\n",
    "```python\n",
    "np.array([51.40428571, 53.90857143, 55.10285714, 57.13857143])\n",
    "```"
   ]
  },
  {
   "cell_type": "code",
   "execution_count": null,
   "metadata": {},
   "outputs": [],
   "source": [
    "# 우선 실행해주세요\n",
    "sales = np.array([\n",
    "    [45.27, 47.60, 52.18, 56.06],\n",
    "    [52.87, 57.46, 59.08, 59.28],\n",
    "    [53.68, 52.35, 47.45, 52.73],\n",
    "    [47.12, 48.54, 51.68, 53.32],\n",
    "    [49.78, 50.94, 47.82, 53.33],\n",
    "    [50.55, 61.99, 62.05, 65.98],\n",
    "    [60.56, 58.48, 65.46, 59.27]\n",
    "])"
   ]
  },
  {
   "cell_type": "markdown",
   "metadata": {},
   "source": [
    "#### 답안지 입력란\n",
    "* 아래에 답을 서술하여 주세요\n",
    "* 결과는 `answer6`에 담아주세요"
   ]
  },
  {
   "cell_type": "code",
   "execution_count": null,
   "metadata": {},
   "outputs": [],
   "source": []
  },
  {
   "cell_type": "markdown",
   "metadata": {},
   "source": [
    "#### 정답 확인\n",
    "* 정답을 입력한 후, 아래를 실행시키면 정답인지 확인합니다."
   ]
  },
  {
   "cell_type": "code",
   "execution_count": null,
   "metadata": {},
   "outputs": [],
   "source": [
    "from numpy.testing import assert_array_almost_equal\n",
    "\n",
    "assert 'answer6' in globals(), \"결과를 answer6이라는 변수에 담아주세요!, answer6의 값을 보고 평가합니다.\"\n",
    "assert isinstance(answer6, np.ndarray), \"결과값들을 'numpy array'형식으로 담아주세요\"\n",
    "\n",
    "A = np.array([51.40428571, 53.90857143, 55.10285714, 57.13857143])\n",
    "\n",
    "assert_array_almost_equal(A,answer6,decimal=2,\n",
    "                          err_msg=\"\\n\\n정답은 \\n{}\\n입니다. 코드를 다시 확인해주세요\".format(A))\n",
    "\n",
    "print(\"정답입니다!!!\")"
   ]
  },
  {
   "cell_type": "markdown",
   "metadata": {},
   "source": [
    "#  \n",
    "\n",
    "<hr>\n",
    "<div>\n",
    "    Copyright(c) 2019 by Public AI. All rights reserved.<br>\n",
    "    Writen by PAI, DoYeong Kim ( ka2k@publicai.co.kr )  last updated on 2019/07/12\n",
    "</div>\n",
    "<hr>"
   ]
  }
 ],
 "metadata": {
  "kernelspec": {
   "display_name": "Python 3",
   "language": "python",
   "name": "python3"
  },
  "language_info": {
   "codemirror_mode": {
    "name": "ipython",
    "version": 3
   },
   "file_extension": ".py",
   "mimetype": "text/x-python",
   "name": "python",
   "nbconvert_exporter": "python",
   "pygments_lexer": "ipython3",
   "version": "3.6.8"
  }
 },
 "nbformat": 4,
 "nbformat_minor": 2
}
