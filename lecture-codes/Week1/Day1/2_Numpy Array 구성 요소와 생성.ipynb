{
 "cells": [
  {
   "cell_type": "markdown",
   "metadata": {
    "colab_type": "text",
    "id": "dx6VQXFIJTYy"
   },
   "source": [
    "<i><b>Public AI</b></i>\n",
    "<br>\n",
    "###  &nbsp;&nbsp; **✎&nbsp;&nbsp;Week 1. Numpy Basis**\n",
    "# Section 2. Numpy Array 구성 요소와 생성\n",
    "\n",
    "Array는 Numpy에서 데이터를 다루는 가장 기본이 되는 자료구조입니다. Numpy에서는 내부적으로 **Array를 중심으로 벡터화하여 연산이 구현(vectorized operation)되어 있기 때문에, 복잡한 Matrix 연산도 간단하고 빠르게 실행할 수 있습니다**. 따라서 Numpy의 강점을 극대화하여 활용하기 위해선 Numpy의 기본 자료 구조인 Array를 이해하는 것이 매우 중요합니다. \n",
    "\n",
    "기본적으로 컴퓨터가 데이터를 처리하는 기본 기능에는 'CRUD', 생성(Create), 읽기(Read), 갱신(Update), 삭제(Delete)가 있습니다. 이번 Section 2에서는 Numpy 패키지의 기본 자료구조인 Numpy Array의 구성 요소인 value, shape, data type 등을 이해하고, 이를 기반으로 Numpy Array를 생성(Create)하는 방법을 배워보겠습니다. \n",
    "\n",
    "### _Objective_\n",
    "1. **Numpy Array의 구성 요소**: Numpy Array 생성시 필수 설정 요소인 shape과 data type을 중심으로 numpy array의 기본 구조 및 차원과 축의 개념을 배웁니다. <br>\n",
    "2. **Numpy Array 생성하기**: Numpy Array를 생성하는 다양한 방법을 배웁니다.  <br>\n"
   ]
  },
  {
   "cell_type": "code",
   "execution_count": 1,
   "metadata": {
    "colab": {},
    "colab_type": "code",
    "id": "QafQCnsuJTY0"
   },
   "outputs": [],
   "source": [
    "import numpy as np"
   ]
  },
  {
   "cell_type": "markdown",
   "metadata": {
    "colab_type": "text",
    "id": "o8MdmdUkJTY3"
   },
   "source": [
    "# \\[ 1. Numpy Array의 구성요소 \\]\n",
    "\n",
    "Numpy Array는 구성 요소(element)의 값(value)과 array의 형태(shape)를 설정해야 생성됩니다. 설정된 값에 따라 데이터 타입(Data type)이 자동으로 부여되기도 하고, 직접 명시할 수도 있습니다. Numpy Array의 중요한 특징인 shape과 datatype에 대해 배워봅시다."
   ]
  },
  {
   "cell_type": "markdown",
   "metadata": {
    "colab_type": "text",
    "id": "HjKYGaAUJTaj"
   },
   "source": [
    "## 1. Data Type\n",
    "\n",
    "+ Python에서 변수 생성 시, 입력한 데이터의 타입을 파악하여 자동으로 설정됩니다.\n",
    "+ List에서는 구성 요소의 데이터 타입이 달라도 상관 없습니다. 반면, Numpy의 Numpy Array에서는 **모든 구성 요소의 데이터 타입이 동일해야 합니다.**\n",
    "+ 때문에 Numpy Array를 생성할 때 입력하는 데이터의 Data Type을 확인( `dtype` 이용)하거나 변환( `astype` 이용)해야 할 때도 있습니다."
   ]
  },
  {
   "cell_type": "markdown",
   "metadata": {
    "colab_type": "text",
    "id": "HzIQi04rJTak"
   },
   "source": [
    "### (1) Numpy Array의 자료형변환(`type-casting`)"
   ]
  },
  {
   "cell_type": "markdown",
   "metadata": {
    "colab_type": "text",
    "id": "vy6fPm8OJTau"
   },
   "source": [
    "List는 각 원소의 데이터 타입이 달라도 됩니다. 예를 들어 아래와 같이 정수형, 실수형, 논리형 데이터가 하나의 리스트 안에 들어갈 수도 있습니다. "
   ]
  },
  {
   "cell_type": "code",
   "execution_count": 2,
   "metadata": {
    "colab": {},
    "colab_type": "code",
    "id": "-4uwutzHJTan",
    "outputId": "40d23558-e9ae-41d1-dacc-4bbf4570c506"
   },
   "outputs": [
    {
     "data": {
      "text/plain": [
       "[1, 1.2, False]"
      ]
     },
     "execution_count": 2,
     "metadata": {},
     "output_type": "execute_result"
    }
   ],
   "source": [
    "# List\n",
    "# fix me!"
   ]
  },
  {
   "cell_type": "markdown",
   "metadata": {
    "colab_type": "text",
    "id": "_66ATY4BJTal"
   },
   "source": [
    "반면, `np.array`는 `list`와 다르게 행렬 내 모든 타입이 같은 타입이어야만 합니다. 앞서 만든 List와 같이 `[1,1.2,False]`로 Array를 구성하면, Numpy에서는 자동으로 `False`를 `0.`으로 바꾸어 Array를 생성합니다. 이처럼 Numpy에서는 서로 다른 형의 데이터를 입력하여 Array를 구성하면 **데이터의 타입을 통일하기 위해 자동 변환**하여 Array에 담습니다. "
   ]
  },
  {
   "cell_type": "code",
   "execution_count": 3,
   "metadata": {
    "colab": {},
    "colab_type": "code",
    "id": "WnusSgqxJTav",
    "outputId": "73daa6bc-13d9-4c65-d837-5beb43518483"
   },
   "outputs": [
    {
     "data": {
      "text/plain": [
       "array([1. , 1.2, 0. ])"
      ]
     },
     "execution_count": 3,
     "metadata": {},
     "output_type": "execute_result"
    }
   ],
   "source": [
    "# numpy array\n",
    "# fix me!"
   ]
  },
  {
   "cell_type": "markdown",
   "metadata": {
    "colab_type": "text",
    "id": "SFbGSW_2JTcA"
   },
   "source": [
    "### (2) `astype`으로 데이터의 타입 임의 변환하기\n",
    "`astype({변환할 데이터 타입})`으로, np.array를 구성하는 데이터를 원하는 타입으로 바꿀 수 있습니다."
   ]
  },
  {
   "cell_type": "code",
   "execution_count": 4,
   "metadata": {
    "colab": {},
    "colab_type": "code",
    "id": "8AgAyhrRJTb3",
    "outputId": "41ad63e5-6cc8-4d5a-c58b-20160fd61a1b"
   },
   "outputs": [
    {
     "data": {
      "text/plain": [
       "array([0, 1, 2, 3, 4, 5])"
      ]
     },
     "execution_count": 4,
     "metadata": {},
     "output_type": "execute_result"
    }
   ],
   "source": [
    "A = np.array([0,1,2,3,4,5])\n",
    "A"
   ]
  },
  {
   "cell_type": "code",
   "execution_count": 5,
   "metadata": {
    "colab": {},
    "colab_type": "code",
    "id": "wrtRyX18JTcC",
    "outputId": "ea8f67ea-63c2-40fb-fd3c-d8990ecee82e"
   },
   "outputs": [
    {
     "data": {
      "text/plain": [
       "array([0., 1., 2., 3., 4., 5.])"
      ]
     },
     "execution_count": 5,
     "metadata": {},
     "output_type": "execute_result"
    }
   ],
   "source": [
    "# fix me! # int -> float으로 바꾸기"
   ]
  },
  {
   "cell_type": "code",
   "execution_count": 6,
   "metadata": {
    "colab": {},
    "colab_type": "code",
    "id": "BE9YSFiYJTcH",
    "outputId": "46d3d1cd-c289-4c78-bdcc-275ba1933be4"
   },
   "outputs": [
    {
     "data": {
      "text/plain": [
       "array([False,  True,  True,  True,  True,  True])"
      ]
     },
     "execution_count": 6,
     "metadata": {},
     "output_type": "execute_result"
    }
   ],
   "source": [
    "# fix me! # int -> bool으로 바꾸기"
   ]
  },
  {
   "cell_type": "markdown",
   "metadata": {
    "colab_type": "text",
    "id": "EuFX48LDJTa4"
   },
   "source": [
    "### (3) `dtype` 으로 `np.array`의 데이터 타입 확인하기\n",
    "`dtype` 메소드를 이용해 현재 `np.array`를 구성하는 데이터 타입이 무엇인지 알 수 있습니다."
   ]
  },
  {
   "cell_type": "markdown",
   "metadata": {
    "colab_type": "text",
    "id": "DpXYaAyGJTa7"
   },
   "source": [
    "#### 1) boolean array"
   ]
  },
  {
   "cell_type": "code",
   "execution_count": 7,
   "metadata": {
    "colab": {},
    "colab_type": "code",
    "id": "SqBKtLIYJTa-",
    "outputId": "70a5af68-efeb-4cb3-b148-27d08ebacb0d",
    "scrolled": true
   },
   "outputs": [
    {
     "data": {
      "text/plain": [
       "array([ True, False])"
      ]
     },
     "execution_count": 7,
     "metadata": {},
     "output_type": "execute_result"
    }
   ],
   "source": [
    "A = np.array([True,False])\n",
    "A"
   ]
  },
  {
   "cell_type": "code",
   "execution_count": 8,
   "metadata": {
    "colab": {},
    "colab_type": "code",
    "id": "iypCiKgkJTbF",
    "outputId": "452e8ba2-5dc7-4bbf-bbb9-01b5293f405b",
    "scrolled": true
   },
   "outputs": [
    {
     "data": {
      "text/plain": [
       "dtype('bool')"
      ]
     },
     "execution_count": 8,
     "metadata": {},
     "output_type": "execute_result"
    }
   ],
   "source": [
    "# fix me!"
   ]
  },
  {
   "cell_type": "markdown",
   "metadata": {
    "colab_type": "text",
    "id": "hTtaYiYNJTbN"
   },
   "source": [
    "#### 2) int array"
   ]
  },
  {
   "cell_type": "code",
   "execution_count": 9,
   "metadata": {
    "colab": {},
    "colab_type": "code",
    "id": "yN8EGcWUJTbO",
    "outputId": "67dec292-3222-453a-b817-9105b29f6d10",
    "scrolled": true
   },
   "outputs": [
    {
     "data": {
      "text/plain": [
       "array([1, 2, 3])"
      ]
     },
     "execution_count": 9,
     "metadata": {},
     "output_type": "execute_result"
    }
   ],
   "source": [
    "A = np.array([1,2,3])\n",
    "A"
   ]
  },
  {
   "cell_type": "code",
   "execution_count": 10,
   "metadata": {
    "colab": {},
    "colab_type": "code",
    "id": "EASeV6hAJTbT",
    "outputId": "f82e7a1c-b8c6-4edc-f046-9dc1ddce36cb"
   },
   "outputs": [
    {
     "data": {
      "text/plain": [
       "dtype('int64')"
      ]
     },
     "execution_count": 10,
     "metadata": {},
     "output_type": "execute_result"
    }
   ],
   "source": [
    "# fix me!"
   ]
  },
  {
   "cell_type": "markdown",
   "metadata": {
    "colab_type": "text",
    "id": "gt1C9mXmJTbY"
   },
   "source": [
    "#### 3) float array"
   ]
  },
  {
   "cell_type": "code",
   "execution_count": 11,
   "metadata": {
    "colab": {},
    "colab_type": "code",
    "id": "Aj7qbzM1JTbb",
    "outputId": "7aa1f911-e75e-4b24-b4be-8ff5382d5086"
   },
   "outputs": [
    {
     "data": {
      "text/plain": [
       "array([1., 2., 3.])"
      ]
     },
     "execution_count": 11,
     "metadata": {},
     "output_type": "execute_result"
    }
   ],
   "source": [
    "A = np.array([1.0,2.0,3.0])\n",
    "A"
   ]
  },
  {
   "cell_type": "code",
   "execution_count": 12,
   "metadata": {
    "colab": {},
    "colab_type": "code",
    "id": "zWaPrLlRJTbm",
    "outputId": "d6ab0de7-0249-4cc1-fefe-6758c1b85b00"
   },
   "outputs": [
    {
     "data": {
      "text/plain": [
       "dtype('float64')"
      ]
     },
     "execution_count": 12,
     "metadata": {},
     "output_type": "execute_result"
    }
   ],
   "source": [
    "# fix me!"
   ]
  },
  {
   "cell_type": "markdown",
   "metadata": {
    "colab_type": "text",
    "id": "0nQWNSoEJTbs"
   },
   "source": [
    "#### ※ numpy의 다양한 데이터 타입들\n",
    "Numpy에서는 이러한 논리형, 실수형, 정수형 데이터 외에도 다양한 데이터를 다룰 수 있습니다."
   ]
  },
  {
   "cell_type": "markdown",
   "metadata": {
    "colab_type": "text",
    "id": "6CJujTyUU4HU"
   },
   "source": [
    "\n",
    "|Data Type | Description |\n",
    "|----|----|\n",
    "|bool_ | Boolean (True or False) stored as a byte|\n",
    "|int_ | Default integer type (same as C long; normally either int64 or int32)|\n",
    "|intc | Identical to C int (normally int32 or int64)|\n",
    "|intp | Integer used for indexing (same as C ssize_t; normally either int32 or int64)|\n",
    "|int8 | Byte (-128 to 127)|\n",
    "|int16 | Integer (-32768 to 32767)|\n",
    "|int32 | Integer (-2147483648 to 2147483647)|\n",
    "|int64 | Integer (-9223372036854775808 to 9223372036854775807)|\n",
    "|uint8 | Unsigned integer (0 to 255)|\n",
    "|uint16 | Unsigned integer (0 to 65535)|\n",
    "|uint32 | Unsigned integer (0 to 4294967295)|\n",
    "|uint64 | Unsigned integer (0 to 18446744073709551615)|\n",
    "|float_ | Shorthand for float64.|\n",
    "|float16 | Half precision float: sign bit, 5 bits exponent, 10 bits mantissa|\n",
    "|float32 | Single precision float: sign bit, 8 bits exponent, 23 bits mantissa|\n",
    "|float64 | Double precision float: sign bit, 11 bits exponent, 52 bits mantissa|\n",
    "|complex_ | Shorthand for complex128.|\n",
    "|complex64 | Complex number, represented by two 32-bit floats (real and imaginary components)|\n",
    "|complex128 | Complex number, represented by two 64-bit floats (real and imaginary components)|"
   ]
  },
  {
   "cell_type": "markdown",
   "metadata": {
    "colab_type": "text",
    "id": "pT2GWVTsJTY4"
   },
   "source": [
    "## 2. Shape\n",
    "\n",
    "+ Numpy에서의 **Shape**은 Array의 '형태'를 뜻합니다. 수학에서의 행렬과 마찬가지로 Numpy Array는 각 축(예: 행과 열)을 구성하는 요소의 수가 같아야 합니다. <br>\n",
    "+ 메소드 `{array}.shape`로 형태는 어떠한지, `{array}.ndim`으로 몇 차원인지 확인할 수 있으며, `{array}.size`로 몇 개의 원소로 구성되어 있는지 확인할 수 있습니다.<br>\n",
    "+ Numpy Array에서는 1차원 벡터부터 N차원까지 다차원 행렬까지 모두 구현이 가능하며, `[`과`]`으로 차원을 구분하고 추가합니다. <br>\n",
    "+ N차원 Numpy Array에서 축은 0번부터 N-1번 까지 번호가 부여됩니다. 축은 집계 연산 혹은 데이터 추가 등 여러 Numpy 함수가 작동하는 기준이 됩니다. "
   ]
  },
  {
   "cell_type": "markdown",
   "metadata": {
    "colab_type": "text",
    "id": "aIgW-QwyJTZc"
   },
   "source": [
    "### (1) Numpy Array의 Shape 조건\n",
    "\n",
    "Numpy의 Array는 **각 축을 구성하는 요소의 갯수가 같아야 한다**는 점에서 Python의 List와 가장 큰 차이가 있습니다. `list`는 아래와 같이 서로 다른 길이의 리스트를 원소로 담을 수 있습니다."
   ]
  },
  {
   "cell_type": "code",
   "execution_count": 13,
   "metadata": {
    "colab": {},
    "colab_type": "code",
    "id": "f7aUp4i5JTZe",
    "outputId": "2d22ea80-1d49-4b6d-eba5-b3ffd30f1c44"
   },
   "outputs": [
    {
     "data": {
      "text/plain": [
       "[[1, 2, 3, 4, 5], [2, 3, 4, 5], [3, 4, 5, 6, 7]]"
      ]
     },
     "execution_count": 13,
     "metadata": {},
     "output_type": "execute_result"
    }
   ],
   "source": [
    "# list는 아래와 같이 담을 수 있음\n",
    "A_ = [\n",
    "    [1,2,3,4,5], # 크기가 5\n",
    "    [2,3,4,5], # 크기가 4\n",
    "    [3,4,5,6,7] # 크기가 5\n",
    "]\n",
    "A_"
   ]
  },
  {
   "cell_type": "markdown",
   "metadata": {
    "colab_type": "text",
    "id": "2cB5-M1TJTZl"
   },
   "source": [
    "반면 `numpy.array`는 아래와 같이 각 행과 열별로 구성하는 원소의 수가 동일하게 정해져 있어야 하며, 이 갯수가 통일되지 않으면 생성할 수 없습니다. `np.array`는 수학에서의 행렬과 같다고 보면 됩니다. "
   ]
  },
  {
   "cell_type": "code",
   "execution_count": 14,
   "metadata": {
    "colab": {},
    "colab_type": "code",
    "id": "prgNgM_3JTZo",
    "outputId": "6249a618-013b-4ccb-c9e3-3194dc998a61"
   },
   "outputs": [
    {
     "ename": "ValueError",
     "evalue": "setting an array element with a sequence.",
     "output_type": "error",
     "traceback": [
      "\u001b[0;31m---------------------------------------------------------------------------\u001b[0m",
      "\u001b[0;31mValueError\u001b[0m                                Traceback (most recent call last)",
      "\u001b[0;32m<ipython-input-14-2b32e8b4cff1>\u001b[0m in \u001b[0;36m<module>\u001b[0;34m\u001b[0m\n\u001b[1;32m      4\u001b[0m     \u001b[0;34m[\u001b[0m\u001b[0;36m2\u001b[0m\u001b[0;34m,\u001b[0m\u001b[0;36m3\u001b[0m\u001b[0;34m,\u001b[0m\u001b[0;36m4\u001b[0m\u001b[0;34m,\u001b[0m\u001b[0;36m5\u001b[0m\u001b[0;34m]\u001b[0m\u001b[0;34m,\u001b[0m \u001b[0;31m# 크기가 4\u001b[0m\u001b[0;34m\u001b[0m\u001b[0m\n\u001b[1;32m      5\u001b[0m     \u001b[0;34m[\u001b[0m\u001b[0;36m3\u001b[0m\u001b[0;34m,\u001b[0m\u001b[0;36m4\u001b[0m\u001b[0;34m,\u001b[0m\u001b[0;36m5\u001b[0m\u001b[0;34m,\u001b[0m\u001b[0;36m6\u001b[0m\u001b[0;34m,\u001b[0m\u001b[0;36m7\u001b[0m\u001b[0;34m]\u001b[0m \u001b[0;31m# 크기가 5\u001b[0m\u001b[0;34m\u001b[0m\u001b[0m\n\u001b[0;32m----> 6\u001b[0;31m ],dtype=np.int64)\n\u001b[0m\u001b[1;32m      7\u001b[0m \u001b[0mA\u001b[0m\u001b[0;34m\u001b[0m\u001b[0m\n",
      "\u001b[0;31mValueError\u001b[0m: setting an array element with a sequence."
     ]
    }
   ],
   "source": [
    "# array는 행 또는 열별로 크기가 다르면 하나의 array에 담을 수 없음\n",
    "# fix me!"
   ]
  },
  {
   "cell_type": "markdown",
   "metadata": {},
   "source": [
    "어떻게 고쳐야 할까요? 아래와 같이 각 축(예: 행 또는 열)의 크기가 같아야 np.array를 생성할 수 있습니다."
   ]
  },
  {
   "cell_type": "code",
   "execution_count": 15,
   "metadata": {},
   "outputs": [
    {
     "data": {
      "text/plain": [
       "array([[1, 2, 3, 4, 5],\n",
       "       [2, 3, 4, 5, 6],\n",
       "       [3, 4, 5, 6, 7]])"
      ]
     },
     "execution_count": 15,
     "metadata": {},
     "output_type": "execute_result"
    }
   ],
   "source": [
    "# array는 행 또는 열별로 크기가 같아야 함\n",
    "# fix me!"
   ]
  },
  {
   "cell_type": "markdown",
   "metadata": {},
   "source": [
    "위 Array는 3개의 행과 5개의 열로 구성되어 있으며, Numpy Array에서는 이런 행렬의 shape을 아래와 같이 표기합니다."
   ]
  },
  {
   "cell_type": "code",
   "execution_count": 16,
   "metadata": {},
   "outputs": [
    {
     "data": {
      "text/plain": [
       "(3, 5)"
      ]
     },
     "execution_count": 16,
     "metadata": {},
     "output_type": "execute_result"
    }
   ],
   "source": [
    "# fix me!"
   ]
  },
  {
   "cell_type": "markdown",
   "metadata": {},
   "source": [
    "shape 표기는 오른쪽에서 왼쪽으로 읽으면 이해하기 쉽습니다. 위 경우 5개의 요소 묶음이 3개 있다는 뜻입니다. \n",
    "\n",
    "즉 3 X 5, 15개의 원소로 구성된 array라는 뜻입니다. 이는 `.size`를 이용해 바로 확인할 수 있습니다.  "
   ]
  },
  {
   "cell_type": "code",
   "execution_count": 17,
   "metadata": {},
   "outputs": [
    {
     "data": {
      "text/plain": [
       "15"
      ]
     },
     "execution_count": 17,
     "metadata": {},
     "output_type": "execute_result"
    }
   ],
   "source": [
    "# fix me!"
   ]
  },
  {
   "cell_type": "markdown",
   "metadata": {
    "colab_type": "text",
    "id": "rxCrKYzVJTY4"
   },
   "source": [
    "### (2) Numpy Array의 차원(dimension)\n",
    "\n",
    "Numpy Array에서는 1차원 벡터부터 다차원 행렬까지 모두 구현이 가능하며, `[`과 `]`으로 차원을 구분하고 추가합니다. 예제를 통해 구체적으로 어떻게 작동하는지 살펴봅시다. "
   ]
  },
  {
   "cell_type": "markdown",
   "metadata": {},
   "source": [
    "#### 1) 1차원 행렬 `(n,)` \n",
    "\n",
    "1차원 행렬은 **Vector(벡터)**라고 부릅니다. 벡터는 `[`와 `]`을 한 단위로 볼 때 한 블럭의 데이터만으로 구성된 Array로 구현됩니다."
   ]
  },
  {
   "cell_type": "code",
   "execution_count": 18,
   "metadata": {
    "colab": {},
    "colab_type": "code",
    "id": "ij-aqTb9JTY5",
    "outputId": "b770b13c-2928-4f0e-944c-b6fb9f76d901"
   },
   "outputs": [
    {
     "data": {
      "text/plain": [
       "array([1, 2, 3, 4, 5])"
      ]
     },
     "execution_count": 18,
     "metadata": {},
     "output_type": "execute_result"
    }
   ],
   "source": [
    "A_1D = np.array([1,2,3,4,5])\n",
    "A_1D"
   ]
  },
  {
   "cell_type": "code",
   "execution_count": 19,
   "metadata": {
    "colab": {},
    "colab_type": "code",
    "id": "Mo5SsrRdJTY_",
    "outputId": "5ffa05c2-7527-4f20-9c9d-f30b34ac3cfa"
   },
   "outputs": [
    {
     "data": {
      "text/plain": [
       "1"
      ]
     },
     "execution_count": 19,
     "metadata": {},
     "output_type": "execute_result"
    }
   ],
   "source": [
    "# fix me! # 차원 수 "
   ]
  },
  {
   "cell_type": "markdown",
   "metadata": {},
   "source": [
    "1차원 행렬의 경우 `.shape`를 사용하면 하나의 숫자를 반환합니다. 이는 1차원 행렬이라는 의미이며, 이 숫자는 벡터를 구성하는 원소의 갯수를 의미합니다. "
   ]
  },
  {
   "cell_type": "code",
   "execution_count": 20,
   "metadata": {
    "colab": {},
    "colab_type": "code",
    "id": "0pTtonDxJTZD",
    "outputId": "e694f551-e0f5-4fc0-fb58-e52acae42905"
   },
   "outputs": [
    {
     "data": {
      "text/plain": [
       "(5,)"
      ]
     },
     "execution_count": 20,
     "metadata": {},
     "output_type": "execute_result"
    }
   ],
   "source": [
    "# fix me! # array의 형태"
   ]
  },
  {
   "cell_type": "code",
   "execution_count": 21,
   "metadata": {
    "colab": {},
    "colab_type": "code",
    "id": "IC85_HTxJTZG",
    "outputId": "87b4cf73-f6f2-43d4-8156-dc85ec71fbcb"
   },
   "outputs": [
    {
     "data": {
      "text/plain": [
       "5"
      ]
     },
     "execution_count": 21,
     "metadata": {},
     "output_type": "execute_result"
    }
   ],
   "source": [
    "# fix me! # array 내부의 원소 수  == 5"
   ]
  },
  {
   "cell_type": "markdown",
   "metadata": {
    "colab_type": "text",
    "id": "3_pFKUXOJTZJ"
   },
   "source": [
    "#### 2) 2차원 행렬 `(n, m)`"
   ]
  },
  {
   "cell_type": "markdown",
   "metadata": {},
   "source": [
    "\n",
    "2차원 행렬은 수학에서 **Matrix(행렬)**이라고 불립니다. 2차원 행렬은 행과 열로 구성되는데, **`[ 원소 ]` 블럭을 두 레벨로 구성하여 구현**할 수 있습니다. `[`로 블럭을 열고 그 안에 다시 `[`와 `]`로 구성된 벡터를 넣은 후 `]`로 바깥 블럭을 닫으면 두 레벨로 Array가 구성되며 이는 곧 2차원 행렬이 됩니다. "
   ]
  },
  {
   "cell_type": "code",
   "execution_count": 22,
   "metadata": {
    "colab": {},
    "colab_type": "code",
    "id": "IeFEV_18JTZK",
    "outputId": "6a54eef8-826d-4072-ae68-c3401f6fb434"
   },
   "outputs": [
    {
     "data": {
      "text/plain": [
       "array([[1, 2, 3, 4, 5],\n",
       "       [2, 3, 4, 5, 6],\n",
       "       [3, 4, 5, 6, 7]])"
      ]
     },
     "execution_count": 22,
     "metadata": {},
     "output_type": "execute_result"
    }
   ],
   "source": [
    "B_2D = np.array([\n",
    "    [1,2,3,4,5],\n",
    "    [2,3,4,5,6],\n",
    "    [3,4,5,6,7]\n",
    "],dtype=np.int64)\n",
    "B_2D"
   ]
  },
  {
   "cell_type": "code",
   "execution_count": 23,
   "metadata": {
    "colab": {},
    "colab_type": "code",
    "id": "2QeoBad6JTZP",
    "outputId": "30f1b427-92f8-462e-b6b3-f2230bf5e207"
   },
   "outputs": [
    {
     "data": {
      "text/plain": [
       "2"
      ]
     },
     "execution_count": 23,
     "metadata": {},
     "output_type": "execute_result"
    }
   ],
   "source": [
    "# fix me! # 차원 수 "
   ]
  },
  {
   "cell_type": "markdown",
   "metadata": {},
   "source": [
    "Numpy Array에서 Array의 shape의 값은 **가장 바깥에 있는 블럭부터 블럭을 구성하는 요소의 수를 나타낸다** 보면 됩니다. 위의 행렬 `B_2D`를 보면 가장 바깥 블럭은 벡터 3개로 구성되어 있으며, 각각의 벡터는 안에는 5개의 원소가 있습니다. 따라서 `A`의 형태는 (3,5)이며, 이는 행이 3개이고 열이 5개인 Array라는 의미이기도 합니다. "
   ]
  },
  {
   "cell_type": "code",
   "execution_count": 24,
   "metadata": {
    "colab": {},
    "colab_type": "code",
    "id": "ezYEZJLQJTZW",
    "outputId": "38e3a8e4-5356-4a3c-97c3-572d04ab9f7f"
   },
   "outputs": [
    {
     "data": {
      "text/plain": [
       "(3, 5)"
      ]
     },
     "execution_count": 24,
     "metadata": {},
     "output_type": "execute_result"
    }
   ],
   "source": [
    "# fix me! # 행이 3개, 열이 5개"
   ]
  },
  {
   "cell_type": "code",
   "execution_count": 25,
   "metadata": {
    "colab": {},
    "colab_type": "code",
    "id": "Ke5SbKq4JTZa",
    "outputId": "459252ae-b443-450d-e227-ad6395273b54"
   },
   "outputs": [
    {
     "data": {
      "text/plain": [
       "15"
      ]
     },
     "execution_count": 25,
     "metadata": {},
     "output_type": "execute_result"
    }
   ],
   "source": [
    "# fix me! # 내부의 원소 수 : 3(행의 수) * 5(열의 수) == 15"
   ]
  },
  {
   "cell_type": "markdown",
   "metadata": {},
   "source": [
    "조금 더 헷갈릴 수 있는 케이스를 볼까요? 아래의 Array `A_2D`는 앞서 만들었던 1차원 행렬, 벡터 `A_1D`와 동일한 수의 원소로 구성되어 있습니다. "
   ]
  },
  {
   "cell_type": "code",
   "execution_count": 26,
   "metadata": {},
   "outputs": [
    {
     "data": {
      "text/plain": [
       "array([1, 2, 3, 4, 5])"
      ]
     },
     "execution_count": 26,
     "metadata": {},
     "output_type": "execute_result"
    }
   ],
   "source": [
    "A_1D"
   ]
  },
  {
   "cell_type": "code",
   "execution_count": 27,
   "metadata": {},
   "outputs": [
    {
     "data": {
      "text/plain": [
       "array([[1, 2, 3, 4, 5]])"
      ]
     },
     "execution_count": 27,
     "metadata": {},
     "output_type": "execute_result"
    }
   ],
   "source": [
    "A_2D = np.array([[1,2,3, 4, 5]])\n",
    "A_2D"
   ]
  },
  {
   "cell_type": "code",
   "execution_count": 28,
   "metadata": {},
   "outputs": [
    {
     "name": "stdout",
     "output_type": "stream",
     "text": [
      "A_1D의 크기 5\n",
      "A_2D의 크기 5\n"
     ]
    }
   ],
   "source": [
    "print('A_1D의 크기', A_1D.size)\n",
    "print('A_2D의 크기', A_2D.size)"
   ]
  },
  {
   "cell_type": "markdown",
   "metadata": {},
   "source": [
    "이 부분은 Numpy Array에서 1차원 행렬(벡터)인 Array를 만들때 가장 착각하기 쉬운 부분이기도 합니다. Array를 생성하거나 `print`해보면 `[`와 `]` 사이에 가로로 값을 쓰여 있기 때문에 np.arrary로 구현된 벡터가 (1, n) 형태를 가지는 2차원 행렬의 '행'에 해당한다고 착각하기 쉽습니다. "
   ]
  },
  {
   "cell_type": "markdown",
   "metadata": {},
   "source": [
    "하지만 A_1D Array를 보면 `[]` 하나를 두고 안에 원소가 들어가있는 반면, `A_2D` Array는 `[[ ]]` 와 같이 대괄호가 2개 입니다. 이는 `(1,5)` 형태를 가지는 2차원 array라는 뜻입니다. 앞서 설명했듯이 **가장 바깥 쪽에 있는 블럭은 1개의 요소로 구성되어 있고, 그 다음 안쪽의 블럭은 5개의 원소로 구성되어 있기 때문에** `(1,5)`의 형태로 표현되는 것이죠. shape을 확인해보면 A_1D는 (n, )의 형태로, 원소 n개로 구성되어 있으며 2차원은 없는 형태임을 기억해야 합니다. "
   ]
  },
  {
   "cell_type": "code",
   "execution_count": 29,
   "metadata": {},
   "outputs": [
    {
     "name": "stdout",
     "output_type": "stream",
     "text": [
      "A_1D의 형태 (5,)\n",
      "A_2D의 형태 (1, 5)\n"
     ]
    }
   ],
   "source": [
    "print('A_1D의 형태', A_1D.shape)\n",
    "print('A_2D의 형태', A_2D.shape)"
   ]
  },
  {
   "cell_type": "code",
   "execution_count": 30,
   "metadata": {},
   "outputs": [
    {
     "name": "stdout",
     "output_type": "stream",
     "text": [
      "A_1D의 차원 1\n",
      "A_2D의 차원 2\n"
     ]
    }
   ],
   "source": [
    "print('A_1D의 차원', A_1D.ndim)\n",
    "print('A_2D의 차원', A_2D.ndim)"
   ]
  },
  {
   "cell_type": "markdown",
   "metadata": {
    "colab_type": "text",
    "id": "PYNPvYTLJTZt"
   },
   "source": [
    "#### ③ 3차원 행렬 `(n, m, d)`\n",
    "\n",
    "3차원 이상의 행렬은 수학에서 주로 **다차원 행렬(Multidimensional Matrix)라고 부릅니다. `[ ]` 블럭을 세 레벨로 구성하여 구현**할 수 있습니다. 이렇게 크기가 N차원 이상인 모든 행렬들을 통칭해 Tensor라 부릅니다. 이후 배우게 될 `tensorflow` 라이브러리는 tensor, 즉 다차원 행렬을 연산하기 위해 고안된 라이브러리입니다.<br>"
   ]
  },
  {
   "cell_type": "code",
   "execution_count": 31,
   "metadata": {
    "colab": {},
    "colab_type": "code",
    "id": "olBIKFq8JTZu",
    "outputId": "14c1425d-4ffb-4703-b622-32c020728840"
   },
   "outputs": [
    {
     "data": {
      "text/plain": [
       "array([[[1, 2, 3, 4, 5],\n",
       "        [2, 3, 4, 5, 6],\n",
       "        [3, 4, 5, 6, 7]],\n",
       "\n",
       "       [[1, 2, 3, 4, 5],\n",
       "        [2, 3, 4, 5, 6],\n",
       "        [3, 4, 5, 6, 7]]])"
      ]
     },
     "execution_count": 31,
     "metadata": {},
     "output_type": "execute_result"
    }
   ],
   "source": [
    "A = np.array([\n",
    "    [\n",
    "        [1,2,3,4,5],\n",
    "        [2,3,4,5,6],\n",
    "        [3,4,5,6,7]\n",
    "    ],\n",
    "    [\n",
    "        [1,2,3,4,5],\n",
    "        [2,3,4,5,6],\n",
    "        [3,4,5,6,7]\n",
    "    ]\n",
    "])\n",
    "A"
   ]
  },
  {
   "cell_type": "code",
   "execution_count": 32,
   "metadata": {
    "colab": {},
    "colab_type": "code",
    "id": "E9qbtxDgJTZ3",
    "outputId": "d5289b87-35ad-446f-d460-bdeb53f470c7"
   },
   "outputs": [
    {
     "data": {
      "text/plain": [
       "3"
      ]
     },
     "execution_count": 32,
     "metadata": {},
     "output_type": "execute_result"
    }
   ],
   "source": [
    "# fix me! # 차원 수 "
   ]
  },
  {
   "cell_type": "markdown",
   "metadata": {},
   "source": [
    "2차원 Array에서 shape은 **가장 바깥에 있는 블럭부터 블럭을 구성하는 요소의 수를 나타낸다**고 했습니다. 위의 3차원 행렬 `A`를 보면 가장 바깥 블럭은 (3,5)의 shape을 가지는 2차원 행렬 2개로 구성되어 있습니다. 따라서 `A`의 형태는 가장 바깥에 있는 블럭부터 요소의 수를 나타낸 `(2, 3, 5)`이 됩니다. 이는 행이 3개이고 열이 5개인 2차원 행렬이 2개있는 3차원 행렬이라는 의미이기도 합니다."
   ]
  },
  {
   "cell_type": "code",
   "execution_count": 33,
   "metadata": {
    "colab": {},
    "colab_type": "code",
    "id": "DiUYWofQJTZ7",
    "outputId": "55cf0e8b-fd65-407c-c6b5-93696f185d2d"
   },
   "outputs": [
    {
     "data": {
      "text/plain": [
       "(2, 3, 5)"
      ]
     },
     "execution_count": 33,
     "metadata": {},
     "output_type": "execute_result"
    }
   ],
   "source": [
    "# fix me! # 2x3x5"
   ]
  },
  {
   "cell_type": "code",
   "execution_count": 34,
   "metadata": {
    "colab": {},
    "colab_type": "code",
    "id": "Vn9Pq4xbJTZ_",
    "outputId": "fff58cc3-a5be-455e-e6b7-0659c2289953"
   },
   "outputs": [
    {
     "data": {
      "text/plain": [
       "30"
      ]
     },
     "execution_count": 34,
     "metadata": {},
     "output_type": "execute_result"
    }
   ],
   "source": [
    "# fix me!  # 2x3x5 = 15"
   ]
  },
  {
   "cell_type": "markdown",
   "metadata": {},
   "source": [
    "### (3) Numpy Array의 축(axis)"
   ]
  },
  {
   "cell_type": "markdown",
   "metadata": {},
   "source": [
    "**데이터가 N차원이라는 것은 N개의 축(axis)이 존재한다**는 의미입니다. Numpy에서는 축을 기준으로 데이터를 다루는 다양한 기능(집계, 데이터 추가 등)을 제공하고 있습니다. 따라서 축의 개념과 집계연산을 할 축을 지정하는 방법을 정확히 이해해야 합니다. 헷갈리기 쉬운 부분이므로 차근 차근 예제를 살펴보며 이해해봅시다.\n",
    "\n",
    "#### 1) 1차원 벡터의 축\n",
    "먼저, Numpy에서 축에 이름을 붙이는 방법을 알아봅시다. Numpy에서는 Python의 기본적인 인덱싱 방법을 따라 **축의 이름 역시 0부터 부여합니다**. \n",
    "\n",
    "예를 들어, 6개 값으로 구성된 벡터 `A`가 있다고 해봅시다. 벡터 `A`는 1차원 행렬로, 축 또한 1개입니다. shape을 확인하면 `(6,)`라는 결과가 나옵니다. 6개의 값으로 구성된 이 축을 우리는 **0번 축** 이라고 부릅니다."
   ]
  },
  {
   "cell_type": "code",
   "execution_count": 35,
   "metadata": {},
   "outputs": [],
   "source": [
    "A = np.array([1,  2,  3,  4,  5,  6])"
   ]
  },
  {
   "cell_type": "code",
   "execution_count": 36,
   "metadata": {},
   "outputs": [
    {
     "data": {
      "text/plain": [
       "(6,)"
      ]
     },
     "execution_count": 36,
     "metadata": {},
     "output_type": "execute_result"
    }
   ],
   "source": [
    "# fix me! # A의 shape은? "
   ]
  },
  {
   "cell_type": "markdown",
   "metadata": {},
   "source": [
    "합계를 구할 때 **0번 축을 기준으로 합을 집계한다**는 의미에서 `sum(axis = 0)`으로 설정하면 오류 없이 전체 원소를 더한 값이 계산됩니다. (축을 기준으로하는 다양한 집계함수를 다음 단원에서 배우겠지만, 축의 개념을 이해하기 위해 이번 Section에서는 `sum`을 먼저 사용해보겠습니다.)"
   ]
  },
  {
   "cell_type": "markdown",
   "metadata": {},
   "source": [
    "![](https://cdn-images-1.medium.com/max/1500/1*MWYX6ziOe9-8r0VbwhLlXw.png)"
   ]
  },
  {
   "cell_type": "code",
   "execution_count": 37,
   "metadata": {
    "scrolled": true
   },
   "outputs": [
    {
     "data": {
      "text/plain": [
       "21"
      ]
     },
     "execution_count": 37,
     "metadata": {},
     "output_type": "execute_result"
    }
   ],
   "source": [
    "A.sum(axis=0)"
   ]
  },
  {
   "cell_type": "markdown",
   "metadata": {},
   "source": [
    "축이 0번 축 하나뿐인 벡터를 가지고 **1번 축을 기준으로 합을 집계한다**고 하면 어떻게 될까요? 벡터 `A`에는 1번 축이 없으므로 아래와 같이 오류를 반환합니다. "
   ]
  },
  {
   "cell_type": "code",
   "execution_count": 38,
   "metadata": {
    "scrolled": true
   },
   "outputs": [
    {
     "ename": "AxisError",
     "evalue": "axis 1 is out of bounds for array of dimension 1",
     "output_type": "error",
     "traceback": [
      "\u001b[0;31m---------------------------------------------------------------------------\u001b[0m",
      "\u001b[0;31mAxisError\u001b[0m                                 Traceback (most recent call last)",
      "\u001b[0;32m<ipython-input-38-b6c4d9289450>\u001b[0m in \u001b[0;36m<module>\u001b[0;34m\u001b[0m\n\u001b[0;32m----> 1\u001b[0;31m \u001b[0mA\u001b[0m\u001b[0;34m.\u001b[0m\u001b[0msum\u001b[0m\u001b[0;34m(\u001b[0m\u001b[0maxis\u001b[0m\u001b[0;34m=\u001b[0m\u001b[0;36m1\u001b[0m\u001b[0;34m)\u001b[0m\u001b[0;34m\u001b[0m\u001b[0m\n\u001b[0m",
      "\u001b[0;32m~/anaconda3/lib/python3.6/site-packages/numpy/core/_methods.py\u001b[0m in \u001b[0;36m_sum\u001b[0;34m(a, axis, dtype, out, keepdims, initial)\u001b[0m\n\u001b[1;32m     34\u001b[0m def _sum(a, axis=None, dtype=None, out=None, keepdims=False,\n\u001b[1;32m     35\u001b[0m          initial=_NoValue):\n\u001b[0;32m---> 36\u001b[0;31m     \u001b[0;32mreturn\u001b[0m \u001b[0mumr_sum\u001b[0m\u001b[0;34m(\u001b[0m\u001b[0ma\u001b[0m\u001b[0;34m,\u001b[0m \u001b[0maxis\u001b[0m\u001b[0;34m,\u001b[0m \u001b[0mdtype\u001b[0m\u001b[0;34m,\u001b[0m \u001b[0mout\u001b[0m\u001b[0;34m,\u001b[0m \u001b[0mkeepdims\u001b[0m\u001b[0;34m,\u001b[0m \u001b[0minitial\u001b[0m\u001b[0;34m)\u001b[0m\u001b[0;34m\u001b[0m\u001b[0m\n\u001b[0m\u001b[1;32m     37\u001b[0m \u001b[0;34m\u001b[0m\u001b[0m\n\u001b[1;32m     38\u001b[0m def _prod(a, axis=None, dtype=None, out=None, keepdims=False,\n",
      "\u001b[0;31mAxisError\u001b[0m: axis 1 is out of bounds for array of dimension 1"
     ]
    }
   ],
   "source": [
    "A.sum(axis=1)"
   ]
  },
  {
   "cell_type": "markdown",
   "metadata": {},
   "source": [
    "#### ② 2차원 행렬의 축"
   ]
  },
  {
   "cell_type": "markdown",
   "metadata": {},
   "source": [
    "2차원 행렬에서는 어떨까요? 2차원 행렬 `A`의 shape은 다음과 같이 `(2,3)`입니다. 2개의 축으로 이루어져 있죠."
   ]
  },
  {
   "cell_type": "code",
   "execution_count": 39,
   "metadata": {},
   "outputs": [
    {
     "data": {
      "text/plain": [
       "array([[1, 2, 3],\n",
       "       [4, 5, 6]])"
      ]
     },
     "execution_count": 39,
     "metadata": {},
     "output_type": "execute_result"
    }
   ],
   "source": [
    "A = np.array([[1,2,3], [4,5,6]])\n",
    "A"
   ]
  },
  {
   "cell_type": "code",
   "execution_count": 40,
   "metadata": {},
   "outputs": [
    {
     "data": {
      "text/plain": [
       "(2, 3)"
      ]
     },
     "execution_count": 40,
     "metadata": {},
     "output_type": "execute_result"
    }
   ],
   "source": [
    "# fix me! # A의 shape은?"
   ]
  },
  {
   "cell_type": "markdown",
   "metadata": {},
   "source": [
    "shape의 왼쪽부터 시작해서 순서대로 축의 이름을 붙입니다. `(2, 3)`은 각각 0번 축, 1번 축의 요소 수를 알려줍니다. 즉, 0번 축에는 2개의 요소로 구성되어 있고, 1번 축에는 3개의 요소로 구성되어 있음을 알 수 있습니다. "
   ]
  },
  {
   "cell_type": "markdown",
   "metadata": {},
   "source": [
    "![](https://cdn-images-1.medium.com/max/1000/1*DC3vpqXdKZ-ATgqrZiz34w.png)"
   ]
  },
  {
   "cell_type": "markdown",
   "metadata": {},
   "source": [
    "이번에는 3차원 행렬 `A`를 살펴봅시다. "
   ]
  },
  {
   "cell_type": "code",
   "execution_count": 41,
   "metadata": {
    "scrolled": true
   },
   "outputs": [
    {
     "data": {
      "text/plain": [
       "array([[[1, 2, 3],\n",
       "        [4, 5, 6]],\n",
       "\n",
       "       [[1, 2, 3],\n",
       "        [4, 5, 6]]])"
      ]
     },
     "execution_count": 41,
     "metadata": {},
     "output_type": "execute_result"
    }
   ],
   "source": [
    "A = np.array([[[1,2,3], [4,5,6]], [[1,2,3], [4,5,6]]])\n",
    "A"
   ]
  },
  {
   "cell_type": "code",
   "execution_count": 42,
   "metadata": {},
   "outputs": [
    {
     "data": {
      "text/plain": [
       "(2, 2, 3)"
      ]
     },
     "execution_count": 42,
     "metadata": {},
     "output_type": "execute_result"
    }
   ],
   "source": [
    "# fix me! # A의 shape은?"
   ]
  },
  {
   "cell_type": "markdown",
   "metadata": {},
   "source": [
    "`(2, 2, 3)`은 각각 0번 축, 1번 축, 2번 축의 요소 수를 알려줍니다. 즉, 0번 축에는 2개의 요소로 구성되어 있고, 1번 축에는 2개의 요소로 구성되어 있고, 2번 축은 3개 요소로 구성되어 있음을 알 수 있습니다. "
   ]
  },
  {
   "cell_type": "markdown",
   "metadata": {},
   "source": [
    "![](https://cdn-images-1.medium.com/max/1000/1*DG93TCxGCbFKfb5JaqyzXA.png)"
   ]
  },
  {
   "cell_type": "markdown",
   "metadata": {},
   "source": [
    "Numpy에는 축을 기준으로 다양한 작업을 할 수 있습니다. 이에 대해 Section 3에서는 원하는 축을 선택하여 가져오는 인덱싱 방법을 배우고, Section 4에서는 축을 기준으로 데이터를 합치는 방법을 배울 예정입니다.  끝으로 Section 6에서는 축 단위로 데이터에 접근하여 적용할 수 있는 다양한 함수(집계함수, 정렬 함수 등)를 배울 것입니다. "
   ]
  },
  {
   "cell_type": "markdown",
   "metadata": {
    "colab_type": "text",
    "id": "ym0Rs3d0JTcM"
   },
   "source": [
    "\n",
    "\n",
    "# \\[ 2. Numpy Array 생성하기 \\]\n",
    "\n",
    "Numpy Array를 만드는 방법은 다양합니다. 다른 자료구조로부터 데이터를 받아와 생성할 수도 있고, 하나의 원소로만 구성되는 경우에는 값과 형태와 데이터 타입 등 Array의 구성을 설정하여 생성할 수도 있습니다.   "
   ]
  },
  {
   "cell_type": "markdown",
   "metadata": {
    "colab_type": "text",
    "id": "yY_HlZpXXTfT"
   },
   "source": [
    "## 1. 다른 자료로부터 Numpy Array 생성하기\n",
    "\n",
    "* 이미 생성된 List나 Tuple 또는 다른 Array를 활용하여 새로운 Array를 생성할 수 있습니다.<br>\n",
    "* List, Tuple로부터 Numpy Array를 생성할 때는 `np.array` 를 사용하고, 다른 Numpy Array로부터 Numpy Array를 복사하여 생성할 때는 `np.copy` 를 활용합니다."
   ]
  },
  {
   "cell_type": "markdown",
   "metadata": {
    "colab_type": "text",
    "id": "QyiuDMSoJTcN"
   },
   "source": [
    "\n",
    "### (1) List 혹은 Tuple로 Array 만들기 : `np.array()`\n",
    "\n",
    "가장 기본적인 array를 만드는 방식으로, 주로 list나 tuple을 변환하여 array로 만듭니다."
   ]
  },
  {
   "cell_type": "code",
   "execution_count": 43,
   "metadata": {
    "colab": {},
    "colab_type": "code",
    "id": "QvYxjiv8JTcO",
    "outputId": "7503879a-cdfd-4454-a8e4-9c10224d650f",
    "scrolled": true
   },
   "outputs": [
    {
     "data": {
      "text/plain": [
       "array([1, 2, 3, 4, 5])"
      ]
     },
     "execution_count": 43,
     "metadata": {},
     "output_type": "execute_result"
    }
   ],
   "source": [
    "A = np.array([1,2,3,4,5])\n",
    "A"
   ]
  },
  {
   "cell_type": "code",
   "execution_count": 3,
   "metadata": {},
   "outputs": [
    {
     "data": {
      "text/plain": [
       "array([1, 2, 3, 4, 5])"
      ]
     },
     "execution_count": 3,
     "metadata": {},
     "output_type": "execute_result"
    }
   ],
   "source": [
    "# fix me!"
   ]
  },
  {
   "cell_type": "markdown",
   "metadata": {
    "colab_type": "text",
    "id": "0hoTKsdaJTcd"
   },
   "source": [
    "### (2) 기존 Array 복사하기 :  `np.copy()`\n",
    "\n",
    "똑같은 값을 가진 Array를 만들고자 한다면, `np.copy()`를 이용해야 합니다."
   ]
  },
  {
   "cell_type": "code",
   "execution_count": 44,
   "metadata": {
    "colab": {},
    "colab_type": "code",
    "id": "UHEBQX2hJTci",
    "outputId": "11005144-423a-4a98-b09d-215b235d8f84"
   },
   "outputs": [
    {
     "data": {
      "text/plain": [
       "array([1, 2, 3, 4, 5])"
      ]
     },
     "execution_count": 44,
     "metadata": {},
     "output_type": "execute_result"
    }
   ],
   "source": [
    "A = np.array([1,2,3,4,5])\n",
    "A"
   ]
  },
  {
   "cell_type": "markdown",
   "metadata": {},
   "source": [
    "아래와 같은 방법으로 할 경우, A를 복사하는 것이 아닌, 똑같은 A의 값을 가르키고 있는 상태가 됩니다."
   ]
  },
  {
   "cell_type": "code",
   "execution_count": 45,
   "metadata": {
    "colab": {},
    "colab_type": "code",
    "id": "UFWbzHGxJTcn"
   },
   "outputs": [
    {
     "name": "stdout",
     "output_type": "stream",
     "text": [
      "4658965440\n",
      "4658965440\n"
     ]
    }
   ],
   "source": [
    "# fix me!\n",
    "print(id(B))\n",
    "print(id(A))"
   ]
  },
  {
   "cell_type": "markdown",
   "metadata": {},
   "source": [
    "`A`와 `B`는 같은 변수를 의미하므로, 하나의 변수 이름(예: B)으로 데이터를 불러 값을 바꾸더라도 다른 변수 이름(예: A)로 불러오는 값도 바뀝니다."
   ]
  },
  {
   "cell_type": "code",
   "execution_count": 46,
   "metadata": {
    "colab": {},
    "colab_type": "code",
    "id": "eqBJ8_qyJTcu",
    "outputId": "b5c52e8b-2949-4eaa-9fd9-a963b7be6018"
   },
   "outputs": [
    {
     "data": {
      "text/plain": [
       "array([0, 2, 3, 4, 5])"
      ]
     },
     "execution_count": 46,
     "metadata": {},
     "output_type": "execute_result"
    }
   ],
   "source": [
    "B[0] = 0 # B의 첫번째 원소를 바꾸었을 때, A도 바뀜\n",
    "B"
   ]
  },
  {
   "cell_type": "code",
   "execution_count": 47,
   "metadata": {
    "colab": {},
    "colab_type": "code",
    "id": "fF7pCX3JJTc1",
    "outputId": "32a5ee01-064f-4b26-8125-0934e34ff0a8"
   },
   "outputs": [
    {
     "data": {
      "text/plain": [
       "array([0, 2, 3, 4, 5])"
      ]
     },
     "execution_count": 47,
     "metadata": {},
     "output_type": "execute_result"
    }
   ],
   "source": [
    "A # B와 같음"
   ]
  },
  {
   "cell_type": "markdown",
   "metadata": {
    "colab_type": "text",
    "id": "cnEqFDsJJTdB"
   },
   "source": [
    "**값만 가져와 새로운 변수를 생성하고, 기존 변수에는 영향을 미치고 싶지 않다**면 어떻게 해야 할까요? 위와 같은 상황을 방지하기 위해서는 `copy`라는 메소드를 이용해야 합니다."
   ]
  },
  {
   "cell_type": "code",
   "execution_count": 48,
   "metadata": {
    "colab": {},
    "colab_type": "code",
    "id": "VYIh3GJWJTdC",
    "outputId": "66598915-df61-40c0-a38b-6f83d527435f"
   },
   "outputs": [
    {
     "data": {
      "text/plain": [
       "array([1, 2, 3, 4, 5])"
      ]
     },
     "execution_count": 48,
     "metadata": {},
     "output_type": "execute_result"
    }
   ],
   "source": [
    "A = np.array([1,2,3,4,5])\n",
    "A"
   ]
  },
  {
   "cell_type": "code",
   "execution_count": 49,
   "metadata": {
    "colab": {},
    "colab_type": "code",
    "id": "bAlULnxVJTdG"
   },
   "outputs": [
    {
     "name": "stdout",
     "output_type": "stream",
     "text": [
      "4658992272\n",
      "4658991632\n"
     ]
    }
   ],
   "source": [
    "# fix me! # 이렇게 할 경우, A를 복사하여 저장\n",
    "print(id(B))\n",
    "print(id(A)) # 서로 다른 메모리 위치에 저장"
   ]
  },
  {
   "cell_type": "code",
   "execution_count": 50,
   "metadata": {
    "colab": {},
    "colab_type": "code",
    "id": "6ywARThuJTdK",
    "outputId": "692cf505-f8f8-4403-f298-f03981f16e5e"
   },
   "outputs": [
    {
     "data": {
      "text/plain": [
       "array([0, 2, 3, 4, 5])"
      ]
     },
     "execution_count": 50,
     "metadata": {},
     "output_type": "execute_result"
    }
   ],
   "source": [
    "B[0] = 0 # B의 첫번째 원소를 바꾸었을 때, A는 바뀌지 않음\n",
    "B"
   ]
  },
  {
   "cell_type": "code",
   "execution_count": 51,
   "metadata": {
    "colab": {},
    "colab_type": "code",
    "id": "xP0avpKiJTdN",
    "outputId": "d41138fb-3029-4734-9cf7-bccdf0692412"
   },
   "outputs": [
    {
     "data": {
      "text/plain": [
       "array([1, 2, 3, 4, 5])"
      ]
     },
     "execution_count": 51,
     "metadata": {},
     "output_type": "execute_result"
    }
   ],
   "source": [
    "A # B와 다름"
   ]
  },
  {
   "cell_type": "markdown",
   "metadata": {
    "colab_type": "text",
    "id": "ZETabvc0cEq0"
   },
   "source": [
    "<br>\n",
    "\n",
    "## 2. 구성을 설정하여 Numpy Array 생성하기\n",
    "\n",
    "+ 앞서 Numpy Array는 값(Value), 형태(Shape), 데이터 타입(Data type)로 구성된다고 배웠습니다. 이런 구성(Value, Shape, Datatype)을 각각 설정하여 Numpy Array를 생성할수도 있습니다.<br>\n",
    "+ Array의 구성 요소가 동일한 값을 가지도록 하여 생성할 수도 있습니다.(예:  np.zeros() ,  np.ones() ,  np.full() 활용)\n",
    "+ 기존 Numpy Array의 Shape만 가져와 다른 값을 가지도록 생성할 수도 있습니다.(예: np.zeros_like() ,  np.ones_like() ,  np.full_like() 활용)\n",
    "+ 요소들의 값들을 등간격으로 설정하여 생성할 수도 있습니다.(예: np.linspace()  ,   np.arange() 활용)\n"
   ]
  },
  {
   "cell_type": "markdown",
   "metadata": {
    "colab_type": "text",
    "id": "6SFPWskvJTdT"
   },
   "source": [
    "### (1) 값이 일정한 Array 생성하기: `np.zeros()`&nbsp;,&nbsp; `np.ones()`&nbsp;,&nbsp; `np.full()`\n",
    "\n",
    "Array를 생성할 때, 지정할 수 있는 파라미터에는 크게 `shape`, `value`, `dtype` 등이 있습니다. Array를 동일한 값으로 구성하려 한다면,  `value`는 정해졌으므로 `shape`와 `dtype`를 정해 설정합니다. "
   ]
  },
  {
   "cell_type": "code",
   "execution_count": 52,
   "metadata": {
    "colab": {},
    "colab_type": "code",
    "id": "b5Ziq7cHJTdU",
    "outputId": "e6ad6100-f06f-471c-94e5-27c65a440100"
   },
   "outputs": [
    {
     "data": {
      "text/plain": [
       "array([[0., 0.],\n",
       "       [0., 0.],\n",
       "       [0., 0.]])"
      ]
     },
     "execution_count": 52,
     "metadata": {},
     "output_type": "execute_result"
    }
   ],
   "source": [
    "# 값은 0이고, 3행 2열로 구성된 행렬\n",
    "# fix me!"
   ]
  },
  {
   "cell_type": "code",
   "execution_count": 53,
   "metadata": {
    "colab": {},
    "colab_type": "code",
    "id": "j0pqN1X1JTdX",
    "outputId": "5baeb37f-cc4b-4844-d227-4c66a75c558d"
   },
   "outputs": [
    {
     "data": {
      "text/plain": [
       "array([[1., 1.],\n",
       "       [1., 1.],\n",
       "       [1., 1.]])"
      ]
     },
     "execution_count": 53,
     "metadata": {},
     "output_type": "execute_result"
    }
   ],
   "source": [
    "# 값은 1이고, 3행 2열로 구성된 행렬\n",
    "# fix me!"
   ]
  },
  {
   "cell_type": "code",
   "execution_count": 54,
   "metadata": {
    "colab": {},
    "colab_type": "code",
    "id": "mHLCzgmGJTda",
    "outputId": "85b79c60-7467-4088-fa40-3f21366d1e92"
   },
   "outputs": [
    {
     "data": {
      "text/plain": [
       "array([[3., 3.],\n",
       "       [3., 3.],\n",
       "       [3., 3.]])"
      ]
     },
     "execution_count": 54,
     "metadata": {},
     "output_type": "execute_result"
    }
   ],
   "source": [
    "# 값은 3이고, 3행 2열로 구성된 행렬\n",
    "# fix me!"
   ]
  },
  {
   "cell_type": "markdown",
   "metadata": {
    "colab_type": "text",
    "id": "RR8tPo1EJTdi"
   },
   "source": [
    "### (2) 기존 Array와 동일한 shape의 Array 생성하기 : `np.zeros_like()`&nbsp;, &nbsp;`np.ones_like()`&nbsp;, &nbsp;`np.full_like()`&nbsp;\n",
    "기존의 Numpy Array의 형태(shape)가 동일하되, 원하는 값으로 채워진 Numpy Array를 생성할 수 있습니다."
   ]
  },
  {
   "cell_type": "code",
   "execution_count": 55,
   "metadata": {
    "colab": {
     "base_uri": "https://localhost:8080/",
     "height": 33
    },
    "colab_type": "code",
    "executionInfo": {
     "elapsed": 823,
     "status": "ok",
     "timestamp": 1551246684793,
     "user": {
      "displayName": "최선열",
      "photoUrl": "",
      "userId": "00663027191814710813"
     },
     "user_tz": -540
    },
    "id": "iJhXJer8JTdj",
    "outputId": "ee54ca08-5dcc-44f8-f139-1a6a6311b00a"
   },
   "outputs": [
    {
     "data": {
      "text/plain": [
       "array([1, 2, 3, 4, 5])"
      ]
     },
     "execution_count": 55,
     "metadata": {},
     "output_type": "execute_result"
    }
   ],
   "source": [
    "# Shape를 본 딸 Numpy Array : A 생성\n",
    "A = np.array([1,2,3,4,5])\n",
    "A"
   ]
  },
  {
   "cell_type": "code",
   "execution_count": 56,
   "metadata": {
    "colab": {
     "base_uri": "https://localhost:8080/",
     "height": 33
    },
    "colab_type": "code",
    "executionInfo": {
     "elapsed": 692,
     "status": "ok",
     "timestamp": 1551246711813,
     "user": {
      "displayName": "최선열",
      "photoUrl": "",
      "userId": "00663027191814710813"
     },
     "user_tz": -540
    },
    "id": "lShdPcX5JTdl",
    "outputId": "a01ae018-83f8-4559-a623-ec1ecc35617d"
   },
   "outputs": [
    {
     "data": {
      "text/plain": [
       "array([0, 0, 0, 0, 0])"
      ]
     },
     "execution_count": 56,
     "metadata": {},
     "output_type": "execute_result"
    }
   ],
   "source": [
    "# fix me! # A와 같은 Shape이면서 모든 요소의 값이 0 인 Numpy Array 생성"
   ]
  },
  {
   "cell_type": "code",
   "execution_count": 57,
   "metadata": {
    "colab": {},
    "colab_type": "code",
    "id": "haaqzV67JTdn",
    "outputId": "ba5f3ccb-f476-40ed-dd40-8d8b6b102a8b"
   },
   "outputs": [
    {
     "data": {
      "text/plain": [
       "array([1, 1, 1, 1, 1])"
      ]
     },
     "execution_count": 57,
     "metadata": {},
     "output_type": "execute_result"
    }
   ],
   "source": [
    "# fix me! # A와 같은 Shape이면서 모든 요소의 값이 1 인 Numpy Array 생성 "
   ]
  },
  {
   "cell_type": "code",
   "execution_count": 58,
   "metadata": {
    "colab": {},
    "colab_type": "code",
    "id": "5KJnr4IQJTdp",
    "outputId": "e2b51270-11c6-40ea-d419-6ed3c01c0395"
   },
   "outputs": [
    {
     "data": {
      "text/plain": [
       "array([13, 13, 13, 13, 13])"
      ]
     },
     "execution_count": 58,
     "metadata": {},
     "output_type": "execute_result"
    }
   ],
   "source": [
    "# fix me! # 3. A와 같은 Shape이면서 모든 요소의 값이 13 인 Numpy Array 생성"
   ]
  },
  {
   "cell_type": "markdown",
   "metadata": {
    "colab_type": "text",
    "id": "BLH0P5TxJTds"
   },
   "source": [
    "### (3) 같은 간격의 값으로 구성된 Array 생성하기 :  `np.linspace()`&nbsp; , &nbsp; `np.arange()`\n",
    "\n",
    "등간격으로 배치된 Array를 만들고 싶을 때도 Numpy에서는 메소드를 통해 간단히 만들 수 있습니다. 예를 들어 1부터 10까지 일정 간격으로 커지는 연속적인 값으로 구성된 Array를 구성한다면 다음 두 가지 방법을 활용할 수 있습니다.\n",
    "\n",
    "* `np.linspace` : 1부터 10 사이를 **<몇 개의 숫자로 구성할까?>를 기준**으로 Array를 만듭니다.\n",
    "* `np.arange` : 1부터 10 사이를 **<얼만큼의 간격으로 나눌까?>를 기준**으로 Array를 만듭니다."
   ]
  },
  {
   "cell_type": "code",
   "execution_count": 59,
   "metadata": {
    "colab": {},
    "colab_type": "code",
    "id": "vmlAdrogJTdt",
    "outputId": "c0b9dc0a-61e2-43f4-e8fb-af7c7f717c64"
   },
   "outputs": [
    {
     "data": {
      "text/plain": [
       "array([ 1. ,  1.5,  2. ,  2.5,  3. ,  3.5,  4. ,  4.5,  5. ,  5.5,  6. ,\n",
       "        6.5,  7. ,  7.5,  8. ,  8.5,  9. ,  9.5, 10. ])"
      ]
     },
     "execution_count": 59,
     "metadata": {},
     "output_type": "execute_result"
    }
   ],
   "source": [
    "# fix me! # 1. 1부터 10까지 19개의 요소를 등간격으로 쪼개서 생성"
   ]
  },
  {
   "cell_type": "code",
   "execution_count": 60,
   "metadata": {
    "colab": {},
    "colab_type": "code",
    "id": "nt5clvfEJTdy",
    "outputId": "7591fbc0-72f9-417a-b995-e1cd32ad58d9"
   },
   "outputs": [
    {
     "data": {
      "text/plain": [
       "array([1. , 1.5, 2. , 2.5, 3. , 3.5, 4. , 4.5, 5. , 5.5, 6. , 6.5, 7. ,\n",
       "       7.5, 8. , 8.5, 9. , 9.5])"
      ]
     },
     "execution_count": 60,
     "metadata": {},
     "output_type": "execute_result"
    }
   ],
   "source": [
    "# fix me! # 2. 1부터 10까지 0.5 step(간격)으로 더하여 요소를 생성"
   ]
  },
  {
   "cell_type": "markdown",
   "metadata": {
    "colab_type": "text",
    "id": "0w7BbDHnJTd2"
   },
   "source": [
    "#  \n",
    "\n",
    "---\n",
    "\n",
    "    Copyright(c) 2019 by Public AI. All rights reserved.\n",
    "    Writen by PAI, SangJae Kang ( rocketgrowthsj@publicai.co.kr )  last updated on 2019/08/25\n",
    "\n",
    "\n",
    "---"
   ]
  }
 ],
 "metadata": {
  "colab": {
   "collapsed_sections": [
    "rxCrKYzVJTY4",
    "3_pFKUXOJTZJ",
    "aIgW-QwyJTZc",
    "PYNPvYTLJTZt",
    "RzCUGXkwJTaF",
    "Ot3FlsxDJTaU",
    "jkvN1lGnJTag",
    "HzIQi04rJTak",
    "DpXYaAyGJTa7",
    "hTtaYiYNJTbN",
    "gt1C9mXmJTbY",
    "0nQWNSoEJTbs",
    "dKGJATBTJTb0",
    "QyiuDMSoJTcN",
    "0hoTKsdaJTcd",
    "6SFPWskvJTdT",
    "RR8tPo1EJTdi",
    "BLH0P5TxJTds"
   ],
   "name": "2_Numpy의 구조와 생성.ipynb",
   "provenance": [],
   "toc_visible": true,
   "version": "0.3.2"
  },
  "kernelspec": {
   "display_name": "Python 3",
   "language": "python",
   "name": "python3"
  },
  "language_info": {
   "codemirror_mode": {
    "name": "ipython",
    "version": 3
   },
   "file_extension": ".py",
   "mimetype": "text/x-python",
   "name": "python",
   "nbconvert_exporter": "python",
   "pygments_lexer": "ipython3",
   "version": "3.6.8"
  }
 },
 "nbformat": 4,
 "nbformat_minor": 2
}
