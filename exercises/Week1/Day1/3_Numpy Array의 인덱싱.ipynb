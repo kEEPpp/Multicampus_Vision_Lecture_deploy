{
 "cells": [
  {
   "cell_type": "markdown",
   "metadata": {},
   "source": [
    "<i><b>Public AI</b></i>\n",
    "<br>\n",
    "###  &nbsp;&nbsp; **✎&nbsp;&nbsp;Week 1. Numpy Basis**\n",
    "# Section 3. Numpy Array의 인덱싱"
   ]
  },
  {
   "cell_type": "code",
   "execution_count": null,
   "metadata": {},
   "outputs": [],
   "source": [
    "# 우선 실행해주세요\n",
    "import numpy as np"
   ]
  },
  {
   "cell_type": "markdown",
   "metadata": {},
   "source": [
    "> 문제 1번~4번은 지난 exercise에 있던 예제들입니다. list가 아닌 numpy로 풀어보세요!"
   ]
  },
  {
   "cell_type": "markdown",
   "metadata": {},
   "source": [
    "### 예제 데이터) 2012년~2018년 삼성전자 분기별 매출과 합계\n",
    "\n",
    "| (단위:조원) | 1분기 | 2분기 | 3분기 | 4분기 | 합계   |\n",
    "| ------ | ----- | ----- | ----- | ----- | ------ |\n",
    "| 2012년 | 45.27 | 47.60 | 52.18 | 56.06 | 201.10 |\n",
    "| 2013년 | 52.87 | 57.46 | 59.08 | 59.28 | 228.69 |\n",
    "| 2014년 | 53.68 | 52.35 | 47.45 | 52.73 | 206.21 |\n",
    "| 2015년 | 47.12 | 48.54 | 51.68 | 53.32 | 200.65 |\n",
    "| 2016년 | 49.78 | 50.94 | 47.82 | 53.33 | 201.87 |\n",
    "| 2017년 | 50.55 | 61.99 | 62.05 | 65.98 | 240.57 |\n",
    "| 2018년 | 60.56 | 58.48 | 65.46 | 59.27 | 243.77 |"
   ]
  },
  {
   "cell_type": "markdown",
   "metadata": {},
   "source": [
    "## 문제 1. 인덱싱을 이용해 새로운 Numpy Array 만들기\n",
    "* 현재 분기별 매출 표에는 `합계`까지 포함되어 있습니다. 인덱싱을 이용해 합계는 제외하고 매출만 남아있는 Numpy Array를 만들어주세요\n",
    "\n",
    "정답 >>>\n",
    "```python\n",
    "np.array([[45.27, 47.6 , 52.18, 56.06],\n",
    "       [52.87, 57.46, 59.08, 59.28],\n",
    "       [53.68, 52.35, 47.45, 52.73],\n",
    "       [47.12, 48.54, 51.68, 53.32],\n",
    "       [49.78, 50.94, 47.82, 53.33],\n",
    "       [50.55, 61.99, 62.05, 65.98],\n",
    "       [60.56, 58.48, 65.46, 59.27]])\n",
    "```"
   ]
  },
  {
   "cell_type": "code",
   "execution_count": null,
   "metadata": {},
   "outputs": [],
   "source": [
    "# 우선 실행해주세요\n",
    "sales_with_sum = np.array([\n",
    "    [45.27, 47.60, 52.18, 56.06, 201.10],\n",
    "    [52.87, 57.46, 59.08, 59.28, 228.69],\n",
    "    [53.68, 52.35, 47.45, 52.73, 206.21],\n",
    "    [47.12, 48.54, 51.68, 53.32, 200.65],\n",
    "    [49.78, 50.94, 47.82, 53.33, 201.87],\n",
    "    [50.55, 61.99, 62.05, 65.98, 240.57],\n",
    "    [60.56, 58.48, 65.46, 59.27, 243.77]\n",
    "])"
   ]
  },
  {
   "cell_type": "markdown",
   "metadata": {},
   "source": [
    "#### 답안지 입력란\n",
    "* 아래에 답을 서술하여 주세요\n",
    "* 결과는 `answer1`에 담아주세요"
   ]
  },
  {
   "cell_type": "code",
   "execution_count": null,
   "metadata": {},
   "outputs": [],
   "source": []
  },
  {
   "cell_type": "markdown",
   "metadata": {},
   "source": [
    "#### 정답 확인\n",
    "* 정답을 입력한 후, 아래를 실행시키면 정답인지 확인합니다."
   ]
  },
  {
   "cell_type": "code",
   "execution_count": null,
   "metadata": {},
   "outputs": [],
   "source": [
    "from numpy.testing import assert_array_almost_equal\n",
    "\n",
    "assert 'answer1' in globals(), \"결과를 answer1이라는 변수에 담아주세요!, answer1의 값을 보고 평가합니다.\"\n",
    "assert isinstance(answer1, np.ndarray), \"결과값들을 'numpy array'형식으로 담아주세요\"\n",
    "A = np.array([[45.27, 47.6 , 52.18, 56.06],\n",
    "       [52.87, 57.46, 59.08, 59.28],\n",
    "       [53.68, 52.35, 47.45, 52.73],\n",
    "       [47.12, 48.54, 51.68, 53.32],\n",
    "       [49.78, 50.94, 47.82, 53.33],\n",
    "       [50.55, 61.99, 62.05, 65.98],\n",
    "       [60.56, 58.48, 65.46, 59.27]])\n",
    "\n",
    "assert_array_almost_equal(A,answer1,decimal=2,\n",
    "                          err_msg=\"\\n\\n정답은 \\n{}\\n입니다. 코드를 다시 확인해주세요\".format(A))\n",
    "\n",
    "print(\"정답입니다!!!\")"
   ]
  },
  {
   "cell_type": "markdown",
   "metadata": {},
   "source": [
    "### 예제 데이터) 2012년~2018년 삼성전자 분기별 매출\n",
    "\n",
    "| (단위:조원) | 1분기 | 2분기 | 3분기 | 4분기 |\n",
    "| ------ | ----- | ----- | ----- | ----- |\n",
    "| 2012년 | 45.27 | 47.60 | 52.18 | 56.06 |\n",
    "| 2013년 | 52.87 | 57.46 | 59.08 | 59.28 |\n",
    "| 2014년 | 53.68 | 52.35 | 47.45 | 52.73 |\n",
    "| 2015년 | 47.12 | 48.54 | 51.68 | 53.32 |\n",
    "| 2016년 | 49.78 | 50.94 | 47.82 | 53.33 |\n",
    "| 2017년 | 50.55 | 61.99 | 62.05 | 65.98 |\n",
    "| 2018년 | 60.56 | 58.48 | 65.46 | 59.27 |"
   ]
  },
  {
   "cell_type": "markdown",
   "metadata": {},
   "source": [
    "## 문제 2. 특정 원소 가져오기(1)\n",
    "* 삼성전자의 **2016년 3분기 매출**을 가져와주세요.\n",
    "\n",
    "정답 >>> \n",
    "```python\n",
    "47.82\n",
    "```"
   ]
  },
  {
   "cell_type": "code",
   "execution_count": null,
   "metadata": {},
   "outputs": [],
   "source": [
    "# 우선 실행해주세요\n",
    "sales = np.array([\n",
    "    [45.27, 47.60, 52.18, 56.06],\n",
    "    [52.87, 57.46, 59.08, 59.28],\n",
    "    [53.68, 52.35, 47.45, 52.73],\n",
    "    [47.12, 48.54, 51.68, 53.32],\n",
    "    [49.78, 50.94, 47.82, 53.33],\n",
    "    [50.55, 61.99, 62.05, 65.98],\n",
    "    [60.56, 58.48, 65.46, 59.27]\n",
    "])"
   ]
  },
  {
   "cell_type": "markdown",
   "metadata": {},
   "source": [
    "#### 답안지 입력란\n",
    "* 아래에 답을 서술하여 주세요\n",
    "* 결과는 `answer2`에 담아주세요"
   ]
  },
  {
   "cell_type": "code",
   "execution_count": null,
   "metadata": {},
   "outputs": [],
   "source": []
  },
  {
   "cell_type": "markdown",
   "metadata": {},
   "source": [
    "#### 정답 확인\n",
    "* 정답을 입력한 후, 아래를 실행시키면 정답인지 확인합니다."
   ]
  },
  {
   "cell_type": "code",
   "execution_count": null,
   "metadata": {
    "scrolled": true
   },
   "outputs": [],
   "source": [
    "assert 'answer2' in globals(), \"결과를 answer2라는 변수에 담아주세요!, answer2의 값을 보고 평가합니다.\"\n",
    "\n",
    "if (answer2 == 47.82):\n",
    "    print(\"정답입니다!!!!\")\n",
    "else:\n",
    "    raise ValueError(\"정답은 47.82가 나와야 합니다. 코드를 다시 확인해주세요!\")"
   ]
  },
  {
   "cell_type": "markdown",
   "metadata": {},
   "source": [
    "## 문제 3. 특정 원소 가져오기(2)\n",
    "* 삼성전자의 **짝수년 1,3분기 매출**을 가져와주세요.\n",
    "\n",
    "정답 >>> \n",
    "```python\n",
    "np.array([[45.27, 52.18], [53.68, 47.45], \n",
    "[49.78, 47.82], [60.56, 65.46]])\n",
    "```"
   ]
  },
  {
   "cell_type": "code",
   "execution_count": null,
   "metadata": {},
   "outputs": [],
   "source": [
    "# 우선 실행해주세요\n",
    "sales = np.array([\n",
    "    [45.27, 47.60, 52.18, 56.06],\n",
    "    [52.87, 57.46, 59.08, 59.28],\n",
    "    [53.68, 52.35, 47.45, 52.73],\n",
    "    [47.12, 48.54, 51.68, 53.32],\n",
    "    [49.78, 50.94, 47.82, 53.33],\n",
    "    [50.55, 61.99, 62.05, 65.98],\n",
    "    [60.56, 58.48, 65.46, 59.27]\n",
    "])"
   ]
  },
  {
   "cell_type": "markdown",
   "metadata": {},
   "source": [
    "#### 답안지 입력란\n",
    "* 아래에 답을 서술하여 주세요\n",
    "* 결과는 `answer3`에 담아주세요"
   ]
  },
  {
   "cell_type": "code",
   "execution_count": null,
   "metadata": {},
   "outputs": [],
   "source": []
  },
  {
   "cell_type": "markdown",
   "metadata": {},
   "source": [
    "#### 정답 확인\n",
    "* 정답을 입력한 후, 아래를 실행시키면 정답인지 확인합니다."
   ]
  },
  {
   "cell_type": "code",
   "execution_count": null,
   "metadata": {},
   "outputs": [],
   "source": [
    "from numpy.testing import assert_array_almost_equal\n",
    "\n",
    "assert 'answer3' in globals(), \"결과를 answer3이라는 변수에 담아주세요!, answer3의 값을 보고 평가합니다.\"\n",
    "assert isinstance(answer3, np.ndarray), \"결과값들을 'numpy array'형식으로 담아주세요\"\n",
    "\n",
    "A = np.array([[45.27, 52.18], [53.68, 47.45], [49.78, 47.82], [60.56, 65.46]])\n",
    "\n",
    "assert_array_almost_equal(A,answer3,decimal=2,\n",
    "                          err_msg=\"\\n\\n정답은 \\n{}\\n입니다. 코드를 다시 확인해주세요\".format(A))\n",
    "\n",
    "print(\"정답입니다!!!\")"
   ]
  },
  {
   "cell_type": "markdown",
   "metadata": {},
   "source": [
    "## 문제 4. 특정 원소 가져오기(3)\n",
    "* 삼성전자의 **각 연도별 4분기 매출**을 가져와주세요.\n",
    "\n",
    "정답 >>> \n",
    "```python\n",
    "np.array([56.06, 59.28, 52.73, 53.32, 53.33, 65.98, 59.27])\n",
    "```"
   ]
  },
  {
   "cell_type": "code",
   "execution_count": null,
   "metadata": {},
   "outputs": [],
   "source": [
    "# 우선 실행해주세요\n",
    "sales = np.array([\n",
    "    [45.27, 47.60, 52.18, 56.06],\n",
    "    [52.87, 57.46, 59.08, 59.28],\n",
    "    [53.68, 52.35, 47.45, 52.73],\n",
    "    [47.12, 48.54, 51.68, 53.32],\n",
    "    [49.78, 50.94, 47.82, 53.33],\n",
    "    [50.55, 61.99, 62.05, 65.98],\n",
    "    [60.56, 58.48, 65.46, 59.27]\n",
    "])"
   ]
  },
  {
   "cell_type": "markdown",
   "metadata": {},
   "source": [
    "#### 답안지 입력란\n",
    "* 아래에 답을 서술하여 주세요\n",
    "* 결과는 `answer4`에 담아주세요"
   ]
  },
  {
   "cell_type": "code",
   "execution_count": null,
   "metadata": {},
   "outputs": [],
   "source": []
  },
  {
   "cell_type": "markdown",
   "metadata": {},
   "source": [
    "#### 정답 확인\n",
    "* 정답을 입력한 후, 아래를 실행시키면 정답인지 확인합니다."
   ]
  },
  {
   "cell_type": "code",
   "execution_count": null,
   "metadata": {
    "scrolled": true
   },
   "outputs": [],
   "source": [
    "from numpy.testing import assert_array_almost_equal\n",
    "\n",
    "assert 'answer4' in globals(), \"결과를 answer4이라는 변수에 담아주세요!, answer4의 값을 보고 평가합니다.\"\n",
    "assert isinstance(answer4, np.ndarray), \"결과값들을 'numpy array'형식으로 담아주세요\"\n",
    "\n",
    "A = np.array([56.06, 59.28, 52.73, 53.32, 53.33, 65.98, 59.27])\n",
    "\n",
    "assert_array_almost_equal(A,answer4,decimal=2,\n",
    "                          err_msg=\"\\n\\n정답은 \\n{}\\n입니다. 코드를 다시 확인해주세요\".format(A))\n",
    "\n",
    "print(\"정답입니다!!!\")"
   ]
  },
  {
   "cell_type": "markdown",
   "metadata": {},
   "source": [
    "### 예제 데이터) 중간고사, 기말고사 학생들의 성적표\n",
    "\n",
    "* 중간고사, 학생들의 국영수사과 성적표\n",
    "\n",
    "| 학생 번호 | 국어 | 영어 | 수학 | 사회 | 과학 |\n",
    "|  ----   | --- |---| --- | --- | --- |\n",
    "|0 |80 |92 |70 | 65 | 92 |\n",
    "|1 |91 |75 |90 | 68 | 85 | \n",
    "|2 |86 |76 |42 | 72 | 88 |\n",
    "|3 |77 |92 |52 | 60 | 80 |\n",
    "|4 |75 |85 |85 | 92 | 95 |\n",
    "|5 |96 |90 |95 | 81 | 72 |\n",
    "\n",
    "\n",
    "* 기말고사, 학생들의 국영수사과 성적표\n",
    "\n",
    "| 학생 번호 | 국어 | 영어 | 수학 | 사회 | 과학 |\n",
    "|  ----   | --- |---| --- | --- | --- |\n",
    "|0 |85 |95 |90 | 66 | 93 |\n",
    "|1 |93 |70 |80 | 60 | 81 | \n",
    "|2 |89 |78 |55 | 75 | 80 |\n",
    "|3 |80 |94 |59 | 72 | 90 |\n",
    "|4 |70 |82 |81 | 95 | 72 |\n",
    "|5 |90 |76 |93 | 82 | 89 |"
   ]
  },
  {
   "cell_type": "code",
   "execution_count": null,
   "metadata": {},
   "outputs": [],
   "source": [
    "scores = np.array([[[80, 92, 70, 65, 92],\n",
    "        [91, 75, 90, 68, 85],\n",
    "        [86, 76, 42, 72, 88],\n",
    "        [77, 92, 52, 60, 80],\n",
    "        [75, 85, 85, 92, 95],\n",
    "        [96, 90, 95, 81, 72]],\n",
    "\n",
    "       [[85, 95, 90, 66, 93],\n",
    "        [93, 70, 80, 60, 81],\n",
    "        [89, 78, 55, 75, 80],\n",
    "        [80, 94, 59, 72, 90],\n",
    "        [70, 82, 81, 95, 72],\n",
    "        [90, 76, 93, 82, 89]]])"
   ]
  },
  {
   "cell_type": "markdown",
   "metadata": {},
   "source": [
    "## 문제 5. 배열 특정 범위 가져오기\n",
    "* 2번 학생부터 4번 학생까지의 기말고사 국어,영어,수학 성적을 가져와주세요\n",
    "\n",
    "정답 >>>\n",
    "```python\n",
    "np.array([[89, 78, 55],\n",
    "       [80, 94, 59],\n",
    "       [70, 82, 81]])\n",
    "```"
   ]
  },
  {
   "cell_type": "code",
   "execution_count": null,
   "metadata": {},
   "outputs": [],
   "source": [
    "# 우선 실행해주세요\n",
    "scores = np.array([[[80, 92, 70, 65, 92],\n",
    "        [91, 75, 90, 68, 85],\n",
    "        [86, 76, 42, 72, 88],\n",
    "        [77, 92, 52, 60, 80],\n",
    "        [75, 85, 85, 92, 95],\n",
    "        [96, 90, 95, 81, 72]],\n",
    "\n",
    "       [[85, 95, 90, 66, 93],\n",
    "        [93, 70, 80, 60, 81],\n",
    "        [89, 78, 55, 75, 80],\n",
    "        [80, 94, 59, 72, 90],\n",
    "        [70, 82, 81, 95, 72],\n",
    "        [90, 76, 93, 82, 89]]])"
   ]
  },
  {
   "cell_type": "markdown",
   "metadata": {},
   "source": [
    "#### 답안지 입력란\n",
    "* 아래에 답을 서술하여 주세요\n",
    "* 결과는 `answer5`에 담아주세요"
   ]
  },
  {
   "cell_type": "code",
   "execution_count": null,
   "metadata": {},
   "outputs": [],
   "source": []
  },
  {
   "cell_type": "markdown",
   "metadata": {},
   "source": [
    "#### 정답 확인\n",
    "* 정답을 입력한 후, 아래를 실행시키면 정답인지 확인합니다."
   ]
  },
  {
   "cell_type": "code",
   "execution_count": null,
   "metadata": {},
   "outputs": [],
   "source": [
    "from numpy.testing import assert_array_almost_equal\n",
    "\n",
    "assert 'answer5' in globals(), \"결과를 answer5라는 변수에 담아주세요!, answer5의 값을 보고 평가합니다.\"\n",
    "assert isinstance(answer5, np.ndarray), \"결과값들을 'numpy array'형식으로 담아주세요\"\n",
    "\n",
    "A = np.array([[89, 78, 55],\n",
    "       [80, 94, 59],\n",
    "       [70, 82, 81]])\n",
    "\n",
    "assert_array_almost_equal(A,answer5,decimal=2,\n",
    "                          err_msg=\"\\n\\n정답은 \\n{}\\n입니다. 코드를 다시 확인해주세요\".format(A))\n",
    "\n",
    "print(\"정답입니다!!!\")"
   ]
  },
  {
   "cell_type": "markdown",
   "metadata": {},
   "source": [
    "## 문제 6. 조건문으로 가져오기\n",
    "* 중간고사, 기말고사 통틀어, 한번이라도 **수학 성적이 90과 같거나 큰 학생**들의 전 과목 성적을 가져와주세요\n",
    "\n",
    "정답 >>> \n",
    "```python\n",
    "np.array([[91, 75, 90, 68, 85],\n",
    "       [96, 90, 95, 81, 72],\n",
    "       [85, 95, 90, 66, 93],\n",
    "       [90, 76, 93, 82, 89]])\n",
    "```"
   ]
  },
  {
   "cell_type": "code",
   "execution_count": null,
   "metadata": {},
   "outputs": [],
   "source": [
    "# 우선 실행해주세요\n",
    "scores = np.array([[[80, 92, 70, 65, 92],\n",
    "        [91, 75, 90, 68, 85],\n",
    "        [86, 76, 42, 72, 88],\n",
    "        [77, 92, 52, 60, 80],\n",
    "        [75, 85, 85, 92, 95],\n",
    "        [96, 90, 95, 81, 72]],\n",
    "\n",
    "       [[85, 95, 90, 66, 93],\n",
    "        [93, 70, 80, 60, 81],\n",
    "        [89, 78, 55, 75, 80],\n",
    "        [80, 94, 59, 72, 90],\n",
    "        [70, 82, 81, 95, 72],\n",
    "        [90, 76, 93, 82, 89]]])"
   ]
  },
  {
   "cell_type": "markdown",
   "metadata": {},
   "source": [
    "#### 답안지 입력란\n",
    "* 아래에 답을 서술하여 주세요\n",
    "* 결과는 `answer6`에 담아주세요"
   ]
  },
  {
   "cell_type": "code",
   "execution_count": null,
   "metadata": {
    "scrolled": false
   },
   "outputs": [],
   "source": []
  },
  {
   "cell_type": "markdown",
   "metadata": {},
   "source": [
    "#### 정답 확인\n",
    "* 정답을 입력한 후, 아래를 실행시키면 정답인지 확인합니다."
   ]
  },
  {
   "cell_type": "code",
   "execution_count": null,
   "metadata": {},
   "outputs": [],
   "source": [
    "from numpy.testing import assert_array_almost_equal\n",
    "\n",
    "assert 'answer6' in globals(), \"결과를 answer6이라는 변수에 담아주세요!, answer6의 값을 보고 평가합니다.\"\n",
    "assert isinstance(answer6, np.ndarray), \"결과값들을 'numpy array'형식으로 담아주세요\"\n",
    "\n",
    "A = np.array([[91, 75, 90, 68, 85],\n",
    "       [96, 90, 95, 81, 72],\n",
    "       [85, 95, 90, 66, 93],\n",
    "       [90, 76, 93, 82, 89]])\n",
    "\n",
    "assert_array_almost_equal(A,answer6,decimal=2,\n",
    "                          err_msg=\"\\n\\n정답은 \\n{}\\n입니다. 코드를 다시 확인해주세요\".format(A))\n",
    "\n",
    "print(\"정답입니다!!!\")"
   ]
  },
  {
   "cell_type": "markdown",
   "metadata": {},
   "source": [
    "## 문제 7. 조건문으로 가져오기\n",
    "* 각 과목별로 점수가 75점이 넘지 않는 과목은 재시험을 봐야합니다. 학생 4번의 기말고사 성적에 대해, 재시험을 봐야한다면 \"재시험\"을, 아니라면 \"통과\"를 출력해주세요.\n",
    "\n",
    "정답 >>> \n",
    "```python\n",
    "np.array(['재시험', '통과', '통과', '통과', '재시험'], dtype='<U3')\n",
    "```"
   ]
  },
  {
   "cell_type": "code",
   "execution_count": null,
   "metadata": {},
   "outputs": [],
   "source": [
    "# 우선 실행해주세요\n",
    "scores = np.array([[[80, 92, 70, 65, 92],\n",
    "        [91, 75, 90, 68, 85],\n",
    "        [86, 76, 42, 72, 88],\n",
    "        [77, 92, 52, 60, 80],\n",
    "        [75, 85, 85, 92, 95],\n",
    "        [96, 90, 95, 81, 72]],\n",
    "\n",
    "       [[85, 95, 90, 66, 93],\n",
    "        [93, 70, 80, 60, 81],\n",
    "        [89, 78, 55, 75, 80],\n",
    "        [80, 94, 59, 72, 90],\n",
    "        [70, 82, 81, 95, 72],\n",
    "        [90, 76, 93, 82, 89]]])"
   ]
  },
  {
   "cell_type": "markdown",
   "metadata": {},
   "source": [
    "#### 답안지 입력란\n",
    "* 아래에 답을 서술하여 주세요\n",
    "* 결과는 `answer7`에 담아주세요"
   ]
  },
  {
   "cell_type": "code",
   "execution_count": null,
   "metadata": {
    "scrolled": true
   },
   "outputs": [],
   "source": []
  },
  {
   "cell_type": "markdown",
   "metadata": {},
   "source": [
    "#### 정답 확인\n",
    "* 정답을 입력한 후, 아래를 실행시키면 정답인지 확인합니다."
   ]
  },
  {
   "cell_type": "code",
   "execution_count": null,
   "metadata": {},
   "outputs": [],
   "source": [
    "from numpy.testing import assert_equal\n",
    "\n",
    "assert 'answer7' in globals(), \"결과를 answer7이라는 변수에 담아주세요!, answer7의 값을 보고 평가합니다.\"\n",
    "assert isinstance(answer7, np.ndarray), \"결과값들을 'numpy array'형식으로 담아주세요\"\n",
    "\n",
    "A = np.array(['재시험', '통과', '통과', '통과', '재시험'], dtype='<U3')\n",
    "\n",
    "assert_equal(A,answer7,err_msg=\"\\n\\n정답은 \\n{}\\n입니다. 코드를 다시 확인해주세요\".format(A))\n",
    "\n",
    "print(\"정답입니다!!!\")"
   ]
  },
  {
   "cell_type": "markdown",
   "metadata": {},
   "source": [
    "#  \n",
    "\n",
    "<hr>\n",
    "<div>\n",
    "    Copyright(c) 2019 by Public AI. All rights reserved.<br>\n",
    "    Writen by PAI, DoYeong Kim ( ka2k@publicai.co.kr )  last updated on 2019/07/12\n",
    "</div>\n",
    "<hr>"
   ]
  }
 ],
 "metadata": {
  "kernelspec": {
   "display_name": "Python 3",
   "language": "python",
   "name": "python3"
  },
  "language_info": {
   "codemirror_mode": {
    "name": "ipython",
    "version": 3
   },
   "file_extension": ".py",
   "mimetype": "text/x-python",
   "name": "python",
   "nbconvert_exporter": "python",
   "pygments_lexer": "ipython3",
   "version": "3.6.8"
  }
 },
 "nbformat": 4,
 "nbformat_minor": 2
}
