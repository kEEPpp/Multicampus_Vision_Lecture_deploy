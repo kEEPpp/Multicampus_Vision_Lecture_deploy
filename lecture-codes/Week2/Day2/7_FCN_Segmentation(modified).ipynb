{
 "cells": [
  {
   "cell_type": "markdown",
   "metadata": {},
   "source": [
    "<i><b>Public AI</b></i>\n",
    "<br>\n",
    "###  &nbsp;&nbsp; **✎&nbsp;&nbsp;Week 2. Convolution Neural Network**\n",
    "# Section 7. Fully Convolutional Network Segmentation(modified)\n"
   ]
  },
  {
   "cell_type": "code",
   "execution_count": null,
   "metadata": {},
   "outputs": [],
   "source": [
    "# If You use in Colab, You Should run this script\n",
    "import os\n",
    "if (not os.path.exists(\"./multicampus_segmentation_generator\") and\n",
    "    not \"multicampus_segmentation_generator\" in os.getcwd()):\n",
    "    !git clone https://github.com/public-ai/multicampus_segmentation_generator.git\n",
    "    os.chdir(\"./multicampus_segmentation_generator\")"
   ]
  },
  {
   "cell_type": "code",
   "execution_count": null,
   "metadata": {
    "colab": {},
    "colab_type": "code",
    "id": "rgT5LzKgdmW1"
   },
   "outputs": [],
   "source": [
    "from tensorflow.keras.layers import Layer, Conv2D, MaxPool2D, Conv2DTranspose, ZeroPadding2D\n",
    "from tensorflow.keras.layers import Input, UpSampling2D, BatchNormalization, Flatten, Dense, Dropout\n",
    "from tensorflow.keras.layers import Softmax, Add\n",
    "from tensorflow.keras.layers import Lambda, concatenate\n",
    "from tensorflow.keras.applications import ResNet50\n",
    "from tensorflow.keras import optimizers\n",
    "import tensorflow.keras.backend as K \n",
    "from tensorflow.keras.models import Model\n",
    "import matplotlib.pyplot as plt \n",
    "from keras.utils import np_utils\n",
    "import numpy as np\n",
    "import tensorflow as tf\n",
    "import cv2\n",
    "import sys \n",
    "sys.path.append('../')\n",
    "from generator import fasion_mnist_generator"
   ]
  },
  {
   "cell_type": "markdown",
   "metadata": {},
   "source": [
    "# Load Dataset"
   ]
  },
  {
   "cell_type": "code",
   "execution_count": null,
   "metadata": {
    "colab": {},
    "colab_type": "code",
    "id": "4BCP4NZDLVjL"
   },
   "outputs": [],
   "source": [
    "(train_images, train_labels), (test_images, test_labels) = fasion_mnist_generator(1000, 10)\n",
    "print('Train Image shape : ', train_images.shape)\n",
    "print('Train Labels shape : ', train_labels.shape)\n",
    "print('Test Image shape : ', test_images.shape)\n",
    "print('Test Labels shape : ', test_labels.shape)"
   ]
  },
  {
   "cell_type": "code",
   "execution_count": null,
   "metadata": {
    "colab": {},
    "colab_type": "code",
    "id": "vxu8-ZQqVT4z"
   },
   "outputs": [],
   "source": [
    "fig, axes = plt.subplots(1,2)\n",
    "fig.set_size_inches((10,10))\n",
    "sample_image = train_images[0]\n",
    "axes[0].imshow(train_images[0])\n",
    "axes[0].set_title('Image')\n",
    "\n",
    "sample_mask = np.argmax(train_labels[0], axis=-1)\n",
    "axes[1].imshow(sample_mask)\n",
    "axes[1].set_title('Label')\n",
    "\n",
    "plt.show()"
   ]
  },
  {
   "cell_type": "markdown",
   "metadata": {},
   "source": [
    "# Model"
   ]
  },
  {
   "cell_type": "markdown",
   "metadata": {},
   "source": [
    "![Imgur](https://i.imgur.com/tp5MGGu.png)"
   ]
  },
  {
   "cell_type": "code",
   "execution_count": null,
   "metadata": {
    "colab": {},
    "colab_type": "code",
    "id": "Cpc0zeRJT6Dh"
   },
   "outputs": [],
   "source": [
    "tf.reset_default_graph()\n",
    "\n",
    "# 위 그림에 만족하는 Convolution Neural Network를 구성하고 모델을 생성해주세요\n",
    "# fix me!"
   ]
  },
  {
   "cell_type": "markdown",
   "metadata": {},
   "source": [
    "# Training"
   ]
  },
  {
   "cell_type": "code",
   "execution_count": null,
   "metadata": {
    "colab": {},
    "colab_type": "code",
    "id": "mXWkhC5YfGKI"
   },
   "outputs": [],
   "source": [
    "# metric \n",
    "def mean_iou(y_true, y_pred):\n",
    "    prec = []\n",
    "    for t in np.arange(0.5, 1.0, 0.05):\n",
    "        y_pred_ = tf.to_int32(y_pred > t)\n",
    "        score, up_opt = tf.metrics.mean_iou(y_true, y_pred_, 2)\n",
    "        K.get_session().run(tf.local_variables_initializer())\n",
    "        with tf.control_dependencies([up_opt]):\n",
    "            score = tf.identity(score)\n",
    "        prec.append(score)\n",
    "    return K.mean(K.stack(prec), axis=0)"
   ]
  },
  {
   "cell_type": "code",
   "execution_count": null,
   "metadata": {},
   "outputs": [],
   "source": [
    "# compile & fitting \n",
    "sgd = optimizers.SGD(lr=0.005, decay=1e-6, momentum=0.9, nesterov=True)\n",
    "model.compile(optimizer=sgd, loss='categorical_crossentropy', metrics=[mean_iou])\n",
    "results = model.fit(train_images/255., train_labels, validation_split=0.1, batch_size=16, epochs=20)"
   ]
  },
  {
   "cell_type": "markdown",
   "metadata": {},
   "source": [
    "# Test "
   ]
  },
  {
   "cell_type": "code",
   "execution_count": null,
   "metadata": {
    "colab": {},
    "colab_type": "code",
    "id": "wsMjhC-dOm_e"
   },
   "outputs": [],
   "source": [
    "pred = model.predict(test_images[:100]/255.)\n",
    "pred_cls = np.argmax(pred, axis=-1)"
   ]
  },
  {
   "cell_type": "code",
   "execution_count": null,
   "metadata": {
    "colab": {},
    "colab_type": "code",
    "id": "AEHwqU9cosUF"
   },
   "outputs": [],
   "source": [
    "fig, axes = plt.subplots(2,10)\n",
    "ognl_axes = np.array(axes)[0, :].flatten()\n",
    "pred_axes = np.array(axes)[1, :].flatten()\n",
    "fig.set_size_inches(30,10)\n",
    "for i in range(10):\n",
    "    ognl_axes[i].imshow(test_images[i])\n",
    "    pred_axes[i].imshow(pred_cls[i] == 0)"
   ]
  },
  {
   "cell_type": "markdown",
   "metadata": {},
   "source": [
    "---\n",
    "⊙ Copyright(c) 2020 by PublicAI. All rights reserved <br>\n",
    "All pictures, codes, writings cannot be copied without permission. <br>\n",
    "Writen by PAI(info@publicai.co.kr) <br>\n",
    "last updated on 2020/01/4 <br>\n",
    "\n",
    "---"
   ]
  }
 ],
 "metadata": {
  "accelerator": "GPU",
  "colab": {
   "name": "FCN_8_by_paper_ConvTranspose.ipynb",
   "private_outputs": true,
   "provenance": []
  },
  "kernelspec": {
   "display_name": "Python 3",
   "language": "python",
   "name": "python3"
  },
  "language_info": {
   "codemirror_mode": {
    "name": "ipython",
    "version": 3
   },
   "file_extension": ".py",
   "mimetype": "text/x-python",
   "name": "python",
   "nbconvert_exporter": "python",
   "pygments_lexer": "ipython3",
   "version": "3.6.8"
  }
 },
 "nbformat": 4,
 "nbformat_minor": 1
}
