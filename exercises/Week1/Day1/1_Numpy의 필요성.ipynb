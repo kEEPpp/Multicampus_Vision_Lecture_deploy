{
 "cells": [
  {
   "cell_type": "markdown",
   "metadata": {},
   "source": [
    "<i><b>Public AI</b></i>\n",
    "<br>\n",
    "###  &nbsp;&nbsp; **✎&nbsp;&nbsp;Week 1. Numpy Basis**\n",
    "# Section 1. Numpy의 필요성\n",
    "\n",
    "### _Objective_\n",
    "+ **Numpy로 배열을 다루기 전에, 우선 List로 배열을 다루는 방법을 복습합니다.**"
   ]
  },
  {
   "cell_type": "markdown",
   "metadata": {},
   "source": [
    "### 예제 데이터) 2012년~2018년 삼성전자 분기별 매출\n",
    "\n",
    "| (단위:조원) | 1분기 | 2분기 | 3분기 | 4분기 |\n",
    "| ------ | ----- | ----- | ----- | ----- |\n",
    "| 2012년 | 45.27 | 47.60 | 52.18 | 56.06 |\n",
    "| 2013년 | 52.87 | 57.46 | 59.08 | 59.28 |\n",
    "| 2014년 | 53.68 | 52.35 | 47.45 | 52.73 |\n",
    "| 2015년 | 47.12 | 48.54 | 51.68 | 53.32 |\n",
    "| 2016년 | 49.78 | 50.94 | 47.82 | 53.33 |\n",
    "| 2017년 | 50.55 | 61.99 | 62.05 | 65.98 |\n",
    "| 2018년 | 60.56 | 58.48 | 65.46 | 59.27 |"
   ]
  },
  {
   "cell_type": "markdown",
   "metadata": {},
   "source": [
    "## 문제 1. 특정 원소 가져오기(1)\n",
    "* List의 indexing을 사용해 삼성전자의 **2016년 3분기 매출**을 가져와주세요.\n",
    "\n",
    "정답 >>> \n",
    "```python\n",
    "47.82\n",
    "```"
   ]
  },
  {
   "cell_type": "code",
   "execution_count": null,
   "metadata": {},
   "outputs": [],
   "source": [
    "# 우선 실행해주세요\n",
    "sales = [\n",
    "    [45.27, 47.60, 52.18, 56.06],\n",
    "    [52.87, 57.46, 59.08, 59.28],\n",
    "    [53.68, 52.35, 47.45, 52.73],\n",
    "    [47.12, 48.54, 51.68, 53.32],\n",
    "    [49.78, 50.94, 47.82, 53.33],\n",
    "    [50.55, 61.99, 62.05, 65.98],\n",
    "    [60.56, 58.48, 65.46, 59.27]\n",
    "]"
   ]
  },
  {
   "cell_type": "markdown",
   "metadata": {},
   "source": [
    "#### 답안지 입력란\n",
    "* 아래에 답을 서술하여 주세요\n",
    "* 결과는 `answer1`에 담아주세요"
   ]
  },
  {
   "cell_type": "code",
   "execution_count": null,
   "metadata": {},
   "outputs": [],
   "source": []
  },
  {
   "cell_type": "markdown",
   "metadata": {},
   "source": [
    "#### 정답 확인\n",
    "* 정답을 입력한 후, 아래를 실행시키면 정답인지 확인합니다."
   ]
  },
  {
   "cell_type": "code",
   "execution_count": null,
   "metadata": {
    "scrolled": true
   },
   "outputs": [],
   "source": [
    "assert 'answer1' in globals(), \"결과를 answer1이라는 변수에 담아주세요!, answer1의 값을 보고 평가합니다.\"\n",
    "\n",
    "if (answer1 == 47.82):\n",
    "    print(\"정답입니다!!!!\")\n",
    "else:\n",
    "    raise ValueError(\"정답은 47.82가 나와야 합니다. 코드를 다시 확인해 주세요!\")"
   ]
  },
  {
   "cell_type": "markdown",
   "metadata": {},
   "source": [
    "## 문제 2. 특정 원소 가져오기(2)\n",
    "* List의 indexing을 사용해 삼성전자의 **짝수년 1,3분기 매출**을 가져와주세요.\n",
    "\n",
    "정답 >>> \n",
    "```python\n",
    "[[45.27, 52.18], [53.68, 47.45], \n",
    "[49.78, 47.82], [60.56, 65.46]]\n",
    "```"
   ]
  },
  {
   "cell_type": "code",
   "execution_count": null,
   "metadata": {},
   "outputs": [],
   "source": [
    "# 우선 실행해주세요\n",
    "sales = [\n",
    "    [45.27, 47.60, 52.18, 56.06],\n",
    "    [52.87, 57.46, 59.08, 59.28],\n",
    "    [53.68, 52.35, 47.45, 52.73],\n",
    "    [47.12, 48.54, 51.68, 53.32],\n",
    "    [49.78, 50.94, 47.82, 53.33],\n",
    "    [50.55, 61.99, 62.05, 65.98],\n",
    "    [60.56, 58.48, 65.46, 59.27]\n",
    "]"
   ]
  },
  {
   "cell_type": "markdown",
   "metadata": {},
   "source": [
    "#### 답안지 입력란\n",
    "* 아래에 답을 서술하여 주세요\n",
    "* 결과는 `answer2`에 담아주세요"
   ]
  },
  {
   "cell_type": "code",
   "execution_count": null,
   "metadata": {},
   "outputs": [],
   "source": []
  },
  {
   "cell_type": "markdown",
   "metadata": {},
   "source": [
    "#### 정답 확인\n",
    "* 정답을 입력한 후, 아래를 실행시키면 정답인지 확인합니다."
   ]
  },
  {
   "cell_type": "code",
   "execution_count": null,
   "metadata": {},
   "outputs": [],
   "source": [
    "from numpy.testing import assert_array_almost_equal\n",
    "\n",
    "assert 'answer2' in globals(), \"결과를 answer2라는 변수에 담아주세요!, answer2의 값을 보고 평가합니다.\"\n",
    "\n",
    "A = [[45.27, 52.18], [53.68, 47.45], [49.78, 47.82], [60.56, 65.46]]\n",
    "\n",
    "assert_array_almost_equal(A,answer2,decimal=2,\n",
    "                          err_msg=\"\\n\\n정답은 \\n{}\\n입니다. 코드를 다시 확인해 주세요\".format(A))\n",
    "\n",
    "print(\"정답입니다!!!\")"
   ]
  },
  {
   "cell_type": "markdown",
   "metadata": {},
   "source": [
    "## 문제 3. 특정 원소 가져오기(3)\n",
    "* List의 indexing을 사용해 삼성전자의 **각 연도별 4분기 매출**을 가져와주세요.\n",
    "\n",
    "정답 >>> \n",
    "```python\n",
    "[56.06, 59.28, 52.73, 53.32, 53.33, 65.98, 59.27]\n",
    "```"
   ]
  },
  {
   "cell_type": "code",
   "execution_count": null,
   "metadata": {},
   "outputs": [],
   "source": [
    "# 우선 실행해주세요\n",
    "sales = [\n",
    "    [45.27, 47.60, 52.18, 56.06],\n",
    "    [52.87, 57.46, 59.08, 59.28],\n",
    "    [53.68, 52.35, 47.45, 52.73],\n",
    "    [47.12, 48.54, 51.68, 53.32],\n",
    "    [49.78, 50.94, 47.82, 53.33],\n",
    "    [50.55, 61.99, 62.05, 65.98],\n",
    "    [60.56, 58.48, 65.46, 59.27]\n",
    "]"
   ]
  },
  {
   "cell_type": "markdown",
   "metadata": {},
   "source": [
    "#### 답안지 입력란\n",
    "* 아래에 답을 서술하여 주세요\n",
    "* 결과는 `answer3`에 담아주세요"
   ]
  },
  {
   "cell_type": "code",
   "execution_count": null,
   "metadata": {},
   "outputs": [],
   "source": []
  },
  {
   "cell_type": "markdown",
   "metadata": {},
   "source": [
    "#### 정답 확인\n",
    "* 정답을 입력한 후, 아래를 실행시키면 정답인지 확인합니다."
   ]
  },
  {
   "cell_type": "code",
   "execution_count": null,
   "metadata": {},
   "outputs": [],
   "source": [
    "from numpy.testing import assert_array_almost_equal\n",
    "\n",
    "assert 'answer3' in globals(), \"결과를 answer3이라는 변수에 담아주세요!, answer3의 값을 보고 평가합니다.\"\n",
    "\n",
    "A = [56.06, 59.28, 52.73, 53.32, 53.33, 65.98, 59.27]\n",
    "\n",
    "assert_array_almost_equal(A,answer3,decimal=2,\n",
    "                          err_msg=\"\\n\\n정답은 \\n{}\\n입니다. 코드를 다시 확인해 주세요\".format(A))\n",
    "\n",
    "print(\"정답입니다!!!\")"
   ]
  },
  {
   "cell_type": "markdown",
   "metadata": {},
   "source": [
    "## 문제 4. 모든 매출의 평균\n",
    "* 삼성전자의 **모든 매출의 평균**을 가져와주세요.\n",
    "\n",
    "정답 >>> \n",
    "```python\n",
    "54.388571428571424\n",
    "```"
   ]
  },
  {
   "cell_type": "code",
   "execution_count": null,
   "metadata": {},
   "outputs": [],
   "source": [
    "# 우선 실행해주세요\n",
    "sales = [\n",
    "    [45.27, 47.60, 52.18, 56.06],\n",
    "    [52.87, 57.46, 59.08, 59.28],\n",
    "    [53.68, 52.35, 47.45, 52.73],\n",
    "    [47.12, 48.54, 51.68, 53.32],\n",
    "    [49.78, 50.94, 47.82, 53.33],\n",
    "    [50.55, 61.99, 62.05, 65.98],\n",
    "    [60.56, 58.48, 65.46, 59.27]\n",
    "]"
   ]
  },
  {
   "cell_type": "markdown",
   "metadata": {},
   "source": [
    "#### 답안지 입력란\n",
    "* 아래에 답을 서술하여 주세요\n",
    "* 결과는 `answer4`에 담아주세요"
   ]
  },
  {
   "cell_type": "code",
   "execution_count": null,
   "metadata": {},
   "outputs": [],
   "source": []
  },
  {
   "cell_type": "markdown",
   "metadata": {},
   "source": [
    "#### 정답 확인\n",
    "* 정답을 입력한 후, 아래를 실행시키면 정답인지 확인합니다."
   ]
  },
  {
   "cell_type": "code",
   "execution_count": null,
   "metadata": {
    "scrolled": false
   },
   "outputs": [],
   "source": [
    "assert 'answer4' in globals(), \"결과를 answer4라는 변수에 담아주세요!, answer4의 값을 보고 평가합니다.\"\n",
    "\n",
    "if (round(answer4, 5) == round(54.388571428571424, 5)):\n",
    "    print(\"정답입니다!!!!\")\n",
    "else:\n",
    "    raise ValueError(\"정답은 54.388571428571424가 나와야 합니다. 코드를 다시 확인해 주세요!\")"
   ]
  },
  {
   "cell_type": "markdown",
   "metadata": {},
   "source": [
    "## 문제 5. 연도별 최대 매출\n",
    "* 각 연도별로 최대 매출이 얼마인지 표로 만들어주세요\n",
    "\n",
    "정답 >>> \n",
    "```python\n",
    "[56.06, 59.28, 53.68, 53.32, 53.33, 65.98, 65.46]\n",
    "```"
   ]
  },
  {
   "cell_type": "code",
   "execution_count": null,
   "metadata": {},
   "outputs": [],
   "source": [
    "# 우선 실행해주세요\n",
    "sales = [\n",
    "    [45.27, 47.60, 52.18, 56.06],\n",
    "    [52.87, 57.46, 59.08, 59.28],\n",
    "    [53.68, 52.35, 47.45, 52.73],\n",
    "    [47.12, 48.54, 51.68, 53.32],\n",
    "    [49.78, 50.94, 47.82, 53.33],\n",
    "    [50.55, 61.99, 62.05, 65.98],\n",
    "    [60.56, 58.48, 65.46, 59.27]\n",
    "]"
   ]
  },
  {
   "cell_type": "markdown",
   "metadata": {},
   "source": [
    "#### 답안지 입력란\n",
    "* 아래에 답을 서술하여 주세요\n",
    "* 결과는 `answer5`에 담아주세요"
   ]
  },
  {
   "cell_type": "code",
   "execution_count": null,
   "metadata": {},
   "outputs": [],
   "source": []
  },
  {
   "cell_type": "markdown",
   "metadata": {},
   "source": [
    "#### 정답 확인\n",
    "* 정답을 입력한 후, 아래를 실행시키면 정답인지 확인합니다."
   ]
  },
  {
   "cell_type": "code",
   "execution_count": null,
   "metadata": {},
   "outputs": [],
   "source": [
    "from numpy.testing import assert_array_almost_equal\n",
    "\n",
    "assert 'answer5' in globals(), \"결과를 answer5라는 변수에 담아주세요!, answer5의 값을 보고 평가합니다.\"\n",
    "\n",
    "A = [56.06, 59.28, 53.68, 53.32, 53.33, 65.98, 65.46]\n",
    "\n",
    "assert_array_almost_equal(A,answer5,decimal=2,\n",
    "                          err_msg=\"\\n\\n정답은 \\n{}\\n입니다. 코드를 다시 확인해주세요\".format(A))\n",
    "\n",
    "print(\"정답입니다!!!\")"
   ]
  },
  {
   "cell_type": "markdown",
   "metadata": {},
   "source": [
    "## 문제 6. 평균 대비 매출\n",
    "* 전체 매출의 평균과 각 매출이 얼마나 차이나는지 표로 만들어주세요\n",
    "    \n",
    "    `평균 대비 매출` = `매출` - `전체 매출의 평균`\n",
    "\n",
    "정답 >>> \n",
    "```python\n",
    "[[-9.118571428571421, -6.788571428571423, -2.2085714285714246, 1.671428571428578],\n",
    " [-1.518571428571427, 3.0714285714285765, 4.691428571428574, 4.891428571428577],\n",
    " [-0.7085714285714246, -2.038571428571423, -6.9385714285714215, -1.6585714285714275],\n",
    " [-7.268571428571427, -5.848571428571425, -2.7085714285714246, -1.068571428571424],\n",
    " [-4.608571428571423, -3.4485714285714266, -6.568571428571424, -1.058571428571426],\n",
    " [-3.838571428571427, 7.601428571428578, 7.661428571428573, 11.59142857142858],\n",
    " [6.171428571428578, 4.0914285714285725, 11.07142857142857, 4.881428571428579]]\n",
    "```"
   ]
  },
  {
   "cell_type": "code",
   "execution_count": null,
   "metadata": {},
   "outputs": [],
   "source": [
    "# 우선 실행해주세요\n",
    "sales = [\n",
    "    [45.27, 47.60, 52.18, 56.06],\n",
    "    [52.87, 57.46, 59.08, 59.28],\n",
    "    [53.68, 52.35, 47.45, 52.73],\n",
    "    [47.12, 48.54, 51.68, 53.32],\n",
    "    [49.78, 50.94, 47.82, 53.33],\n",
    "    [50.55, 61.99, 62.05, 65.98],\n",
    "    [60.56, 58.48, 65.46, 59.27]\n",
    "]"
   ]
  },
  {
   "cell_type": "markdown",
   "metadata": {},
   "source": [
    "#### 답안지 입력란\n",
    "* 아래에 답을 서술하여 주세요\n",
    "* 결과는 `answer6`에 담아주세요"
   ]
  },
  {
   "cell_type": "code",
   "execution_count": null,
   "metadata": {},
   "outputs": [],
   "source": []
  },
  {
   "cell_type": "markdown",
   "metadata": {},
   "source": [
    "#### 정답 확인\n",
    "* 정답을 입력한 후, 아래를 실행시키면 정답인지 확인합니다."
   ]
  },
  {
   "cell_type": "code",
   "execution_count": null,
   "metadata": {},
   "outputs": [],
   "source": [
    "from numpy.testing import assert_array_almost_equal\n",
    "\n",
    "assert 'answer6' in globals(), \"결과를 answer6이라는 변수에 담아주세요!, answer6의 값을 보고 평가합니다.\"\n",
    "\n",
    "A = [[-9.118571428571421, -6.788571428571423, -2.2085714285714246, 1.671428571428578],\n",
    " [-1.518571428571427, 3.0714285714285765, 4.691428571428574, 4.891428571428577],\n",
    " [-0.7085714285714246, -2.038571428571423, -6.9385714285714215, -1.6585714285714275],\n",
    " [-7.268571428571427, -5.848571428571425, -2.7085714285714246, -1.068571428571424],\n",
    " [-4.608571428571423, -3.4485714285714266, -6.568571428571424, -1.058571428571426],\n",
    " [-3.838571428571427, 7.601428571428578, 7.661428571428573, 11.59142857142858],\n",
    " [6.171428571428578, 4.0914285714285725, 11.07142857142857, 4.881428571428579]]\n",
    "assert_array_almost_equal(A,answer6,decimal=2,\n",
    "                          err_msg=\"\\n\\n정답은 \\n{}\\n입니다. 코드를 다시 확인해주세요\".format(A))\n",
    "\n",
    "print(\"정답입니다!!!\")"
   ]
  },
  {
   "cell_type": "markdown",
   "metadata": {},
   "source": [
    "## 문제 7. 전반기 대비 후반기 매출\n",
    "* 각 연도별로 `전반기`(1분기, 2분기)에 비해 `후반기`(3분기, 4분기)의 매출이 어떻게 변했는지를 표로 만들어주세요\n",
    "\n",
    "    `전반기 대비 후반기 매출` = `후반기 총 매출` - `전반기 총 매출`\n",
    "\n",
    "정답 >>> \n",
    "```python\n",
    "[15.370000000000005,\n",
    " 8.030000000000001,\n",
    " -5.849999999999994,\n",
    " 9.340000000000003,\n",
    " 0.4300000000000068,\n",
    " 15.490000000000009,\n",
    " 5.689999999999998]\n",
    "```\n",
    "\n",
    "* 힌트 : 전반기에 비해 **후반기의 매출**이 어떻게 변했는지가 문제입니다."
   ]
  },
  {
   "cell_type": "code",
   "execution_count": null,
   "metadata": {},
   "outputs": [],
   "source": [
    "# 우선 실행해주세요\n",
    "sales = [\n",
    "    [45.27, 47.60, 52.18, 56.06],\n",
    "    [52.87, 57.46, 59.08, 59.28],\n",
    "    [53.68, 52.35, 47.45, 52.73],\n",
    "    [47.12, 48.54, 51.68, 53.32],\n",
    "    [49.78, 50.94, 47.82, 53.33],\n",
    "    [50.55, 61.99, 62.05, 65.98],\n",
    "    [60.56, 58.48, 65.46, 59.27]\n",
    "]"
   ]
  },
  {
   "cell_type": "markdown",
   "metadata": {},
   "source": [
    "#### 답안지 입력란\n",
    "* 아래에 답을 서술하여 주세요\n",
    "* 결과는 `answer7`에 담아주세요"
   ]
  },
  {
   "cell_type": "code",
   "execution_count": null,
   "metadata": {},
   "outputs": [],
   "source": []
  },
  {
   "cell_type": "markdown",
   "metadata": {},
   "source": [
    "#### 정답 확인\n",
    "* 정답을 입력한 후, 아래를 실행시키면 정답인지 확인합니다."
   ]
  },
  {
   "cell_type": "code",
   "execution_count": null,
   "metadata": {},
   "outputs": [],
   "source": [
    "from numpy.testing import assert_array_almost_equal\n",
    "\n",
    "assert 'answer7' in globals(), \"결과를 answer7이라는 변수에 담아주세요!, answer7의 값을 보고 평가합니다.\"\n",
    "\n",
    "A = [15.370000000000005,\n",
    " 8.030000000000001,\n",
    " -5.849999999999994,\n",
    " 9.340000000000003,\n",
    " 0.4300000000000068,\n",
    " 15.490000000000009,\n",
    " 5.689999999999998]\n",
    "\n",
    "assert_array_almost_equal(A,answer7,decimal=2,\n",
    "                          err_msg=\"\\n\\n정답은 \\n{}\\n입니다. 코드를 다시 확인해주세요\".format(A))\n",
    "\n",
    "print(\"정답입니다!!!\")"
   ]
  },
  {
   "cell_type": "markdown",
   "metadata": {},
   "source": [
    "#  \n",
    "\n",
    "<hr>\n",
    "<div>\n",
    "    Copyright(c) 2019 by Public AI. All rights reserved.<br>\n",
    "    Writen by PAI, DoYeong Kim ( ka2k@publicai.co.kr )  last updated on 2019/07/12\n",
    "</div>\n",
    "<hr>"
   ]
  }
 ],
 "metadata": {
  "kernelspec": {
   "display_name": "Python 3",
   "language": "python",
   "name": "python3"
  },
  "language_info": {
   "codemirror_mode": {
    "name": "ipython",
    "version": 3
   },
   "file_extension": ".py",
   "mimetype": "text/x-python",
   "name": "python",
   "nbconvert_exporter": "python",
   "pygments_lexer": "ipython3",
   "version": "3.6.8"
  }
 },
 "nbformat": 4,
 "nbformat_minor": 2
}
