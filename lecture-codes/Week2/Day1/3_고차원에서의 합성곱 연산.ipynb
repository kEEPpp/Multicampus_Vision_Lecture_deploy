{
 "cells": [
  {
   "cell_type": "markdown",
   "metadata": {},
   "source": [
    "<i><b>Public AI</b></i>\n",
    "<br>\n",
    "\n",
    "###  &nbsp;&nbsp; **✎&nbsp;&nbsp;Week 2. CNN Basis**\n",
    "# Section 3. 고차원에서의 합성곱 연산\n",
    "\n",
    "### _Objective_\n",
    "1. 대부분의 합성곱 연산은 4차원의 데이터를 다룹니다. 이를 어떻게 연산하는 지를 배워봅니다. <br>\n",
    "2. 합성곱 연산의 연산량을 줄여주는 풀링 연산에 대해 배워봅니다.<br> \n",
    "  \n"
   ]
  },
  {
   "cell_type": "code",
   "execution_count": 5,
   "metadata": {},
   "outputs": [],
   "source": [
    "%matplotlib inline\n",
    "import matplotlib.pyplot as plt\n",
    "import numpy as np\n",
    "import tensorflow as tf\n",
    "import numpy as np\n",
    "from tensorflow.keras.layers import Input, Conv2D\n",
    "from tensorflow.keras.models import Model"
   ]
  },
  {
   "cell_type": "markdown",
   "metadata": {},
   "source": [
    "<br><br>\n",
    "\n",
    "# \\[ 1. 컬러 이미지 데이터(3차원) 합성곱 연산 \\]\n",
    "\n",
    "----\n",
    "\n",
    "----\n",
    "\n",
    "> *이전까지는 2차원 이미지인 흑백 이미지를 다루는 합성곱 연산을 살펴봤습니다.*<br>\n",
    "> 이번 시간에는 3차원 이상의 이미지를 Convolution 하는 방법을 알아 보겠습니다. "
   ]
  },
  {
   "cell_type": "markdown",
   "metadata": {},
   "source": [
    "## 1. 하나의 필터로 3차원 데이터 합성곱 진행하기\n",
    "---\n",
    "\n",
    "* 채널 방향으로 입력 데이터와 필터의 합성곱 연산을 수행하고, 그 결과 데이터를 더해 하나의 출력값으로 표현합니다.\n",
    "* 아래의 3차원 데이터를 통해, 합성곱 연산이 어떤 식으로 진행되는지 살펴보도록 하겠습니다."
   ]
  },
  {
   "cell_type": "markdown",
   "metadata": {},
   "source": [
    "### (1) 3차원 데이터 구성하기\n",
    "\n",
    "아래와 같이 3차원으로 구성된 입력 행렬을 구성하였습니다.<br>"
   ]
  },
  {
   "cell_type": "code",
   "execution_count": 12,
   "metadata": {},
   "outputs": [
    {
     "name": "stdout",
     "output_type": "stream",
     "text": [
      "입력값의 형태 (H, W, C) :(4,4,3)\n"
     ]
    }
   ],
   "source": [
    "in0 = np.array([\n",
    "    [1,4,2,0],\n",
    "    [2,3,1,0],\n",
    "    [3,1,2,3],\n",
    "    [4,3,2,1]\n",
    "])\n",
    "in1 = np.array([\n",
    "    [1,7,2,1],\n",
    "    [3,2,1,9],\n",
    "    [0,1,5,1],\n",
    "    [4,6,2,4]\n",
    "])\n",
    "in2 = np.array([\n",
    "    [1,5,2,1],\n",
    "    [3,2,1,9],\n",
    "    [0,1,3,1],\n",
    "    [4,6,2,7]\n",
    "])\n",
    "color_input = np.stack([in0, in1, in2],axis=-1)\n",
    "print(\"입력값의 형태 (H, W, C) :({},{},{})\".format(*color_input.shape))"
   ]
  },
  {
   "cell_type": "markdown",
   "metadata": {},
   "source": [
    "### (2) Filter 구성하기\n",
    "\n",
    "여기서 중요한 것은 입력값의 채널 수(C)와 필터의 채널 수(C)가 동일해야 한다는 것입니다.<br>\n",
    "입력값의 채널에 따라 채널 별 필터가 존재하고, 각 채널 별로 합성곱 연산을 진행한 후, 하나의 값으로 출력됩니다.<br>"
   ]
  },
  {
   "cell_type": "code",
   "execution_count": 14,
   "metadata": {},
   "outputs": [
    {
     "name": "stdout",
     "output_type": "stream",
     "text": [
      "Filter의 형태 (H, W, C) : (3,3,3)\n"
     ]
    }
   ],
   "source": [
    "f0 = np.array([\n",
    "    [2,0,1],\n",
    "    [0,1,2],\n",
    "    [1,0,2]\n",
    "])\n",
    "f1 = np.array([\n",
    "    [0,1,3],\n",
    "    [2,1,3],\n",
    "    [4,1,2]\n",
    "])\n",
    "f2 = np.array([\n",
    "    [3,2,1],\n",
    "    [2,2,3],\n",
    "    [0,0,1]\n",
    "])\n",
    "filters = np.stack([f0,f1,f2],axis=-1)\n",
    "print(\"Filter의 형태 (H, W, C) : ({},{},{})\".format(*filters.shape))"
   ]
  },
  {
   "cell_type": "markdown",
   "metadata": {},
   "source": [
    "### (3) 합성곱 연산 진행하기\n",
    "\n",
    "padding은 valid, stride은 1로 두고 연산하면 아래와 같습니다.\n",
    "![Imgur](https://i.imgur.com/ovXS3UT.png)"
   ]
  },
  {
   "cell_type": "code",
   "execution_count": 17,
   "metadata": {},
   "outputs": [
    {
     "name": "stdout",
     "output_type": "stream",
     "text": [
      "(0,0) 번째 값 : 82\n",
      "(0,1) 번째 값 : 118\n",
      "(1,0) 번째 값 : 92\n",
      "(1,1) 번째 값 : 126\n"
     ]
    },
    {
     "data": {
      "text/plain": [
       "array([[ 82., 118.],\n",
       "       [ 92., 126.]])"
      ]
     },
     "execution_count": 17,
     "metadata": {},
     "output_type": "execute_result"
    }
   ],
   "source": [
    "outputs = np.zeros([2,2])\n",
    "for i in range(0,2):\n",
    "    for j in range(0,2):\n",
    "        result = np.sum(color_input[i:i+3,j:j+3] * filters)\n",
    "        outputs[i,j] = result\n",
    "        print(\"({},{}) 번째 값 : {}\".format(i,j,result))\n",
    "outputs"
   ]
  },
  {
   "cell_type": "markdown",
   "metadata": {},
   "source": [
    "### (4) Keras 로 합성곱 연산 진행하기 "
   ]
  },
  {
   "cell_type": "code",
   "execution_count": 21,
   "metadata": {},
   "outputs": [
    {
     "data": {
      "text/plain": [
       "array([[[[ 82.],\n",
       "         [118.]],\n",
       "\n",
       "        [[ 92.],\n",
       "         [126.]]]], dtype=float32)"
      ]
     },
     "execution_count": 21,
     "metadata": {},
     "output_type": "execute_result"
    }
   ],
   "source": [
    "inputs_tf = Input(shape=(4,4,3))\n",
    "conv_0 = Conv2D(filters=1, kernel_size=(3,3), strides=(1,1), \n",
    "                padding='valid', name='conv_0', use_bias=False)(inputs)\n",
    "model = Model(inputs, conv_0)\n",
    "res_filter = filters.reshape(3,3,3,1)\n",
    "model.get_layer('conv_0').set_weights([res_filter])\n",
    "\n",
    "model.predict(color_input.reshape(1,4,4,3))"
   ]
  },
  {
   "cell_type": "markdown",
   "metadata": {},
   "source": [
    "### (5) 블록으로 시각화하기\n",
    "\n",
    "블록으로 시각화한다면, 아래와 같이 나타낼 수 있습니다.\n",
    "\n",
    "![Imgur](https://i.imgur.com/uNUYhhx.png)\n",
    "\n",
    "* 입력 특징맵의 형태 : $(h_{in},w_{in},c_{in})$\n",
    "* 필터의 형태 : $(h_f,w_f,c_{in})$\n",
    "* 출력 특징맵의 형태 : $(h_{out},w_{out})$\n",
    "\n",
    "출력의 형태는 이전에 배운 것과 마찬가지로<br>\n",
    "필터의 크기, Stride, padding으로 결정됩니다."
   ]
  },
  {
   "cell_type": "markdown",
   "metadata": {},
   "source": [
    "## 2. 복수개의 필터로 3차원 데이터 합성곱 진행하기\n",
    "---\n",
    "\n",
    "* 하나의 Filter은 하나의 특징을 추출할 수 있습니다. <br>\n",
    "* 영상을 파악하기 위해서는 복수개의 특징을 함께 추출해, 판단해야 합니다.<br>\n",
    "* 복수개의 필터는 아래와 같이 진행됩니다."
   ]
  },
  {
   "cell_type": "markdown",
   "metadata": {},
   "source": [
    "### (1) Filter 구성하기\n",
    "\n",
    "하나의 필터는 $(h_f,w_f,c_{in})$의 형태로 구성됩니다.<br>\n",
    "이러한 필터들을 복수개로 구성해 쌓으면 아래와 같습니다."
   ]
  },
  {
   "cell_type": "code",
   "execution_count": 22,
   "metadata": {},
   "outputs": [
    {
     "name": "stdout",
     "output_type": "stream",
     "text": [
      "Filter의 형태 (N, H, W, C) : (2,3,3,3)\n"
     ]
    }
   ],
   "source": [
    "filter_1 = np.array([\n",
    "    [[2,0,1],[0,1,2],[1,0,2]],\n",
    "    [[0,1,3],[2,1,3],[4,1,2]],\n",
    "    [[3,2,1],[2,2,3],[0,0,1]]])\n",
    "filter_2 = np.array([\n",
    "    [[4,0,1],[0,0,4],[0,3,2]],\n",
    "    [[6,1,2],[3,5,1],[2,3,2]],\n",
    "    [[1,4,1],[1,3,1],[2,1,0]]])\n",
    "\n",
    "    \n",
    "filters = np.stack([filter_1,filter_2],axis=0)\n",
    "print(\"Filter의 형태 (N, H, W, C) : ({},{},{},{})\".format(*filters.shape))"
   ]
  },
  {
   "cell_type": "code",
   "execution_count": 27,
   "metadata": {},
   "outputs": [
    {
     "data": {
      "text/plain": [
       "array([[[ 81., 115.],\n",
       "        [ 64., 204.]],\n",
       "\n",
       "       [[ 89., 151.],\n",
       "        [ 76., 167.]]])"
      ]
     },
     "execution_count": 27,
     "metadata": {},
     "output_type": "execute_result"
    }
   ],
   "source": [
    "outputs = np.zeros([2,2,2])\n",
    "for i in range(0,2):\n",
    "    for j in range(0,2):\n",
    "        for k in range(0,2):\n",
    "            result = np.sum(inputs[i:i+3,j:j+3,k] * filters[k])\n",
    "            outputs[i,j,k] = result\n",
    "outputs"
   ]
  },
  {
   "cell_type": "markdown",
   "metadata": {},
   "source": [
    "### (2) Keras 로 합성곱 연산 진행하기 "
   ]
  },
  {
   "cell_type": "markdown",
   "metadata": {},
   "source": [
    "![Imgur](https://i.imgur.com/Q1wXw64.png)"
   ]
  },
  {
   "cell_type": "code",
   "execution_count": null,
   "metadata": {},
   "outputs": [],
   "source": [
    "inputs_tf = Input(shape=(4,4,3))\n",
    "conv_0 = Conv2D(filters=1, kernel_size=(3,3), strides=(1,1), \n",
    "                padding='valid', name='conv_0', use_bias=False)(inputs)\n",
    "model = Model(inputs, conv_0)\n",
    "res_filter = filters.reshape(3,3,3,1)\n",
    "model.get_layer('conv_0').set_weights([res_filter])\n",
    "\n",
    "model.predict(color_input.reshape(1,4,4,3))"
   ]
  },
  {
   "cell_type": "markdown",
   "metadata": {},
   "source": [
    "### (3) 블록으로 시각화하기\n",
    "\n",
    "블록으로 시각화한다면, 아래와 같이 나타낼 수 있습니다.\n",
    "\n",
    "\n",
    "![Imgur](https://i.imgur.com/ONua9B4.png)\n",
    "\n",
    "\n"
   ]
  },
  {
   "cell_type": "markdown",
   "metadata": {},
   "source": [
    "* 입력 특징맵의 형태 : $(h_{in},w_{in},c_{in})$\n",
    "* 필터의 형태 : $(n_f,h_f,w_f,c_{in})$\n",
    "* 출력 특징맵의 형태 : $(h_{out},w_{out},n_f)$"
   ]
  },
  {
   "cell_type": "markdown",
   "metadata": {},
   "source": [
    "## 3. 복수개의 필터로 배치단위 데이터 합성곱 진행하기\n",
    "---\n",
    "\n",
    "* 신경망을 학습시킬 때에는 단일 데이터보다 보통 배치 단위로 처리합니다.<br>\n",
    "* 배치 단위로 진행될 경우 어떤 식으로 데이터의 형태가 변화하는지를 파악하는데 초점을 두도록 하겠습니다.\n",
    "\n",
    "![Imgur](https://i.imgur.com/BlvHzCu.png)"
   ]
  },
  {
   "cell_type": "markdown",
   "metadata": {},
   "source": [
    "* 입력 특징맵의 형태 : $(n_{batch}, h_{in},w_{in},c_{in})$\n",
    "* 필터의 형태 : $(n_f,h_f,w_f,c_{in})$\n",
    "* 출력 특징맵의 형태 : $(n_{batch}, h_{out},w_{out},n_f)$"
   ]
  },
  {
   "cell_type": "markdown",
   "metadata": {},
   "source": [
    "---\n",
    "⊙ Copyright(c) 2020 by PublicAI. All rights reserved <br>\n",
    "All pictures, codes, writings cannot be copied without permission. <br>\n",
    "Writen by PAI(info@publicai.co.kr) <br>\n",
    "last updated on 2020/01/4 <br>\n",
    "\n",
    "---"
   ]
  },
  {
   "cell_type": "markdown",
   "metadata": {},
   "source": [
    "<br><br>\n",
    "\n",
    "# \\[ 2. 풀링 연산이란 \\]\n",
    "\n",
    "----\n",
    "\n",
    "----\n",
    "\n",
    "> *풀링은 세로,가로 방향의 공간을 줄이는 연산입니다.* <br>\n"
   ]
  },
  {
   "cell_type": "markdown",
   "metadata": {},
   "source": [
    "## 1. 2차원 데이터로 풀링 연산 수행하기\n",
    "---\n",
    "\n",
    "* 아래의 2차원 데이터를 통해, 풀링 연산이 어떤 식으로 진행되는지 살펴보도록 하겠습니다."
   ]
  },
  {
   "cell_type": "markdown",
   "metadata": {},
   "source": [
    "### (1) 2차원 데이터 구성하기"
   ]
  },
  {
   "cell_type": "code",
   "execution_count": 29,
   "metadata": {},
   "outputs": [
    {
     "data": {
      "text/plain": [
       "array([[1, 3, 2, 1],\n",
       "       [2, 9, 1, 1],\n",
       "       [1, 3, 2, 3],\n",
       "       [2, 6, 1, 2]])"
      ]
     },
     "execution_count": 29,
     "metadata": {},
     "output_type": "execute_result"
    }
   ],
   "source": [
    "values = np.array([\n",
    "    [1,3,2,1],\n",
    "    [2,9,1,1],\n",
    "    [1,3,2,3],\n",
    "    [2,6,1,2]\n",
    "])\n",
    "values"
   ]
  },
  {
   "cell_type": "markdown",
   "metadata": {},
   "source": [
    "### (2) 풀링 연산 수행하기\n",
    "\n",
    "아래는 2x2 Max Pooling을 stride 2로 처리하는 결과입니다.<br> \n",
    "최대 풀링은 합성곱 연산와 같이, 특정 패치 단위로 입력값을 스캔하면서<br>\n",
    "처리하게 됩니다."
   ]
  },
  {
   "cell_type": "code",
   "execution_count": 32,
   "metadata": {},
   "outputs": [
    {
     "data": {
      "text/plain": [
       "array([[9., 2.],\n",
       "       [6., 3.]])"
      ]
     },
     "execution_count": 32,
     "metadata": {},
     "output_type": "execute_result"
    }
   ],
   "source": [
    "filters = 2\n",
    "strides = 2\n",
    "result = np.zeros([2,2])\n",
    "for i in range(0,values.shape[0],strides):\n",
    "    for j in range(0,values.shape[1],strides):\n",
    "        patch = values[i:i+filters,j:j+strides]\n",
    "        result[i//2,j//2] = np.max(patch)\n",
    "result"
   ]
  },
  {
   "cell_type": "markdown",
   "metadata": {},
   "source": [
    "Pooling Layer는 이미지에서 Sampling하는 것과 효과와 동일합니다.<br>\n",
    "이렇게 될 경우, 이미지가 약간 이동하더라도 신경망이 영향을 덜 받게 됩니다. <br>\n",
    "\n",
    "이는 위치 불변성(Location Invariance)이라는 이슈로,<br> \n",
    "모델이 견고하게 되는데에 중요한 특성 중 하나입니다."
   ]
  },
  {
   "cell_type": "markdown",
   "metadata": {},
   "source": [
    "## 2. 3차원 데이터로 풀링 연산 수행하기\n",
    "---\n",
    "\n",
    "* 합성곱 연산과 마찬가지로, 각 채널 별로 독립적으로 풀링 연산이 수행되게 됩니다.<br>"
   ]
  },
  {
   "cell_type": "markdown",
   "metadata": {},
   "source": [
    "### (1) 3차원 데이터 구성하기"
   ]
  },
  {
   "cell_type": "code",
   "execution_count": 34,
   "metadata": {},
   "outputs": [
    {
     "name": "stdout",
     "output_type": "stream",
     "text": [
      "입력값의 형태 (H, W, C) :(4,4,3)\n"
     ]
    }
   ],
   "source": [
    "in0 = np.array([\n",
    "    [1,4,2,0],\n",
    "    [2,3,1,0],\n",
    "    [3,1,2,3],\n",
    "    [4,3,2,1]\n",
    "])\n",
    "in1 = np.array([\n",
    "    [1,7,2,1],\n",
    "    [3,2,1,9],\n",
    "    [0,1,5,1],\n",
    "    [4,6,2,4]\n",
    "])\n",
    "in2 = np.array([\n",
    "    [1,5,2,1],\n",
    "    [3,2,1,9],\n",
    "    [0,1,3,1],\n",
    "    [4,6,2,7]\n",
    "])\n",
    "inputs = np.stack([in0, in1, in2],axis=-1)\n",
    "print(\"입력값의 형태 (H, W, C) :({},{},{})\".format(*inputs.shape))"
   ]
  },
  {
   "cell_type": "code",
   "execution_count": 39,
   "metadata": {},
   "outputs": [
    {
     "name": "stdout",
     "output_type": "stream",
     "text": [
      "출력값의 형태 (H, W, C) :(2,2,3)\n"
     ]
    },
    {
     "data": {
      "text/plain": [
       "array([[[4., 7., 5.],\n",
       "        [2., 9., 9.]],\n",
       "\n",
       "       [[4., 6., 6.],\n",
       "        [3., 5., 7.]]])"
      ]
     },
     "execution_count": 39,
     "metadata": {},
     "output_type": "execute_result"
    }
   ],
   "source": [
    "filters = 2\n",
    "strides = 2\n",
    "result = np.zeros([2,2,3])\n",
    "for i in range(0,inputs.shape[0],strides):\n",
    "    for j in range(0,inputs.shape[1],strides):\n",
    "        for k in range(0,inputs.shape[2]):\n",
    "            patch = inputs[i:i+filters,j:j+strides,k]\n",
    "            result[i//2,j//2,k] = np.max(patch)\n",
    "\n",
    "print(\"출력값의 형태 (H, W, C) :({},{},{})\".format(*result.shape))\n",
    "result"
   ]
  },
  {
   "cell_type": "markdown",
   "metadata": {},
   "source": [
    "합성곱 신경망에서는 풀링 층을 사용해 표현의 크기를 줄임으로써 \n",
    "1. 계산 속도를 줄이고,\n",
    "2. 메모리의 사용량을 줄이며,\n",
    "3. 특징을 좀 더 안정적으로 검출할 수 있도록 합니다.<br>\n"
   ]
  },
  {
   "cell_type": "markdown",
   "metadata": {},
   "source": [
    "---\n",
    "⊙ Copyright(c) 2020 by PublicAI. All rights reserved <br>\n",
    "All pictures, codes, writings cannot be copied without permission. <br>\n",
    "Writen by PAI(info@publicai.co.kr) <br>\n",
    "last updated on 2020/01/4 <br>\n",
    "\n",
    "---"
   ]
  },
  {
   "cell_type": "code",
   "execution_count": null,
   "metadata": {},
   "outputs": [],
   "source": []
  }
 ],
 "metadata": {
  "kernelspec": {
   "display_name": "Python 3",
   "language": "python",
   "name": "python3"
  },
  "language_info": {
   "codemirror_mode": {
    "name": "ipython",
    "version": 3
   },
   "file_extension": ".py",
   "mimetype": "text/x-python",
   "name": "python",
   "nbconvert_exporter": "python",
   "pygments_lexer": "ipython3",
   "version": "3.6.9"
  }
 },
 "nbformat": 4,
 "nbformat_minor": 2
}
