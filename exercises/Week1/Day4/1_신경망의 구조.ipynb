{
 "cells": [
  {
   "cell_type": "markdown",
   "metadata": {},
   "source": [
    "<i><b>Public AI</b></i>\n",
    "<br>\n",
    "###  &nbsp;&nbsp; **✎&nbsp;&nbsp;Week 1. DNN Basis**\n",
    "# Section 4. 신경망의 구조\n",
    "\n",
    "### _Objective_\n",
    "+ **여러 종류의 퍼셉트론과 핵심 난제였던 XOR 문제를 해결합니다.**"
   ]
  },
  {
   "cell_type": "code",
   "execution_count": null,
   "metadata": {},
   "outputs": [],
   "source": [
    "# 우선 실행해주세요\n",
    "\n",
    "%matplotlib inline\n",
    "import numpy as np\n",
    "import matplotlib.pyplot as plt"
   ]
  },
  {
   "cell_type": "markdown",
   "metadata": {},
   "source": [
    "## 문제 1. 임의의 퍼셉트론 만들기\n",
    "\n",
    "퍼셉트론은 뉴런의 형태를 수학적으로 단순화한 모델입니다. 퍼셉트론은 다수의 신호를 입력받아 하나의 신호로 출력합니다. <br>\n",
    "예를 들어, 아래의 퍼셉트론은 입력받은 신호에 따라 0 또는 1이라는 하나의 신호를 출력합니다.\n",
    "\n",
    "$$\n",
    "y = \\begin{cases}\n",
    "0, & (w_1x_1+w_2x_2\\le \\theta) \\\\\n",
    "1, & (w_1x_1+w_2x_2> \\theta)\n",
    "\\end{cases}\n",
    "$$\n",
    "\n",
    "* $w1=0.5$, $w2=-0.1$, $\\theta=0.2$일 때, 위의 퍼셉트론을 구현해주세요."
   ]
  },
  {
   "cell_type": "markdown",
   "metadata": {},
   "source": [
    "#### 답안지 입력란\n",
    "* 아래에 답을 서술하여 주세요\n",
    "* 메소드 이름은 `perceptron`으로 해주세요"
   ]
  },
  {
   "cell_type": "code",
   "execution_count": null,
   "metadata": {},
   "outputs": [],
   "source": [
    "def perceptron(x1,x2):\n",
    "    ############\n",
    "    # CODE HERE!\n",
    "    ############\n",
    "    return"
   ]
  },
  {
   "cell_type": "markdown",
   "metadata": {},
   "source": [
    "#### 정답 확인\n",
    "* 정답을 입력한 후, 아래를 실행시키면 정답인지 확인합니다."
   ]
  },
  {
   "cell_type": "code",
   "execution_count": null,
   "metadata": {},
   "outputs": [],
   "source": [
    "assert 'perceptron' in globals(), \"메소드 명을 perceptron로 해주세요\"\n",
    "f = perceptron\n",
    "assert f(0,8) == 0, \"조건에 따른 퍼셉트은 (x1,x2)==(0,8)일때, 0을 출력해야 합니다.\"\n",
    "assert f(1,3) == 0, \"조건에 따른 퍼셉트은 (x1,x2)==(1,3)일때, 0을 출력해야 합니다.\"\n",
    "assert f(3,-7) == 1, \"조건에 따른 퍼셉트론은 (x1,x2)==(3,-7)일때, 1을 출력해야 합니다.\"\n",
    "assert f(1,1) == 1, \"조건에 따른 퍼셉트은 (x1,x2)==(1,1)일때, 1을 출력해야 합니다.\"\n",
    "\n",
    "print(\"정답입니다!!\")"
   ]
  },
  {
   "cell_type": "markdown",
   "metadata": {},
   "source": [
    "> 정답이라면, 아래 코드를 실행시켜 직접 만든 퍼셉트론의 모습을 확인해 보세요.<br>\n",
    "    참고로, 퍼셉트론을 구성하는 가중치와 $\\theta$의 조합은 무수히 많습니다. <br>\n",
    "    다양한 조합을 섞어가며 다양한 종류의 퍼셉트론의 모습을 확인해보세요."
   ]
  },
  {
   "cell_type": "code",
   "execution_count": null,
   "metadata": {},
   "outputs": [],
   "source": [
    "x1s, x2s = np.mgrid[0:1:0.01,\n",
    "                    0:1:0.01]\n",
    "x1s = x1s.flatten()\n",
    "x2s = x2s.flatten()\n",
    "\n",
    "outs = []\n",
    "for x1,x2 in zip(x1s, x2s):\n",
    "    out = perceptron(x1,x2)\n",
    "    outs.append(out)"
   ]
  },
  {
   "cell_type": "code",
   "execution_count": null,
   "metadata": {},
   "outputs": [],
   "source": [
    "plt.figure(figsize=(5,5))\n",
    "plt.title(\"(w1,w2,theta)=(0.5,-0.1,0.2)\")\n",
    "plt.scatter(x1s,x2s,c=outs)\n",
    "plt.xlim(0,1)\n",
    "plt.ylim(0,1)\n",
    "plt.show()"
   ]
  },
  {
   "cell_type": "markdown",
   "metadata": {},
   "source": [
    "## 문제 2. AND 게이트 만들기\n",
    "\n",
    "퍼셉트론 연구에서 가장 먼저 시도했던 것은 바로, 논리 회로 구현입니다.<br>\n",
    "논리 회로는 컴퓨터의 가장 기본이 되는 것으로, AND, OR, NOT 등의 연산으로 이루어져 있습니다.<br>\n",
    "* 아래와 같이 동작하는 AND 게이트를 구현해주세요.\n",
    "\n",
    "|$x_1$|$x_2$|$y$|\n",
    "|---|---|---| \n",
    "|0|0|0|\n",
    "|0|1|0|\n",
    "|1|0|0|\n",
    "|1|1|1|"
   ]
  },
  {
   "cell_type": "markdown",
   "metadata": {},
   "source": [
    "#### 답안지 입력란\n",
    "* 아래에 답을 서술하여 주세요\n",
    "* 메소드 이름은 `AND_gate`로 해주세요"
   ]
  },
  {
   "cell_type": "code",
   "execution_count": null,
   "metadata": {},
   "outputs": [],
   "source": [
    "def AND_gate(x1, x2):\n",
    "    ############\n",
    "    # CODE HERE!\n",
    "    ############\n",
    "    return "
   ]
  },
  {
   "cell_type": "markdown",
   "metadata": {},
   "source": [
    "#### 정답 확인\n",
    "* 정답을 입력한 후, 아래를 실행시키면 정답인지 확인합니다."
   ]
  },
  {
   "cell_type": "code",
   "execution_count": null,
   "metadata": {},
   "outputs": [],
   "source": [
    "assert 'AND_gate' in globals(), \"메소드 명을 AND_gate로 해주세요\"\n",
    "f = AND_gate\n",
    "assert f(0,0) == 0, \"AND_gate는 (x1,x2)==(0,0)일때, 0을 출력해야 합니다.\"\n",
    "assert f(0,1) == 0, \"AND_gate는 (x1,x2)==(0,1)일때, 0을 출력해야 합니다.\"\n",
    "assert f(1,0) == 0, \"AND_gate는 (x1,x2)==(1,0)일때, 0을 출력해야 합니다.\"\n",
    "assert f(1,1) == 1, \"AND_gate는 (x1,x2)==(1,1)일때, 1을 출력해야 합니다.\"\n",
    "\n",
    "print(\"정답입니다!!\")"
   ]
  },
  {
   "cell_type": "markdown",
   "metadata": {},
   "source": [
    "> 정답이라면, 아래 코드를 실행시켜 AND Gate의 모습을 확인해 보세요.<br>\n",
    "    참고로, AND Gate를 구성하는 가중치와 $\\theta$의 조합은 무수히 많습니다. <br>\n",
    "    다양한 조합을 섞어가며 AND Gate의 모습을 확인해보세요.\n"
   ]
  },
  {
   "cell_type": "code",
   "execution_count": null,
   "metadata": {
    "scrolled": true
   },
   "outputs": [],
   "source": [
    "x1s, x2s = np.mgrid[0:1:0.01,\n",
    "                    0:1:0.01]\n",
    "x1s = x1s.flatten()\n",
    "x2s = x2s.flatten()\n",
    "\n",
    "outs = []\n",
    "for x1,x2 in zip(x1s, x2s):\n",
    "    out = AND_gate(x1,x2)\n",
    "    outs.append(out)\n",
    "    \n",
    "plt.figure(figsize=(5,5))\n",
    "plt.title(\"AND GATE\")\n",
    "plt.scatter(x1s,x2s,c=outs)\n",
    "plt.xlim(0,1)\n",
    "plt.ylim(0,1)\n",
    "plt.show()"
   ]
  },
  {
   "cell_type": "markdown",
   "metadata": {},
   "source": [
    "## 문제 3. OR 게이트 만들기\n",
    "\n",
    "* 이번에는 아래와 같이 동작하는 OR 게이트를 구현해주세요.\n",
    "\n",
    "|$x_1$|$x_2$|$y$|\n",
    "|---|---|---| \n",
    "|0|0|0|\n",
    "|0|1|1|\n",
    "|1|0|1|\n",
    "|1|1|1|"
   ]
  },
  {
   "cell_type": "markdown",
   "metadata": {},
   "source": [
    "#### 답안지 입력란\n",
    "* 아래에 답을 서술하여 주세요\n",
    "* 메소드 이름은 `OR_gate`로 해주세요"
   ]
  },
  {
   "cell_type": "code",
   "execution_count": null,
   "metadata": {},
   "outputs": [],
   "source": [
    "def OR_gate(x1, x2):\n",
    "    ############\n",
    "    # CODE HERE!\n",
    "    ############\n",
    "    return "
   ]
  },
  {
   "cell_type": "markdown",
   "metadata": {},
   "source": [
    "#### 정답 확인\n",
    "* 정답을 입력한 후, 아래를 실행시키면 정답인지 확인합니다."
   ]
  },
  {
   "cell_type": "code",
   "execution_count": null,
   "metadata": {},
   "outputs": [],
   "source": [
    "assert 'OR_gate' in globals(), \"메소드 명을 AND_gate로 해주세요\"\n",
    "f = OR_gate\n",
    "assert f(0,0) == 0, \"OR_gate는 (x1,x2)==(0,0)일때, 0을 출력해야 합니다.\"\n",
    "assert f(0,1) == 1, \"OR_gate는 (x1,x2)==(0,1)일때, 1을 출력해야 합니다.\"\n",
    "assert f(1,0) == 1, \"OR_gate는 (x1,x2)==(1,0)일때, 1을 출력해야 합니다.\"\n",
    "assert f(1,1) == 1, \"OR_gate는 (x1,x2)==(1,1)일때, 1을 출력해야 합니다.\"\n",
    "\n",
    "print(\"정답입니다!!\")"
   ]
  },
  {
   "cell_type": "markdown",
   "metadata": {},
   "source": [
    "> 정답이라면, 아래 코드를 실행시켜 OR Gate의 모습을 확인해 보세요.<br>\n",
    "    참고로, OR Gate를 구성하는 가중치와 $\\theta$의 조합은 무수히 많습니다. <br>\n",
    "    다양한 조합을 섞어가며 OR Gate의 모습을 확인해보세요.\n"
   ]
  },
  {
   "cell_type": "code",
   "execution_count": null,
   "metadata": {
    "scrolled": true
   },
   "outputs": [],
   "source": [
    "x1s, x2s = np.mgrid[0:1:0.01,\n",
    "                    0:1:0.01]\n",
    "x1s = x1s.flatten()\n",
    "x2s = x2s.flatten()\n",
    "\n",
    "outs = []\n",
    "for x1,x2 in zip(x1s, x2s):\n",
    "    out = OR_gate(x1,x2)\n",
    "    outs.append(out)\n",
    "    \n",
    "plt.figure(figsize=(5,5))\n",
    "plt.title(\"OR GATE\")\n",
    "plt.scatter(x1s,x2s,c=outs)\n",
    "plt.xlim(0,1)\n",
    "plt.ylim(0,1)\n",
    "plt.show()"
   ]
  },
  {
   "cell_type": "markdown",
   "metadata": {},
   "source": [
    "## 문제 4. NAND 게이트 만들기\n",
    "\n",
    "* 이번에는 아래와 같이 동작하는 NAND게이트를 구현해주세요.\n",
    "\n",
    "|$x_1$|$x_2$|$y$|\n",
    "|---|---|---| \n",
    "|0|0|1|\n",
    "|0|1|1|\n",
    "|1|0|1|\n",
    "|1|1|0|"
   ]
  },
  {
   "cell_type": "markdown",
   "metadata": {},
   "source": [
    "#### 답안지 입력란\n",
    "* 아래에 답을 서술하여 주세요\n",
    "* 메소드 이름은 `NAND_gate`로 해주세요"
   ]
  },
  {
   "cell_type": "code",
   "execution_count": null,
   "metadata": {},
   "outputs": [],
   "source": [
    "def NAND_gate(x1, x2):\n",
    "    ############\n",
    "    # CODE HERE!\n",
    "    ############\n",
    "    return "
   ]
  },
  {
   "cell_type": "markdown",
   "metadata": {},
   "source": [
    "#### 정답 확인\n",
    "* 정답을 입력한 후, 아래를 실행시키면 정답인지 확인합니다."
   ]
  },
  {
   "cell_type": "code",
   "execution_count": null,
   "metadata": {},
   "outputs": [],
   "source": [
    "assert 'NAND_gate' in globals(), \"메소드 명을 NAND_gate로 해주세요\"\n",
    "f = NAND_gate\n",
    "assert f(0,0) == 1, \"NAND_gate는 (x1,x2)==(0,0)일때, 1을 출력해야 합니다.\"\n",
    "assert f(0,1) == 1, \"NAND_gate는 (x1,x2)==(0,1)일때, 1을 출력해야 합니다.\"\n",
    "assert f(1,0) == 1, \"NAND_gate는 (x1,x2)==(1,0)일때, 1을 출력해야 합니다.\"\n",
    "assert f(1,1) == 0, \"NAND_gate는 (x1,x2)==(1,1)일때, 0을 출력해야 합니다.\"\n",
    "\n",
    "print(\"정답입니다!!\")"
   ]
  },
  {
   "cell_type": "markdown",
   "metadata": {},
   "source": [
    "> 정답이라면, 아래 코드를 실행시켜 NAND Gate의 모습을 확인해 보세요.<br>\n",
    "    참고로, NAND Gate를 구성하는 가중치와 $\\theta$의 조합은 무수히 많습니다. <br>\n",
    "    다양한 조합을 섞어가며 NAND Gate의 모습을 확인해보세요.\n"
   ]
  },
  {
   "cell_type": "code",
   "execution_count": null,
   "metadata": {
    "scrolled": true
   },
   "outputs": [],
   "source": [
    "x1s, x2s = np.mgrid[0:1:0.01,\n",
    "                    0:1:0.01]\n",
    "x1s = x1s.flatten()\n",
    "x2s = x2s.flatten()\n",
    "\n",
    "outs = []\n",
    "for x1,x2 in zip(x1s, x2s):\n",
    "    out = NAND_gate(x1,x2)\n",
    "    outs.append(out)\n",
    "    \n",
    "plt.figure(figsize=(5,5))\n",
    "plt.title(\"NAND GATE\")\n",
    "plt.scatter(x1s,x2s,c=outs)\n",
    "plt.xlim(0,1)\n",
    "plt.ylim(0,1)\n",
    "plt.show()"
   ]
  },
  {
   "cell_type": "markdown",
   "metadata": {},
   "source": [
    "## 문제 5. XOR 게이트 만들기\n",
    "\n",
    "XOR게이트는 아래와 같이 동작합니다.\n",
    "\n",
    "|$x_1$|$x_2$|$y$|\n",
    "|---|---|---| \n",
    "|0|0|0|\n",
    "|0|1|1|\n",
    "|1|0|1|\n",
    "|1|1|0|\n",
    "\n",
    "XOR게이트를 시각화 한 결과를 먼저 보면 다음과 같습니다.\n",
    "\n",
    "<img src=\"https://i.imgur.com/AmFLh3v.png\" width=\"350\" height=\"350\"/>\n",
    "\n",
    "위 이미지를 보면 알 수 있듯이, XOR 문제의 핵심은 단일한 직선으로 양분할 수 없다는 점에 있습니다. <br>\n",
    "기존의 퍼셉트론으로는 해결할 수 없었던 XOR문제는 다층 퍼셉트론으로 해결할 수 있습니다. <br>\n",
    "실제로 논리 연산을 구현할 때, XOR 게이트는 단일한 게이트로 이루어져 있지 않고, AND, OR, NAND gate의 집합으로 이루어져 있습니다.\n",
    "\n",
    "<img src=\"https://i.imgur.com/2Kj766m.png\" width=\"400\" height=\"400\"/>\n",
    "\n",
    "* 위 XOR게이트의 구조와 아래 표를 참고하여, XOR 게이트를 구현해주세요.\n",
    "\n",
    "|$x_1$|$x_2$|$s_1$|$s_2$|$y$|\n",
    "|---|---|---|---|---|\n",
    "|0|0|1|0|0|\n",
    "|1|0|1|1|1|\n",
    "|0|1|1|1|1|\n",
    "|1|1|0|1|0|\n",
    "\n",
    "* 힌트 : 게이트 구조를 참고해 이전에 사용했던 `AND_gate`, `OR_gate`, `NAND_gate`를 사용해 보세요."
   ]
  },
  {
   "cell_type": "markdown",
   "metadata": {},
   "source": [
    "#### 답안지 입력란\n",
    "* 아래에 답을 서술하여 주세요\n",
    "* 메소드 이름은 `XOR_gate`로 해주세요"
   ]
  },
  {
   "cell_type": "code",
   "execution_count": null,
   "metadata": {},
   "outputs": [],
   "source": [
    "def XOR_gate(x1, x2):\n",
    "    ############\n",
    "    # CODE HERE!\n",
    "    ############\n",
    "    return "
   ]
  },
  {
   "cell_type": "markdown",
   "metadata": {},
   "source": [
    "#### 정답 확인\n",
    "* 정답을 입력한 후, 아래를 실행시키면 정답인지 확인합니다."
   ]
  },
  {
   "cell_type": "code",
   "execution_count": null,
   "metadata": {
    "scrolled": true
   },
   "outputs": [],
   "source": [
    "assert 'XOR_gate' in globals(), \"메소드 명을 XOR_gate로 해주세요\"\n",
    "f =XOR_gate\n",
    "assert f(0,0) == 0, \"XOR_gate는 (x1,x2)==(0,0)일때, 0을 출력해야 합니다.\"\n",
    "assert f(0,1) == 1, \"XOR_gate는 (x1,x2)==(0,1)일때, 1을 출력해야 합니다.\"\n",
    "assert f(1,0) == 1, \"XOR_gate는 (x1,x2)==(1,0)일때, 1을 출력해야 합니다.\"\n",
    "assert f(1,1) == 0, \"XOR_gate는 (x1,x2)==(1,1)일때, 0을 출력해야 합니다.\"\n",
    "\n",
    "print(\"정답입니다!!\")"
   ]
  },
  {
   "cell_type": "markdown",
   "metadata": {},
   "source": [
    "> 정답이라면, 아래 코드를 실행시켜 NAND Gate의 모습을 확인해 보세요.<br>\n",
    "    참고로, NAND Gate를 구성하는 가중치와 $\\theta$의 조합은 무수히 많습니다. <br>\n",
    "    다양한 조합을 섞어가며 NAND Gate의 모습을 확인해보세요.\n"
   ]
  },
  {
   "cell_type": "code",
   "execution_count": null,
   "metadata": {
    "scrolled": true
   },
   "outputs": [],
   "source": [
    "x1s, x2s = np.mgrid[0:1:0.01,\n",
    "                    0:1:0.01]\n",
    "x1s = x1s.flatten()\n",
    "x2s = x2s.flatten()\n",
    "\n",
    "outs = []\n",
    "for x1,x2 in zip(x1s, x2s):\n",
    "    out = XOR_gate(x1,x2)\n",
    "    outs.append(out)\n",
    "    \n",
    "plt.figure(figsize=(5,5))\n",
    "plt.title(\"XOR GATE\")\n",
    "plt.scatter(x1s,x2s,c=outs)\n",
    "plt.xlim(0,1)\n",
    "plt.ylim(0,1)\n",
    "plt.show()"
   ]
  },
  {
   "cell_type": "markdown",
   "metadata": {},
   "source": [
    "## 문제 6. 신경망에서 weight와 bias의 크기 계산하기\n",
    "\n",
    "* 아래와 같은 신경망이 있을 때, ${w}^{[4]}$와 ${b}^{[2]}$의 크기를 구해주세요\n",
    "\n",
    "<img src=\"https://i.imgur.com/v41lU5P.png\" width=\"800\" height=\"600\"/>\n",
    "\n",
    "* 조건 : ${w}^{[4]}$와 ${b}^{[2]}$ 값을 예시와 같은 튜플 형태로 저장해주세요.\n",
    "\n",
    "예시 >>>\n",
    "```python\n",
    "answer6_1 = (m, n)\n",
    "answer6_2 = (k,)\n",
    "```"
   ]
  },
  {
   "cell_type": "markdown",
   "metadata": {},
   "source": [
    "#### 답안지 입력란\n",
    "* 아래에 답을 서술하여 주세요\n",
    "* 결과값은 각각 `answer6_1`, `answer6_2`에 담아주세요"
   ]
  },
  {
   "cell_type": "code",
   "execution_count": null,
   "metadata": {},
   "outputs": [],
   "source": []
  },
  {
   "cell_type": "markdown",
   "metadata": {},
   "source": [
    "#### 정답 확인\n",
    "* 정답을 입력한 후, 아래를 실행시키면 정답인지 확인합니다."
   ]
  },
  {
   "cell_type": "code",
   "execution_count": null,
   "metadata": {},
   "outputs": [],
   "source": [
    "assert 'answer6_1' in globals(), \"결과를 answer6_1이라는 변수에 담아주세요!, answer6_1의 값을 보고 평가합니다.\"\n",
    "assert 'answer6_2' in globals(), \"결과를 answer6_2라는 변수에 담아주세요!, answer6_2의 값을 보고 평가합니다.\"\n",
    "\n",
    "assert answer6_1 == (int(ord('\\x80')), int(ord('\\x01'))), \"W4의 크기가 정답과 다릅니다.\"\n",
    "assert answer6_2 == (int(ord('@')),), \"B2가 정답과 다릅니다.\"\n",
    "\n",
    "print(\"정답입니다!\")"
   ]
  },
  {
   "cell_type": "markdown",
   "metadata": {},
   "source": [
    "#  \n",
    "\n",
    "<hr>\n",
    "<div>\n",
    "    Copyright(c) 2019 by Public AI. All rights reserved.<br>\n",
    "    Writen by PAI, DoYeong Kim ( ka2k@publicai.co.kr )  last updated on 2019/10/07\n",
    "</div>\n",
    "<hr>"
   ]
  }
 ],
 "metadata": {
  "kernelspec": {
   "display_name": "Python 3",
   "language": "python",
   "name": "python3"
  },
  "language_info": {
   "codemirror_mode": {
    "name": "ipython",
    "version": 3
   },
   "file_extension": ".py",
   "mimetype": "text/x-python",
   "name": "python",
   "nbconvert_exporter": "python",
   "pygments_lexer": "ipython3",
   "version": "3.6.8"
  }
 },
 "nbformat": 4,
 "nbformat_minor": 2
}
