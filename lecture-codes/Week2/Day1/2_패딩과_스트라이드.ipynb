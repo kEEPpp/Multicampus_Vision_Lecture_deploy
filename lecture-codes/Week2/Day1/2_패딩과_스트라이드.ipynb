{
 "cells": [
  {
   "cell_type": "markdown",
   "metadata": {
    "colab_type": "text",
    "id": "AA5PG3B4iHE-"
   },
   "source": [
    "<i><b>Public AI</b></i>\n",
    "<br>\n",
    "###  &nbsp;&nbsp; **✎&nbsp;&nbsp;Week 2. CNN Basis**\n",
    "# Section 2. Padding & Strides\n",
    "\n",
    "### _Objective_\n",
    "\n",
    "1. 합성곱 연산 전후 특징맵의 크기를 보존해주는 패딩에 대해 배워보도록 하겠습니다.<br>\n",
    "2. 합성곱 연산량을 줄여주는 스트라이드(Stride)에 대해 배워보도록 하겠습니다.\n",
    "  "
   ]
  },
  {
   "cell_type": "code",
   "execution_count": 1,
   "metadata": {
    "colab": {},
    "colab_type": "code",
    "id": "hnBIA2x6iHE_"
   },
   "outputs": [],
   "source": [
    "%matplotlib inline\n",
    "import numpy as np\n",
    "import matplotlib.pyplot as plt\n",
    "import tensorflow as tf\n",
    "import numpy as np\n",
    "from tensorflow.keras.layers import Input, Conv2D\n",
    "from tensorflow.keras.models import Model"
   ]
  },
  {
   "cell_type": "markdown",
   "metadata": {
    "colab_type": "text",
    "id": "eoeah51siHFD"
   },
   "source": [
    "<br><br>\n",
    "\n",
    "# \\[ 1. 패딩이란 \\]\n",
    "\n",
    "----\n",
    "\n",
    "----\n",
    "\n",
    "> *합성곱 연산을 거치게 되면, 특징맵의 크기는 약간씩 줄게 됩니다.*<br>\n",
    "> *패딩은 합성곱 연산을 거치더라도, 특징맵의 크기가 줄어들지 않도록 만듭니다.*<br>\n"
   ]
  },
  {
   "cell_type": "markdown",
   "metadata": {
    "colab_type": "text",
    "id": "B6YiE4VyiHFD"
   },
   "source": [
    "<br>\n",
    "\n",
    "## 1. 합성곱 연산의 문제점 : 크기의 축소\n",
    "----\n",
    "\n",
    "합성곱 연산을 적용할 경우, 특징맵의 가장자리 부분은 연산에서 제외되기 때문에<br>\n",
    "약간씩 줄어들게 됩니다.\n",
    "\n",
    "![Imgur](https://i.imgur.com/gBUh9dG.png)"
   ]
  },
  {
   "cell_type": "code",
   "execution_count": 2,
   "metadata": {
    "colab": {},
    "colab_type": "code",
    "id": "YydRG1n6iHFE",
    "outputId": "cddf1cf1-756a-4dc3-af17-b6d1753f1e21"
   },
   "outputs": [
    {
     "name": "stdout",
     "output_type": "stream",
     "text": [
      "Before Feature Map size : (10, 10)\n",
      "WARNING:tensorflow:From /Users/publicai/opt/anaconda3/envs/py3.6/lib/python3.6/site-packages/tensorflow_core/python/ops/resource_variable_ops.py:1630: calling BaseResourceVariable.__init__ (from tensorflow.python.ops.resource_variable_ops) with constraint is deprecated and will be removed in a future version.\n",
      "Instructions for updating:\n",
      "If using Keras pass *_constraint arguments to layers.\n",
      "After Feature Map size : (8, 8)\n"
     ]
    }
   ],
   "source": [
    "image = np.zeros((10, 10),dtype=np.uint8)\n",
    "image[:,:5] = 10\n",
    "res_image = image.reshape(1,10,10,1)\n",
    "\n",
    "print(\"Before Feature Map size :\",image.shape)\n",
    "\n",
    "# Sobel Filter를 이용\n",
    "v_sobel = np.array([[1,0,-1], \n",
    "                    [2,0,-2], \n",
    "                    [1,0,-1]]) \n",
    "res_v_sobel = v_sobel.reshape(3,3,1,1)\n",
    "\n",
    "# 합성곱 연산 적용 with Keras \n",
    "inputs = Input(shape=(10, 10, 1))\n",
    "conv_1 = Conv2D(1, 3 ,use_bias=False, name='conv_1')(inputs)\n",
    "\n",
    "# Model \n",
    "model = Model(inputs, conv_1)\n",
    "\n",
    "# set weights \n",
    "model.get_layer('conv_1').set_weights([res_v_sobel])\n",
    "\n",
    "# Get result \n",
    "result = model.predict(res_image)\n",
    "result = np.squeeze(result)\n",
    "\n",
    "print(\"After Feature Map size :\",result.shape)"
   ]
  },
  {
   "cell_type": "code",
   "execution_count": 3,
   "metadata": {
    "colab": {},
    "colab_type": "code",
    "id": "GVmDy5CJiHFI",
    "outputId": "1e45a177-6e37-47f2-9afa-e28514ca5e91"
   },
   "outputs": [
    {
     "data": {
      "image/png": "[encoded data removed]",
      "text/plain": [
       "<Figure size 720x720 with 2 Axes>"
      ]
     },
     "metadata": {
      "needs_background": "light"
     },
     "output_type": "display_data"
    }
   ],
   "source": [
    "fig = plt.figure(figsize=(10,10))\n",
    "ax = fig.add_subplot(1,2,1)\n",
    "ax.set_title('Before')\n",
    "ax.imshow(image, cmap='gray')\n",
    "\n",
    "ax = fig.add_subplot(1,2,2)\n",
    "ax.set_title('After')\n",
    "ax.imshow(result, cmap='gray')\n",
    "plt.show()"
   ]
  },
  {
   "cell_type": "markdown",
   "metadata": {
    "colab_type": "text",
    "id": "17Jsb7sgiHFL"
   },
   "source": [
    "<br>\n",
    "\n",
    "## 2. Zero Padding 적용\n",
    "---\n",
    "\n",
    "합성곱 연산을 할때마다 조금씩 이미지의 크기가 줄어듭니다.<br>\n",
    "이는 크게 2가지 문제를 유발합니다.<br>\n",
    "\n",
    "1. 깊게 쌓으면 이미지의 크기가 지나치게 작아지게 됨 <br>\n",
    "2. 가장자리의 정보가 계속 유실되게 됨 <br>\n",
    "\n",
    "이러한 문제를 해결하기 위해, 가장자리에 이미지를 덧대주는 작업을 거치게 됩니다.<br>"
   ]
  },
  {
   "cell_type": "code",
   "execution_count": 4,
   "metadata": {
    "colab": {},
    "colab_type": "code",
    "id": "HzeE5oa5iHFM",
    "outputId": "b5ffc92d-4449-4fde-c42d-715aa2007c28"
   },
   "outputs": [
    {
     "name": "stdout",
     "output_type": "stream",
     "text": [
      "Before Feature Map size : (10, 10)\n",
      "After padding size : (12, 12)\n",
      "After Feature Map size : (8, 8)\n"
     ]
    }
   ],
   "source": [
    "print(\"Before Feature Map size :\",image.shape)\n",
    "image_with_pad = np.pad(image,[[1,1],[1,1]],mode='constant')\n",
    "print(\"After padding size :\",image_with_pad.shape)\n",
    "\n",
    "# sobel Filter를 이용\n",
    "v_sobel = np.array([[1,0,-1], \n",
    "                    [2,0,-2], \n",
    "                    [1,0,-1]]) \n",
    "\n",
    "# 합성곱 연산 적용 with Keras \n",
    "\n",
    "\n",
    "print(\"After Feature Map size :\",result.shape)"
   ]
  },
  {
   "cell_type": "code",
   "execution_count": 5,
   "metadata": {
    "colab": {},
    "colab_type": "code",
    "id": "i3pEBfPKiHFQ",
    "outputId": "60aa0e31-f8b3-4b72-efae-c4449f320af8"
   },
   "outputs": [
    {
     "data": {
      "image/png": "[encoded data removed]",
      "text/plain": [
       "<Figure size 720x720 with 3 Axes>"
      ]
     },
     "metadata": {
      "needs_background": "light"
     },
     "output_type": "display_data"
    }
   ],
   "source": [
    "fig = plt.figure(figsize=(10,10))\n",
    "ax = fig.add_subplot(1,3,1)\n",
    "ax.set_title('Before')\n",
    "ax.imshow(image, cmap='gray')\n",
    "\n",
    "ax = fig.add_subplot(1,3,2)\n",
    "ax.set_title('After padding')\n",
    "ax.imshow(image_with_pad, cmap='gray')\n",
    "\n",
    "ax = fig.add_subplot(1,3,3)\n",
    "ax.set_title('After')\n",
    "ax.imshow(result, cmap='gray')\n",
    "plt.show()"
   ]
  },
  {
   "cell_type": "markdown",
   "metadata": {
    "colab_type": "text",
    "id": "ZmcgLI8UiHFT"
   },
   "source": [
    "Input과 Output의 크기가 동일합니다.<br>\n",
    "작은 이미지에서는 패딩에 의해, 결과가 약간씩 왜곡되지만, 실제로 대부분 이미지에서<br>\n",
    "패딩으로 인한 왜곡 현상은 무시할 수 있을 만큼 작습니다."
   ]
  },
  {
   "cell_type": "markdown",
   "metadata": {
    "colab_type": "text",
    "id": "gnr46lkUiHFT"
   },
   "source": [
    "<br>\n",
    "\n",
    "## 3. 패딩의 크기 결정\n",
    "---\n",
    "Keras(Tensorflow) 에서도 Convolution 에 padding 을 쉽게 적용 가능합니다. \n",
    "\n",
    "Keras(Tensorflow) 에서 사용되는 padding 알고리즘은 2가지 방법이 있습니다. \n",
    "\n",
    "1. VALID :  패딩을 붙이지 않습니다. Window 에 Kernel 의 사이즈 보다 적은 데이터 셋이 있다면 Convolution 연산을 수행하지 않습니다. \n",
    "\n",
    "\n",
    "![Imgur](https://i.imgur.com/uVU6FlS.png)\n",
    "    \n",
    "2. SAME : Convoluiton 연산을 수행하기 위해 이미지에 padding 을 붙입니다.  Window 에 Kernel 의 사이즈 보다 적은 데이터 셋이 있다면 padding 을 붙여 Convolution 을 수행합니다.\n",
    "\n",
    "![Imgur](https://i.imgur.com/gBvXhZw.png)"
   ]
  },
  {
   "cell_type": "markdown",
   "metadata": {
    "colab_type": "text",
    "id": "3VEZCmZgiHFU"
   },
   "source": [
    "### (1) SAME 시 패딩의 크기를 결정하기"
   ]
  },
  {
   "cell_type": "markdown",
   "metadata": {
    "colab_type": "text",
    "id": "BlqQ_e8yiHFU"
   },
   "source": [
    "출력의 크기는 아래와 같이 결정됩니다.<br>\n",
    "$\n",
    "n_{out} = n_{in}+2p-k +1\\\\\n",
    "-------------\\\\\n",
    "n_{in} : \\mbox{number of input features}\\\\\n",
    "n_{out} : \\mbox{number of output features}\\\\\n",
    "k : \\mbox{convolution kernel size}\\\\\n",
    "p : \\mbox{convolution padding size}\\\\\n",
    "$\n",
    "\n",
    "출력의 크기와 입력의 크기가 동일하게 만들어주기 위해서는<br>\n",
    "패딩의 크기가 아래와 같아져야 합니다.<br>\n",
    "$\n",
    "p = \\frac{k-1}{2}\n",
    "$"
   ]
  },
  {
   "cell_type": "markdown",
   "metadata": {
    "colab_type": "text",
    "id": "Re-In6jEiHFV"
   },
   "source": [
    "### (2) 필터의 크기\n",
    "\n",
    "필터의 크기는 홀수 입니다. 그 이유는 두가지로,\n",
    "1. 패딩이 비대칭이 됩니다. \n",
    "   홀수 일 때 합성곱에서 동일한 크기로 패딩을 더해줄 수 있고, 짝수면 왼쪽과 오른쪽을 다르게 패딩해야 하기 때문에 번거롭습니다.\n",
    "2. 필터의 크기가 홀수가 되어야 중심 픽셀이 잡힙니다. 이러한 개념들은<br>\n",
    "기존 컴퓨터 비전에서 필터를 설계할 때의 관습입니다."
   ]
  },
  {
   "cell_type": "markdown",
   "metadata": {
    "colab_type": "text",
    "id": "QZ4k__Zrc1TE"
   },
   "source": [
    "## 4 Conv2D 함수에 padding 적용하기 \n",
    "\n",
    "`tensorflow.keras.layers.Conv2D` 함수에 `same`, `valid` padding 알고리즘을 적용하는 법을 배워보고 결과를 확인합니다. \n",
    "\n",
    "default 값은 `valid` 로 되어 있습니다\n",
    "![Imgur](https://i.imgur.com/RNsXx9O.png)\n",
    "\n"
   ]
  },
  {
   "cell_type": "markdown",
   "metadata": {},
   "source": [
    "### Padding type : Valid "
   ]
  },
  {
   "cell_type": "code",
   "execution_count": 6,
   "metadata": {
    "colab": {
     "base_uri": "https://localhost:8080/",
     "height": 34
    },
    "colab_type": "code",
    "id": "DvKdoptna3Ti",
    "outputId": "292d979d-de83-4377-d941-3824c33f89b4"
   },
   "outputs": [
    {
     "name": "stdout",
     "output_type": "stream",
     "text": [
      "Before Feature Map size : (10, 10)\n",
      "(Padding : valid) After Feature Map size : (8, 8)\n"
     ]
    }
   ],
   "source": [
    "image = np.zeros((10, 10),dtype=np.uint8)\n",
    "image[:,:5] = 10\n",
    "res_image = image.reshape(1,10,10,1)\n",
    "\n",
    "print(\"Before Feature Map size :\",image.shape)\n",
    "\n",
    "# Sobel Filter를 이용\n",
    "v_sobel = np.array([[1,0,-1], \n",
    "                    [2,0,-2], \n",
    "                    [1,0,-1]]) \n",
    "res_v_sobel = v_sobel.reshape(3,3,1,1)\n",
    "\n",
    "# 합성곱 연산 적용 with Keras \n",
    "inputs = Input(shape=(10, 10, 1))\n",
    "conv_1 = Conv2D(1, 3 ,use_bias=False, padding='valid', name='conv_1')(inputs)\n",
    "\n",
    "# Model \n",
    "model = Model(inputs, conv_1)\n",
    "\n",
    "# set weights \n",
    "model.get_layer('conv_1').set_weights([res_v_sobel])\n",
    "\n",
    "# Get result \n",
    "result = model.predict(res_image)\n",
    "result = np.squeeze(result)\n",
    "\n",
    "print(\"(Padding : valid) After Feature Map size :\",result.shape)"
   ]
  },
  {
   "cell_type": "markdown",
   "metadata": {},
   "source": [
    "### Padding type : same "
   ]
  },
  {
   "cell_type": "code",
   "execution_count": 7,
   "metadata": {},
   "outputs": [
    {
     "name": "stdout",
     "output_type": "stream",
     "text": [
      "Before Feature Map size : (10, 10)\n",
      "(Padding : same) After Feature Map size : (10, 10)\n"
     ]
    }
   ],
   "source": [
    "image = np.zeros((10, 10),dtype=np.uint8)\n",
    "image[:,:5] = 10\n",
    "res_image = image.reshape(1,10,10,1)\n",
    "\n",
    "print(\"Before Feature Map size :\",image.shape)\n",
    "\n",
    "# Sobel Filter를 이용\n",
    "v_sobel = np.array([[1,0,-1], \n",
    "                    [2,0,-2], \n",
    "                    [1,0,-1]]) \n",
    "res_v_sobel = v_sobel.reshape(3,3,1,1)\n",
    "\n",
    "# 합성곱 연산 적용 with Keras \n",
    "inputs = Input(shape=(10, 10, 1))\n",
    "conv_1 = Conv2D(1, 3 ,use_bias=False, padding='same', name='conv_1')(inputs)\n",
    "\n",
    "# Model \n",
    "model = Model(inputs, conv_1)\n",
    "\n",
    "# set weights \n",
    "model.get_layer('conv_1').set_weights([res_v_sobel])\n",
    "\n",
    "# Get result \n",
    "result = model.predict(res_image)\n",
    "result = np.squeeze(result)\n",
    "\n",
    "print(\"(Padding : same) After Feature Map size :\",result.shape)\n"
   ]
  },
  {
   "cell_type": "markdown",
   "metadata": {
    "colab_type": "text",
    "id": "oYh6EZeWiHFV"
   },
   "source": [
    "<br><br>\n",
    "\n",
    "# \\[ 2. 스트라이드란 \\]\n",
    "\n",
    "----\n",
    "\n",
    "----\n",
    "\n",
    "> Window 는 Image 에 filter 가 적용되는 공간을 의미 합니다. <br>\n",
    "> *stride는 window의 이동 간격을 뜻합니다.*<br>\n",
    "> *기존의 필터는 한칸씩 이동했다면, stride가 1보다 클 경우, 그 수 만큼 필터가 이동하게 됩니다.*<br>\n"
   ]
  },
  {
   "cell_type": "markdown",
   "metadata": {
    "colab_type": "text",
    "id": "MU-v3HfMiHFW"
   },
   "source": [
    "## 1. 스트라이드 적용하기\n",
    "----"
   ]
  },
  {
   "cell_type": "code",
   "execution_count": 9,
   "metadata": {
    "colab": {},
    "colab_type": "code",
    "id": "T89bTe0NiHFZ",
    "outputId": "fca64278-618e-4096-f94f-79b113270d18"
   },
   "outputs": [
    {
     "name": "stdout",
     "output_type": "stream",
     "text": [
      "Before Feature Map size : (10, 10)\n",
      "(Padding : same) After Feature Map size : (5, 5)\n"
     ]
    },
    {
     "data": {
      "image/png": "[encoded data removed]",
      "text/plain": [
       "<Figure size 432x288 with 1 Axes>"
      ]
     },
     "metadata": {
      "needs_background": "light"
     },
     "output_type": "display_data"
    }
   ],
   "source": [
    "stride = 2\n",
    "tf.reset_default_graph()\n",
    "image = np.zeros((10, 10),dtype=np.uint8)\n",
    "image[:,:5] = 10\n",
    "res_image = image.reshape(1,10,10,1)\n",
    "\n",
    "print(\"Before Feature Map size :\",image.shape)\n",
    "\n",
    "# Sobel Filter를 이용\n",
    "v_sobel = np.array([[1,0,-1], \n",
    "                    [2,0,-2], \n",
    "                    [1,0,-1]]) \n",
    "res_v_sobel = v_sobel.reshape(3,3,1,1)\n",
    "\n",
    "# 합성곱 연산 적용 with Keras \n",
    "inputs = Input(shape=(10, 10, 1))\n",
    "\n",
    "# stride 2, 2는 Height 방향 (axis=0) 으로 2칸 , Width 방향 (axis=1) 으로 2칸씩 이동 한다라는 뜻 입니다.\n",
    "conv_0 = Conv2D(1, 3 ,strides=(2, 2), use_bias=False, padding='same', name='conv_0')(inputs)\n",
    "\n",
    "# Model \n",
    "model = Model(inputs, conv_0)\n",
    "\n",
    "# set weights \n",
    "model.get_layer('conv_0').set_weights([res_v_sobel])\n",
    "\n",
    "# Get result \n",
    "result = model.predict(res_image)\n",
    "result = np.squeeze(result)\n",
    "\n",
    "print(\"(Padding : same) After Feature Map size :\",result.shape)\n",
    "\n",
    "\n",
    "plt.imshow(result,cmap='gray')\n",
    "plt.show()"
   ]
  },
  {
   "cell_type": "markdown",
   "metadata": {
    "colab_type": "text",
    "id": "Nxt9aj_XiHFb"
   },
   "source": [
    "크기는 줄였지만, 전체적인 형태는 (10,10)일 때와 현재와 동일합니다.<br>\n",
    "Stride를 거치면, 스트라이드의 제곱수만큼 연산 수가 줄어들게 됩니다.<br>\n",
    "\n",
    "큰 이미지의 경우 주위 값들의 차이가 큰 영향을 못미칠 경우가 많고,<br>\n",
    "어느정도 중복이 될수있어서 stride를 주더라도 성능 저하가 크게 발생하진 않습니다."
   ]
  },
  {
   "cell_type": "markdown",
   "metadata": {
    "colab_type": "text",
    "id": "1HuHgvtHiHFc"
   },
   "source": [
    "## 2. 스트라이드가 있었을 때의 출력 특징 맵의 크기\n",
    "----\n",
    "\n",
    "스트라이드를 통한 출력 특징 맵의 크기는 아래와 같이 변하게 됩니다.\n",
    "\n",
    "$\n",
    "n_{out} = \\lfloor \\frac{n_{in}+2p-k}{s}\\rfloor +1\\\\\n",
    "-------------\\\\\\\n",
    "n_{in} : \\mbox{number of input features}\\\\\n",
    "n_{out} : \\mbox{number of output features}\\\\\n",
    "k : \\mbox{convolution kernel size}\\\\\n",
    "p : \\mbox{convolution padding size}\\\\\n",
    "s : \\mbox{convolution stride size}\\\\\n",
    "$\n"
   ]
  },
  {
   "cell_type": "markdown",
   "metadata": {
    "colab_type": "text",
    "id": "f0An8N1ZiHFc"
   },
   "source": [
    "## 3. Same padding일 때의 패딩 크기 결정\n",
    "----\n",
    "\n",
    "이때 Same padding인 경우, 출력 특징 맵의 크기는 아래와 같게 됩니다.<br>\n",
    "$\n",
    "\\lfloor n_{out} \\rfloor = \\lfloor \\frac{n_{in}}{s} \\rfloor\n",
    "$<br>\n",
    "출력 특징 맵의 크기가 위의 값이 될 수 있도록, padding의 크기를 결정하게 됩니다.<br>\n",
    "$\n",
    "\\lfloor \\frac{n_{in}}{s} \\rfloor = \\lfloor \\frac{n_{in}+2p-k}{s}\\rfloor +1\\\\\n",
    "$"
   ]
  },
  {
   "cell_type": "markdown",
   "metadata": {
    "colab_type": "text",
    "id": "vnWMOuHyiHFd"
   },
   "source": [
    "---\n",
    "⊙ Copyright(c) 2020 by PublicAI. All rights reserved <br>\n",
    "All pictures, codes, writings cannot be copied without permission. <br>\n",
    "Writen by PAI(info@publicai.co.kr) <br>\n",
    "last updated on 2020/01/4 <br>\n",
    "\n",
    "---"
   ]
  }
 ],
 "metadata": {
  "colab": {
   "collapsed_sections": [],
   "name": "2_패딩과 스트라이드.ipynb",
   "provenance": [],
   "version": "0.3.2"
  },
  "kernelspec": {
   "display_name": "Python 3",
   "language": "python",
   "name": "python3"
  },
  "language_info": {
   "codemirror_mode": {
    "name": "ipython",
    "version": 3
   },
   "file_extension": ".py",
   "mimetype": "text/x-python",
   "name": "python",
   "nbconvert_exporter": "python",
   "pygments_lexer": "ipython3",
   "version": "3.6.9"
  }
 },
 "nbformat": 4,
 "nbformat_minor": 1
}
